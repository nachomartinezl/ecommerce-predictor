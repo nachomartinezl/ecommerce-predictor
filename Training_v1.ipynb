{
 "cells": [
  {
   "cell_type": "markdown",
   "metadata": {},
   "source": [
    "# TRAINING\n",
    "### DO NOT PUSH CHANGES IN THIS NOTEBOOK\n",
    "- EXPERIMENTS RESULTS WILL BE SAVED IN STEP 6.\n",
    "- MODELS WILL BE SAVED IN STEP 9."
   ]
  },
  {
   "cell_type": "code",
   "execution_count": 49,
   "metadata": {
    "vscode": {
     "languageId": "python"
    }
   },
   "outputs": [
    {
     "name": "stdout",
     "output_type": "stream",
     "text": [
      "The autoreload extension is already loaded. To reload it, use:\n",
      "  %reload_ext autoreload\n"
     ]
    }
   ],
   "source": [
    "import pandas as pd\n",
    "import numpy as np\n",
    "import xgboost as xgb\n",
    "import time\n",
    "from model.text_normalizer import normalize_corpus, stopword_list\n",
    "from model import evaluation\n",
    "from model.utils import decoder\n",
    "from scripts.build_df import build_df\n",
    "from sklearn.model_selection import train_test_split\n",
    "from sklearn.feature_extraction.text import TfidfVectorizer\n",
    "from sklearn.linear_model import LogisticRegression\n",
    "from sklearn.svm import SVC\n",
    "from lightgbm import LGBMClassifier\n",
    "from sklearn.pipeline import Pipeline\n",
    "from sklearn.base import BaseEstimator, TransformerMixin\n",
    "from joblib import dump, load\n",
    "\n",
    "%load_ext autoreload\n",
    "%autoreload 2"
   ]
  },
  {
   "cell_type": "markdown",
   "metadata": {},
   "source": [
    "## 1. Features normalization\n",
    "Arguments of 'normalization' function can be modified between experiments.\n",
    "Normalization is perfomed before train/test split to save time when trying different models. To fit the pipeline this step will be applied in each prediction so it is added in it as a wrapped transform function in first place/"
   ]
  },
  {
   "cell_type": "code",
   "execution_count": 10,
   "metadata": {
    "vscode": {
     "languageId": "python"
    }
   },
   "outputs": [],
   "source": [
    "df = pd.read_csv('data/products_v1.csv', index_col=0)\n",
    "\n",
    "def normalization(input):\n",
    "    output = normalize_corpus(\n",
    "        input,\n",
    "        html_stripping=True,\n",
    "        contraction_expansion=True,\n",
    "        accented_char_removal=True,\n",
    "        text_lower_case=True,\n",
    "        text_stemming=True,\n",
    "        text_lemmatization=False,\n",
    "        special_char_removal=True,\n",
    "        remove_digits=False,\n",
    "        stopword_removal=True,\n",
    "        stopwords=stopword_list\n",
    "    )       \n",
    "    return output\n",
    "\n",
    "df['name'] = normalization(df['name'].apply(str))\n",
    "df['description'] = normalization(df['description'].apply(str))\n",
    "df['name_and_description'] = [' '.join(i) for i in zip(df['name'], df['description'])]\n",
    "normalized_data = df.to_csv('data/normalized_data.csv', index=False)"
   ]
  },
  {
   "cell_type": "markdown",
   "metadata": {},
   "source": [
    "## 2. Labels and features selection\n",
    "'build_df' function returns a new dataset with custom leaf (label) according to the threshold of min. products selected per category. X will vary depending if we choose name, description or name_and_description as feature."
   ]
  },
  {
   "cell_type": "code",
   "execution_count": 58,
   "metadata": {
    "vscode": {
     "languageId": "python"
    }
   },
   "outputs": [],
   "source": [
    "y = build_df(json_path='data/products.json', \n",
    "             threshold=100, \n",
    "             preprocessed_csv='data/normalized_data.csv',\n",
    "             force_leafs_under_threshold=True\n",
    "            )['leaf']     "
   ]
  },
  {
   "cell_type": "code",
   "execution_count": 59,
   "metadata": {
    "vscode": {
     "languageId": "python"
    }
   },
   "outputs": [],
   "source": [
    "name = df['name'].apply(str)\n",
    "description = df['description'].apply(str)\n",
    "name_and_description = df['name_and_description'].apply(str)\n",
    "X = name"
   ]
  },
  {
   "cell_type": "markdown",
   "metadata": {},
   "source": [
    "## 3. Train/test split"
   ]
  },
  {
   "cell_type": "code",
   "execution_count": 65,
   "metadata": {
    "vscode": {
     "languageId": "python"
    }
   },
   "outputs": [],
   "source": [
    "X_train, X_test, y_train, y_test = train_test_split(\n",
    "    X, y,\n",
    "    test_size=0.20, \n",
    "    random_state=42,\n",
    "    stratify = y\n",
    ")"
   ]
  },
  {
   "cell_type": "markdown",
   "metadata": {},
   "source": [
    "## 4. Feature engineering\n",
    "Try different values for max_features and ngram_range in TF-IDF. Also experimenting with and without IDF and min and max idf values."
   ]
  },
  {
   "cell_type": "code",
   "execution_count": 66,
   "metadata": {
    "vscode": {
     "languageId": "python"
    }
   },
   "outputs": [],
   "source": [
    "tfid_vectorizer = TfidfVectorizer(max_features=1000, \n",
    "                                  ngram_range=(1, 2),\n",
    "                                  use_idf=False,\n",
    "                                  min_df=1,\n",
    "                                  norm='l2',\n",
    "                                  smooth_idf=True\n",
    "                                 ) \n",
    "X_train = tfid_vectorizer.fit_transform(X_train)\n",
    "X_test = tfid_vectorizer.transform(X_test)"
   ]
  },
  {
   "cell_type": "code",
   "execution_count": null,
   "metadata": {},
   "outputs": [],
   "source": [
    "parameters = {'tfidf__ngram_range': [(1, 1), (1, 2)],\n",
    "              'tfidf__use_idf': (True, False),\n",
    "              'tfidf__max_df': [0.25, 0.5, 0.75, 1.0],\n",
    "              'tfidf__max_features': [10, 50, 100, 250, 500, 1000, None],\n",
    "              'tfidf__stop_words': ('english', None),\n",
    "              'tfidf__smooth_idf': (True, False),\n",
    "              'tfidf__norm': ('l1', 'l2', None),\n",
    "              }"
   ]
  },
  {
   "cell_type": "markdown",
   "metadata": {},
   "source": [
    "## 5. Modeling\n",
    "Try different classifiers and compare results."
   ]
  },
  {
   "cell_type": "code",
   "execution_count": 41,
   "metadata": {
    "vscode": {
     "languageId": "python"
    }
   },
   "outputs": [],
   "source": [
    "logreg = LogisticRegression(max_iter=7000, \n",
    "                            n_jobs=-1, \n",
    "                            multi_class='multinomial', \n",
    "                            solver='newton-cg')\n",
    "svc = SVC()\n",
    "lgbm = LGBMClassifier(objective='multiclass')"
   ]
  },
  {
   "cell_type": "code",
   "execution_count": 67,
   "metadata": {
    "vscode": {
     "languageId": "python"
    }
   },
   "outputs": [
    {
     "data": {
      "text/html": [
       "<style>#sk-container-id-5 {color: black;background-color: white;}#sk-container-id-5 pre{padding: 0;}#sk-container-id-5 div.sk-toggleable {background-color: white;}#sk-container-id-5 label.sk-toggleable__label {cursor: pointer;display: block;width: 100%;margin-bottom: 0;padding: 0.3em;box-sizing: border-box;text-align: center;}#sk-container-id-5 label.sk-toggleable__label-arrow:before {content: \"▸\";float: left;margin-right: 0.25em;color: #696969;}#sk-container-id-5 label.sk-toggleable__label-arrow:hover:before {color: black;}#sk-container-id-5 div.sk-estimator:hover label.sk-toggleable__label-arrow:before {color: black;}#sk-container-id-5 div.sk-toggleable__content {max-height: 0;max-width: 0;overflow: hidden;text-align: left;background-color: #f0f8ff;}#sk-container-id-5 div.sk-toggleable__content pre {margin: 0.2em;color: black;border-radius: 0.25em;background-color: #f0f8ff;}#sk-container-id-5 input.sk-toggleable__control:checked~div.sk-toggleable__content {max-height: 200px;max-width: 100%;overflow: auto;}#sk-container-id-5 input.sk-toggleable__control:checked~label.sk-toggleable__label-arrow:before {content: \"▾\";}#sk-container-id-5 div.sk-estimator input.sk-toggleable__control:checked~label.sk-toggleable__label {background-color: #d4ebff;}#sk-container-id-5 div.sk-label input.sk-toggleable__control:checked~label.sk-toggleable__label {background-color: #d4ebff;}#sk-container-id-5 input.sk-hidden--visually {border: 0;clip: rect(1px 1px 1px 1px);clip: rect(1px, 1px, 1px, 1px);height: 1px;margin: -1px;overflow: hidden;padding: 0;position: absolute;width: 1px;}#sk-container-id-5 div.sk-estimator {font-family: monospace;background-color: #f0f8ff;border: 1px dotted black;border-radius: 0.25em;box-sizing: border-box;margin-bottom: 0.5em;}#sk-container-id-5 div.sk-estimator:hover {background-color: #d4ebff;}#sk-container-id-5 div.sk-parallel-item::after {content: \"\";width: 100%;border-bottom: 1px solid gray;flex-grow: 1;}#sk-container-id-5 div.sk-label:hover label.sk-toggleable__label {background-color: #d4ebff;}#sk-container-id-5 div.sk-serial::before {content: \"\";position: absolute;border-left: 1px solid gray;box-sizing: border-box;top: 0;bottom: 0;left: 50%;z-index: 0;}#sk-container-id-5 div.sk-serial {display: flex;flex-direction: column;align-items: center;background-color: white;padding-right: 0.2em;padding-left: 0.2em;position: relative;}#sk-container-id-5 div.sk-item {position: relative;z-index: 1;}#sk-container-id-5 div.sk-parallel {display: flex;align-items: stretch;justify-content: center;background-color: white;position: relative;}#sk-container-id-5 div.sk-item::before, #sk-container-id-5 div.sk-parallel-item::before {content: \"\";position: absolute;border-left: 1px solid gray;box-sizing: border-box;top: 0;bottom: 0;left: 50%;z-index: -1;}#sk-container-id-5 div.sk-parallel-item {display: flex;flex-direction: column;z-index: 1;position: relative;background-color: white;}#sk-container-id-5 div.sk-parallel-item:first-child::after {align-self: flex-end;width: 50%;}#sk-container-id-5 div.sk-parallel-item:last-child::after {align-self: flex-start;width: 50%;}#sk-container-id-5 div.sk-parallel-item:only-child::after {width: 0;}#sk-container-id-5 div.sk-dashed-wrapped {border: 1px dashed gray;margin: 0 0.4em 0.5em 0.4em;box-sizing: border-box;padding-bottom: 0.4em;background-color: white;}#sk-container-id-5 div.sk-label label {font-family: monospace;font-weight: bold;display: inline-block;line-height: 1.2em;}#sk-container-id-5 div.sk-label-container {text-align: center;}#sk-container-id-5 div.sk-container {/* jupyter's `normalize.less` sets `[hidden] { display: none; }` but bootstrap.min.css set `[hidden] { display: none !important; }` so we also need the `!important` here to be able to override the default hidden behavior on the sphinx rendered scikit-learn.org. See: https://github.com/scikit-learn/scikit-learn/issues/21755 */display: inline-block !important;position: relative;}#sk-container-id-5 div.sk-text-repr-fallback {display: none;}</style><div id=\"sk-container-id-5\" class=\"sk-top-container\"><div class=\"sk-text-repr-fallback\"><pre>LogisticRegression(max_iter=7000, multi_class=&#x27;multinomial&#x27;, n_jobs=-1,\n",
       "                   solver=&#x27;newton-cg&#x27;)</pre><b>In a Jupyter environment, please rerun this cell to show the HTML representation or trust the notebook. <br />On GitHub, the HTML representation is unable to render, please try loading this page with nbviewer.org.</b></div><div class=\"sk-container\" hidden><div class=\"sk-item\"><div class=\"sk-estimator sk-toggleable\"><input class=\"sk-toggleable__control sk-hidden--visually\" id=\"sk-estimator-id-5\" type=\"checkbox\" checked><label for=\"sk-estimator-id-5\" class=\"sk-toggleable__label sk-toggleable__label-arrow\">LogisticRegression</label><div class=\"sk-toggleable__content\"><pre>LogisticRegression(max_iter=7000, multi_class=&#x27;multinomial&#x27;, n_jobs=-1,\n",
       "                   solver=&#x27;newton-cg&#x27;)</pre></div></div></div></div></div>"
      ],
      "text/plain": [
       "LogisticRegression(max_iter=7000, multi_class='multinomial', n_jobs=-1,\n",
       "                   solver='newton-cg')"
      ]
     },
     "execution_count": 67,
     "metadata": {},
     "output_type": "execute_result"
    }
   ],
   "source": [
    "logreg.fit(X_train, y_train)"
   ]
  },
  {
   "cell_type": "markdown",
   "metadata": {},
   "source": [
    "## 6. Evaluation\n",
    "Predicting on train to check overfitting when comparing with test."
   ]
  },
  {
   "cell_type": "code",
   "execution_count": 68,
   "metadata": {
    "vscode": {
     "languageId": "python"
    }
   },
   "outputs": [],
   "source": [
    "y_pred_train = logreg.predict(X_train)\n",
    "y_pred_test = logreg.predict(X_test)"
   ]
  },
  {
   "cell_type": "code",
   "execution_count": 70,
   "metadata": {
    "vscode": {
     "languageId": "python"
    }
   },
   "outputs": [
    {
     "name": "stdout",
     "output_type": "stream",
     "text": [
      "Model Performance metrics:\n",
      "------------------------------\n",
      "Accuracy: 0.8016748959240972\n",
      "Precision: 0.8016748959240972\n",
      "Recall: 0.8016748959240972\n",
      "F1 Score: 0.8016748959240972\n",
      "\n",
      "Model Classification report:\n",
      "------------------------------\n",
      "                                      precision    recall  f1-score   support\n",
      "\n",
      "        Action Camcorder Accessories       0.54      0.54      0.54       114\n",
      "         Adapters, Cables & Chargers       0.72      0.78      0.75       171\n",
      "                         All Laptops       0.94      0.99      0.96       274\n",
      "             Apple Watch Accessories       0.93      0.79      0.85       104\n",
      "       Appliance Parts & Accessories       0.85      0.66      0.74       234\n",
      "                          Appliances       0.79      0.65      0.71      1154\n",
      "                               Audio       0.76      0.77      0.77       934\n",
      "     Binoculars, Telescopes & Optics       0.97      0.97      0.97       149\n",
      "                            Blenders       0.83      0.90      0.86        91\n",
      "                  Blenders & Juicers       0.89      0.66      0.76       102\n",
      "                 Cables & Connectors       0.68      0.73      0.70        92\n",
      "                 Camera Bags & Cases       0.65      0.68      0.67       130\n",
      "            Camera Batteries & Power       0.66      0.93      0.77       175\n",
      "                       Camera Lenses       0.69      0.85      0.76       220\n",
      "                Cameras & Camcorders       0.81      0.66      0.73       710\n",
      "                           Car Audio       0.92      0.87      0.89       306\n",
      "               Car Electronics & GPS       0.84      0.60      0.70       386\n",
      "Car Installation Parts & Accessories       0.83      0.53      0.65       207\n",
      "         Car Subwoofers & Enclosures       0.70      0.60      0.64        94\n",
      "     Cases, Covers & Keyboard Folios       0.81      0.76      0.78       211\n",
      "              Cell Phone Accessories       0.87      0.83      0.85      2278\n",
      "        Cell Phone Batteries & Power       0.76      0.82      0.79       463\n",
      "                         Cell Phones       0.80      0.64      0.71       362\n",
      "                       Coffee Makers       0.70      0.64      0.67       108\n",
      "                 Coffee Pods & Beans       0.90      0.71      0.79        84\n",
      "              Coffee, Tea & Espresso       0.85      0.27      0.41        81\n",
      "  Computer Accessories & Peripherals       0.87      0.77      0.82       595\n",
      "                 Computers & Tablets       0.76      0.70      0.73      1339\n",
      "                      Connected Home       0.77      0.66      0.71       115\n",
      "         Connected Home & Housewares       0.68      0.54      0.60       688\n",
      "        Cookware, Bakeware & Cutlery       0.93      0.89      0.91       532\n",
      "                 Cordless Telephones       0.74      0.86      0.80        85\n",
      "                         DSLR Lenses       0.74      0.37      0.50        83\n",
      "             Deck Installation Parts       0.90      0.95      0.93       810\n",
      "      Desktop & All-in-One Computers       0.90      0.96      0.93       351\n",
      "          Digital Camera Accessories       0.82      0.77      0.79       610\n",
      "                     Digital Cameras       0.84      0.20      0.32        80\n",
      "                         Dishwashers       1.00      1.00      1.00       210\n",
      "                              Dryers       0.95      1.00      0.97       197\n",
      "                             Effects       0.78      0.21      0.33        85\n",
      "          Flashes, Lighting & Studio       0.92      0.70      0.79       110\n",
      "                   Furniture & Decor       0.85      0.90      0.88       352\n",
      "               Hard Drives & Storage       0.82      0.88      0.85        97\n",
      "                          Headphones       0.92      0.80      0.86       426\n",
      "            Health, Fitness & Beauty       0.88      0.80      0.84       615\n",
      "      Heating, Cooling & Air Quality       0.93      0.94      0.93       772\n",
      "                          Home Audio       0.73      0.74      0.74       461\n",
      "              Home Audio Accessories       0.82      0.56      0.67       146\n",
      "                Home Theater Systems       0.96      0.82      0.89        91\n",
      "                          Housewares       0.78      0.86      0.82       145\n",
      "       In-Wall & In-Ceiling Speakers       0.86      0.87      0.87        85\n",
      "                     Kitchen Gadgets       0.79      0.52      0.63       277\n",
      "                  Laptop Accessories       0.91      0.87      0.89       646\n",
      "                             Laptops       0.89      0.85      0.87       130\n",
      "              Luggage, Bags & Travel       0.91      0.84      0.88       122\n",
      "                Magnolia Accessories       0.93      0.77      0.84        98\n",
      "                        Memory Cards       0.74      0.80      0.77        90\n",
      "                    Mice & Keyboards       0.83      0.93      0.88       199\n",
      "           Microphones & Accessories       0.70      0.87      0.78       145\n",
      "            Microphones & Live Sound       0.72      0.45      0.55        80\n",
      "                          Microwaves       0.97      0.99      0.98       236\n",
      "                            Monitors       0.72      0.89      0.79       132\n",
      "      Musical Instrument Accessories       0.77      0.62      0.69       152\n",
      "                 Musical Instruments       0.71      0.63      0.66      1044\n",
      "                         Nintendo DS       0.96      0.98      0.97       137\n",
      "          Office Furniture & Storage       0.94      0.96      0.95       267\n",
      "                      Outdoor Living       0.82      0.79      0.81       399\n",
      "        Over-Ear & On-Ear Headphones       0.73      0.92      0.81       295\n",
      "             Patio Furniture & Decor       0.73      0.69      0.71        96\n",
      "              Personal Care & Beauty       0.85      0.63      0.73       254\n",
      "                       PlayStation 3       0.66      0.15      0.25       150\n",
      "                       PlayStation 4       0.58      0.80      0.67       203\n",
      "               Point & Shoot Cameras       0.67      0.92      0.78        95\n",
      "                 Printer Ink & Toner       0.94      0.98      0.96       854\n",
      "               Printers, Ink & Toner       0.95      0.97      0.96       197\n",
      "          Projector Mounts & Screens       1.00      1.00      1.00        94\n",
      "                Projectors & Screens       0.97      0.98      0.98       112\n",
      "                         Range Hoods       0.86      0.96      0.91       169\n",
      "                              Ranges       0.95      1.00      0.97       470\n",
      "            Ranges, Cooktops & Ovens       0.96      0.98      0.97       299\n",
      "                       Refrigerators       0.75      0.86      0.80       551\n",
      "     Security Cameras & Surveillance       0.94      0.93      0.93        97\n",
      "                  Sheet Music & DVDs       0.88      0.95      0.91       593\n",
      "            Small Kitchen Appliances       0.76      0.78      0.77      1175\n",
      "              Smartwatch Accessories       0.89      0.87      0.88       186\n",
      "                            Speakers       0.83      0.89      0.86       302\n",
      "                   TV & Home Theater       0.84      0.64      0.73       262\n",
      "       TV & Home Theater Accessories       0.74      0.76      0.75       361\n",
      "                           TV Stands       0.79      0.91      0.85       327\n",
      "       TV Stands, Mounts & Furniture       0.85      0.80      0.82       277\n",
      "                                 TVs       0.93      0.90      0.92       122\n",
      "                             Tablets       0.93      0.85      0.89       183\n",
      "                         Tea Kettles       0.94      0.84      0.89        92\n",
      "          Telephones & Communication       0.91      0.67      0.77        90\n",
      "                Toys, Games & Drones       0.80      0.38      0.52       315\n",
      "                Unlocked Cell Phones       0.96      1.00      0.98       244\n",
      "                         Video Games       0.96      0.95      0.95      3494\n",
      "                          Wall Ovens       0.95      0.94      0.95        89\n",
      "                    Washers & Dryers       0.91      1.00      0.95       106\n",
      "                            Xbox 360       0.87      0.93      0.90       164\n",
      "                            Xbox One       0.95      0.94      0.94       172\n",
      "           iPad & Tablet Accessories       0.78      0.88      0.83       446\n",
      "                  iPhone Accessories       0.80      0.96      0.88      1242\n",
      "                iPhone Cases & Clips       0.75      0.53      0.62       272\n",
      "                               other       0.55      0.72      0.62      4398\n",
      "\n",
      "                            accuracy                           0.80     41316\n",
      "                           macro avg       0.83      0.78      0.79     41316\n",
      "                        weighted avg       0.81      0.80      0.80     41316\n",
      "\n"
     ]
    }
   ],
   "source": [
    "evaluation.get_performance(predictions=y_pred_train, \n",
    "                           y_test=y_train,\n",
    "                           labels=y,\n",
    "                           vectorizer=tfid_vectorizer,\n",
    "                           model=logreg, \n",
    "                           timestamp=time.time(), \n",
    "                           average='micro')"
   ]
  },
  {
   "cell_type": "code",
   "execution_count": 69,
   "metadata": {
    "vscode": {
     "languageId": "python"
    }
   },
   "outputs": [
    {
     "name": "stdout",
     "output_type": "stream",
     "text": [
      "Model Performance metrics:\n",
      "------------------------------\n",
      "Accuracy: 0.7774443368828654\n",
      "Precision: 0.7774443368828654\n",
      "Recall: 0.7774443368828654\n",
      "F1 Score: 0.7774443368828654\n",
      "\n",
      "Model Classification report:\n",
      "------------------------------\n",
      "                                      precision    recall  f1-score   support\n",
      "\n",
      "        Action Camcorder Accessories       0.64      0.64      0.64        28\n",
      "         Adapters, Cables & Chargers       0.71      0.74      0.73        43\n",
      "                         All Laptops       0.88      0.96      0.92        69\n",
      "             Apple Watch Accessories       0.86      0.73      0.79        26\n",
      "       Appliance Parts & Accessories       0.72      0.44      0.55        59\n",
      "                          Appliances       0.75      0.63      0.68       289\n",
      "                               Audio       0.77      0.74      0.76       233\n",
      "     Binoculars, Telescopes & Optics       0.95      1.00      0.97        37\n",
      "                            Blenders       0.68      0.83      0.75        23\n",
      "                  Blenders & Juicers       0.76      0.52      0.62        25\n",
      "                 Cables & Connectors       0.56      0.65      0.60        23\n",
      "                 Camera Bags & Cases       0.60      0.73      0.66        33\n",
      "            Camera Batteries & Power       0.71      0.93      0.80        44\n",
      "                       Camera Lenses       0.75      0.75      0.75        55\n",
      "                Cameras & Camcorders       0.76      0.62      0.68       177\n",
      "                           Car Audio       0.88      0.79      0.84        77\n",
      "               Car Electronics & GPS       0.70      0.54      0.61        96\n",
      "Car Installation Parts & Accessories       0.70      0.44      0.54        52\n",
      "         Car Subwoofers & Enclosures       0.82      0.61      0.70        23\n",
      "     Cases, Covers & Keyboard Folios       0.67      0.72      0.69        53\n",
      "              Cell Phone Accessories       0.86      0.82      0.84       570\n",
      "        Cell Phone Batteries & Power       0.70      0.78      0.73       116\n",
      "                         Cell Phones       0.73      0.64      0.69        90\n",
      "                       Coffee Makers       0.68      0.56      0.61        27\n",
      "                 Coffee Pods & Beans       0.88      0.71      0.79        21\n",
      "              Coffee, Tea & Espresso       0.88      0.35      0.50        20\n",
      "  Computer Accessories & Peripherals       0.84      0.74      0.79       149\n",
      "                 Computers & Tablets       0.70      0.62      0.66       335\n",
      "                      Connected Home       0.74      0.69      0.71        29\n",
      "         Connected Home & Housewares       0.64      0.53      0.58       172\n",
      "        Cookware, Bakeware & Cutlery       0.88      0.90      0.89       133\n",
      "                 Cordless Telephones       0.75      0.57      0.65        21\n",
      "                         DSLR Lenses       0.75      0.43      0.55        21\n",
      "             Deck Installation Parts       0.88      0.94      0.91       203\n",
      "      Desktop & All-in-One Computers       0.90      0.92      0.91        88\n",
      "          Digital Camera Accessories       0.77      0.71      0.74       152\n",
      "                     Digital Cameras       1.00      0.10      0.18        20\n",
      "                         Dishwashers       1.00      1.00      1.00        53\n",
      "                              Dryers       0.94      1.00      0.97        49\n",
      "                             Effects       0.75      0.14      0.24        21\n",
      "          Flashes, Lighting & Studio       0.90      0.67      0.77        27\n",
      "                   Furniture & Decor       0.79      0.90      0.84        88\n",
      "               Hard Drives & Storage       0.71      0.62      0.67        24\n",
      "                          Headphones       0.93      0.79      0.86       106\n",
      "            Health, Fitness & Beauty       0.82      0.67      0.74       154\n",
      "      Heating, Cooling & Air Quality       0.90      0.93      0.91       193\n",
      "                          Home Audio       0.68      0.71      0.69       115\n",
      "              Home Audio Accessories       0.72      0.64      0.68        36\n",
      "                Home Theater Systems       1.00      0.82      0.90        22\n",
      "                          Housewares       0.81      0.83      0.82        36\n",
      "       In-Wall & In-Ceiling Speakers       0.89      0.76      0.82        21\n",
      "                     Kitchen Gadgets       0.82      0.48      0.61        69\n",
      "                  Laptop Accessories       0.89      0.91      0.90       162\n",
      "                             Laptops       0.72      0.70      0.71        33\n",
      "              Luggage, Bags & Travel       0.96      0.74      0.84        31\n",
      "                Magnolia Accessories       0.88      0.60      0.71        25\n",
      "                        Memory Cards       0.75      0.68      0.71        22\n",
      "                    Mice & Keyboards       0.94      0.96      0.95        50\n",
      "           Microphones & Accessories       0.67      0.86      0.76        36\n",
      "            Microphones & Live Sound       0.80      0.20      0.32        20\n",
      "                          Microwaves       0.94      1.00      0.97        59\n",
      "                            Monitors       0.60      0.88      0.72        33\n",
      "      Musical Instrument Accessories       0.77      0.53      0.62        38\n",
      "                 Musical Instruments       0.67      0.63      0.65       261\n",
      "                         Nintendo DS       0.94      0.97      0.96        34\n",
      "          Office Furniture & Storage       0.94      0.88      0.91        67\n",
      "                      Outdoor Living       0.82      0.72      0.77       100\n",
      "        Over-Ear & On-Ear Headphones       0.78      0.91      0.84        74\n",
      "             Patio Furniture & Decor       0.69      0.83      0.75        24\n",
      "              Personal Care & Beauty       0.80      0.50      0.62        64\n",
      "                       PlayStation 3       0.38      0.14      0.20        37\n",
      "                       PlayStation 4       0.53      0.78      0.63        51\n",
      "               Point & Shoot Cameras       0.69      1.00      0.81        24\n",
      "                 Printer Ink & Toner       0.94      0.98      0.96       214\n",
      "               Printers, Ink & Toner       1.00      0.96      0.98        49\n",
      "          Projector Mounts & Screens       1.00      1.00      1.00        23\n",
      "                Projectors & Screens       1.00      0.96      0.98        28\n",
      "                         Range Hoods       0.88      1.00      0.93        42\n",
      "                              Ranges       0.95      1.00      0.97       117\n",
      "            Ranges, Cooktops & Ovens       0.97      1.00      0.99        75\n",
      "                       Refrigerators       0.72      0.85      0.78       138\n",
      "     Security Cameras & Surveillance       1.00      0.79      0.88        24\n",
      "                  Sheet Music & DVDs       0.91      0.94      0.93       148\n",
      "            Small Kitchen Appliances       0.73      0.74      0.73       294\n",
      "              Smartwatch Accessories       0.83      0.85      0.84        47\n",
      "                            Speakers       0.84      0.82      0.83        76\n",
      "                   TV & Home Theater       0.78      0.58      0.67        65\n",
      "       TV & Home Theater Accessories       0.78      0.73      0.75        90\n",
      "                           TV Stands       0.81      0.91      0.86        82\n",
      "       TV Stands, Mounts & Furniture       0.88      0.83      0.85        69\n",
      "                                 TVs       0.96      0.84      0.90        31\n",
      "                             Tablets       0.90      0.78      0.84        46\n",
      "                         Tea Kettles       0.74      0.74      0.74        23\n",
      "          Telephones & Communication       0.95      0.82      0.88        22\n",
      "                Toys, Games & Drones       0.78      0.41      0.53        79\n",
      "                Unlocked Cell Phones       1.00      1.00      1.00        61\n",
      "                         Video Games       0.95      0.95      0.95       874\n",
      "                          Wall Ovens       1.00      0.95      0.98        22\n",
      "                    Washers & Dryers       0.93      1.00      0.96        27\n",
      "                            Xbox 360       0.85      0.85      0.85        41\n",
      "                            Xbox One       1.00      0.95      0.98        43\n",
      "           iPad & Tablet Accessories       0.83      0.87      0.85       111\n",
      "                  iPhone Accessories       0.80      0.96      0.87       310\n",
      "                iPhone Cases & Clips       0.74      0.47      0.58        68\n",
      "                               other       0.52      0.70      0.59      1100\n",
      "\n",
      "                            accuracy                           0.78     10330\n",
      "                           macro avg       0.81      0.75      0.76     10330\n",
      "                        weighted avg       0.79      0.78      0.78     10330\n",
      "\n"
     ]
    }
   ],
   "source": [
    "evaluation.get_performance(y_pred_test, \n",
    "                           y_test, \n",
    "                           y,\n",
    "                           tfid_vectorizer,\n",
    "                           logreg, \n",
    "                           timestamp=time.time(), \n",
    "                           average='micro')"
   ]
  },
  {
   "cell_type": "markdown",
   "metadata": {},
   "source": [
    "## 7. Predict on new data\n",
    "Try the model with new data, this will happen in the frontend ready UI in 'production'"
   ]
  },
  {
   "cell_type": "code",
   "execution_count": 112,
   "metadata": {},
   "outputs": [
    {
     "data": {
      "text/plain": [
       "array(['other'], dtype='<U5')"
      ]
     },
     "execution_count": 112,
     "metadata": {},
     "output_type": "execute_result"
    }
   ],
   "source": [
    "text = 'storage'\n",
    "normalized = normalize_corpus(\n",
    "        [text],\n",
    "        html_stripping=True,\n",
    "        contraction_expansion=True,\n",
    "        accented_char_removal=True,\n",
    "        text_lower_case=True,\n",
    "        text_stemming=True,\n",
    "        text_lemmatization=False,\n",
    "        special_char_removal=True,\n",
    "        remove_digits=False,\n",
    "        stopword_removal=True,\n",
    "        stopwords=stopword_list,\n",
    "    )\n",
    "vec = tfid_vectorizer.transform(normalized)\n",
    "preds = logreg.predict(vec)\n",
    "decoder(preds)"
   ]
  },
  {
   "cell_type": "markdown",
   "metadata": {},
   "source": [
    "## 8. Creating a Pipeline\n",
    "Export best models to call them from the API with one line."
   ]
  },
  {
   "cell_type": "code",
   "execution_count": null,
   "metadata": {},
   "outputs": [],
   "source": [
    "class Normalizer(BaseEstimator, TransformerMixin):\n",
    "    \n",
    "    def fit(self, X, y=None):\n",
    "        return self\n",
    "        \n",
    "    def transform(self, X, y=None):\n",
    "        X = X.copy()\n",
    "        normalized_desc = normalize_corpus(\n",
    "        X,\n",
    "        html_stripping=True,\n",
    "        contraction_expansion=True,\n",
    "        accented_char_removal=True,\n",
    "        text_lower_case=True,\n",
    "        text_stemming=True,\n",
    "        text_lemmatization=False,\n",
    "        special_char_removal=True,\n",
    "        remove_digits=False,\n",
    "        stopword_removal=True,\n",
    "        stopwords=stopword_list,\n",
    "    )\n",
    "        return normalized_desc\n",
    "        "
   ]
  },
  {
   "cell_type": "code",
   "execution_count": null,
   "metadata": {},
   "outputs": [],
   "source": [
    "pipe = Pipeline([('normalizer', Normalizer()), \n",
    "                 ('tfidf', TfidfVectorizer(max_features=1000, \n",
    "                                           ngram_range=(1, 1))),\n",
    "                 ('logreg', LogisticRegression(max_iter=7000, \n",
    "                                               n_jobs=-1, \n",
    "                                               multi_class='multinomial', \n",
    "                                               solver='newton-cg'))\n",
    "                ])\n",
    "\n",
    "pipe.fit(X_train,y_train)"
   ]
  },
  {
   "cell_type": "markdown",
   "metadata": {},
   "source": [
    "## 9. Saving fitted pipeline to file.\n",
    "This will allow to call predict in the API when the ml_service receives input data, transform it and return the top-k output full category path for the user to see it in the UI."
   ]
  },
  {
   "cell_type": "code",
   "execution_count": null,
   "metadata": {},
   "outputs": [],
   "source": [
    "dump(pipe, 'pipe.joblib') "
   ]
  }
 ],
 "metadata": {
  "kernelspec": {
   "display_name": "Python 3 (ipykernel)",
   "language": "python",
   "name": "python3"
  },
  "language_info": {
   "codemirror_mode": {
    "name": "ipython",
    "version": 3
   },
   "file_extension": ".py",
   "mimetype": "text/x-python",
   "name": "python",
   "nbconvert_exporter": "python",
   "pygments_lexer": "ipython3",
   "version": "3.8.13"
  },
  "vscode": {
   "interpreter": {
    "hash": "916dbcbb3f70747c44a77c7bcd40155683ae19c65e1c03b4aa3499c5328201f1"
   }
  }
 },
 "nbformat": 4,
 "nbformat_minor": 2
}
