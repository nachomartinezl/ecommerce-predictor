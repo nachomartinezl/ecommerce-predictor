{
 "cells": [
  {
   "cell_type": "markdown",
   "metadata": {},
   "source": [
    "# TRAINING\n",
    "### DO NOT PUSH CHANGES IN THIS NOTEBOOK\n",
    "- EXPERIMENTS RESULTS WILL BE SAVED IN STEP 6.\n",
    "- MODELS WILL BE SAVED IN STEP 9."
   ]
  },
  {
   "cell_type": "code",
   "execution_count": 65,
   "metadata": {
    "vscode": {
     "languageId": "python"
    }
   },
   "outputs": [
    {
     "name": "stdout",
     "output_type": "stream",
     "text": [
      "The autoreload extension is already loaded. To reload it, use:\n",
      "  %reload_ext autoreload\n"
     ]
    }
   ],
   "source": [
    "import pandas as pd\n",
    "import numpy as np\n",
    "from xgboost import XGBClassifier\n",
    "import time\n",
    "from model.text_normalizer import normalize_corpus, stopword_list\n",
    "from model import evaluation\n",
    "from model.utils import decoder\n",
    "from scripts.build_df import build_df\n",
    "from sklearn.model_selection import train_test_split\n",
    "from sklearn.feature_extraction.text import TfidfVectorizer\n",
    "from sklearn.linear_model import LogisticRegression\n",
    "from sklearn.svm import SVC\n",
    "from sklearn.model_selection import RandomizedSearchCV\n",
    "from lightgbm import LGBMClassifier\n",
    "from sklearn.pipeline import Pipeline\n",
    "from sklearn.base import BaseEstimator, TransformerMixin\n",
    "from joblib import dump, load\n",
    "\n",
    "%load_ext autoreload\n",
    "%autoreload 2"
   ]
  },
  {
   "cell_type": "markdown",
   "metadata": {},
   "source": [
    "## 1. Features normalization\n",
    "Arguments of 'normalization' function can be modified between experiments.\n",
    "Normalization is perfomed before train/test split to save time when trying different models. To fit the pipeline this step will be applied in each prediction so it is added in it as a wrapped transform function in first place/"
   ]
  },
  {
   "cell_type": "code",
   "execution_count": 66,
   "metadata": {
    "vscode": {
     "languageId": "python"
    }
   },
   "outputs": [],
   "source": [
    "df = pd.read_csv('data/products_v1.csv', index_col=0)\n",
    "\n",
    "def normalization(input):\n",
    "    output = normalize_corpus(\n",
    "        input,\n",
    "        html_stripping=True,\n",
    "        contraction_expansion=True,\n",
    "        accented_char_removal=True,\n",
    "        text_lower_case=True,\n",
    "        text_stemming=True,\n",
    "        text_lemmatization=False,\n",
    "        special_char_removal=True,\n",
    "        remove_digits=False,\n",
    "        stopword_removal=True,\n",
    "        stopwords=stopword_list\n",
    "    )       \n",
    "    return output\n",
    "\n",
    "df['name'] = normalization(df['name'].apply(str))\n",
    "df['description'] = normalization(df['description'].apply(str))\n",
    "df['name_and_description'] = [' '.join(i) for i in zip(df['name'], df['description'])]\n",
    "normalized_data = df.to_csv('data/normalized_data.csv', index=False)"
   ]
  },
  {
   "cell_type": "markdown",
   "metadata": {},
   "source": [
    "## 2. Labels and features selection\n",
    "'build_df' function returns a new dataset with custom leaf (label) according to the threshold of min. products selected per category. X will vary depending if we choose name, description or name_and_description as feature."
   ]
  },
  {
   "cell_type": "code",
   "execution_count": 67,
   "metadata": {
    "vscode": {
     "languageId": "python"
    }
   },
   "outputs": [],
   "source": [
    "y = build_df(json_path='data/products.json', \n",
    "             threshold=100, \n",
    "             preprocessed_csv='data/normalized_data.csv',\n",
    "             force_leafs_under_threshold=True\n",
    "            )['leaf']     "
   ]
  },
  {
   "cell_type": "code",
   "execution_count": 70,
   "metadata": {
    "vscode": {
     "languageId": "python"
    }
   },
   "outputs": [],
   "source": [
    "name = df['name'].apply(str)\n",
    "description = df['description'].apply(str)\n",
    "name_and_description = df['name_and_description'].apply(str)\n",
    "X = name"
   ]
  },
  {
   "cell_type": "markdown",
   "metadata": {},
   "source": [
    "## 3. Train/test split"
   ]
  },
  {
   "cell_type": "code",
   "execution_count": 96,
   "metadata": {
    "vscode": {
     "languageId": "python"
    }
   },
   "outputs": [],
   "source": [
    "X_train, X_test, y_train, y_test = train_test_split(\n",
    "    X, y,\n",
    "    test_size=0.20, \n",
    "    random_state=42,\n",
    "    stratify = y\n",
    ")"
   ]
  },
  {
   "cell_type": "markdown",
   "metadata": {},
   "source": [
    "## 4. Feature engineering\n",
    "Try different values for max_features and ngram_range in TF-IDF. Also experimenting with and without IDF and min and max idf values."
   ]
  },
  {
   "cell_type": "code",
   "execution_count": 97,
   "metadata": {
    "vscode": {
     "languageId": "python"
    }
   },
   "outputs": [],
   "source": [
    "tfid_vectorizer = TfidfVectorizer(max_features=1000, \n",
    "                                  ngram_range=(1, 2),\n",
    "                                  use_idf=True,\n",
    "                                  min_df=1,\n",
    "                                  norm='l2',\n",
    "                                  smooth_idf=True\n",
    "                                 ) \n",
    "X_train = tfid_vectorizer.fit_transform(X_train)\n",
    "X_test = tfid_vectorizer.transform(X_test)"
   ]
  },
  {
   "cell_type": "code",
   "execution_count": null,
   "metadata": {},
   "outputs": [],
   "source": [
    "parameters = {'tfidf__ngram_range': [(1, 1), (1, 2)],\n",
    "              'tfidf__use_idf': (True, False),\n",
    "              'tfidf__max_df': [0.25, 0.5, 0.75, 1.0],\n",
    "              'tfidf__max_features': [10, 50, 100, 250, 500, 1000, None],\n",
    "              'tfidf__stop_words': ('english', None),\n",
    "              'tfidf__smooth_idf': (True, False),\n",
    "              'tfidf__norm': ('l1', 'l2', None),\n",
    "              }"
   ]
  },
  {
   "cell_type": "markdown",
   "metadata": {},
   "source": [
    "## 5. Modeling\n",
    "Try different classifiers and compare results."
   ]
  },
  {
   "cell_type": "code",
   "execution_count": 98,
   "metadata": {
    "vscode": {
     "languageId": "python"
    }
   },
   "outputs": [],
   "source": [
    "logreg = LogisticRegression(max_iter=7000, \n",
    "                            n_jobs=-1, \n",
    "                            multi_class='multinomial', \n",
    "                            solver='newton-cg')\n",
    "svc = SVC()\n",
    "lgbm = LGBMClassifier(objective='multiclass')"
   ]
  },
  {
   "cell_type": "code",
   "execution_count": 89,
   "metadata": {},
   "outputs": [],
   "source": [
    "xgb = XGBClassifier()\n",
    "\n",
    "param_grid={'colsample_bytree': [0.5],\n",
    "                    'gamma': [0.25, 1], \n",
    "                    'gpu_id': [0],\n",
    "                    'learning_rate': [0.1],\n",
    "                    'max_depth': [7, 9, 15, 20, 30, 50],\n",
    "                    'min_child_weight': [1, 3, 5],\n",
    "                    'num_classes': [105],\n",
    "                    'objective': ['multi:softmax'],\n",
    "                    'predictor': ['gpu_predictor'],\n",
    "                    'reg_lambda': [0, 1, 3],\n",
    "                    'scale_pos_weight': [1],\n",
    "                    'subsample': [0.9],\n",
    "                    'tree_method': ['gpu_hist'],\n",
    "                    'booster': ['gbtree', 'dart'],\n",
    "                    'verbosity': [2],\n",
    "                    'num_parallel_tree': [4]\n",
    "                    }\n",
    "\n",
    "rand = RandomizedSearchCV(xgb, param_grid, n_jobs=-1, cv=3, scoring=\"accuracy\")"
   ]
  },
  {
   "cell_type": "code",
   "execution_count": 99,
   "metadata": {
    "vscode": {
     "languageId": "python"
    }
   },
   "outputs": [
    {
     "data": {
      "text/html": [
       "<style>#sk-container-id-6 {color: black;background-color: white;}#sk-container-id-6 pre{padding: 0;}#sk-container-id-6 div.sk-toggleable {background-color: white;}#sk-container-id-6 label.sk-toggleable__label {cursor: pointer;display: block;width: 100%;margin-bottom: 0;padding: 0.3em;box-sizing: border-box;text-align: center;}#sk-container-id-6 label.sk-toggleable__label-arrow:before {content: \"▸\";float: left;margin-right: 0.25em;color: #696969;}#sk-container-id-6 label.sk-toggleable__label-arrow:hover:before {color: black;}#sk-container-id-6 div.sk-estimator:hover label.sk-toggleable__label-arrow:before {color: black;}#sk-container-id-6 div.sk-toggleable__content {max-height: 0;max-width: 0;overflow: hidden;text-align: left;background-color: #f0f8ff;}#sk-container-id-6 div.sk-toggleable__content pre {margin: 0.2em;color: black;border-radius: 0.25em;background-color: #f0f8ff;}#sk-container-id-6 input.sk-toggleable__control:checked~div.sk-toggleable__content {max-height: 200px;max-width: 100%;overflow: auto;}#sk-container-id-6 input.sk-toggleable__control:checked~label.sk-toggleable__label-arrow:before {content: \"▾\";}#sk-container-id-6 div.sk-estimator input.sk-toggleable__control:checked~label.sk-toggleable__label {background-color: #d4ebff;}#sk-container-id-6 div.sk-label input.sk-toggleable__control:checked~label.sk-toggleable__label {background-color: #d4ebff;}#sk-container-id-6 input.sk-hidden--visually {border: 0;clip: rect(1px 1px 1px 1px);clip: rect(1px, 1px, 1px, 1px);height: 1px;margin: -1px;overflow: hidden;padding: 0;position: absolute;width: 1px;}#sk-container-id-6 div.sk-estimator {font-family: monospace;background-color: #f0f8ff;border: 1px dotted black;border-radius: 0.25em;box-sizing: border-box;margin-bottom: 0.5em;}#sk-container-id-6 div.sk-estimator:hover {background-color: #d4ebff;}#sk-container-id-6 div.sk-parallel-item::after {content: \"\";width: 100%;border-bottom: 1px solid gray;flex-grow: 1;}#sk-container-id-6 div.sk-label:hover label.sk-toggleable__label {background-color: #d4ebff;}#sk-container-id-6 div.sk-serial::before {content: \"\";position: absolute;border-left: 1px solid gray;box-sizing: border-box;top: 0;bottom: 0;left: 50%;z-index: 0;}#sk-container-id-6 div.sk-serial {display: flex;flex-direction: column;align-items: center;background-color: white;padding-right: 0.2em;padding-left: 0.2em;position: relative;}#sk-container-id-6 div.sk-item {position: relative;z-index: 1;}#sk-container-id-6 div.sk-parallel {display: flex;align-items: stretch;justify-content: center;background-color: white;position: relative;}#sk-container-id-6 div.sk-item::before, #sk-container-id-6 div.sk-parallel-item::before {content: \"\";position: absolute;border-left: 1px solid gray;box-sizing: border-box;top: 0;bottom: 0;left: 50%;z-index: -1;}#sk-container-id-6 div.sk-parallel-item {display: flex;flex-direction: column;z-index: 1;position: relative;background-color: white;}#sk-container-id-6 div.sk-parallel-item:first-child::after {align-self: flex-end;width: 50%;}#sk-container-id-6 div.sk-parallel-item:last-child::after {align-self: flex-start;width: 50%;}#sk-container-id-6 div.sk-parallel-item:only-child::after {width: 0;}#sk-container-id-6 div.sk-dashed-wrapped {border: 1px dashed gray;margin: 0 0.4em 0.5em 0.4em;box-sizing: border-box;padding-bottom: 0.4em;background-color: white;}#sk-container-id-6 div.sk-label label {font-family: monospace;font-weight: bold;display: inline-block;line-height: 1.2em;}#sk-container-id-6 div.sk-label-container {text-align: center;}#sk-container-id-6 div.sk-container {/* jupyter's `normalize.less` sets `[hidden] { display: none; }` but bootstrap.min.css set `[hidden] { display: none !important; }` so we also need the `!important` here to be able to override the default hidden behavior on the sphinx rendered scikit-learn.org. See: https://github.com/scikit-learn/scikit-learn/issues/21755 */display: inline-block !important;position: relative;}#sk-container-id-6 div.sk-text-repr-fallback {display: none;}</style><div id=\"sk-container-id-6\" class=\"sk-top-container\"><div class=\"sk-text-repr-fallback\"><pre>LogisticRegression(max_iter=7000, multi_class=&#x27;multinomial&#x27;, n_jobs=-1,\n",
       "                   solver=&#x27;newton-cg&#x27;)</pre><b>In a Jupyter environment, please rerun this cell to show the HTML representation or trust the notebook. <br />On GitHub, the HTML representation is unable to render, please try loading this page with nbviewer.org.</b></div><div class=\"sk-container\" hidden><div class=\"sk-item\"><div class=\"sk-estimator sk-toggleable\"><input class=\"sk-toggleable__control sk-hidden--visually\" id=\"sk-estimator-id-16\" type=\"checkbox\" checked><label for=\"sk-estimator-id-16\" class=\"sk-toggleable__label sk-toggleable__label-arrow\">LogisticRegression</label><div class=\"sk-toggleable__content\"><pre>LogisticRegression(max_iter=7000, multi_class=&#x27;multinomial&#x27;, n_jobs=-1,\n",
       "                   solver=&#x27;newton-cg&#x27;)</pre></div></div></div></div></div>"
      ],
      "text/plain": [
       "LogisticRegression(max_iter=7000, multi_class='multinomial', n_jobs=-1,\n",
       "                   solver='newton-cg')"
      ]
     },
     "execution_count": 99,
     "metadata": {},
     "output_type": "execute_result"
    }
   ],
   "source": [
    "logreg.fit(X_train, y_train)"
   ]
  },
  {
   "cell_type": "code",
   "execution_count": null,
   "metadata": {},
   "outputs": [],
   "source": [
    "rand.fit(X_train, y_train)"
   ]
  },
  {
   "cell_type": "code",
   "execution_count": 88,
   "metadata": {},
   "outputs": [
    {
     "ename": "AttributeError",
     "evalue": "'RandomizedSearchCV' object has no attribute 'best_params_'",
     "output_type": "error",
     "traceback": [
      "\u001b[0;31m---------------------------------------------------------------------------\u001b[0m",
      "\u001b[0;31mAttributeError\u001b[0m                            Traceback (most recent call last)",
      "Cell \u001b[0;32mIn[88], line 1\u001b[0m\n\u001b[0;32m----> 1\u001b[0m \u001b[43mrand\u001b[49m\u001b[38;5;241;43m.\u001b[39;49m\u001b[43mbest_params_\u001b[49m\n",
      "\u001b[0;31mAttributeError\u001b[0m: 'RandomizedSearchCV' object has no attribute 'best_params_'"
     ]
    }
   ],
   "source": [
    "rand.best_params_"
   ]
  },
  {
   "cell_type": "markdown",
   "metadata": {},
   "source": [
    "## 6. Evaluation\n",
    "Predicting on train to check overfitting when comparing with test."
   ]
  },
  {
   "cell_type": "code",
   "execution_count": 100,
   "metadata": {
    "vscode": {
     "languageId": "python"
    }
   },
   "outputs": [],
   "source": [
    "y_pred_train = logreg.predict(X_train)\n",
    "y_pred_test = logreg.predict(X_test)"
   ]
  },
  {
   "cell_type": "code",
   "execution_count": 81,
   "metadata": {
    "vscode": {
     "languageId": "python"
    }
   },
   "outputs": [
    {
     "name": "stderr",
     "output_type": "stream",
     "text": [
      "/home/app/.local/lib/python3.8/site-packages/sklearn/metrics/_classification.py:1327: UndefinedMetricWarning: Precision and F-score are ill-defined and being set to 0.0 in labels with no predicted samples. Use `zero_division` parameter to control this behavior.\n",
      "  _warn_prf(average, modifier, msg_start, len(result))\n",
      "/home/app/.local/lib/python3.8/site-packages/sklearn/metrics/_classification.py:1327: UndefinedMetricWarning: Precision and F-score are ill-defined and being set to 0.0 in labels with no predicted samples. Use `zero_division` parameter to control this behavior.\n",
      "  _warn_prf(average, modifier, msg_start, len(result))\n",
      "/home/app/.local/lib/python3.8/site-packages/sklearn/metrics/_classification.py:1327: UndefinedMetricWarning: Precision and F-score are ill-defined and being set to 0.0 in labels with no predicted samples. Use `zero_division` parameter to control this behavior.\n",
      "  _warn_prf(average, modifier, msg_start, len(result))\n",
      "/home/app/.local/lib/python3.8/site-packages/sklearn/metrics/_classification.py:1327: UndefinedMetricWarning: Precision and F-score are ill-defined and being set to 0.0 in labels with no predicted samples. Use `zero_division` parameter to control this behavior.\n",
      "  _warn_prf(average, modifier, msg_start, len(result))\n",
      "/home/app/.local/lib/python3.8/site-packages/sklearn/metrics/_classification.py:1327: UndefinedMetricWarning: Precision and F-score are ill-defined and being set to 0.0 in labels with no predicted samples. Use `zero_division` parameter to control this behavior.\n",
      "  _warn_prf(average, modifier, msg_start, len(result))\n",
      "/home/app/.local/lib/python3.8/site-packages/sklearn/metrics/_classification.py:1327: UndefinedMetricWarning: Precision and F-score are ill-defined and being set to 0.0 in labels with no predicted samples. Use `zero_division` parameter to control this behavior.\n",
      "  _warn_prf(average, modifier, msg_start, len(result))\n",
      "/home/app/.local/lib/python3.8/site-packages/sklearn/metrics/_classification.py:1327: UndefinedMetricWarning: Precision and F-score are ill-defined and being set to 0.0 in labels with no predicted samples. Use `zero_division` parameter to control this behavior.\n",
      "  _warn_prf(average, modifier, msg_start, len(result))\n",
      "/home/app/.local/lib/python3.8/site-packages/sklearn/metrics/_classification.py:1327: UndefinedMetricWarning: Precision and F-score are ill-defined and being set to 0.0 in labels with no predicted samples. Use `zero_division` parameter to control this behavior.\n",
      "  _warn_prf(average, modifier, msg_start, len(result))\n"
     ]
    },
    {
     "name": "stdout",
     "output_type": "stream",
     "text": [
      "Model Performance metrics:\n",
      "------------------------------\n",
      "Accuracy: 0.352793106786717\n",
      "Precision: 0.352793106786717\n",
      "Recall: 0.352793106786717\n",
      "F1 Score: 0.352793106786717\n",
      "\n",
      "Model Classification report:\n",
      "------------------------------\n",
      "                                      precision    recall  f1-score   support\n",
      "\n",
      "        Action Camcorder Accessories       0.00      0.00      0.00       114\n",
      "         Adapters, Cables & Chargers       0.53      0.72      0.61       171\n",
      "                         All Laptops       0.59      0.14      0.22       274\n",
      "             Apple Watch Accessories       0.00      0.00      0.00       104\n",
      "       Appliance Parts & Accessories       0.30      0.16      0.21       234\n",
      "                          Appliances       0.50      0.06      0.10      1154\n",
      "                               Audio       0.76      0.30      0.43       934\n",
      "     Binoculars, Telescopes & Optics       0.00      0.00      0.00       149\n",
      "                            Blenders       0.00      0.00      0.00        91\n",
      "                  Blenders & Juicers       0.00      0.00      0.00       102\n",
      "                 Cables & Connectors       0.00      0.00      0.00        92\n",
      "                 Camera Bags & Cases       0.44      0.13      0.20       130\n",
      "            Camera Batteries & Power       0.52      0.67      0.59       175\n",
      "                       Camera Lenses       0.68      0.45      0.54       220\n",
      "                Cameras & Camcorders       0.42      0.22      0.28       710\n",
      "                           Car Audio       0.00      0.00      0.00       306\n",
      "               Car Electronics & GPS       0.00      0.00      0.00       386\n",
      "Car Installation Parts & Accessories       0.00      0.00      0.00       207\n",
      "         Car Subwoofers & Enclosures       0.00      0.00      0.00        94\n",
      "     Cases, Covers & Keyboard Folios       0.00      0.00      0.00       211\n",
      "              Cell Phone Accessories       0.76      0.41      0.53      2278\n",
      "        Cell Phone Batteries & Power       0.54      0.62      0.57       463\n",
      "                         Cell Phones       0.50      0.04      0.07       362\n",
      "                       Coffee Makers       0.00      0.00      0.00       108\n",
      "                 Coffee Pods & Beans       0.00      0.00      0.00        84\n",
      "              Coffee, Tea & Espresso       0.00      0.00      0.00        81\n",
      "  Computer Accessories & Peripherals       0.69      0.38      0.49       595\n",
      "                 Computers & Tablets       0.66      0.08      0.14      1339\n",
      "                      Connected Home       1.00      0.03      0.07       115\n",
      "         Connected Home & Housewares       0.36      0.02      0.04       688\n",
      "        Cookware, Bakeware & Cutlery       0.39      0.06      0.10       532\n",
      "                 Cordless Telephones       0.00      0.00      0.00        85\n",
      "                         DSLR Lenses       0.19      0.05      0.08        83\n",
      "             Deck Installation Parts       0.93      0.43      0.59       810\n",
      "      Desktop & All-in-One Computers       0.57      0.44      0.50       351\n",
      "          Digital Camera Accessories       0.70      0.27      0.39       610\n",
      "                     Digital Cameras       0.00      0.00      0.00        80\n",
      "                         Dishwashers       0.99      0.54      0.70       210\n",
      "                              Dryers       0.85      0.77      0.81       197\n",
      "                             Effects       0.00      0.00      0.00        85\n",
      "          Flashes, Lighting & Studio       0.00      0.00      0.00       110\n",
      "                   Furniture & Decor       0.47      0.22      0.30       352\n",
      "               Hard Drives & Storage       0.24      0.11      0.15        97\n",
      "                          Headphones       0.91      0.61      0.73       426\n",
      "            Health, Fitness & Beauty       0.00      0.00      0.00       615\n",
      "      Heating, Cooling & Air Quality       0.51      0.21      0.30       772\n",
      "                          Home Audio       0.44      0.03      0.06       461\n",
      "              Home Audio Accessories       0.00      0.00      0.00       146\n",
      "                Home Theater Systems       0.00      0.00      0.00        91\n",
      "                          Housewares       0.00      0.00      0.00       145\n",
      "       In-Wall & In-Ceiling Speakers       0.00      0.00      0.00        85\n",
      "                     Kitchen Gadgets       0.26      0.04      0.06       277\n",
      "                  Laptop Accessories       0.87      0.40      0.55       646\n",
      "                             Laptops       0.41      0.07      0.12       130\n",
      "              Luggage, Bags & Travel       0.00      0.00      0.00       122\n",
      "                Magnolia Accessories       0.00      0.00      0.00        98\n",
      "                        Memory Cards       0.42      0.09      0.15        90\n",
      "                    Mice & Keyboards       0.06      0.02      0.03       199\n",
      "           Microphones & Accessories       0.00      0.00      0.00       145\n",
      "            Microphones & Live Sound       0.00      0.00      0.00        80\n",
      "                          Microwaves       0.56      0.67      0.61       236\n",
      "                            Monitors       0.53      0.71      0.61       132\n",
      "      Musical Instrument Accessories       0.00      0.00      0.00       152\n",
      "                 Musical Instruments       0.36      0.11      0.17      1044\n",
      "                         Nintendo DS       0.00      0.00      0.00       137\n",
      "          Office Furniture & Storage       0.00      0.00      0.00       267\n",
      "                      Outdoor Living       0.36      0.17      0.23       399\n",
      "        Over-Ear & On-Ear Headphones       0.47      0.60      0.53       295\n",
      "             Patio Furniture & Decor       0.00      0.00      0.00        96\n",
      "              Personal Care & Beauty       0.00      0.00      0.00       254\n",
      "                       PlayStation 3       0.00      0.00      0.00       150\n",
      "                       PlayStation 4       0.00      0.00      0.00       203\n",
      "               Point & Shoot Cameras       0.52      0.89      0.66        95\n",
      "                 Printer Ink & Toner       0.95      0.67      0.78       854\n",
      "               Printers, Ink & Toner       0.00      0.00      0.00       197\n",
      "          Projector Mounts & Screens       0.00      0.00      0.00        94\n",
      "                Projectors & Screens       0.00      0.00      0.00       112\n",
      "                         Range Hoods       0.50      0.55      0.53       169\n",
      "                              Ranges       0.91      0.60      0.73       470\n",
      "            Ranges, Cooktops & Ovens       0.47      0.59      0.53       299\n",
      "                       Refrigerators       0.70      0.54      0.61       551\n",
      "     Security Cameras & Surveillance       0.15      0.19      0.17        97\n",
      "                  Sheet Music & DVDs       0.86      0.68      0.76       593\n",
      "            Small Kitchen Appliances       0.48      0.39      0.43      1175\n",
      "              Smartwatch Accessories       0.00      0.00      0.00       186\n",
      "                            Speakers       0.49      0.59      0.53       302\n",
      "                   TV & Home Theater       0.00      0.00      0.00       262\n",
      "       TV & Home Theater Accessories       0.41      0.55      0.47       361\n",
      "                           TV Stands       0.56      0.46      0.51       327\n",
      "       TV Stands, Mounts & Furniture       0.50      0.01      0.02       277\n",
      "                                 TVs       0.00      0.00      0.00       122\n",
      "                             Tablets       0.00      0.00      0.00       183\n",
      "                         Tea Kettles       0.00      0.00      0.00        92\n",
      "          Telephones & Communication       0.00      0.00      0.00        90\n",
      "                Toys, Games & Drones       0.13      0.06      0.08       315\n",
      "                Unlocked Cell Phones       0.90      0.68      0.78       244\n",
      "                         Video Games       0.97      0.60      0.74      3494\n",
      "                          Wall Ovens       0.00      0.00      0.00        89\n",
      "                    Washers & Dryers       0.47      0.69      0.56       106\n",
      "                            Xbox 360       0.00      0.00      0.00       164\n",
      "                            Xbox One       0.00      0.00      0.00       172\n",
      "           iPad & Tablet Accessories       0.70      0.71      0.71       446\n",
      "                  iPhone Accessories       0.63      0.44      0.52      1242\n",
      "                iPhone Cases & Clips       0.20      0.18      0.19       272\n",
      "                               other       0.14      0.80      0.24      4398\n",
      "\n",
      "                            accuracy                           0.35     41316\n",
      "                           macro avg       0.31      0.21      0.22     41316\n",
      "                        weighted avg       0.48      0.35      0.34     41316\n",
      "\n"
     ]
    },
    {
     "name": "stderr",
     "output_type": "stream",
     "text": [
      "/home/app/.local/lib/python3.8/site-packages/sklearn/metrics/_classification.py:1327: UndefinedMetricWarning: Precision and F-score are ill-defined and being set to 0.0 in labels with no predicted samples. Use `zero_division` parameter to control this behavior.\n",
      "  _warn_prf(average, modifier, msg_start, len(result))\n"
     ]
    }
   ],
   "source": [
    "evaluation.get_performance(predictions=y_pred_train, \n",
    "                           y_test=y_train,\n",
    "                           labels=y,\n",
    "                           vectorizer=tfid_vectorizer,\n",
    "                           model=rand, \n",
    "                           timestamp=time.time(), \n",
    "                           average='micro')"
   ]
  },
  {
   "cell_type": "code",
   "execution_count": 82,
   "metadata": {
    "vscode": {
     "languageId": "python"
    }
   },
   "outputs": [
    {
     "name": "stderr",
     "output_type": "stream",
     "text": [
      "/home/app/.local/lib/python3.8/site-packages/sklearn/metrics/_classification.py:1327: UndefinedMetricWarning: Precision and F-score are ill-defined and being set to 0.0 in labels with no predicted samples. Use `zero_division` parameter to control this behavior.\n",
      "  _warn_prf(average, modifier, msg_start, len(result))\n",
      "/home/app/.local/lib/python3.8/site-packages/sklearn/metrics/_classification.py:1327: UndefinedMetricWarning: Precision and F-score are ill-defined and being set to 0.0 in labels with no predicted samples. Use `zero_division` parameter to control this behavior.\n",
      "  _warn_prf(average, modifier, msg_start, len(result))\n",
      "/home/app/.local/lib/python3.8/site-packages/sklearn/metrics/_classification.py:1327: UndefinedMetricWarning: Precision and F-score are ill-defined and being set to 0.0 in labels with no predicted samples. Use `zero_division` parameter to control this behavior.\n",
      "  _warn_prf(average, modifier, msg_start, len(result))\n",
      "/home/app/.local/lib/python3.8/site-packages/sklearn/metrics/_classification.py:1327: UndefinedMetricWarning: Precision and F-score are ill-defined and being set to 0.0 in labels with no predicted samples. Use `zero_division` parameter to control this behavior.\n",
      "  _warn_prf(average, modifier, msg_start, len(result))\n",
      "/home/app/.local/lib/python3.8/site-packages/sklearn/metrics/_classification.py:1327: UndefinedMetricWarning: Precision and F-score are ill-defined and being set to 0.0 in labels with no predicted samples. Use `zero_division` parameter to control this behavior.\n",
      "  _warn_prf(average, modifier, msg_start, len(result))\n",
      "/home/app/.local/lib/python3.8/site-packages/sklearn/metrics/_classification.py:1327: UndefinedMetricWarning: Precision and F-score are ill-defined and being set to 0.0 in labels with no predicted samples. Use `zero_division` parameter to control this behavior.\n",
      "  _warn_prf(average, modifier, msg_start, len(result))\n",
      "/home/app/.local/lib/python3.8/site-packages/sklearn/metrics/_classification.py:1327: UndefinedMetricWarning: Precision and F-score are ill-defined and being set to 0.0 in labels with no predicted samples. Use `zero_division` parameter to control this behavior.\n",
      "  _warn_prf(average, modifier, msg_start, len(result))\n",
      "/home/app/.local/lib/python3.8/site-packages/sklearn/metrics/_classification.py:1327: UndefinedMetricWarning: Precision and F-score are ill-defined and being set to 0.0 in labels with no predicted samples. Use `zero_division` parameter to control this behavior.\n",
      "  _warn_prf(average, modifier, msg_start, len(result))\n"
     ]
    },
    {
     "name": "stdout",
     "output_type": "stream",
     "text": [
      "Model Performance metrics:\n",
      "------------------------------\n",
      "Accuracy: 0.48751210067763795\n",
      "Precision: 0.48751210067763795\n",
      "Recall: 0.48751210067763795\n",
      "F1 Score: 0.48751210067763795\n",
      "\n",
      "Model Classification report:\n",
      "------------------------------\n",
      "                                      precision    recall  f1-score   support\n",
      "\n",
      "        Action Camcorder Accessories       0.00      0.00      0.00        28\n",
      "         Adapters, Cables & Chargers       0.49      0.74      0.59        43\n",
      "                         All Laptops       0.67      0.93      0.78        69\n",
      "             Apple Watch Accessories       0.00      0.00      0.00        26\n",
      "       Appliance Parts & Accessories       0.42      0.37      0.39        59\n",
      "                          Appliances       0.68      0.09      0.15       289\n",
      "                               Audio       0.73      0.57      0.64       233\n",
      "     Binoculars, Telescopes & Optics       0.00      0.00      0.00        37\n",
      "                            Blenders       0.00      0.00      0.00        23\n",
      "                  Blenders & Juicers       0.00      0.00      0.00        25\n",
      "                 Cables & Connectors       0.00      0.00      0.00        23\n",
      "                 Camera Bags & Cases       0.50      0.36      0.42        33\n",
      "            Camera Batteries & Power       0.60      0.73      0.66        44\n",
      "                       Camera Lenses       0.73      0.73      0.73        55\n",
      "                Cameras & Camcorders       0.36      0.22      0.27       177\n",
      "                           Car Audio       0.00      0.00      0.00        77\n",
      "               Car Electronics & GPS       0.00      0.00      0.00        96\n",
      "Car Installation Parts & Accessories       0.33      0.02      0.04        52\n",
      "         Car Subwoofers & Enclosures       0.00      0.00      0.00        23\n",
      "     Cases, Covers & Keyboard Folios       0.14      0.02      0.03        53\n",
      "              Cell Phone Accessories       0.75      0.61      0.67       570\n",
      "        Cell Phone Batteries & Power       0.62      0.70      0.66       116\n",
      "                         Cell Phones       0.35      0.07      0.11        90\n",
      "                       Coffee Makers       0.00      0.00      0.00        27\n",
      "                 Coffee Pods & Beans       0.00      0.00      0.00        21\n",
      "              Coffee, Tea & Espresso       0.00      0.00      0.00        20\n",
      "  Computer Accessories & Peripherals       0.85      0.48      0.61       149\n",
      "                 Computers & Tablets       0.58      0.17      0.26       335\n",
      "                      Connected Home       1.00      0.03      0.07        29\n",
      "         Connected Home & Housewares       0.21      0.03      0.05       172\n",
      "        Cookware, Bakeware & Cutlery       0.49      0.20      0.29       133\n",
      "                 Cordless Telephones       0.00      0.00      0.00        21\n",
      "                         DSLR Lenses       0.38      0.14      0.21        21\n",
      "             Deck Installation Parts       0.81      0.91      0.85       203\n",
      "      Desktop & All-in-One Computers       0.89      0.80      0.84        88\n",
      "          Digital Camera Accessories       0.74      0.32      0.45       152\n",
      "                     Digital Cameras       0.00      0.00      0.00        20\n",
      "                         Dishwashers       1.00      1.00      1.00        53\n",
      "                              Dryers       0.87      0.98      0.92        49\n",
      "                             Effects       0.00      0.00      0.00        21\n",
      "          Flashes, Lighting & Studio       0.00      0.00      0.00        27\n",
      "                   Furniture & Decor       0.70      0.38      0.49        88\n",
      "               Hard Drives & Storage       0.56      0.79      0.66        24\n",
      "                          Headphones       0.88      0.70      0.78       106\n",
      "            Health, Fitness & Beauty       0.00      0.00      0.00       154\n",
      "      Heating, Cooling & Air Quality       0.67      0.29      0.41       193\n",
      "                          Home Audio       0.09      0.02      0.03       115\n",
      "              Home Audio Accessories       0.00      0.00      0.00        36\n",
      "                Home Theater Systems       0.00      0.00      0.00        22\n",
      "                          Housewares       0.00      0.00      0.00        36\n",
      "       In-Wall & In-Ceiling Speakers       0.00      0.00      0.00        21\n",
      "                     Kitchen Gadgets       0.14      0.03      0.05        69\n",
      "                  Laptop Accessories       0.72      0.68      0.70       162\n",
      "                             Laptops       0.55      0.36      0.44        33\n",
      "              Luggage, Bags & Travel       0.00      0.00      0.00        31\n",
      "                Magnolia Accessories       0.00      0.00      0.00        25\n",
      "                        Memory Cards       0.64      0.73      0.68        22\n",
      "                    Mice & Keyboards       0.18      0.24      0.21        50\n",
      "           Microphones & Accessories       0.00      0.00      0.00        36\n",
      "            Microphones & Live Sound       0.00      0.00      0.00        20\n",
      "                          Microwaves       0.92      1.00      0.96        59\n",
      "                            Monitors       0.42      0.94      0.58        33\n",
      "      Musical Instrument Accessories       0.00      0.00      0.00        38\n",
      "                 Musical Instruments       0.31      0.11      0.16       261\n",
      "                         Nintendo DS       0.00      0.00      0.00        34\n",
      "          Office Furniture & Storage       0.00      0.00      0.00        67\n",
      "                      Outdoor Living       0.23      0.18      0.20       100\n",
      "        Over-Ear & On-Ear Headphones       0.57      0.99      0.73        74\n",
      "             Patio Furniture & Decor       0.00      0.00      0.00        24\n",
      "              Personal Care & Beauty       0.00      0.00      0.00        64\n",
      "                       PlayStation 3       0.00      0.00      0.00        37\n",
      "                       PlayStation 4       0.00      0.00      0.00        51\n",
      "               Point & Shoot Cameras       0.47      1.00      0.64        24\n",
      "                 Printer Ink & Toner       0.95      0.77      0.85       214\n",
      "               Printers, Ink & Toner       0.62      0.33      0.43        49\n",
      "          Projector Mounts & Screens       0.00      0.00      0.00        23\n",
      "                Projectors & Screens       0.00      0.00      0.00        28\n",
      "                         Range Hoods       0.69      0.98      0.81        42\n",
      "                              Ranges       0.91      1.00      0.95       117\n",
      "            Ranges, Cooktops & Ovens       0.62      0.99      0.76        75\n",
      "                       Refrigerators       0.69      0.79      0.73       138\n",
      "     Security Cameras & Surveillance       0.23      0.67      0.34        24\n",
      "                  Sheet Music & DVDs       0.88      0.92      0.90       148\n",
      "            Small Kitchen Appliances       0.48      0.56      0.52       294\n",
      "              Smartwatch Accessories       0.00      0.00      0.00        47\n",
      "                            Speakers       0.36      0.74      0.48        76\n",
      "                   TV & Home Theater       0.00      0.00      0.00        65\n",
      "       TV & Home Theater Accessories       0.37      0.71      0.48        90\n",
      "                           TV Stands       0.53      0.95      0.68        82\n",
      "       TV Stands, Mounts & Furniture       0.50      0.04      0.08        69\n",
      "                                 TVs       0.00      0.00      0.00        31\n",
      "                             Tablets       0.00      0.00      0.00        46\n",
      "                         Tea Kettles       0.00      0.00      0.00        23\n",
      "          Telephones & Communication       0.00      0.00      0.00        22\n",
      "                Toys, Games & Drones       0.22      0.29      0.25        79\n",
      "                Unlocked Cell Phones       0.92      0.98      0.95        61\n",
      "                         Video Games       0.93      0.88      0.91       874\n",
      "                          Wall Ovens       0.00      0.00      0.00        22\n",
      "                    Washers & Dryers       0.64      0.93      0.76        27\n",
      "                            Xbox 360       0.00      0.00      0.00        41\n",
      "                            Xbox One       0.00      0.00      0.00        43\n",
      "           iPad & Tablet Accessories       0.68      0.85      0.75       111\n",
      "                  iPhone Accessories       0.61      1.00      0.76       310\n",
      "                iPhone Cases & Clips       0.00      0.00      0.00        68\n",
      "                               other       0.19      0.68      0.30      1100\n",
      "\n",
      "                            accuracy                           0.49     10330\n",
      "                           macro avg       0.34      0.33      0.31     10330\n",
      "                        weighted avg       0.49      0.49      0.45     10330\n",
      "\n"
     ]
    },
    {
     "name": "stderr",
     "output_type": "stream",
     "text": [
      "/home/app/.local/lib/python3.8/site-packages/sklearn/metrics/_classification.py:1327: UndefinedMetricWarning: Precision and F-score are ill-defined and being set to 0.0 in labels with no predicted samples. Use `zero_division` parameter to control this behavior.\n",
      "  _warn_prf(average, modifier, msg_start, len(result))\n"
     ]
    }
   ],
   "source": [
    "evaluation.get_performance(y_pred_test, \n",
    "                           y_test, \n",
    "                           y,\n",
    "                           tfid_vectorizer,\n",
    "                           rand, \n",
    "                           timestamp=time.time(), \n",
    "                           average='micro')"
   ]
  },
  {
   "cell_type": "markdown",
   "metadata": {},
   "source": [
    "## 7. Predict on new data\n",
    "Try the model with new data, this will happen in the frontend ready UI in 'production'"
   ]
  },
  {
   "cell_type": "code",
   "execution_count": 131,
   "metadata": {},
   "outputs": [
    {
     "data": {
      "text/plain": [
       "array(['Audio'], dtype='<U5')"
      ]
     },
     "execution_count": 131,
     "metadata": {},
     "output_type": "execute_result"
    }
   ],
   "source": [
    "text = 'speaker phone'\n",
    "normalized = normalize_corpus(\n",
    "        [text],\n",
    "        html_stripping=True,\n",
    "        contraction_expansion=True,\n",
    "        accented_char_removal=True,\n",
    "        text_lower_case=True,\n",
    "        text_stemming=True,\n",
    "        text_lemmatization=False,\n",
    "        special_char_removal=True,\n",
    "        remove_digits=False,\n",
    "        stopword_removal=True,\n",
    "        stopwords=stopword_list,\n",
    "    )\n",
    "vec = tfid_vectorizer.transform(normalized)\n",
    "pred = logreg.predict(vec)\n",
    "decoder(pred)"
   ]
  },
  {
   "cell_type": "markdown",
   "metadata": {},
   "source": [
    "Getting predict probabilities for every category to get the top-k predictions."
   ]
  },
  {
   "cell_type": "code",
   "execution_count": 183,
   "metadata": {},
   "outputs": [
    {
     "data": {
      "text/plain": [
       "array(['Audio', 'Home Audio Accessories', 'Speakers'], dtype='<U22')"
      ]
     },
     "execution_count": 183,
     "metadata": {},
     "output_type": "execute_result"
    }
   ],
   "source": [
    "preds = logreg.predict_proba(vec)[0]\n",
    "classes = logreg.classes_\n",
    "top_3 = classes[np.argsort(preds)[::-1]][:3]\n",
    "decoder(top_3)"
   ]
  },
  {
   "cell_type": "markdown",
   "metadata": {},
   "source": [
    "Finding the path for every leaf detected in the previous step"
   ]
  },
  {
   "cell_type": "code",
   "execution_count": 220,
   "metadata": {},
   "outputs": [],
   "source": [
    "categories = pd.read_json('https://raw.githubusercontent.com/BestBuyAPIs/open-data-set/master/categories.json')"
   ]
  },
  {
   "cell_type": "code",
   "execution_count": 262,
   "metadata": {},
   "outputs": [],
   "source": [
    "paths = []\n",
    "for pred in top_3:\n",
    "    paths.append(categories.path[categories.id == pred].values[0])\n",
    "    \n",
    "str_paths = []\n",
    "for path in paths:\n",
    "    partial = []\n",
    "    for cat in path:\n",
    "        partial.append(cat['name'])\n",
    "    str_paths.append(' > '.join(partial))"
   ]
  },
  {
   "cell_type": "code",
   "execution_count": 265,
   "metadata": {},
   "outputs": [
    {
     "data": {
      "text/plain": [
       "['Audio', 'Audio > Home Audio Accessories', 'Audio > Home Audio > Speakers']"
      ]
     },
     "execution_count": 265,
     "metadata": {},
     "output_type": "execute_result"
    }
   ],
   "source": [
    "str_paths"
   ]
  },
  {
   "cell_type": "markdown",
   "metadata": {},
   "source": [
    "## 8. Creating a Pipeline\n",
    "Export best models to call them from the API with one line."
   ]
  },
  {
   "cell_type": "code",
   "execution_count": null,
   "metadata": {},
   "outputs": [],
   "source": [
    "class Normalizer(BaseEstimator, TransformerMixin):\n",
    "    \n",
    "    def fit(self, X, y=None):\n",
    "        return self\n",
    "        \n",
    "    def transform(self, X, y=None):\n",
    "        X = X.copy()\n",
    "        normalized_desc = normalize_corpus(\n",
    "        X,\n",
    "        html_stripping=True,\n",
    "        contraction_expansion=True,\n",
    "        accented_char_removal=True,\n",
    "        text_lower_case=True,\n",
    "        text_stemming=True,\n",
    "        text_lemmatization=False,\n",
    "        special_char_removal=True,\n",
    "        remove_digits=False,\n",
    "        stopword_removal=True,\n",
    "        stopwords=stopword_list,\n",
    "    )\n",
    "        return normalized_desc\n",
    "        "
   ]
  },
  {
   "cell_type": "code",
   "execution_count": null,
   "metadata": {},
   "outputs": [],
   "source": [
    "pipe = Pipeline([('normalizer', Normalizer()), \n",
    "                 ('tfidf', TfidfVectorizer(max_features=1000, \n",
    "                                           ngram_range=(1, 1))),\n",
    "                 ('logreg', LogisticRegression(max_iter=7000, \n",
    "                                               n_jobs=-1, \n",
    "                                               multi_class='multinomial', \n",
    "                                               solver='newton-cg'))\n",
    "                ])\n",
    "\n",
    "pipe.fit(X_train,y_train)"
   ]
  },
  {
   "cell_type": "markdown",
   "metadata": {},
   "source": [
    "## 9. Saving fitted pipeline to file.\n",
    "This will allow to call predict in the API when the ml_service receives input data, transform it and return the top-k output full category path for the user to see it in the UI."
   ]
  },
  {
   "cell_type": "code",
   "execution_count": null,
   "metadata": {},
   "outputs": [],
   "source": [
    "dump(pipe, 'pipe.joblib') "
   ]
  }
 ],
 "metadata": {
  "kernelspec": {
   "display_name": "Python 3 (ipykernel)",
   "language": "python",
   "name": "python3"
  },
  "language_info": {
   "codemirror_mode": {
    "name": "ipython",
    "version": 3
   },
   "file_extension": ".py",
   "mimetype": "text/x-python",
   "name": "python",
   "nbconvert_exporter": "python",
   "pygments_lexer": "ipython3",
   "version": "3.8.10"
  },
  "vscode": {
   "interpreter": {
    "hash": "916dbcbb3f70747c44a77c7bcd40155683ae19c65e1c03b4aa3499c5328201f1"
   }
  }
 },
 "nbformat": 4,
 "nbformat_minor": 2
}
