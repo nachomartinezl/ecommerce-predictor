{
 "cells": [
  {
   "attachments": {},
   "cell_type": "markdown",
   "metadata": {},
   "source": [
    "# HiClass baseline - descriptions"
   ]
  },
  {
   "cell_type": "code",
   "execution_count": 1,
   "metadata": {},
   "outputs": [
    {
     "data": {
      "text/plain": [
       "'/home/app/src'"
      ]
     },
     "execution_count": 1,
     "metadata": {},
     "output_type": "execute_result"
    }
   ],
   "source": [
    "import os\n",
    "os.chdir(\"/home/app/src\")"
   ]
  },
  {
   "cell_type": "code",
   "execution_count": 1,
   "metadata": {},
   "outputs": [
    {
     "name": "stderr",
     "output_type": "stream",
     "text": [
      "[nltk_data] Downloading package stopwords to /home/app/nltk_data...\n",
      "[nltk_data]   Package stopwords is already up-to-date!\n"
     ]
    },
    {
     "ename": "FileNotFoundError",
     "evalue": "[Errno 2] No such file or directory: 'data/products.json'",
     "output_type": "error",
     "traceback": [
      "\u001b[0;31m---------------------------------------------------------------------------\u001b[0m",
      "\u001b[0;31mFileNotFoundError\u001b[0m                         Traceback (most recent call last)",
      "Cell \u001b[0;32mIn[1], line 7\u001b[0m\n\u001b[1;32m      5\u001b[0m \u001b[39mfrom\u001b[39;00m \u001b[39msklearn\u001b[39;00m \u001b[39mimport\u001b[39;00m metrics\n\u001b[1;32m      6\u001b[0m \u001b[39mfrom\u001b[39;00m \u001b[39mscripts\u001b[39;00m\u001b[39m.\u001b[39;00m\u001b[39mbuild_df\u001b[39;00m \u001b[39mimport\u001b[39;00m build_df\n\u001b[0;32m----> 7\u001b[0m \u001b[39mfrom\u001b[39;00m \u001b[39mscripts\u001b[39;00m\u001b[39m.\u001b[39;00m\u001b[39mdecode_id\u001b[39;00m \u001b[39mimport\u001b[39;00m decode_id\n\u001b[1;32m      8\u001b[0m \u001b[39mfrom\u001b[39;00m \u001b[39mscripts\u001b[39;00m\u001b[39m.\u001b[39;00m\u001b[39mtree_utils\u001b[39;00m \u001b[39mimport\u001b[39;00m make_tree\n\u001b[1;32m      9\u001b[0m \u001b[39mfrom\u001b[39;00m \u001b[39msklearn\u001b[39;00m\u001b[39m.\u001b[39;00m\u001b[39mmodel_selection\u001b[39;00m \u001b[39mimport\u001b[39;00m train_test_split\n",
      "File \u001b[0;32m~/src/scripts/decode_id.py:6\u001b[0m\n\u001b[1;32m      3\u001b[0m \u001b[39mimport\u001b[39;00m \u001b[39mjson\u001b[39;00m\n\u001b[1;32m      5\u001b[0m \u001b[39m# Store json file\u001b[39;00m\n\u001b[0;32m----> 6\u001b[0m \u001b[39mwith\u001b[39;00m \u001b[39mopen\u001b[39;49m(\u001b[39m\"\u001b[39;49m\u001b[39mdata/products.json\u001b[39;49m\u001b[39m\"\u001b[39;49m) \u001b[39mas\u001b[39;00m f:\n\u001b[1;32m      7\u001b[0m     products_dicts \u001b[39m=\u001b[39m json\u001b[39m.\u001b[39mload(f)\n\u001b[1;32m      9\u001b[0m \u001b[39m# Create a dictionary that maps ids with names\u001b[39;00m\n",
      "\u001b[0;31mFileNotFoundError\u001b[0m: [Errno 2] No such file or directory: 'data/products.json'"
     ]
    }
   ],
   "source": [
    "import pandas as pd\n",
    "import numpy as np\n",
    "import text_normalizer\n",
    "import hiclass.metrics\n",
    "from sklearn import metrics\n",
    "from scripts.build_df import build_df\n",
    "from scripts.decode_id import decode_id\n",
    "from sklearn.model_selection import train_test_split\n",
    "from sklearn.feature_extraction.text import TfidfVectorizer\n",
    "from sklearn.linear_model import LogisticRegression\n",
    "from os import cpu_count\n",
    "from hiclass import LocalClassifierPerParentNode\n",
    "import seaborn as sns\n",
    "import matplotlib.pyplot as plt"
   ]
  },
  {
   "cell_type": "code",
   "execution_count": 3,
   "metadata": {},
   "outputs": [],
   "source": [
    "no_threshold_df = build_df(json_path='data/products.json', threshold=0) "
   ]
  },
  {
   "cell_type": "code",
   "execution_count": 5,
   "metadata": {},
   "outputs": [],
   "source": [
    "# Auxiliary function for text normalization\n",
    "def normalization(input):\n",
    "    output = text_normalizer.normalize_corpus(\n",
    "        input,\n",
    "        html_stripping=True,\n",
    "        contraction_expansion=True,\n",
    "        accented_char_removal=True,\n",
    "        text_lower_case=True,\n",
    "        text_stemming=True,\n",
    "        text_lemmatization=False,\n",
    "        special_char_removal=True,\n",
    "        remove_digits=False,\n",
    "        stopword_removal=True,\n",
    "        stopwords=text_normalizer.stopword_list\n",
    "    )       \n",
    "    return output\n",
    "\n",
    "# Auxiliary function for creating new columns\n",
    "def assign_precision(x):\n",
    "    return hiclass.metrics.precision(x[0:1], x[1:2])\n",
    "def assign_recall(x):\n",
    "    return hiclass.metrics.recall(x[0:1], x[1:2])\n",
    "def assign_f1(x):\n",
    "    # Condition to avoid ZeroDivisionError\n",
    "    if x[\"precision\"] * x[\"recall\"] == 0.0:\n",
    "        return 0.0\n",
    "    else:\n",
    "        return 2 * x[\"precision\"] * x[\"recall\"] / (x[\"precision\"] + x[\"recall\"])"
   ]
  },
  {
   "cell_type": "code",
   "execution_count": 6,
   "metadata": {},
   "outputs": [],
   "source": [
    "X = no_threshold_df['description'].copy()\n",
    "X = normalization(X.apply(str))\n",
    "y = no_threshold_df['path'].copy()"
   ]
  },
  {
   "cell_type": "code",
   "execution_count": 7,
   "metadata": {},
   "outputs": [],
   "source": [
    "X_train, X_test, y_train, y_test = train_test_split(\n",
    "    X, y,\n",
    "    test_size=0.20, \n",
    "    random_state=42,\n",
    ")"
   ]
  },
  {
   "cell_type": "code",
   "execution_count": 8,
   "metadata": {},
   "outputs": [],
   "source": [
    "tfid_vectorizer = TfidfVectorizer(max_features=3000, ngram_range=(1, 2)) \n",
    "X_train = tfid_vectorizer.fit_transform(X_train)\n",
    "X_test = tfid_vectorizer.transform(X_test)"
   ]
  },
  {
   "attachments": {},
   "cell_type": "markdown",
   "metadata": {},
   "source": [
    "### Hierarchical classification"
   ]
  },
  {
   "cell_type": "code",
   "execution_count": 9,
   "metadata": {},
   "outputs": [],
   "source": [
    "# Initialize model\n",
    "logistic_regression = LogisticRegression(max_iter=7000)\n",
    "# Initialize hierarchical classifier with model\n",
    "hierarchical_classifier = hiclass.LocalClassifierPerParentNode(n_jobs=cpu_count(), local_classifier=logistic_regression)\n",
    "# Train hierarchical classifier\n",
    "hierarchical_classifier.fit(X_train, y_train)\n",
    "\n",
    "# Predict on train and test\n",
    "y_pred_train = hierarchical_classifier.predict(X_train)\n",
    "y_pred_test = hierarchical_classifier.predict(X_test)\n",
    "\n",
    "# Results DataFrame\n",
    "test_df = pd.DataFrame(y_test)\n",
    "test_df[\"prediction\"] = pd.Series(y_pred_test.tolist(), index = test_df.index) \n",
    "test_df[\"precision\"] = test_df.apply(lambda x: assign_precision(x), axis=1)\n",
    "test_df[\"recall\"] = test_df.apply(lambda x: assign_recall(x), axis=1)\n",
    "test_df[\"f1\"] = test_df.apply(lambda x: assign_f1(x), axis=1)"
   ]
  },
  {
   "cell_type": "code",
   "execution_count": 10,
   "metadata": {},
   "outputs": [
    {
     "name": "stdout",
     "output_type": "stream",
     "text": [
      "Train\n",
      "Precision: 0.8564198171532543\n",
      "Recall: 0.9311247945167312\n",
      "F1: 0.8922112724469466\n",
      "\n",
      "Test\n",
      "Precision: 0.81171686364214\n",
      "Recall: 0.884020261854015\n",
      "F1: 0.8463271146915412\n"
     ]
    }
   ],
   "source": [
    "# Print standard results\n",
    "print(\"Train\")\n",
    "print(\"Precision:\", hiclass.metrics.precision(y_train, y_pred_train))\n",
    "print(\"Recall:\", hiclass.metrics.recall(y_train, y_pred_train))\n",
    "print(\"F1:\", hiclass.metrics.f1(y_train, y_pred_train))\n",
    "print(\"\\nTest\")\n",
    "print(\"Precision:\", hiclass.metrics.precision(y_test, y_pred_test))\n",
    "print(\"Recall:\", hiclass.metrics.recall(y_test, y_pred_test))\n",
    "print(\"F1:\", hiclass.metrics.f1(y_test, y_pred_test))\n",
    "print(\"Total failures:\", len(test_df[\"f1\"][test_df[\"f1\"] == 0.0]), \"of\", len(test_df))"
   ]
  },
  {
   "cell_type": "code",
   "execution_count": null,
   "metadata": {},
   "outputs": [],
   "source": [
    "sns.set()\n",
    "fig, axes = plt.subplots(1,3, figsize=(18,5), sharey=True)\n",
    "sns.histplot(test_df[\"precision\"], stat=\"percent\", ax=axes[0], bins=6)\n",
    "sns.histplot(test_df[\"recall\"], stat=\"percent\",ax=axes[1], bins=6)\n",
    "sns.histplot(test_df[\"f1\"], stat=\"percent\",ax=axes[2], bins=6)"
   ]
  }
 ],
 "metadata": {
  "kernelspec": {
   "display_name": "Python 3",
   "language": "python",
   "name": "python3"
  },
  "language_info": {
   "codemirror_mode": {
    "name": "ipython",
    "version": 3
   },
   "file_extension": ".py",
   "mimetype": "text/x-python",
   "name": "python",
   "nbconvert_exporter": "python",
   "pygments_lexer": "ipython3",
   "version": "3.8.10"
  },
  "orig_nbformat": 4,
  "vscode": {
   "interpreter": {
    "hash": "31f2aee4e71d21fbe5cf8b01ff0e069b9275f58929596ceb00d14d90e3e16cd6"
   }
  }
 },
 "nbformat": 4,
 "nbformat_minor": 2
}
