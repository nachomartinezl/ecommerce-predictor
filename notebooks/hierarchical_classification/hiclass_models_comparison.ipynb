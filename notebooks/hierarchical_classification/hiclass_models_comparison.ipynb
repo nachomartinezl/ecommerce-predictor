{
 "cells": [
  {
   "cell_type": "markdown",
   "metadata": {},
   "source": [
    "# HiClass Policies Comparison"
   ]
  },
  {
   "cell_type": "code",
   "execution_count": 1,
   "metadata": {},
   "outputs": [],
   "source": [
    "import os\n",
    "os.chdir(\"/home/app/src\")"
   ]
  },
  {
   "cell_type": "code",
   "execution_count": 2,
   "metadata": {},
   "outputs": [
    {
     "name": "stderr",
     "output_type": "stream",
     "text": [
      "[nltk_data] Downloading package stopwords to /home/app/nltk_data...\n",
      "[nltk_data]   Package stopwords is already up-to-date!\n",
      "/home/app/.local/lib/python3.8/site-packages/xgboost/compat.py:36: FutureWarning: pandas.Int64Index is deprecated and will be removed from pandas in a future version. Use pandas.Index with the appropriate dtype instead.\n",
      "  from pandas import MultiIndex, Int64Index\n"
     ]
    }
   ],
   "source": [
    "import time\n",
    "import pandas as pd\n",
    "import numpy as np\n",
    "import text_normalizer\n",
    "import hiclass.metrics\n",
    "from sklearn import metrics\n",
    "from scripts.build_df import build_df\n",
    "from scripts.decode_id import decode_id\n",
    "from sklearn.model_selection import train_test_split\n",
    "from os import cpu_count\n",
    "from sklearn.feature_extraction.text import TfidfVectorizer\n",
    "from sklearn.linear_model import LogisticRegression\n",
    "from sklearn.ensemble import RandomForestClassifier\n",
    "from sklearn.neighbors import KNeighborsClassifier\n",
    "from sklearn.tree import DecisionTreeClassifier\n",
    "from lightgbm import LGBMClassifier\n",
    "from xgboost import XGBClassifier\n",
    "from hiclass import LocalClassifierPerParentNode"
   ]
  },
  {
   "attachments": {},
   "cell_type": "markdown",
   "metadata": {},
   "source": [
    "#### Base df and auxiliary functions"
   ]
  },
  {
   "cell_type": "code",
   "execution_count": 3,
   "metadata": {},
   "outputs": [],
   "source": [
    "def normalization(input):\n",
    "    output = text_normalizer.normalize_corpus(\n",
    "        input,\n",
    "        html_stripping=True,\n",
    "        contraction_expansion=True,\n",
    "        accented_char_removal=True,\n",
    "        text_lower_case=True,\n",
    "        text_stemming=True,\n",
    "        text_lemmatization=False,\n",
    "        special_char_removal=True,\n",
    "        remove_digits=False,\n",
    "        stopword_removal=True,\n",
    "        stopwords=text_normalizer.stopword_list\n",
    "    )       \n",
    "    return output"
   ]
  },
  {
   "cell_type": "code",
   "execution_count": 4,
   "metadata": {},
   "outputs": [],
   "source": [
    "# Auxiliary function for creating new columns\n",
    "def assign_precision(x):\n",
    "    return hiclass.metrics.precision(x[0:1], x[1:2])\n",
    "def assign_recall(x):\n",
    "    return hiclass.metrics.recall(x[0:1], x[1:2])\n",
    "def assign_f1(x):\n",
    "    # Condition to avoid ZeroDivisionError\n",
    "    if x[\"precision\"] * x[\"recall\"] == 0.0:\n",
    "        return 0.0\n",
    "    else:\n",
    "        return 2 * x[\"precision\"] * x[\"recall\"] / (x[\"precision\"] + x[\"recall\"])"
   ]
  },
  {
   "cell_type": "code",
   "execution_count": 5,
   "metadata": {},
   "outputs": [],
   "source": [
    "# Base dataframe\n",
    "no_threshold_df = build_df(json_path='data/products.json', threshold=0) \n",
    "\n",
    "# Train test split\n",
    "X = no_threshold_df['name'].copy()\n",
    "X = normalization(X.apply(str))\n",
    "y = no_threshold_df['path'].copy()\n",
    "X_train, X_test, y_train, y_test = train_test_split(\n",
    "    X, y,\n",
    "    test_size=0.20, \n",
    "    random_state=42,\n",
    ")\n",
    "\n",
    "# Initialize vectorizer\n",
    "tfid_vectorizer = TfidfVectorizer(ngram_range=(1, 2)) \n",
    "X_train = tfid_vectorizer.fit_transform(X_train)\n",
    "X_test = tfid_vectorizer.transform(X_test)"
   ]
  },
  {
   "cell_type": "code",
   "execution_count": 6,
   "metadata": {},
   "outputs": [],
   "source": [
    "train_comparison_df = pd.DataFrame(columns=[\"train_failures\", \"train_precision\", \"train_recall\", \"train_f1\", \"training_time\"])\n",
    "test_comparison_df = pd.DataFrame(columns=[\"test_failures\", \"test_precision\", \"test_recall\", \"test_f1\", \"training_time\"])"
   ]
  },
  {
   "attachments": {},
   "cell_type": "markdown",
   "metadata": {},
   "source": [
    "# Model training"
   ]
  },
  {
   "cell_type": "code",
   "execution_count": 7,
   "metadata": {},
   "outputs": [],
   "source": [
    "classifiers = [\n",
    "    # LogisticRegression(max_iter=1000, random_state=42), \n",
    "    # RandomForestClassifier(random_state=42), \n",
    "    # DecisionTreeClassifier(random_state=42), \n",
    "    LGBMClassifier(reg_lambda = 0.4, n_estimators=100, n_jobs=-1, random_state=42), \n",
    "    ]"
   ]
  },
  {
   "cell_type": "code",
   "execution_count": 8,
   "metadata": {},
   "outputs": [
    {
     "name": "stdout",
     "output_type": "stream",
     "text": [
      "00:03:51\n"
     ]
    }
   ],
   "source": [
    "for classifier in classifiers:\n",
    "    # Initialize timer\n",
    "    starting_time = time.time()\n",
    "    \n",
    "    # Initialize hierarchical classifier with model\n",
    "    hierarchical_classifier = hiclass.LocalClassifierPerParentNode(local_classifier=classifier, n_jobs=cpu_count())\n",
    "    # Train hierarchical classifier\n",
    "    hierarchical_classifier.fit(X_train, y_train)\n",
    "    \n",
    "    # Store training time\n",
    "    training_time = time.time() - starting_time\n",
    "    training_time = time.strftime(\"%H:%M:%S\", time.gmtime(training_time))\n",
    "\n",
    "    # Predict on train and test\n",
    "    y_pred_train = hierarchical_classifier.predict(X_train)\n",
    "    y_pred_test = hierarchical_classifier.predict(X_test)\n",
    "\n",
    "    ## Save results\n",
    "    # Train\n",
    "    train_df = pd.DataFrame(y_train)\n",
    "    train_df[\"prediction\"] = pd.Series(y_pred_train.tolist(), index = train_df.index)\n",
    "    train_df[\"precision\"] = train_df.apply(lambda x: assign_precision(x), axis=1)\n",
    "    train_df[\"recall\"] = train_df.apply(lambda x: assign_recall(x), axis=1)\n",
    "    train_df[\"f1\"] = train_df.apply(lambda x: assign_f1(x), axis=1)\n",
    "    \n",
    "    results_train = [\n",
    "        len(train_df[\"f1\"][train_df[\"f1\"] == 0.0]),\n",
    "        hiclass.metrics.precision(y_train, y_pred_train),\n",
    "        hiclass.metrics.recall(y_train, y_pred_train),\n",
    "        hiclass.metrics.f1(y_train, y_pred_train),\n",
    "        training_time\n",
    "        ]\n",
    "\n",
    "    train_comparison_df.loc[len(train_comparison_df)] = results_train\n",
    "    \n",
    "    # Test\n",
    "    test_df = pd.DataFrame(y_test)\n",
    "    test_df[\"prediction\"] = pd.Series(y_pred_test.tolist(), index = test_df.index)\n",
    "    test_df[\"precision\"] = test_df.apply(lambda x: assign_precision(x), axis=1)\n",
    "    test_df[\"recall\"] = test_df.apply(lambda x: assign_recall(x), axis=1)\n",
    "    test_df[\"f1\"] = test_df.apply(lambda x: assign_f1(x), axis=1)\n",
    "\n",
    "    results_test = [\n",
    "        len(test_df[\"f1\"][test_df[\"f1\"] == 0.0]),\n",
    "        hiclass.metrics.precision(y_test, y_pred_test),\n",
    "        hiclass.metrics.recall(y_test, y_pred_test),\n",
    "        hiclass.metrics.f1(y_test, y_pred_test),\n",
    "        training_time\n",
    "        ]\n",
    "\n",
    "    test_comparison_df.loc[len(test_comparison_df)] = results_test\n",
    "    \n",
    "    print(training_time)"
   ]
  },
  {
   "cell_type": "code",
   "execution_count": 9,
   "metadata": {},
   "outputs": [],
   "source": [
    "rename_dict = {\n",
    "    0 : \"LogisticRegression\",\n",
    "    1 : \"RandomForestClassifier\",\n",
    "    2 : \"DecisionTreeClassifier\",\n",
    "    3 : \"LGBMClassifier\",\n",
    "    4 : \"LGBMClassifier_tunned\",\n",
    "    5 : \"LGBMClassifier_multiclass\",\n",
    "    6 : \"LGBMClassifier_3\",\n",
    "    7 : \"LGBMClassifier\"\n",
    "}"
   ]
  },
  {
   "cell_type": "code",
   "execution_count": 12,
   "metadata": {},
   "outputs": [
    {
     "data": {
      "text/html": [
       "<div>\n",
       "<style scoped>\n",
       "    .dataframe tbody tr th:only-of-type {\n",
       "        vertical-align: middle;\n",
       "    }\n",
       "\n",
       "    .dataframe tbody tr th {\n",
       "        vertical-align: top;\n",
       "    }\n",
       "\n",
       "    .dataframe thead th {\n",
       "        text-align: right;\n",
       "    }\n",
       "</style>\n",
       "<table border=\"1\" class=\"dataframe\">\n",
       "  <thead>\n",
       "    <tr style=\"text-align: right;\">\n",
       "      <th></th>\n",
       "      <th>train_failures</th>\n",
       "      <th>train_precision</th>\n",
       "      <th>train_recall</th>\n",
       "      <th>train_f1</th>\n",
       "      <th>training_time</th>\n",
       "    </tr>\n",
       "  </thead>\n",
       "  <tbody>\n",
       "    <tr>\n",
       "      <th>LogisticRegression</th>\n",
       "      <td>559</td>\n",
       "      <td>0.901844</td>\n",
       "      <td>0.964525</td>\n",
       "      <td>0.932132</td>\n",
       "      <td>00:03:51</td>\n",
       "    </tr>\n",
       "  </tbody>\n",
       "</table>\n",
       "</div>"
      ],
      "text/plain": [
       "                    train_failures  train_precision  train_recall  train_f1  \\\n",
       "LogisticRegression             559         0.901844      0.964525  0.932132   \n",
       "\n",
       "                   training_time  \n",
       "LogisticRegression      00:03:51  "
      ]
     },
     "execution_count": 12,
     "metadata": {},
     "output_type": "execute_result"
    }
   ],
   "source": [
    "train_comparison_df.rename(index=rename_dict)"
   ]
  },
  {
   "cell_type": "code",
   "execution_count": 11,
   "metadata": {},
   "outputs": [
    {
     "data": {
      "text/html": [
       "<div>\n",
       "<style scoped>\n",
       "    .dataframe tbody tr th:only-of-type {\n",
       "        vertical-align: middle;\n",
       "    }\n",
       "\n",
       "    .dataframe tbody tr th {\n",
       "        vertical-align: top;\n",
       "    }\n",
       "\n",
       "    .dataframe thead th {\n",
       "        text-align: right;\n",
       "    }\n",
       "</style>\n",
       "<table border=\"1\" class=\"dataframe\">\n",
       "  <thead>\n",
       "    <tr style=\"text-align: right;\">\n",
       "      <th></th>\n",
       "      <th>test_failures</th>\n",
       "      <th>test_precision</th>\n",
       "      <th>test_recall</th>\n",
       "      <th>test_f1</th>\n",
       "      <th>training_time</th>\n",
       "    </tr>\n",
       "  </thead>\n",
       "  <tbody>\n",
       "    <tr>\n",
       "      <th>LogisticRegression</th>\n",
       "      <td>580</td>\n",
       "      <td>0.802806</td>\n",
       "      <td>0.860049</td>\n",
       "      <td>0.830442</td>\n",
       "      <td>00:03:51</td>\n",
       "    </tr>\n",
       "  </tbody>\n",
       "</table>\n",
       "</div>"
      ],
      "text/plain": [
       "                    test_failures  test_precision  test_recall   test_f1  \\\n",
       "LogisticRegression            580        0.802806     0.860049  0.830442   \n",
       "\n",
       "                   training_time  \n",
       "LogisticRegression      00:03:51  "
      ]
     },
     "execution_count": 11,
     "metadata": {},
     "output_type": "execute_result"
    }
   ],
   "source": [
    "test_comparison_df.rename(index=rename_dict)"
   ]
  }
 ],
 "metadata": {
  "kernelspec": {
   "display_name": "Python 3",
   "language": "python",
   "name": "python3"
  },
  "language_info": {
   "codemirror_mode": {
    "name": "ipython",
    "version": 3
   },
   "file_extension": ".py",
   "mimetype": "text/x-python",
   "name": "python",
   "nbconvert_exporter": "python",
   "pygments_lexer": "ipython3",
   "version": "3.8.10"
  },
  "orig_nbformat": 4,
  "vscode": {
   "interpreter": {
    "hash": "31f2aee4e71d21fbe5cf8b01ff0e069b9275f58929596ceb00d14d90e3e16cd6"
   }
  }
 },
 "nbformat": 4,
 "nbformat_minor": 2
}
