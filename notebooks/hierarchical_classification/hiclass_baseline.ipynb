{
 "cells": [
  {
   "attachments": {},
   "cell_type": "markdown",
   "metadata": {},
   "source": [
    "# HiClass baseline"
   ]
  },
  {
   "cell_type": "code",
   "execution_count": 1,
   "metadata": {},
   "outputs": [
    {
     "data": {
      "text/plain": [
       "'/home/app/src'"
      ]
     },
     "execution_count": 1,
     "metadata": {},
     "output_type": "execute_result"
    }
   ],
   "source": [
    "import os\n",
    "os.chdir(\"/home/app/src\")"
   ]
  },
  {
   "cell_type": "code",
   "execution_count": 2,
   "metadata": {},
   "outputs": [
    {
     "name": "stderr",
     "output_type": "stream",
     "text": [
      "[nltk_data] Downloading package stopwords to /home/app/nltk_data...\n",
      "[nltk_data]   Package stopwords is already up-to-date!\n"
     ]
    }
   ],
   "source": [
    "import pandas as pd\n",
    "import numpy as np\n",
    "import text_normalizer\n",
    "import hiclass.metrics\n",
    "from sklearn import metrics\n",
    "from scripts.build_df import build_df\n",
    "from scripts.decode_id import decode_id\n",
    "from sklearn.model_selection import train_test_split\n",
    "from sklearn.feature_extraction.text import TfidfVectorizer\n",
    "from sklearn.linear_model import LogisticRegression\n",
    "from os import cpu_count\n",
    "from hiclass import LocalClassifierPerNode, LocalClassifierPerParentNode\n",
    "import seaborn as sns\n",
    "import matplotlib.pyplot as plt"
   ]
  },
  {
   "cell_type": "code",
   "execution_count": 3,
   "metadata": {},
   "outputs": [],
   "source": [
    "no_threshold_df = build_df(json_path='data/products.json', threshold=0) "
   ]
  },
  {
   "cell_type": "code",
   "execution_count": 4,
   "metadata": {},
   "outputs": [],
   "source": [
    "# df = build_df(json_path='data/products.json', threshold=100)"
   ]
  },
  {
   "cell_type": "code",
   "execution_count": 5,
   "metadata": {},
   "outputs": [],
   "source": [
    "def normalization(input):\n",
    "    output = text_normalizer.normalize_corpus(\n",
    "        input,\n",
    "        html_stripping=True,\n",
    "        contraction_expansion=True,\n",
    "        accented_char_removal=True,\n",
    "        text_lower_case=True,\n",
    "        text_stemming=True,\n",
    "        text_lemmatization=False,\n",
    "        special_char_removal=True,\n",
    "        remove_digits=False,\n",
    "        stopword_removal=True,\n",
    "        stopwords=text_normalizer.stopword_list\n",
    "    )       \n",
    "    return output"
   ]
  },
  {
   "cell_type": "code",
   "execution_count": 6,
   "metadata": {},
   "outputs": [],
   "source": [
    "X = no_threshold_df['name'].copy()\n",
    "X = normalization(X.apply(str))\n",
    "y = no_threshold_df['path'].copy()"
   ]
  },
  {
   "cell_type": "code",
   "execution_count": 7,
   "metadata": {},
   "outputs": [],
   "source": [
    "X_train, X_test, y_train, y_test = train_test_split(\n",
    "    X, y,\n",
    "    test_size=0.20, \n",
    "    random_state=42,\n",
    ")"
   ]
  },
  {
   "cell_type": "code",
   "execution_count": 8,
   "metadata": {},
   "outputs": [],
   "source": [
    "tfid_vectorizer = TfidfVectorizer(ngram_range=(1, 2)) \n",
    "X_train = tfid_vectorizer.fit_transform(X_train)\n",
    "X_test = tfid_vectorizer.transform(X_test)"
   ]
  },
  {
   "attachments": {},
   "cell_type": "markdown",
   "metadata": {},
   "source": [
    "### Hierarchical classification"
   ]
  },
  {
   "cell_type": "code",
   "execution_count": 9,
   "metadata": {},
   "outputs": [],
   "source": [
    "# Initialize model\n",
    "logistic_regression = LogisticRegression(max_iter=7000)\n",
    "# Initialize hierarchical classifier with model\n",
    "hierarchical_classifier = hiclass.LocalClassifierPerParentNode(n_jobs=cpu_count(), local_classifier=logistic_regression)\n",
    "# Train hierarchical classifier\n",
    "hierarchical_classifier.fit(X_train, y_train)\n",
    "\n",
    "# Predict on train and test\n",
    "y_pred_train = hierarchical_classifier.predict(X_train)\n",
    "y_pred_test = hierarchical_classifier.predict(X_test)"
   ]
  },
  {
   "cell_type": "code",
   "execution_count": 10,
   "metadata": {},
   "outputs": [
    {
     "name": "stdout",
     "output_type": "stream",
     "text": [
      "Train\n",
      "Precision: 0.8564198171532543\n",
      "Recall: 0.9311247945167312\n",
      "F1: 0.8922112724469466\n",
      "\n",
      "Test\n",
      "Precision: 0.81171686364214\n",
      "Recall: 0.884020261854015\n",
      "F1: 0.8463271146915412\n"
     ]
    }
   ],
   "source": [
    "# Print standard results\n",
    "print(\"Train\")\n",
    "print(\"Precision:\", hiclass.metrics.precision(y_train, y_pred_train))\n",
    "print(\"Recall:\", hiclass.metrics.recall(y_train, y_pred_train))\n",
    "print(\"F1:\", hiclass.metrics.f1(y_train, y_pred_train))\n",
    "print(\"\\nTest\")\n",
    "print(\"Precision:\", hiclass.metrics.precision(y_test, y_pred_test))\n",
    "print(\"Recall:\", hiclass.metrics.recall(y_test, y_pred_test))\n",
    "print(\"F1:\", hiclass.metrics.f1(y_test, y_pred_test))"
   ]
  },
  {
   "attachments": {},
   "cell_type": "markdown",
   "metadata": {},
   "source": [
    "### Analyze predictions"
   ]
  },
  {
   "cell_type": "code",
   "execution_count": 12,
   "metadata": {},
   "outputs": [],
   "source": [
    "# Base DataFrame\n",
    "test_df = pd.DataFrame(y_test)\n",
    "# Add prediction column respecting original index\n",
    "test_df[\"prediction\"] = pd.Series(y_pred_test.tolist(), index = test_df.index)\n",
    "\n",
    "# Auxiliary function for creating new columns\n",
    "def assign_precision(x):\n",
    "    return hiclass.metrics.precision(x[0:1], x[1:2])\n",
    "def assign_recall(x):\n",
    "    return hiclass.metrics.recall(x[0:1], x[1:2])\n",
    "def assign_f1(x):\n",
    "    # Condition to avoid ZeroDivisionError\n",
    "    if x[\"precision\"] * x[\"recall\"] == 0.0:\n",
    "        return 0.0\n",
    "    else:\n",
    "        return 2 * x[\"precision\"] * x[\"recall\"] / (x[\"precision\"] + x[\"recall\"])\n",
    "\n",
    "# Creat new metrics columns \n",
    "test_df[\"precision\"] = test_df.apply(lambda x: assign_precision(x), axis=1)\n",
    "test_df[\"recall\"] = test_df.apply(lambda x: assign_recall(x), axis=1)\n",
    "test_df[\"f1\"] = test_df.apply(lambda x: assign_f1(x), axis=1)"
   ]
  },
  {
   "cell_type": "code",
   "execution_count": 13,
   "metadata": {},
   "outputs": [
    {
     "data": {
      "text/html": [
       "<div>\n",
       "<style scoped>\n",
       "    .dataframe tbody tr th:only-of-type {\n",
       "        vertical-align: middle;\n",
       "    }\n",
       "\n",
       "    .dataframe tbody tr th {\n",
       "        vertical-align: top;\n",
       "    }\n",
       "\n",
       "    .dataframe thead th {\n",
       "        text-align: right;\n",
       "    }\n",
       "</style>\n",
       "<table border=\"1\" class=\"dataframe\">\n",
       "  <thead>\n",
       "    <tr style=\"text-align: right;\">\n",
       "      <th></th>\n",
       "      <th>path</th>\n",
       "      <th>prediction</th>\n",
       "      <th>precision</th>\n",
       "      <th>recall</th>\n",
       "      <th>f1</th>\n",
       "    </tr>\n",
       "  </thead>\n",
       "  <tbody>\n",
       "    <tr>\n",
       "      <th>13005</th>\n",
       "      <td>[pcmcat312300050015, pcmcat248700050021, pcmca...</td>\n",
       "      <td>[pcmcat312300050015, pcmcat248700050021, pcmca...</td>\n",
       "      <td>1.00</td>\n",
       "      <td>1.00</td>\n",
       "      <td>1.00</td>\n",
       "    </tr>\n",
       "    <tr>\n",
       "      <th>36568</th>\n",
       "      <td>[abcat0207000, pcmcat152100050020, pcmcat20570...</td>\n",
       "      <td>[abcat0207000, pcmcat152100050035, pcmcat25160...</td>\n",
       "      <td>0.25</td>\n",
       "      <td>0.25</td>\n",
       "      <td>0.25</td>\n",
       "    </tr>\n",
       "    <tr>\n",
       "      <th>20664</th>\n",
       "      <td>[abcat0500000, pcmcat209000050006, pcmcat20900...</td>\n",
       "      <td>[abcat0500000, pcmcat209000050006, pcmcat20900...</td>\n",
       "      <td>1.00</td>\n",
       "      <td>1.00</td>\n",
       "      <td>1.00</td>\n",
       "    </tr>\n",
       "    <tr>\n",
       "      <th>40271</th>\n",
       "      <td>[abcat0900000, abcat0912000, pcmcat36740005000...</td>\n",
       "      <td>[abcat0900000, abcat0912000, pcmcat36740005000...</td>\n",
       "      <td>1.00</td>\n",
       "      <td>1.00</td>\n",
       "      <td>1.00</td>\n",
       "    </tr>\n",
       "    <tr>\n",
       "      <th>5865</th>\n",
       "      <td>[abcat0300000, pcmcat165900050023, pcmcat33160...</td>\n",
       "      <td>[abcat0300000, pcmcat165900050023, pcmcat33160...</td>\n",
       "      <td>1.00</td>\n",
       "      <td>1.00</td>\n",
       "      <td>1.00</td>\n",
       "    </tr>\n",
       "  </tbody>\n",
       "</table>\n",
       "</div>"
      ],
      "text/plain": [
       "                                                    path  \\\n",
       "13005  [pcmcat312300050015, pcmcat248700050021, pcmca...   \n",
       "36568  [abcat0207000, pcmcat152100050020, pcmcat20570...   \n",
       "20664  [abcat0500000, pcmcat209000050006, pcmcat20900...   \n",
       "40271  [abcat0900000, abcat0912000, pcmcat36740005000...   \n",
       "5865   [abcat0300000, pcmcat165900050023, pcmcat33160...   \n",
       "\n",
       "                                              prediction  precision  recall  \\\n",
       "13005  [pcmcat312300050015, pcmcat248700050021, pcmca...       1.00    1.00   \n",
       "36568  [abcat0207000, pcmcat152100050035, pcmcat25160...       0.25    0.25   \n",
       "20664  [abcat0500000, pcmcat209000050006, pcmcat20900...       1.00    1.00   \n",
       "40271  [abcat0900000, abcat0912000, pcmcat36740005000...       1.00    1.00   \n",
       "5865   [abcat0300000, pcmcat165900050023, pcmcat33160...       1.00    1.00   \n",
       "\n",
       "         f1  \n",
       "13005  1.00  \n",
       "36568  0.25  \n",
       "20664  1.00  \n",
       "40271  1.00  \n",
       "5865   1.00  "
      ]
     },
     "execution_count": 13,
     "metadata": {},
     "output_type": "execute_result"
    }
   ],
   "source": [
    "test_df.head()"
   ]
  },
  {
   "cell_type": "code",
   "execution_count": 14,
   "metadata": {},
   "outputs": [
    {
     "name": "stdout",
     "output_type": "stream",
     "text": [
      "Total failures: 509 of 10330\n"
     ]
    },
    {
     "data": {
      "text/plain": [
       "13167    0.0\n",
       "49777    0.0\n",
       "11541    0.0\n",
       "11239    0.0\n",
       "49286    0.0\n",
       "        ... \n",
       "30674    0.0\n",
       "51294    0.0\n",
       "31535    0.0\n",
       "24334    0.0\n",
       "33942    0.0\n",
       "Name: f1, Length: 509, dtype: float64"
      ]
     },
     "execution_count": 14,
     "metadata": {},
     "output_type": "execute_result"
    }
   ],
   "source": [
    "print(\"Total failures:\", len(test_df[\"f1\"][test_df[\"f1\"] == 0.0]), \"of\", len(test_df))\n",
    "test_df[\"f1\"][test_df[\"f1\"] == 0.0]"
   ]
  },
  {
   "cell_type": "code",
   "execution_count": 15,
   "metadata": {},
   "outputs": [],
   "source": [
    "def print_path_metrics(index, df_):\n",
    "    print(\"Product name:\", no_threshold_df[\"name\"].loc[index], \"\\n\")\n",
    "    print(\"Original path:\", decode_id(no_threshold_df[\"path\"].loc[index]))\n",
    "    print(\"Threshold path:\", decode_id(df_[\"path\"].loc[index]))\n",
    "    print(\"Predicted path:\", decode_id(df_[\"prediction\"].loc[index]))\n",
    "    print(\"\\nMetrics (on threshold and predicted path)\")\n",
    "    print(\"Precision:\", df_[\"precision\"].loc[index])\n",
    "    print(\"Recall:\", df_[\"recall\"].loc[index])\n",
    "    print(\"F1:\", df_[\"f1\"].loc[index])"
   ]
  },
  {
   "attachments": {},
   "cell_type": "markdown",
   "metadata": {},
   "source": [
    "### Correct prediction"
   ]
  },
  {
   "cell_type": "code",
   "execution_count": 16,
   "metadata": {},
   "outputs": [
    {
     "name": "stdout",
     "output_type": "stream",
     "text": [
      "Product name: Hanover - Strathmere Outdoor Luxury Wicker Chaise Lounge - Crimson Red \n",
      "\n",
      "Original path: ['Connected Home & Housewares', 'Housewares', 'Outdoor Living', 'Patio Furniture & Decor', 'Outdoor Seating', 'Outdoor Lounge Chairs']\n",
      "Threshold path: ['Connected Home & Housewares', 'Housewares', 'Outdoor Living', 'Patio Furniture & Decor', 'Outdoor Seating', 'Outdoor Lounge Chairs']\n",
      "Predicted path: ['Connected Home & Housewares', 'Housewares', 'Outdoor Living', 'Patio Furniture & Decor', 'Outdoor Seating', 'Outdoor Lounge Chairs', '']\n",
      "\n",
      "Metrics (on threshold and predicted path)\n",
      "Precision: 1.0\n",
      "Recall: 1.0\n",
      "F1: 1.0\n"
     ]
    }
   ],
   "source": [
    "print_path_metrics(13005, test_df)"
   ]
  },
  {
   "attachments": {},
   "cell_type": "markdown",
   "metadata": {},
   "source": [
    "### Kind of correct prediction"
   ]
  },
  {
   "cell_type": "code",
   "execution_count": 17,
   "metadata": {},
   "outputs": [
    {
     "name": "stdout",
     "output_type": "stream",
     "text": [
      "Product name: MartinLogan - Dynamo 15\" 650W Powered Subwoofer - Gloss Black \n",
      "\n",
      "Original path: ['Audio', 'Home Audio', 'Speakers', 'Subwoofer Speakers']\n",
      "Threshold path: ['Audio', 'Home Audio', 'Speakers', 'Subwoofer Speakers']\n",
      "Predicted path: ['Audio', 'Home Audio', 'Speakers', 'Subwoofer Speakers', '', '', '']\n",
      "\n",
      "Metrics (on threshold and predicted path)\n",
      "Precision: 1.0\n",
      "Recall: 1.0\n",
      "F1: 1.0\n"
     ]
    }
   ],
   "source": [
    "print_path_metrics(47899, test_df)"
   ]
  },
  {
   "cell_type": "code",
   "execution_count": 18,
   "metadata": {},
   "outputs": [
    {
     "name": "stdout",
     "output_type": "stream",
     "text": [
      "Product name: Elite Cuisine - 2-in-1 Dual-Function Breakfast Station \n",
      "\n",
      "Original path: ['Appliances', 'Small Kitchen Appliances', 'Toasters']\n",
      "Threshold path: ['Appliances', 'Small Kitchen Appliances', 'Toasters']\n",
      "Predicted path: ['Appliances', 'Small Kitchen Appliances', 'Kitchen Gadgets', 'Food Preparation Utensils', '', '', '']\n",
      "\n",
      "Metrics (on threshold and predicted path)\n",
      "Precision: 0.5\n",
      "Recall: 0.6666666666666666\n",
      "F1: 0.5714285714285715\n"
     ]
    }
   ],
   "source": [
    "print_path_metrics(4702, test_df)"
   ]
  },
  {
   "attachments": {},
   "cell_type": "markdown",
   "metadata": {},
   "source": [
    "### Complete failures "
   ]
  },
  {
   "cell_type": "code",
   "execution_count": 19,
   "metadata": {},
   "outputs": [
    {
     "name": "stdout",
     "output_type": "stream",
     "text": [
      "Total failures: 509 of 10330\n"
     ]
    },
    {
     "data": {
      "text/plain": [
       "13167    0.0\n",
       "49777    0.0\n",
       "11541    0.0\n",
       "11239    0.0\n",
       "49286    0.0\n",
       "        ... \n",
       "30674    0.0\n",
       "51294    0.0\n",
       "31535    0.0\n",
       "24334    0.0\n",
       "33942    0.0\n",
       "Name: f1, Length: 509, dtype: float64"
      ]
     },
     "execution_count": 19,
     "metadata": {},
     "output_type": "execute_result"
    }
   ],
   "source": [
    "print(\"Total failures:\", len(test_df[\"f1\"][test_df[\"f1\"] == 0.0]), \"of\", len(test_df))\n",
    "test_df[\"f1\"][test_df[\"f1\"] == 0.0]"
   ]
  },
  {
   "attachments": {},
   "cell_type": "markdown",
   "metadata": {},
   "source": [
    "#### Failures (?)"
   ]
  },
  {
   "cell_type": "code",
   "execution_count": 20,
   "metadata": {},
   "outputs": [
    {
     "name": "stdout",
     "output_type": "stream",
     "text": [
      "Product name: Apple - Optical Mouse - White \n",
      "\n",
      "Original path: ['Name Brands', 'Apple', 'Accessories']\n",
      "Threshold path: ['Name Brands', 'Apple', 'Accessories']\n",
      "Predicted path: ['Computers & Tablets', 'Computer Accessories & Peripherals', 'Mice & Keyboards', 'Mice', 'Wireless & Bluetooth Mice', '', '']\n",
      "\n",
      "Metrics (on threshold and predicted path)\n",
      "Precision: 0.0\n",
      "Recall: 0.0\n",
      "F1: 0.0\n"
     ]
    }
   ],
   "source": [
    "print_path_metrics(49777, test_df)"
   ]
  },
  {
   "cell_type": "code",
   "execution_count": 21,
   "metadata": {},
   "outputs": [
    {
     "name": "stdout",
     "output_type": "stream",
     "text": [
      "Product name: Serta - RTA Santa Cruz Collection 61\" Fabric Loveseat Sofa - Beige \n",
      "\n",
      "Original path: ['Magnolia Home Theater', 'Magnolia Accessories', 'Magnolia TV Stands, Mounts & Furniture']\n",
      "Threshold path: ['Magnolia Home Theater', 'Magnolia Accessories', 'Magnolia TV Stands, Mounts & Furniture']\n",
      "Predicted path: ['Connected Home & Housewares', 'Furniture & Decor', 'Home Theater Furniture', 'Home Theater Seating', '', '', '']\n",
      "\n",
      "Metrics (on threshold and predicted path)\n",
      "Precision: 0.0\n",
      "Recall: 0.0\n",
      "F1: 0.0\n"
     ]
    }
   ],
   "source": [
    "print_path_metrics(11541, test_df)"
   ]
  },
  {
   "cell_type": "code",
   "execution_count": 22,
   "metadata": {},
   "outputs": [
    {
     "name": "stdout",
     "output_type": "stream",
     "text": [
      "Product name: JOBY - GripTight GorillaPod Magnetic XL Tripod for Select Cell Phones \n",
      "\n",
      "Original path: ['Cameras & Camcorders', 'Digital Camera Accessories', 'Tripods & Monopods', 'Camera Mounts']\n",
      "Threshold path: ['Cameras & Camcorders', 'Digital Camera Accessories', 'Tripods & Monopods', 'Camera Mounts']\n",
      "Predicted path: ['Cell Phones', 'Cell Phone Accessories', 'Cell Phone Cases & Clips', 'Fitted', '', '', '']\n",
      "\n",
      "Metrics (on threshold and predicted path)\n",
      "Precision: 0.0\n",
      "Recall: 0.0\n",
      "F1: 0.0\n"
     ]
    }
   ],
   "source": [
    "print_path_metrics(31535, test_df)"
   ]
  },
  {
   "attachments": {},
   "cell_type": "markdown",
   "metadata": {},
   "source": [
    "#### Failures"
   ]
  },
  {
   "cell_type": "code",
   "execution_count": 23,
   "metadata": {},
   "outputs": [
    {
     "name": "stdout",
     "output_type": "stream",
     "text": [
      "Product name: FLIR - Sport Case and Mount for FLIR FX Cameras - Transparent \n",
      "\n",
      "Original path: ['Connected Home & Housewares', 'Connected Home', 'Security Cameras & Surveillance', 'Security Camera & System Accessories', 'Surveillance Camera Mounts']\n",
      "Threshold path: ['Connected Home & Housewares', 'Connected Home', 'Security Cameras & Surveillance', 'Security Camera & System Accessories', 'Surveillance Camera Mounts']\n",
      "Predicted path: ['Cameras & Camcorders', 'Digital Camera Accessories', 'Camera Bags, Cases & Straps', 'Camera Bags & Cases', 'Universal Camera Bags & Cases', '', '']\n",
      "\n",
      "Metrics (on threshold and predicted path)\n",
      "Precision: 0.0\n",
      "Recall: 0.0\n",
      "F1: 0.0\n"
     ]
    }
   ],
   "source": [
    "print_path_metrics(13167, test_df)"
   ]
  },
  {
   "cell_type": "code",
   "execution_count": 24,
   "metadata": {},
   "outputs": [
    {
     "name": "stdout",
     "output_type": "stream",
     "text": [
      "Product name: SteelSeries - Siberia Prism 150 Gaming Headset - Black \n",
      "\n",
      "Original path: ['Name Brands', 'SteelSeries', 'SteelSeries Headsets']\n",
      "Threshold path: ['Name Brands', 'SteelSeries', 'SteelSeries Headsets']\n",
      "Predicted path: ['Video Games', 'Video Game Accessories', 'Gaming Headsets', '', '', '', '']\n",
      "\n",
      "Metrics (on threshold and predicted path)\n",
      "Precision: 0.0\n",
      "Recall: 0.0\n",
      "F1: 0.0\n"
     ]
    }
   ],
   "source": [
    "print_path_metrics(24334, test_df)"
   ]
  },
  {
   "cell_type": "code",
   "execution_count": 25,
   "metadata": {},
   "outputs": [
    {
     "name": "stdout",
     "output_type": "stream",
     "text": [
      "Product name: FLIR - Sport Case and Mount for FLIR FX Cameras - Transparent \n",
      "\n",
      "Original path: ['Connected Home & Housewares', 'Connected Home', 'Security Cameras & Surveillance', 'Security Camera & System Accessories', 'Surveillance Camera Mounts']\n",
      "Threshold path: ['Connected Home & Housewares', 'Connected Home', 'Security Cameras & Surveillance', 'Security Camera & System Accessories', 'Surveillance Camera Mounts']\n",
      "Predicted path: ['Cameras & Camcorders', 'Digital Camera Accessories', 'Camera Bags, Cases & Straps', 'Camera Bags & Cases', 'Universal Camera Bags & Cases', '', '']\n",
      "\n",
      "Metrics (on threshold and predicted path)\n",
      "Precision: 0.0\n",
      "Recall: 0.0\n",
      "F1: 0.0\n"
     ]
    }
   ],
   "source": [
    "print_path_metrics(13167, test_df)"
   ]
  },
  {
   "cell_type": "code",
   "execution_count": 26,
   "metadata": {},
   "outputs": [
    {
     "name": "stdout",
     "output_type": "stream",
     "text": [
      "Product name: Lenmar - Notebook Battery - Black \n",
      "\n",
      "Original path: ['Computers & Tablets', 'Computer Accessories & Peripherals', 'Laptop Accessories', 'Laptop Batteries']\n",
      "Threshold path: ['Computers & Tablets', 'Computer Accessories & Peripherals', 'Laptop Accessories', 'Laptop Batteries']\n",
      "Predicted path: ['Cameras & Camcorders', 'Digital Camera Accessories', 'Camera Batteries & Power', 'Camera Batteries', 'DSLR Camera Batteries', '', '']\n",
      "\n",
      "Metrics (on threshold and predicted path)\n",
      "Precision: 0.0\n",
      "Recall: 0.0\n",
      "F1: 0.0\n"
     ]
    }
   ],
   "source": [
    "print_path_metrics(51294, test_df)"
   ]
  },
  {
   "attachments": {},
   "cell_type": "markdown",
   "metadata": {},
   "source": [
    "#### Plots"
   ]
  },
  {
   "cell_type": "code",
   "execution_count": 27,
   "metadata": {},
   "outputs": [
    {
     "data": {
      "text/plain": [
       "<AxesSubplot:xlabel='f1', ylabel='Percent'>"
      ]
     },
     "execution_count": 27,
     "metadata": {},
     "output_type": "execute_result"
    },
    {
     "data": {
      "image/png": "[encoded data removed]",
      "text/plain": [
       "<Figure size 1800x500 with 3 Axes>"
      ]
     },
     "metadata": {},
     "output_type": "display_data"
    }
   ],
   "source": [
    "sns.set()\n",
    "fig, axes = plt.subplots(1,3, figsize=(18,5), sharey=True)\n",
    "sns.histplot(test_df[\"precision\"], stat=\"percent\", ax=axes[0], bins=6)\n",
    "sns.histplot(test_df[\"recall\"], stat=\"percent\",ax=axes[1], bins=6)\n",
    "sns.histplot(test_df[\"f1\"], stat=\"percent\",ax=axes[2], bins=6)"
   ]
  },
  {
   "cell_type": "markdown",
   "metadata": {},
   "source": [
    "#### Predict on new data"
   ]
  },
  {
   "cell_type": "code",
   "execution_count": 28,
   "metadata": {},
   "outputs": [
    {
     "data": {
      "text/plain": [
       "['Appliances',\n",
       " 'Small Kitchen Appliances',\n",
       " 'Kitchen Gadgets',\n",
       " 'Food Preparation Utensils',\n",
       " '',\n",
       " '',\n",
       " '']"
      ]
     },
     "execution_count": 28,
     "metadata": {},
     "output_type": "execute_result"
    }
   ],
   "source": [
    "string_to_predict = \"Neoprene Dumbbell Hand Weights\"\n",
    "decode_id(hierarchical_classifier.predict(tfid_vectorizer.transform(normalization(pd.Series(string_to_predict)))).tolist()[0])"
   ]
  }
 ],
 "metadata": {
  "kernelspec": {
   "display_name": "Python 3",
   "language": "python",
   "name": "python3"
  },
  "language_info": {
   "codemirror_mode": {
    "name": "ipython",
    "version": 3
   },
   "file_extension": ".py",
   "mimetype": "text/x-python",
   "name": "python",
   "nbconvert_exporter": "python",
   "pygments_lexer": "ipython3",
   "version": "3.8.10 (default, Nov 14 2022, 12:59:47) \n[GCC 9.4.0]"
  },
  "orig_nbformat": 4,
  "vscode": {
   "interpreter": {
    "hash": "31f2aee4e71d21fbe5cf8b01ff0e069b9275f58929596ceb00d14d90e3e16cd6"
   }
  }
 },
 "nbformat": 4,
 "nbformat_minor": 2
}
