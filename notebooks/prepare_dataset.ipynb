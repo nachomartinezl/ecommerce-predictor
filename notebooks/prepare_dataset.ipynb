{
 "cells": [
  {
   "cell_type": "markdown",
   "metadata": {},
   "source": [
    "# Exploratory Data Analysis"
   ]
  },
  {
   "cell_type": "code",
   "execution_count": 1,
   "metadata": {},
   "outputs": [],
   "source": [
    "import pandas as pd\n",
    "import numpy as np\n",
    "import json\n",
    "import urllib.request\n",
    "from flatten_json import flatten"
   ]
  },
  {
   "cell_type": "code",
   "execution_count": 3,
   "metadata": {},
   "outputs": [],
   "source": [
    "products = pd.read_json('https://raw.githubusercontent.com/anyoneai/e-commerce-open-data-set/master/products.json')\n",
    "categories = pd.read_json('https://raw.githubusercontent.com/BestBuyAPIs/open-data-set/master/categories.json')"
   ]
  },
  {
   "cell_type": "code",
   "execution_count": 2,
   "metadata": {},
   "outputs": [],
   "source": [
    "# Loading json files from URL and storing them in python variables.\n",
    "\n",
    "url_prod = urllib.request.urlopen('https://raw.githubusercontent.com/anyoneai/e-commerce-open-data-set/master/products.json')\n",
    "url_cat = urllib.request.urlopen('https://raw.githubusercontent.com/anyoneai/e-commerce-open-data-set/master/categories.json')\n",
    "raw_products = json.loads(url_prod.read().decode(\"utf-8\"))\n",
    "raw_categories = json.loads(url_cat.read().decode(\"utf-8\"))"
   ]
  },
  {
   "cell_type": "code",
   "execution_count": 3,
   "metadata": {},
   "outputs": [],
   "source": [
    "# Lets flatten the dictionary, forcing all sublevels to only one root, showing their dependency in the name of the column.\n",
    "\n",
    "product_dict = [flatten(dic) for dic in raw_products]\n",
    "category_dict = [flatten(dic) for dic in raw_categories]\n",
    "\n",
    "products = pd.DataFrame(product_dict)\n",
    "categories = pd.DataFrame(category_dict)"
   ]
  },
  {
   "cell_type": "code",
   "execution_count": 4,
   "metadata": {},
   "outputs": [
    {
     "name": "stdout",
     "output_type": "stream",
     "text": [
      "Total products:51646\n",
      "Total categories:4584\n"
     ]
    }
   ],
   "source": [
    "# Insert EDA numbers here.\n",
    "\n",
    "print(f'Total products:{len(products)}')\n",
    "print(f'Total categories:{len(categories)}')"
   ]
  },
  {
   "cell_type": "code",
   "execution_count": 5,
   "metadata": {},
   "outputs": [],
   "source": [
    "products = products.loc[:, ~products.columns.isin(['sku', 'type', 'price', 'upc', 'shipping','manufacturer', 'model', 'url', 'image'])]\n",
    "category_id = products.filter(regex='id$', axis=1)"
   ]
  },
  {
   "cell_type": "code",
   "execution_count": 77,
   "metadata": {},
   "outputs": [],
   "source": [
    "features = products[['name', 'description']]"
   ]
  },
  {
   "cell_type": "code",
   "execution_count": 6,
   "metadata": {},
   "outputs": [
    {
     "data": {
      "text/html": [
       "<div>\n",
       "<style scoped>\n",
       "    .dataframe tbody tr th:only-of-type {\n",
       "        vertical-align: middle;\n",
       "    }\n",
       "\n",
       "    .dataframe tbody tr th {\n",
       "        vertical-align: top;\n",
       "    }\n",
       "\n",
       "    .dataframe thead th {\n",
       "        text-align: right;\n",
       "    }\n",
       "</style>\n",
       "<table border=\"1\" class=\"dataframe\">\n",
       "  <thead>\n",
       "    <tr style=\"text-align: right;\">\n",
       "      <th></th>\n",
       "      <th>category_0_id</th>\n",
       "      <th>category_1_id</th>\n",
       "      <th>category_2_id</th>\n",
       "      <th>category_3_id</th>\n",
       "      <th>category_4_id</th>\n",
       "      <th>category_5_id</th>\n",
       "      <th>category_6_id</th>\n",
       "    </tr>\n",
       "  </thead>\n",
       "  <tbody>\n",
       "    <tr>\n",
       "      <th>0</th>\n",
       "      <td>pcmcat312300050015</td>\n",
       "      <td>pcmcat248700050021</td>\n",
       "      <td>pcmcat303600050001</td>\n",
       "      <td>abcat0208002</td>\n",
       "      <td>NaN</td>\n",
       "      <td>NaN</td>\n",
       "      <td>NaN</td>\n",
       "    </tr>\n",
       "    <tr>\n",
       "      <th>1</th>\n",
       "      <td>pcmcat312300050015</td>\n",
       "      <td>pcmcat248700050021</td>\n",
       "      <td>pcmcat303600050001</td>\n",
       "      <td>abcat0208002</td>\n",
       "      <td>NaN</td>\n",
       "      <td>NaN</td>\n",
       "      <td>NaN</td>\n",
       "    </tr>\n",
       "    <tr>\n",
       "      <th>2</th>\n",
       "      <td>pcmcat312300050015</td>\n",
       "      <td>pcmcat248700050021</td>\n",
       "      <td>pcmcat303600050001</td>\n",
       "      <td>abcat0208002</td>\n",
       "      <td>NaN</td>\n",
       "      <td>NaN</td>\n",
       "      <td>NaN</td>\n",
       "    </tr>\n",
       "    <tr>\n",
       "      <th>3</th>\n",
       "      <td>pcmcat312300050015</td>\n",
       "      <td>pcmcat248700050021</td>\n",
       "      <td>pcmcat303600050001</td>\n",
       "      <td>abcat0208002</td>\n",
       "      <td>NaN</td>\n",
       "      <td>NaN</td>\n",
       "      <td>NaN</td>\n",
       "    </tr>\n",
       "    <tr>\n",
       "      <th>4</th>\n",
       "      <td>pcmcat312300050015</td>\n",
       "      <td>pcmcat248700050021</td>\n",
       "      <td>pcmcat303600050001</td>\n",
       "      <td>abcat0208002</td>\n",
       "      <td>NaN</td>\n",
       "      <td>NaN</td>\n",
       "      <td>NaN</td>\n",
       "    </tr>\n",
       "    <tr>\n",
       "      <th>...</th>\n",
       "      <td>...</td>\n",
       "      <td>...</td>\n",
       "      <td>...</td>\n",
       "      <td>...</td>\n",
       "      <td>...</td>\n",
       "      <td>...</td>\n",
       "      <td>...</td>\n",
       "    </tr>\n",
       "    <tr>\n",
       "      <th>51641</th>\n",
       "      <td>abcat0900000</td>\n",
       "      <td>abcat0916000</td>\n",
       "      <td>pcmcat303700050016</td>\n",
       "      <td>NaN</td>\n",
       "      <td>NaN</td>\n",
       "      <td>NaN</td>\n",
       "      <td>NaN</td>\n",
       "    </tr>\n",
       "    <tr>\n",
       "      <th>51642</th>\n",
       "      <td>abcat0900000</td>\n",
       "      <td>abcat0916000</td>\n",
       "      <td>abcat0916008</td>\n",
       "      <td>abcat0916009</td>\n",
       "      <td>NaN</td>\n",
       "      <td>NaN</td>\n",
       "      <td>NaN</td>\n",
       "    </tr>\n",
       "    <tr>\n",
       "      <th>51643</th>\n",
       "      <td>abcat0500000</td>\n",
       "      <td>abcat0515000</td>\n",
       "      <td>abcat0504001</td>\n",
       "      <td>pcmcat186100050005</td>\n",
       "      <td>NaN</td>\n",
       "      <td>NaN</td>\n",
       "      <td>NaN</td>\n",
       "    </tr>\n",
       "    <tr>\n",
       "      <th>51644</th>\n",
       "      <td>abcat0100000</td>\n",
       "      <td>pcmcat161100050040</td>\n",
       "      <td>pcmcat748301694435</td>\n",
       "      <td>NaN</td>\n",
       "      <td>NaN</td>\n",
       "      <td>NaN</td>\n",
       "      <td>NaN</td>\n",
       "    </tr>\n",
       "    <tr>\n",
       "      <th>51645</th>\n",
       "      <td>abcat0900000</td>\n",
       "      <td>abcat0912000</td>\n",
       "      <td>abcat0912023</td>\n",
       "      <td>NaN</td>\n",
       "      <td>NaN</td>\n",
       "      <td>NaN</td>\n",
       "      <td>NaN</td>\n",
       "    </tr>\n",
       "  </tbody>\n",
       "</table>\n",
       "<p>51646 rows × 7 columns</p>\n",
       "</div>"
      ],
      "text/plain": [
       "            category_0_id       category_1_id       category_2_id  \\\n",
       "0      pcmcat312300050015  pcmcat248700050021  pcmcat303600050001   \n",
       "1      pcmcat312300050015  pcmcat248700050021  pcmcat303600050001   \n",
       "2      pcmcat312300050015  pcmcat248700050021  pcmcat303600050001   \n",
       "3      pcmcat312300050015  pcmcat248700050021  pcmcat303600050001   \n",
       "4      pcmcat312300050015  pcmcat248700050021  pcmcat303600050001   \n",
       "...                   ...                 ...                 ...   \n",
       "51641        abcat0900000        abcat0916000  pcmcat303700050016   \n",
       "51642        abcat0900000        abcat0916000        abcat0916008   \n",
       "51643        abcat0500000        abcat0515000        abcat0504001   \n",
       "51644        abcat0100000  pcmcat161100050040  pcmcat748301694435   \n",
       "51645        abcat0900000        abcat0912000        abcat0912023   \n",
       "\n",
       "            category_3_id category_4_id category_5_id category_6_id  \n",
       "0            abcat0208002           NaN           NaN           NaN  \n",
       "1            abcat0208002           NaN           NaN           NaN  \n",
       "2            abcat0208002           NaN           NaN           NaN  \n",
       "3            abcat0208002           NaN           NaN           NaN  \n",
       "4            abcat0208002           NaN           NaN           NaN  \n",
       "...                   ...           ...           ...           ...  \n",
       "51641                 NaN           NaN           NaN           NaN  \n",
       "51642        abcat0916009           NaN           NaN           NaN  \n",
       "51643  pcmcat186100050005           NaN           NaN           NaN  \n",
       "51644                 NaN           NaN           NaN           NaN  \n",
       "51645                 NaN           NaN           NaN           NaN  \n",
       "\n",
       "[51646 rows x 7 columns]"
      ]
     },
     "execution_count": 6,
     "metadata": {},
     "output_type": "execute_result"
    }
   ],
   "source": [
    "category_id"
   ]
  },
  {
   "cell_type": "code",
   "execution_count": 399,
   "metadata": {
    "scrolled": true
   },
   "outputs": [],
   "source": [
    "mask = category_id.isnull()\n",
    "nan_first_col = mask[mask.any(axis=1)].idxmax(axis=1)\n",
    "leaves_col = [category_id.columns.get_loc(c) for c in cols]\n",
    "\n",
    "row = 0\n",
    "labels = []\n",
    "for col in leaves_col:\n",
    "    labels.append(category_id.iloc[row,col-1])\n",
    "    row += 1   "
   ]
  }
 ],
 "metadata": {
  "kernelspec": {
   "display_name": "Python 3 (ipykernel)",
   "language": "python",
   "name": "python3"
  },
  "language_info": {
   "codemirror_mode": {
    "name": "ipython",
    "version": 3
   },
   "file_extension": ".py",
   "mimetype": "text/x-python",
   "name": "python",
   "nbconvert_exporter": "python",
   "pygments_lexer": "ipython3",
   "version": "3.8.13"
  },
  "vscode": {
   "interpreter": {
    "hash": "674c2ea4d48982e5aa68876c14a91aa4dce12bcfdae7e1d469dd59485069d174"
   }
  }
 },
 "nbformat": 4,
 "nbformat_minor": 2
}
