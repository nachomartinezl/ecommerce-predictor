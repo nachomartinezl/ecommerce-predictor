{
 "cells": [
  {
   "cell_type": "code",
   "execution_count": 94,
   "metadata": {},
   "outputs": [],
   "source": [
    "import pandas as pd\n",
    "import json\n",
    "import seaborn as sns\n",
    "import matplotlib as plt"
   ]
  },
  {
   "cell_type": "code",
   "execution_count": 95,
   "metadata": {},
   "outputs": [
    {
     "name": "stdout",
     "output_type": "stream",
     "text": [
      "Requirement already satisfied: anytree in c:\\users\\acer\\anaconda3\\envs\\s4\\lib\\site-packages (2.8.0)\n",
      "Requirement already satisfied: six>=1.9.0 in c:\\users\\acer\\anaconda3\\envs\\s4\\lib\\site-packages (from anytree) (1.16.0)\n",
      "Requirement already satisfied: graphviz in c:\\users\\acer\\anaconda3\\envs\\s4\\lib\\site-packages (0.20.1)\n"
     ]
    }
   ],
   "source": [
    "!pip install anytree\n",
    "from anytree import Node, RenderTree\n",
    "from anytree.exporter import DotExporter\n",
    "!pip install graphviz\n",
    "import graphviz\n",
    "from anytree.dotexport import RenderTreeGraph\n",
    "from IPython.display import display\n",
    "from PIL import Image"
   ]
  },
  {
   "cell_type": "code",
   "execution_count": 96,
   "metadata": {},
   "outputs": [
    {
     "data": {
      "text/html": [
       "<div>\n",
       "<style scoped>\n",
       "    .dataframe tbody tr th:only-of-type {\n",
       "        vertical-align: middle;\n",
       "    }\n",
       "\n",
       "    .dataframe tbody tr th {\n",
       "        vertical-align: top;\n",
       "    }\n",
       "\n",
       "    .dataframe thead th {\n",
       "        text-align: right;\n",
       "    }\n",
       "</style>\n",
       "<table border=\"1\" class=\"dataframe\">\n",
       "  <thead>\n",
       "    <tr style=\"text-align: right;\">\n",
       "      <th></th>\n",
       "      <th>id</th>\n",
       "      <th>name</th>\n",
       "      <th>path</th>\n",
       "      <th>subCategories</th>\n",
       "    </tr>\n",
       "  </thead>\n",
       "  <tbody>\n",
       "    <tr>\n",
       "      <th>0</th>\n",
       "      <td>abcat0010000</td>\n",
       "      <td>Gift Ideas</td>\n",
       "      <td>[{'id': 'abcat0010000', 'name': 'Gift Ideas'}]</td>\n",
       "      <td>[{'id': 'pcmcat140000050035', 'name': 'Capturi...</td>\n",
       "    </tr>\n",
       "    <tr>\n",
       "      <th>1</th>\n",
       "      <td>abcat0020001</td>\n",
       "      <td>Learning Toys</td>\n",
       "      <td>[{'id': 'abcat0010000', 'name': 'Gift Ideas'},...</td>\n",
       "      <td>[]</td>\n",
       "    </tr>\n",
       "    <tr>\n",
       "      <th>2</th>\n",
       "      <td>abcat0020002</td>\n",
       "      <td>DVD Games</td>\n",
       "      <td>[{'id': 'abcat0010000', 'name': 'Gift Ideas'},...</td>\n",
       "      <td>[]</td>\n",
       "    </tr>\n",
       "    <tr>\n",
       "      <th>3</th>\n",
       "      <td>abcat0020004</td>\n",
       "      <td>Unique Gifts</td>\n",
       "      <td>[{'id': 'abcat0010000', 'name': 'Gift Ideas'},...</td>\n",
       "      <td>[]</td>\n",
       "    </tr>\n",
       "    <tr>\n",
       "      <th>4</th>\n",
       "      <td>abcat0100000</td>\n",
       "      <td>TV &amp; Home Theater</td>\n",
       "      <td>[{'id': 'abcat0100000', 'name': 'TV &amp; Home The...</td>\n",
       "      <td>[{'id': 'abcat0101000', 'name': 'TVs'}, {'id':...</td>\n",
       "    </tr>\n",
       "  </tbody>\n",
       "</table>\n",
       "</div>"
      ],
      "text/plain": [
       "             id               name  \\\n",
       "0  abcat0010000         Gift Ideas   \n",
       "1  abcat0020001      Learning Toys   \n",
       "2  abcat0020002          DVD Games   \n",
       "3  abcat0020004       Unique Gifts   \n",
       "4  abcat0100000  TV & Home Theater   \n",
       "\n",
       "                                                path  \\\n",
       "0     [{'id': 'abcat0010000', 'name': 'Gift Ideas'}]   \n",
       "1  [{'id': 'abcat0010000', 'name': 'Gift Ideas'},...   \n",
       "2  [{'id': 'abcat0010000', 'name': 'Gift Ideas'},...   \n",
       "3  [{'id': 'abcat0010000', 'name': 'Gift Ideas'},...   \n",
       "4  [{'id': 'abcat0100000', 'name': 'TV & Home The...   \n",
       "\n",
       "                                       subCategories  \n",
       "0  [{'id': 'pcmcat140000050035', 'name': 'Capturi...  \n",
       "1                                                 []  \n",
       "2                                                 []  \n",
       "3                                                 []  \n",
       "4  [{'id': 'abcat0101000', 'name': 'TVs'}, {'id':...  "
      ]
     },
     "execution_count": 96,
     "metadata": {},
     "output_type": "execute_result"
    }
   ],
   "source": [
    "cat = pd.read_json('categories.json') \n",
    "cat.head(5)"
   ]
  },
  {
   "cell_type": "code",
   "execution_count": 97,
   "metadata": {},
   "outputs": [
    {
     "data": {
      "text/plain": [
       "[{'id': 'abcat0010000', 'name': 'Gift Ideas'},\n",
       " {'id': 'abcat0014000', 'name': 'Kids'},\n",
       " {'id': 'abcat0020000', 'name': 'Toys'},\n",
       " {'id': 'abcat0020002', 'name': 'DVD Games'}]"
      ]
     },
     "execution_count": 97,
     "metadata": {},
     "output_type": "execute_result"
    }
   ],
   "source": [
    "cat['path'][2]"
   ]
  },
  {
   "cell_type": "code",
   "execution_count": 98,
   "metadata": {},
   "outputs": [
    {
     "name": "stdout",
     "output_type": "stream",
     "text": [
      "4\n",
      "<class 'list'>\n"
     ]
    },
    {
     "data": {
      "text/plain": [
       "[{'id': 'abcat0010000', 'name': 'Gift Ideas'},\n",
       " {'id': 'abcat0014000', 'name': 'Kids'},\n",
       " {'id': 'abcat0020000', 'name': 'Toys'},\n",
       " {'id': 'abcat0020001', 'name': 'Learning Toys'}]"
      ]
     },
     "execution_count": 98,
     "metadata": {},
     "output_type": "execute_result"
    }
   ],
   "source": [
    "print(len(cat['path'][1]))\n",
    "print(type(cat['path'][1]))\n",
    "cat['path'][1]"
   ]
  },
  {
   "cell_type": "code",
   "execution_count": 99,
   "metadata": {},
   "outputs": [
    {
     "data": {
      "text/plain": [
       "'Kids'"
      ]
     },
     "execution_count": 99,
     "metadata": {},
     "output_type": "execute_result"
    }
   ],
   "source": [
    "cat['path'][1][1]['name']"
   ]
  },
  {
   "cell_type": "markdown",
   "metadata": {},
   "source": [
    "### TREES BY PATHS"
   ]
  },
  {
   "cell_type": "code",
   "execution_count": 100,
   "metadata": {},
   "outputs": [
    {
     "name": "stdout",
     "output_type": "stream",
     "text": [
      "\n",
      "Row: 0Gift Ideas\n"
     ]
    },
    {
     "data": {
      "image/png": "[encoded data removed]",
      "text/plain": [
       "<PIL.PngImagePlugin.PngImageFile image mode=RGBA size=134x59>"
      ]
     },
     "metadata": {},
     "output_type": "display_data"
    },
    {
     "name": "stdout",
     "output_type": "stream",
     "text": [
      "\n",
      "Row: 1Gift Ideas\n",
      "Row: 1└── Kids\n",
      "Row: 1    └── Toys\n",
      "Row: 1        └── Learning Toys\n"
     ]
    },
    {
     "data": {
      "image/png": "[encoded data removed]",
      "text/plain": [
       "<PIL.PngImagePlugin.PngImageFile image mode=RGBA size=175x347>"
      ]
     },
     "metadata": {},
     "output_type": "display_data"
    },
    {
     "name": "stdout",
     "output_type": "stream",
     "text": [
      "\n",
      "Row: 2Gift Ideas\n",
      "Row: 2└── Kids\n",
      "Row: 2    └── Toys\n",
      "Row: 2        └── DVD Games\n"
     ]
    },
    {
     "data": {
      "image/png": "[encoded data removed]",
      "text/plain": [
       "<PIL.PngImagePlugin.PngImageFile image mode=RGBA size=163x347>"
      ]
     },
     "metadata": {},
     "output_type": "display_data"
    },
    {
     "name": "stdout",
     "output_type": "stream",
     "text": [
      "\n",
      "Row: 3Gift Ideas\n",
      "Row: 3└── Unique Gifts\n"
     ]
    },
    {
     "data": {
      "image/png": "[encoded data removed]",
      "text/plain": [
       "<PIL.PngImagePlugin.PngImageFile image mode=RGBA size=161x155>"
      ]
     },
     "metadata": {},
     "output_type": "display_data"
    },
    {
     "name": "stdout",
     "output_type": "stream",
     "text": [
      "\n",
      "Row: 4TV & Home Theater\n"
     ]
    },
    {
     "data": {
      "image/png": "[encoded data removed]",
      "text/plain": [
       "<PIL.PngImagePlugin.PngImageFile image mode=RGBA size=238x59>"
      ]
     },
     "metadata": {},
     "output_type": "display_data"
    }
   ],
   "source": [
    "\n",
    "#To apply the entire df=   \n",
    "#for row in range(len(cat)):\n",
    "\n",
    "#Showing the first 5 path\n",
    "\n",
    "for row in range(5):\n",
    "    father = Node(cat['path'][row][0]['name'])\n",
    "    \n",
    "    #number of subcats\n",
    "    for i in range(len(cat['path'][row])):\n",
    "        if i == 1:\n",
    "            child_1 = Node(cat['path'][row][i]['name'], parent= father)\n",
    "            child = child_1\n",
    "        else:\n",
    "            \n",
    "            child = Node(cat['path'][row][i]['name'], parent=child)\n",
    "    print(\"\")\n",
    "    \n",
    "    #printing de path with the lines\n",
    "    for pre, fill, node in RenderTree(father):\n",
    "        \n",
    "        print(\"Row: %s%s%s\" % (row,pre, node.name))\n",
    "        \n",
    "    #printing the image\n",
    "    image = \"last%s.png\"% (row)\n",
    "    DotExporter(father).to_picture(image)\n",
    "    path=image\n",
    "    display(Image.open(path))"
   ]
  },
  {
   "cell_type": "markdown",
   "metadata": {},
   "source": [
    "### TREES BY FATHERS\n",
    "#### COMING SOON"
   ]
  }
 ],
 "metadata": {
  "kernelspec": {
   "display_name": "Python 3.9.13 ('S4')",
   "language": "python",
   "name": "python3"
  },
  "language_info": {
   "codemirror_mode": {
    "name": "ipython",
    "version": 3
   },
   "file_extension": ".py",
   "mimetype": "text/x-python",
   "name": "python",
   "nbconvert_exporter": "python",
   "pygments_lexer": "ipython3",
   "version": "3.9.13"
  },
  "orig_nbformat": 4,
  "vscode": {
   "interpreter": {
    "hash": "b83621c1b18c80c478a9c55facaa243fd16870a89f944baf0a59dc960a09f7f6"
   }
  }
 },
 "nbformat": 4,
 "nbformat_minor": 2
}
