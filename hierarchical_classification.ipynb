{
 "cells": [
  {
   "attachments": {},
   "cell_type": "markdown",
   "metadata": {},
   "source": [
    "# Hierarchical classification"
   ]
  },
  {
   "cell_type": "code",
   "execution_count": 1,
   "metadata": {},
   "outputs": [
    {
     "name": "stderr",
     "output_type": "stream",
     "text": [
      "[nltk_data] Downloading package stopwords to /home/app/nltk_data...\n",
      "[nltk_data]   Package stopwords is already up-to-date!\n"
     ]
    }
   ],
   "source": [
    "import pandas as pd\n",
    "import numpy as np\n",
    "import text_normalizer\n",
    "import hiclass.metrics\n",
    "from sklearn import metrics\n",
    "from scripts.build_df import build_df\n",
    "from scripts.decode_id import decode_id\n",
    "from sklearn.model_selection import train_test_split\n",
    "from sklearn.feature_extraction.text import TfidfVectorizer\n",
    "from sklearn.linear_model import LogisticRegression\n",
    "from os import cpu_count\n",
    "from hiclass import LocalClassifierPerNode, LocalClassifierPerParentNode\n",
    "import seaborn as sns\n",
    "import matplotlib.pyplot as plt"
   ]
  },
  {
   "cell_type": "code",
   "execution_count": 2,
   "metadata": {},
   "outputs": [
    {
     "ename": "",
     "evalue": "",
     "output_type": "error",
     "traceback": [
      "\u001b[1;31mCanceled future for execute_request message before replies were done"
     ]
    },
    {
     "ename": "",
     "evalue": "",
     "output_type": "error",
     "traceback": [
      "\u001b[1;31mThe Kernel crashed while executing code in the the current cell or a previous cell. Please review the code in the cell(s) to identify a possible cause of the failure. Click <a href='https://aka.ms/vscodeJupyterKernelCrash'>here</a> for more info. View Jupyter <a href='command:jupyter.viewOutput'>log</a> for further details."
     ]
    }
   ],
   "source": [
    "no_threshold_df = build_df(json_path='data/products.json', threshold=0) "
   ]
  },
  {
   "cell_type": "code",
   "execution_count": null,
   "metadata": {},
   "outputs": [],
   "source": [
    "# df = build_df(json_path='data/products.json', threshold=100)"
   ]
  },
  {
   "cell_type": "code",
   "execution_count": null,
   "metadata": {},
   "outputs": [],
   "source": [
    "def normalization(input):\n",
    "    output = text_normalizer.normalize_corpus(\n",
    "        input,\n",
    "        html_stripping=True,\n",
    "        contraction_expansion=True,\n",
    "        accented_char_removal=True,\n",
    "        text_lower_case=True,\n",
    "        text_stemming=True,\n",
    "        text_lemmatization=False,\n",
    "        special_char_removal=True,\n",
    "        remove_digits=False,\n",
    "        stopword_removal=True,\n",
    "        stopwords=text_normalizer.stopword_list\n",
    "    )       \n",
    "    return output"
   ]
  },
  {
   "cell_type": "code",
   "execution_count": null,
   "metadata": {},
   "outputs": [],
   "source": [
    "X = no_threshold_df['name'].copy()\n",
    "X = normalization(X.apply(str))\n",
    "y = no_threshold_df['path'].copy()"
   ]
  },
  {
   "cell_type": "code",
   "execution_count": null,
   "metadata": {},
   "outputs": [],
   "source": [
    "X_train, X_test, y_train, y_test = train_test_split(\n",
    "    X, y,\n",
    "    test_size=0.20, \n",
    "    random_state=42,\n",
    ")"
   ]
  },
  {
   "cell_type": "code",
   "execution_count": null,
   "metadata": {},
   "outputs": [],
   "source": [
    "tfid_vectorizer = TfidfVectorizer(max_features=10000, ngram_range=(1, 2)) \n",
    "X_train = tfid_vectorizer.fit_transform(X_train)\n",
    "X_test = tfid_vectorizer.transform(X_test)"
   ]
  },
  {
   "attachments": {},
   "cell_type": "markdown",
   "metadata": {},
   "source": [
    "### Hierarchical classification"
   ]
  },
  {
   "cell_type": "code",
   "execution_count": null,
   "metadata": {},
   "outputs": [],
   "source": [
    "# Initialize model\n",
    "logistic_regression = LogisticRegression(max_iter=7000)\n",
    "# Initialize hierarchical classifier with model\n",
    "hierarchical_classifier = hiclass.LocalClassifierPerParentNode(n_jobs=cpu_count(), local_classifier=logistic_regression)\n",
    "# Train hierarchical classifier\n",
    "hierarchical_classifier.fit(X_train, y_train)\n",
    "\n",
    "# Predict on train and test\n",
    "y_pred_train = hierarchical_classifier.predict(X_train)\n",
    "y_pred_test = hierarchical_classifier.predict(X_test)"
   ]
  },
  {
   "cell_type": "code",
   "execution_count": null,
   "metadata": {},
   "outputs": [],
   "source": [
    "# Print standard results\n",
    "print(\"Train\")\n",
    "print(\"Precision:\", hiclass.metrics.precision(y_train, y_pred_train))\n",
    "print(\"Recall:\", hiclass.metrics.recall(y_train, y_pred_train))\n",
    "print(\"F1:\", hiclass.metrics.f1(y_train, y_pred_train))\n",
    "print(\"\\nTest\")\n",
    "print(\"Precision:\", hiclass.metrics.precision(y_test, y_pred_test))\n",
    "print(\"Recall:\", hiclass.metrics.recall(y_test, y_pred_test))\n",
    "print(\"F1:\", hiclass.metrics.f1(y_test, y_pred_test))"
   ]
  },
  {
   "attachments": {},
   "cell_type": "markdown",
   "metadata": {},
   "source": [
    "### Analyze predictions"
   ]
  },
  {
   "cell_type": "code",
   "execution_count": null,
   "metadata": {},
   "outputs": [],
   "source": [
    "# Base DataFrame\n",
    "test_df = pd.DataFrame(y_test)\n",
    "# Add prediction column respecting original index\n",
    "test_df[\"prediction\"] = pd.Series(y_pred_test.tolist(), index = test_df.index)\n",
    "\n",
    "# Auxiliary function for creating new columns\n",
    "def assign_precision(x):\n",
    "    return hiclass.metrics.precision(x[0:1], x[1:2])\n",
    "def assign_recall(x):\n",
    "    return hiclass.metrics.recall(x[0:1], x[1:2])\n",
    "def assign_f1(x):\n",
    "    # Condition to avoid ZeroDivisionError\n",
    "    if x[\"precision\"] * x[\"recall\"] == 0.0:\n",
    "        return 0.0\n",
    "    else:\n",
    "        return 2 * x[\"precision\"] * x[\"recall\"] / (x[\"precision\"] + x[\"recall\"])\n",
    "\n",
    "# Creat new metrics columns \n",
    "test_df[\"precision\"] = test_df.apply(lambda x: assign_precision(x), axis=1)\n",
    "test_df[\"recall\"] = test_df.apply(lambda x: assign_recall(x), axis=1)\n",
    "test_df[\"f1\"] = test_df.apply(lambda x: assign_f1(x), axis=1)"
   ]
  },
  {
   "cell_type": "code",
   "execution_count": null,
   "metadata": {},
   "outputs": [],
   "source": [
    "test_df.head()"
   ]
  },
  {
   "cell_type": "code",
   "execution_count": null,
   "metadata": {},
   "outputs": [],
   "source": [
    "print(\"Total failures:\", len(test_df[\"f1\"][test_df[\"f1\"] == 0.0]), \"of\", len(test_df))\n",
    "test_df[\"f1\"][test_df[\"f1\"] == 0.0]"
   ]
  },
  {
   "cell_type": "code",
   "execution_count": null,
   "metadata": {},
   "outputs": [],
   "source": [
    "def print_path_metrics(index, df_):\n",
    "    print(\"Product name:\", no_threshold_df[\"name\"].loc[index], \"\\n\")\n",
    "    print(\"Original path:\", decode_id(no_threshold_df[\"path\"].loc[index]))\n",
    "    print(\"Threshold path:\", decode_id(df_[\"path\"].loc[index]))\n",
    "    print(\"Predicted path:\", decode_id(df_[\"prediction\"].loc[index]))\n",
    "    print(\"\\nMetrics (on threshold and predicted path)\")\n",
    "    print(\"Precision:\", df_[\"precision\"].loc[index])\n",
    "    print(\"Recall:\", df_[\"recall\"].loc[index])\n",
    "    print(\"F1:\", df_[\"f1\"].loc[index])"
   ]
  },
  {
   "attachments": {},
   "cell_type": "markdown",
   "metadata": {},
   "source": [
    "### Correct prediction"
   ]
  },
  {
   "cell_type": "code",
   "execution_count": null,
   "metadata": {},
   "outputs": [],
   "source": [
    "print_path_metrics(13005, test_df)"
   ]
  },
  {
   "attachments": {},
   "cell_type": "markdown",
   "metadata": {},
   "source": [
    "### Kind of correct prediction"
   ]
  },
  {
   "cell_type": "code",
   "execution_count": null,
   "metadata": {},
   "outputs": [],
   "source": [
    "print_path_metrics(47899, test_df)"
   ]
  },
  {
   "cell_type": "code",
   "execution_count": null,
   "metadata": {},
   "outputs": [],
   "source": [
    "print_path_metrics(4702, test_df)"
   ]
  },
  {
   "attachments": {},
   "cell_type": "markdown",
   "metadata": {},
   "source": [
    "### Complete failures "
   ]
  },
  {
   "cell_type": "code",
   "execution_count": null,
   "metadata": {},
   "outputs": [],
   "source": [
    "print(\"Total failures:\", len(test_df[\"f1\"][test_df[\"f1\"] == 0.0]), \"of\", len(test_df))\n",
    "test_df[\"f1\"][test_df[\"f1\"] == 0.0]"
   ]
  },
  {
   "attachments": {},
   "cell_type": "markdown",
   "metadata": {},
   "source": [
    "#### Failures (?)"
   ]
  },
  {
   "cell_type": "code",
   "execution_count": null,
   "metadata": {},
   "outputs": [],
   "source": [
    "print_path_metrics(49777, test_df)"
   ]
  },
  {
   "cell_type": "code",
   "execution_count": null,
   "metadata": {},
   "outputs": [],
   "source": [
    "print_path_metrics(11541, test_df)"
   ]
  },
  {
   "cell_type": "code",
   "execution_count": null,
   "metadata": {},
   "outputs": [],
   "source": [
    "print_path_metrics(31535, test_df)"
   ]
  },
  {
   "attachments": {},
   "cell_type": "markdown",
   "metadata": {},
   "source": [
    "#### Failures"
   ]
  },
  {
   "cell_type": "code",
   "execution_count": null,
   "metadata": {},
   "outputs": [],
   "source": [
    "print_path_metrics(13167, test_df)"
   ]
  },
  {
   "cell_type": "code",
   "execution_count": null,
   "metadata": {},
   "outputs": [],
   "source": [
    "print_path_metrics(24334, test_df)"
   ]
  },
  {
   "cell_type": "code",
   "execution_count": null,
   "metadata": {},
   "outputs": [],
   "source": [
    "print_path_metrics(13167, test_df)"
   ]
  },
  {
   "cell_type": "code",
   "execution_count": null,
   "metadata": {},
   "outputs": [],
   "source": [
    "print_path_metrics(51294, test_df)"
   ]
  },
  {
   "attachments": {},
   "cell_type": "markdown",
   "metadata": {},
   "source": [
    "#### Plots"
   ]
  },
  {
   "cell_type": "code",
   "execution_count": null,
   "metadata": {},
   "outputs": [],
   "source": [
    "sns.set()\n",
    "fig, axes = plt.subplots(1,3, figsize=(18,5), sharey=True)\n",
    "sns.histplot(test_df[\"precision\"], stat=\"percent\", ax=axes[0], bins=6)\n",
    "sns.histplot(test_df[\"recall\"], stat=\"percent\",ax=axes[1], bins=6)\n",
    "sns.histplot(test_df[\"f1\"], stat=\"percent\",ax=axes[2], bins=6)"
   ]
  },
  {
   "cell_type": "markdown",
   "metadata": {},
   "source": [
    "#### Predict on new data"
   ]
  },
  {
   "cell_type": "code",
   "execution_count": null,
   "metadata": {},
   "outputs": [],
   "source": [
    "string_to_predict = \"Neoprene Dumbbell Hand Weights\"\n",
    "decode_id(hierarchical_classifier.predict(tfid_vectorizer.transform(normalization(pd.Series(string_to_predict)))).tolist()[0])"
   ]
  },
  {
   "attachments": {},
   "cell_type": "markdown",
   "metadata": {},
   "source": [
    "### Descriptions"
   ]
  }
 ],
 "metadata": {
  "kernelspec": {
   "display_name": "Python 3",
   "language": "python",
   "name": "python3"
  },
  "language_info": {
   "codemirror_mode": {
    "name": "ipython",
    "version": 3
   },
   "file_extension": ".py",
   "mimetype": "text/x-python",
   "name": "python",
   "nbconvert_exporter": "python",
   "pygments_lexer": "ipython3",
   "version": "3.8.10"
  },
  "orig_nbformat": 4,
  "vscode": {
   "interpreter": {
    "hash": "31f2aee4e71d21fbe5cf8b01ff0e069b9275f58929596ceb00d14d90e3e16cd6"
   }
  }
 },
 "nbformat": 4,
 "nbformat_minor": 2
}
