{
 "cells": [
  {
   "cell_type": "markdown",
   "metadata": {},
   "source": [
    "## Comparison between products.json and categories.json"
   ]
  },
  {
   "cell_type": "code",
   "execution_count": 15,
   "metadata": {},
   "outputs": [],
   "source": [
    "import json\n",
    "import pandas as pd"
   ]
  },
  {
   "cell_type": "code",
   "execution_count": 13,
   "metadata": {},
   "outputs": [],
   "source": [
    "# Load products json into dic\n",
    "with open(\"../data/products.json\") as f:\n",
    "    products_dicts = json.load(f)\n",
    "\n",
    "# # Load categories json into dic\n",
    "with open(\"data/categories.json\") as f:\n",
    "    categories_dicts = json.load(f)"
   ]
  },
  {
   "cell_type": "markdown",
   "metadata": {},
   "source": [
    "### Base dataframes and auxiliary series"
   ]
  },
  {
   "cell_type": "markdown",
   "metadata": {},
   "source": [
    "DataFrame with all categories as labels"
   ]
  },
  {
   "cell_type": "code",
   "execution_count": 14,
   "metadata": {},
   "outputs": [
    {
     "data": {
      "text/html": [
       "<div>\n",
       "<style scoped>\n",
       "    .dataframe tbody tr th:only-of-type {\n",
       "        vertical-align: middle;\n",
       "    }\n",
       "\n",
       "    .dataframe tbody tr th {\n",
       "        vertical-align: top;\n",
       "    }\n",
       "\n",
       "    .dataframe thead th {\n",
       "        text-align: right;\n",
       "    }\n",
       "</style>\n",
       "<table border=\"1\" class=\"dataframe\">\n",
       "  <thead>\n",
       "    <tr style=\"text-align: right;\">\n",
       "      <th></th>\n",
       "      <th>name</th>\n",
       "      <th>description</th>\n",
       "      <th>category_0</th>\n",
       "      <th>category_1</th>\n",
       "      <th>category_2</th>\n",
       "      <th>category_3</th>\n",
       "      <th>category_4</th>\n",
       "      <th>category_5</th>\n",
       "      <th>category_6</th>\n",
       "    </tr>\n",
       "  </thead>\n",
       "  <tbody>\n",
       "    <tr>\n",
       "      <th>0</th>\n",
       "      <td>Duracell - AAA Batteries (4-Pack)</td>\n",
       "      <td>Compatible with select electronic devices; AAA...</td>\n",
       "      <td>pcmcat312300050015</td>\n",
       "      <td>pcmcat248700050021</td>\n",
       "      <td>pcmcat303600050001</td>\n",
       "      <td>abcat0208002</td>\n",
       "      <td>NaN</td>\n",
       "      <td>NaN</td>\n",
       "      <td>NaN</td>\n",
       "    </tr>\n",
       "    <tr>\n",
       "      <th>1</th>\n",
       "      <td>Duracell - AA 1.5V CopperTop Batteries (4-Pack)</td>\n",
       "      <td>Long-lasting energy; DURALOCK Power Preserve t...</td>\n",
       "      <td>pcmcat312300050015</td>\n",
       "      <td>pcmcat248700050021</td>\n",
       "      <td>pcmcat303600050001</td>\n",
       "      <td>abcat0208002</td>\n",
       "      <td>NaN</td>\n",
       "      <td>NaN</td>\n",
       "      <td>NaN</td>\n",
       "    </tr>\n",
       "    <tr>\n",
       "      <th>2</th>\n",
       "      <td>Duracell - AA Batteries (8-Pack)</td>\n",
       "      <td>Compatible with select electronic devices; AA ...</td>\n",
       "      <td>pcmcat312300050015</td>\n",
       "      <td>pcmcat248700050021</td>\n",
       "      <td>pcmcat303600050001</td>\n",
       "      <td>abcat0208002</td>\n",
       "      <td>NaN</td>\n",
       "      <td>NaN</td>\n",
       "      <td>NaN</td>\n",
       "    </tr>\n",
       "    <tr>\n",
       "      <th>3</th>\n",
       "      <td>Energizer - MAX Batteries AA (4-Pack)</td>\n",
       "      <td>4-pack AA alkaline batteries; battery tester i...</td>\n",
       "      <td>pcmcat312300050015</td>\n",
       "      <td>pcmcat248700050021</td>\n",
       "      <td>pcmcat303600050001</td>\n",
       "      <td>abcat0208002</td>\n",
       "      <td>NaN</td>\n",
       "      <td>NaN</td>\n",
       "      <td>NaN</td>\n",
       "    </tr>\n",
       "    <tr>\n",
       "      <th>4</th>\n",
       "      <td>Duracell - C Batteries (4-Pack)</td>\n",
       "      <td>Compatible with select electronic devices; C s...</td>\n",
       "      <td>pcmcat312300050015</td>\n",
       "      <td>pcmcat248700050021</td>\n",
       "      <td>pcmcat303600050001</td>\n",
       "      <td>abcat0208002</td>\n",
       "      <td>NaN</td>\n",
       "      <td>NaN</td>\n",
       "      <td>NaN</td>\n",
       "    </tr>\n",
       "  </tbody>\n",
       "</table>\n",
       "</div>"
      ],
      "text/plain": [
       "                                              name  \\\n",
       "0                Duracell - AAA Batteries (4-Pack)   \n",
       "1  Duracell - AA 1.5V CopperTop Batteries (4-Pack)   \n",
       "2                 Duracell - AA Batteries (8-Pack)   \n",
       "3            Energizer - MAX Batteries AA (4-Pack)   \n",
       "4                  Duracell - C Batteries (4-Pack)   \n",
       "\n",
       "                                         description          category_0  \\\n",
       "0  Compatible with select electronic devices; AAA...  pcmcat312300050015   \n",
       "1  Long-lasting energy; DURALOCK Power Preserve t...  pcmcat312300050015   \n",
       "2  Compatible with select electronic devices; AA ...  pcmcat312300050015   \n",
       "3  4-pack AA alkaline batteries; battery tester i...  pcmcat312300050015   \n",
       "4  Compatible with select electronic devices; C s...  pcmcat312300050015   \n",
       "\n",
       "           category_1          category_2    category_3 category_4 category_5  \\\n",
       "0  pcmcat248700050021  pcmcat303600050001  abcat0208002        NaN        NaN   \n",
       "1  pcmcat248700050021  pcmcat303600050001  abcat0208002        NaN        NaN   \n",
       "2  pcmcat248700050021  pcmcat303600050001  abcat0208002        NaN        NaN   \n",
       "3  pcmcat248700050021  pcmcat303600050001  abcat0208002        NaN        NaN   \n",
       "4  pcmcat248700050021  pcmcat303600050001  abcat0208002        NaN        NaN   \n",
       "\n",
       "  category_6  \n",
       "0        NaN  \n",
       "1        NaN  \n",
       "2        NaN  \n",
       "3        NaN  \n",
       "4        NaN  "
      ]
     },
     "metadata": {},
     "output_type": "display_data"
    },
    {
     "data": {
      "text/html": [
       "<div>\n",
       "<style scoped>\n",
       "    .dataframe tbody tr th:only-of-type {\n",
       "        vertical-align: middle;\n",
       "    }\n",
       "\n",
       "    .dataframe tbody tr th {\n",
       "        vertical-align: top;\n",
       "    }\n",
       "\n",
       "    .dataframe thead th {\n",
       "        text-align: right;\n",
       "    }\n",
       "</style>\n",
       "<table border=\"1\" class=\"dataframe\">\n",
       "  <thead>\n",
       "    <tr style=\"text-align: right;\">\n",
       "      <th></th>\n",
       "      <th>name</th>\n",
       "      <th>description</th>\n",
       "      <th>category_0</th>\n",
       "      <th>category_1</th>\n",
       "      <th>category_2</th>\n",
       "      <th>category_3</th>\n",
       "      <th>category_4</th>\n",
       "      <th>category_5</th>\n",
       "      <th>category_6</th>\n",
       "    </tr>\n",
       "  </thead>\n",
       "  <tbody>\n",
       "    <tr>\n",
       "      <th>count</th>\n",
       "      <td>51645</td>\n",
       "      <td>51646</td>\n",
       "      <td>51646</td>\n",
       "      <td>50891</td>\n",
       "      <td>45003</td>\n",
       "      <td>26158</td>\n",
       "      <td>5646</td>\n",
       "      <td>346</td>\n",
       "      <td>1</td>\n",
       "    </tr>\n",
       "    <tr>\n",
       "      <th>unique</th>\n",
       "      <td>48557</td>\n",
       "      <td>38537</td>\n",
       "      <td>62</td>\n",
       "      <td>172</td>\n",
       "      <td>627</td>\n",
       "      <td>777</td>\n",
       "      <td>202</td>\n",
       "      <td>23</td>\n",
       "      <td>1</td>\n",
       "    </tr>\n",
       "    <tr>\n",
       "      <th>top</th>\n",
       "      <td>Lenmar - Lithium-Ion Battery - Black</td>\n",
       "      <td>Perfect gift card? Piece of cake. All Best Buy...</td>\n",
       "      <td>abcat0900000</td>\n",
       "      <td>abcat0811002</td>\n",
       "      <td>pcmcat191200050015</td>\n",
       "      <td>pcmcat214700050000</td>\n",
       "      <td>pcmcat165900050033</td>\n",
       "      <td>abcat0511004</td>\n",
       "      <td>pcmcat223500050009</td>\n",
       "    </tr>\n",
       "    <tr>\n",
       "      <th>freq</th>\n",
       "      <td>31</td>\n",
       "      <td>370</td>\n",
       "      <td>9317</td>\n",
       "      <td>6176</td>\n",
       "      <td>2079</td>\n",
       "      <td>1892</td>\n",
       "      <td>739</td>\n",
       "      <td>51</td>\n",
       "      <td>1</td>\n",
       "    </tr>\n",
       "  </tbody>\n",
       "</table>\n",
       "</div>"
      ],
      "text/plain": [
       "                                        name  \\\n",
       "count                                  51645   \n",
       "unique                                 48557   \n",
       "top     Lenmar - Lithium-Ion Battery - Black   \n",
       "freq                                      31   \n",
       "\n",
       "                                              description    category_0  \\\n",
       "count                                               51646         51646   \n",
       "unique                                              38537            62   \n",
       "top     Perfect gift card? Piece of cake. All Best Buy...  abcat0900000   \n",
       "freq                                                  370          9317   \n",
       "\n",
       "          category_1          category_2          category_3  \\\n",
       "count          50891               45003               26158   \n",
       "unique           172                 627                 777   \n",
       "top     abcat0811002  pcmcat191200050015  pcmcat214700050000   \n",
       "freq            6176                2079                1892   \n",
       "\n",
       "                category_4    category_5          category_6  \n",
       "count                 5646           346                   1  \n",
       "unique                 202            23                   1  \n",
       "top     pcmcat165900050033  abcat0511004  pcmcat223500050009  \n",
       "freq                   739            51                   1  "
      ]
     },
     "metadata": {},
     "output_type": "display_data"
    }
   ],
   "source": [
    "new_dataset = []\n",
    "for dic in products_dicts:\n",
    "    new_dict = {}\n",
    "    # Add name and description\n",
    "    new_dict[\"name\"] = dic[\"name\"]\n",
    "    new_dict[\"description\"] = dic[\"description\"]\n",
    "    \n",
    "    # Add category names respecting hierarchy\n",
    "    for i in range(len(dic[\"category\"])):\n",
    "        new_dict[\"category_\" + str(i)] = dic[\"category\"][i][\"id\"]\n",
    "    \n",
    "    new_dataset.append(new_dict)\n",
    "\n",
    "all_categories_df = pd.DataFrame(new_dataset)\n",
    "display(all_categories_df.head())\n",
    "display(all_categories_df.describe())"
   ]
  },
  {
   "cell_type": "markdown",
   "metadata": {},
   "source": [
    "Series with all the categories on products.json and categories.json"
   ]
  },
  {
   "cell_type": "code",
   "execution_count": null,
   "metadata": {},
   "outputs": [],
   "source": [
    "# Categories in products.json\n",
    "prod_json_categories = pd.Series(dtype=\"object\")\n",
    "for i in range(5):\n",
    "    prod_json_categories = pd.concat([prod_json_categories, all_categories_df[\"category_\" + str(i)]], ignore_index=True)\n",
    "prod_json_categories = prod_json_categories.dropna()\n",
    "\n",
    "# Categories in categories.json\n",
    "cat_json_categories = pd.Series(dtype=\"object\")\n",
    "for dic in categories_dicts:\n",
    "    cat_json_categories = pd.concat([cat_json_categories, pd.Series(dic[\"id\"])], ignore_index=True)"
   ]
  },
  {
   "cell_type": "markdown",
   "metadata": {},
   "source": [
    "Dictionary to map ids with category names"
   ]
  },
  {
   "cell_type": "code",
   "execution_count": null,
   "metadata": {},
   "outputs": [],
   "source": [
    "mapping_dict_prods = {}\n",
    "for dic in products_dicts:\n",
    "    for cat in dic[\"category\"]:\n",
    "        mapping_dict_prods[cat[\"id\"]] = cat[\"name\"]"
   ]
  },
  {
   "cell_type": "markdown",
   "metadata": {},
   "source": [
    "### Relation between products.json and categories.json"
   ]
  },
  {
   "cell_type": "markdown",
   "metadata": {},
   "source": [
    "Missing categories"
   ]
  },
  {
   "cell_type": "code",
   "execution_count": null,
   "metadata": {},
   "outputs": [],
   "source": [
    "# Get the categories from products.json that are not as a category in categories.json\n",
    "# There could not be at all on categories.json, or be only as a subcategory\n",
    "missing_categories = prod_json_categories[~prod_json_categories.isin(cat_json_categories)]"
   ]
  },
  {
   "cell_type": "markdown",
   "metadata": {},
   "source": [
    "Products not tracked"
   ]
  },
  {
   "cell_type": "code",
   "execution_count": null,
   "metadata": {},
   "outputs": [],
   "source": [
    "# Products with a category not tracked on categories.json\n",
    "products_not_tracked = pd.Series(dtype=\"object\")\n",
    "for i in range(6):\n",
    "    products_not_tracked = pd.concat([products_not_tracked, missing_categories[~missing_categories.isin(all_categories_df[\"category_\" + str(i)])]])"
   ]
  },
  {
   "cell_type": "markdown",
   "metadata": {},
   "source": [
    "Results"
   ]
  },
  {
   "cell_type": "code",
   "execution_count": null,
   "metadata": {},
   "outputs": [
    {
     "name": "stdout",
     "output_type": "stream",
     "text": [
      "Total categories on products.json: 1833\n",
      "Total categories on categories.json: 4584\n",
      "Categories in products.json not in categories.json: 239\n",
      "Products not tracked on categories.json: 6547 (12.68%)\n"
     ]
    }
   ],
   "source": [
    "print(\"Total categories on products.json:\", prod_json_categories.nunique())\n",
    "print(\"Total categories on categories.json:\", cat_json_categories.nunique())\n",
    "print(\"Categories in products.json not in categories.json:\", missing_categories.nunique())\n",
    "print(\"Products not tracked on categories.json:\", len(products_not_tracked), f\"({round(len(products_not_tracked) / len(all_categories_df) * 100,2)}%)\")"
   ]
  },
  {
   "cell_type": "markdown",
   "metadata": {},
   "source": [
    "### Create categories database based on products categories"
   ]
  }
 ],
 "metadata": {
  "kernelspec": {
   "display_name": "Python 3.8.13 64-bit",
   "language": "python",
   "name": "python3"
  },
  "language_info": {
   "codemirror_mode": {
    "name": "ipython",
    "version": 3
   },
   "file_extension": ".py",
   "mimetype": "text/x-python",
   "name": "python",
   "nbconvert_exporter": "python",
   "pygments_lexer": "ipython3",
   "version": "3.8.13"
  },
  "orig_nbformat": 4,
  "vscode": {
   "interpreter": {
    "hash": "949777d72b0d2535278d3dc13498b2535136f6dfe0678499012e853ee9abcab1"
   }
  }
 },
 "nbformat": 4,
 "nbformat_minor": 2
}
