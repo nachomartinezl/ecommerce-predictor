{
 "cells": [
  {
   "cell_type": "code",
   "execution_count": 2,
   "metadata": {},
   "outputs": [],
   "source": [
    "import pandas as pd\n",
    "import numpy as np\n",
    "import json\n",
    "from anytree import Node, RenderTree"
   ]
  },
  {
   "cell_type": "code",
   "execution_count": 3,
   "metadata": {},
   "outputs": [],
   "source": [
    "products = pd.read_json('https://raw.githubusercontent.com/anyoneai/e-commerce-open-data-set/master/products.json')\n",
    "categories = pd.read_json('https://raw.githubusercontent.com/anyoneai/e-commerce-open-data-set/master/categories.json')"
   ]
  },
  {
   "cell_type": "code",
   "execution_count": 6,
   "metadata": {},
   "outputs": [
    {
     "data": {
      "text/html": [
       "<div>\n",
       "<style scoped>\n",
       "    .dataframe tbody tr th:only-of-type {\n",
       "        vertical-align: middle;\n",
       "    }\n",
       "\n",
       "    .dataframe tbody tr th {\n",
       "        vertical-align: top;\n",
       "    }\n",
       "\n",
       "    .dataframe thead th {\n",
       "        text-align: right;\n",
       "    }\n",
       "</style>\n",
       "<table border=\"1\" class=\"dataframe\">\n",
       "  <thead>\n",
       "    <tr style=\"text-align: right;\">\n",
       "      <th></th>\n",
       "      <th>id</th>\n",
       "      <th>name</th>\n",
       "      <th>path</th>\n",
       "      <th>subCategories</th>\n",
       "    </tr>\n",
       "  </thead>\n",
       "  <tbody>\n",
       "    <tr>\n",
       "      <th>0</th>\n",
       "      <td>abcat0010000</td>\n",
       "      <td>Gift Ideas</td>\n",
       "      <td>[{'id': 'abcat0010000', 'name': 'Gift Ideas'}]</td>\n",
       "      <td>[{'id': 'pcmcat140000050035', 'name': 'Capturi...</td>\n",
       "    </tr>\n",
       "    <tr>\n",
       "      <th>1</th>\n",
       "      <td>abcat0020001</td>\n",
       "      <td>Learning Toys</td>\n",
       "      <td>[{'id': 'abcat0010000', 'name': 'Gift Ideas'},...</td>\n",
       "      <td>[]</td>\n",
       "    </tr>\n",
       "    <tr>\n",
       "      <th>2</th>\n",
       "      <td>abcat0020002</td>\n",
       "      <td>DVD Games</td>\n",
       "      <td>[{'id': 'abcat0010000', 'name': 'Gift Ideas'},...</td>\n",
       "      <td>[]</td>\n",
       "    </tr>\n",
       "    <tr>\n",
       "      <th>3</th>\n",
       "      <td>abcat0020004</td>\n",
       "      <td>Unique Gifts</td>\n",
       "      <td>[{'id': 'abcat0010000', 'name': 'Gift Ideas'},...</td>\n",
       "      <td>[]</td>\n",
       "    </tr>\n",
       "    <tr>\n",
       "      <th>4</th>\n",
       "      <td>abcat0100000</td>\n",
       "      <td>TV &amp; Home Theater</td>\n",
       "      <td>[{'id': 'abcat0100000', 'name': 'TV &amp; Home The...</td>\n",
       "      <td>[{'id': 'abcat0101000', 'name': 'TVs'}, {'id':...</td>\n",
       "    </tr>\n",
       "    <tr>\n",
       "      <th>...</th>\n",
       "      <td>...</td>\n",
       "      <td>...</td>\n",
       "      <td>...</td>\n",
       "      <td>...</td>\n",
       "    </tr>\n",
       "    <tr>\n",
       "      <th>4579</th>\n",
       "      <td>pcmcat86300050019</td>\n",
       "      <td>New Sony Blu-ray Disc Player</td>\n",
       "      <td>[{'id': 'pcmcat128500050004', 'name': 'Name Br...</td>\n",
       "      <td>[{'id': 'pcmcat86300050020', 'name': 'Movies C...</td>\n",
       "    </tr>\n",
       "    <tr>\n",
       "      <th>4580</th>\n",
       "      <td>pcmcat86300050020</td>\n",
       "      <td>Movies Coming to Blu-ray Disc</td>\n",
       "      <td>[{'id': 'pcmcat128500050004', 'name': 'Name Br...</td>\n",
       "      <td>[]</td>\n",
       "    </tr>\n",
       "    <tr>\n",
       "      <th>4581</th>\n",
       "      <td>pcmcat86500050000</td>\n",
       "      <td>Blu-ray Disc and DVD-Video Comparison</td>\n",
       "      <td>[{'id': 'pcmcat128500050004', 'name': 'Name Br...</td>\n",
       "      <td>[]</td>\n",
       "    </tr>\n",
       "    <tr>\n",
       "      <th>4582</th>\n",
       "      <td>pcmcat87800050001</td>\n",
       "      <td>Customer Service</td>\n",
       "      <td>[{'id': 'pcmcat87800050001', 'name': 'Customer...</td>\n",
       "      <td>[{'id': 'pcmcat203400050001', 'name': 'Help'}]</td>\n",
       "    </tr>\n",
       "    <tr>\n",
       "      <th>4583</th>\n",
       "      <td>pcmcat94300050028</td>\n",
       "      <td>Birthdays</td>\n",
       "      <td>[{'id': 'abcat0010000', 'name': 'Gift Ideas'},...</td>\n",
       "      <td>[]</td>\n",
       "    </tr>\n",
       "  </tbody>\n",
       "</table>\n",
       "<p>4584 rows × 4 columns</p>\n",
       "</div>"
      ],
      "text/plain": [
       "                     id                                   name  \\\n",
       "0          abcat0010000                             Gift Ideas   \n",
       "1          abcat0020001                          Learning Toys   \n",
       "2          abcat0020002                              DVD Games   \n",
       "3          abcat0020004                           Unique Gifts   \n",
       "4          abcat0100000                      TV & Home Theater   \n",
       "...                 ...                                    ...   \n",
       "4579  pcmcat86300050019           New Sony Blu-ray Disc Player   \n",
       "4580  pcmcat86300050020          Movies Coming to Blu-ray Disc   \n",
       "4581  pcmcat86500050000  Blu-ray Disc and DVD-Video Comparison   \n",
       "4582  pcmcat87800050001                       Customer Service   \n",
       "4583  pcmcat94300050028                              Birthdays   \n",
       "\n",
       "                                                   path  \\\n",
       "0        [{'id': 'abcat0010000', 'name': 'Gift Ideas'}]   \n",
       "1     [{'id': 'abcat0010000', 'name': 'Gift Ideas'},...   \n",
       "2     [{'id': 'abcat0010000', 'name': 'Gift Ideas'},...   \n",
       "3     [{'id': 'abcat0010000', 'name': 'Gift Ideas'},...   \n",
       "4     [{'id': 'abcat0100000', 'name': 'TV & Home The...   \n",
       "...                                                 ...   \n",
       "4579  [{'id': 'pcmcat128500050004', 'name': 'Name Br...   \n",
       "4580  [{'id': 'pcmcat128500050004', 'name': 'Name Br...   \n",
       "4581  [{'id': 'pcmcat128500050004', 'name': 'Name Br...   \n",
       "4582  [{'id': 'pcmcat87800050001', 'name': 'Customer...   \n",
       "4583  [{'id': 'abcat0010000', 'name': 'Gift Ideas'},...   \n",
       "\n",
       "                                          subCategories  \n",
       "0     [{'id': 'pcmcat140000050035', 'name': 'Capturi...  \n",
       "1                                                    []  \n",
       "2                                                    []  \n",
       "3                                                    []  \n",
       "4     [{'id': 'abcat0101000', 'name': 'TVs'}, {'id':...  \n",
       "...                                                 ...  \n",
       "4579  [{'id': 'pcmcat86300050020', 'name': 'Movies C...  \n",
       "4580                                                 []  \n",
       "4581                                                 []  \n",
       "4582     [{'id': 'pcmcat203400050001', 'name': 'Help'}]  \n",
       "4583                                                 []  \n",
       "\n",
       "[4584 rows x 4 columns]"
      ]
     },
     "execution_count": 6,
     "metadata": {},
     "output_type": "execute_result"
    }
   ],
   "source": [
    "categories"
   ]
  },
  {
   "cell_type": "code",
   "execution_count": 12,
   "metadata": {},
   "outputs": [],
   "source": [
    "trees = {}\n",
    "def tree(path, subcategories):\n",
    "    if len(path) == 1:\n",
    "        trees[path[0]['id']] = Node(path[0]['name'])\n",
    "    else:\n",
    "        try:\n",
    "            trees[path[-1]['id']] = Node(path[-1]['name'], parent=path[-2]['id'])\n",
    "        except:\n",
    "            trees[path[-2]['id']] = Node(path[-2]['name'])\n",
    "            trees[path[-1]['id']] = Node(path[-1]['name'], parent=path[-2]['id'])\n",
    "tree = np.vectorize(tree)"
   ]
  },
  {
   "cell_type": "code",
   "execution_count": 13,
   "metadata": {},
   "outputs": [
    {
     "ename": "TreeError",
     "evalue": "Parent node 'abcat0020000' is not of type 'NodeMixin'.",
     "output_type": "error",
     "traceback": [
      "\u001b[0;31m---------------------------------------------------------------------------\u001b[0m",
      "\u001b[0;31mTreeError\u001b[0m                                 Traceback (most recent call last)",
      "Cell \u001b[0;32mIn[12], line 7\u001b[0m, in \u001b[0;36mtree\u001b[0;34m(path, subcategories)\u001b[0m\n\u001b[1;32m      6\u001b[0m \u001b[38;5;28;01mtry\u001b[39;00m:\n\u001b[0;32m----> 7\u001b[0m     trees[path[\u001b[38;5;241m-\u001b[39m\u001b[38;5;241m1\u001b[39m][\u001b[38;5;124m'\u001b[39m\u001b[38;5;124mid\u001b[39m\u001b[38;5;124m'\u001b[39m]] \u001b[38;5;241m=\u001b[39m \u001b[43mNode\u001b[49m\u001b[43m(\u001b[49m\u001b[43mpath\u001b[49m\u001b[43m[\u001b[49m\u001b[38;5;241;43m-\u001b[39;49m\u001b[38;5;241;43m1\u001b[39;49m\u001b[43m]\u001b[49m\u001b[43m[\u001b[49m\u001b[38;5;124;43m'\u001b[39;49m\u001b[38;5;124;43mname\u001b[39;49m\u001b[38;5;124;43m'\u001b[39;49m\u001b[43m]\u001b[49m\u001b[43m,\u001b[49m\u001b[43m \u001b[49m\u001b[43mparent\u001b[49m\u001b[38;5;241;43m=\u001b[39;49m\u001b[43mpath\u001b[49m\u001b[43m[\u001b[49m\u001b[38;5;241;43m-\u001b[39;49m\u001b[38;5;241;43m2\u001b[39;49m\u001b[43m]\u001b[49m\u001b[43m[\u001b[49m\u001b[38;5;124;43m'\u001b[39;49m\u001b[38;5;124;43mid\u001b[39;49m\u001b[38;5;124;43m'\u001b[39;49m\u001b[43m]\u001b[49m\u001b[43m)\u001b[49m\n\u001b[1;32m      8\u001b[0m \u001b[38;5;28;01mexcept\u001b[39;00m:\n",
      "File \u001b[0;32m~/.local/lib/python3.8/site-packages/anytree/node/node.py:77\u001b[0m, in \u001b[0;36mNode.__init__\u001b[0;34m(self, name, parent, children, **kwargs)\u001b[0m\n\u001b[1;32m     76\u001b[0m \u001b[38;5;28mself\u001b[39m\u001b[38;5;241m.\u001b[39mname \u001b[38;5;241m=\u001b[39m name\n\u001b[0;32m---> 77\u001b[0m \u001b[38;5;28;43mself\u001b[39;49m\u001b[38;5;241;43m.\u001b[39;49m\u001b[43mparent\u001b[49m \u001b[38;5;241m=\u001b[39m parent\n\u001b[1;32m     78\u001b[0m \u001b[38;5;28;01mif\u001b[39;00m children:\n",
      "File \u001b[0;32m~/.local/lib/python3.8/site-packages/anytree/node/nodemixin.py:127\u001b[0m, in \u001b[0;36mNodeMixin.parent\u001b[0;34m(self, value)\u001b[0m\n\u001b[1;32m    126\u001b[0m     msg \u001b[38;5;241m=\u001b[39m \u001b[38;5;124m\"\u001b[39m\u001b[38;5;124mParent node \u001b[39m\u001b[38;5;132;01m%r\u001b[39;00m\u001b[38;5;124m is not of type \u001b[39m\u001b[38;5;124m'\u001b[39m\u001b[38;5;124mNodeMixin\u001b[39m\u001b[38;5;124m'\u001b[39m\u001b[38;5;124m.\u001b[39m\u001b[38;5;124m\"\u001b[39m \u001b[38;5;241m%\u001b[39m value\n\u001b[0;32m--> 127\u001b[0m     \u001b[38;5;28;01mraise\u001b[39;00m TreeError(msg)\n\u001b[1;32m    128\u001b[0m \u001b[38;5;28;01mtry\u001b[39;00m:\n",
      "\u001b[0;31mTreeError\u001b[0m: Parent node 'abcat0020000' is not of type 'NodeMixin'.",
      "\nDuring handling of the above exception, another exception occurred:\n",
      "\u001b[0;31mTreeError\u001b[0m                                 Traceback (most recent call last)",
      "Cell \u001b[0;32mIn[13], line 1\u001b[0m\n\u001b[0;32m----> 1\u001b[0m \u001b[43mtree\u001b[49m\u001b[43m(\u001b[49m\u001b[43mcategories\u001b[49m\u001b[38;5;241;43m.\u001b[39;49m\u001b[43mpath\u001b[49m\u001b[43m,\u001b[49m\u001b[43m \u001b[49m\u001b[43mcategories\u001b[49m\u001b[38;5;241;43m.\u001b[39;49m\u001b[43msubCategories\u001b[49m\u001b[43m)\u001b[49m\n",
      "File \u001b[0;32m~/.local/lib/python3.8/site-packages/numpy/lib/function_base.py:2328\u001b[0m, in \u001b[0;36mvectorize.__call__\u001b[0;34m(self, *args, **kwargs)\u001b[0m\n\u001b[1;32m   2325\u001b[0m     vargs \u001b[38;5;241m=\u001b[39m [args[_i] \u001b[38;5;28;01mfor\u001b[39;00m _i \u001b[38;5;129;01min\u001b[39;00m inds]\n\u001b[1;32m   2326\u001b[0m     vargs\u001b[38;5;241m.\u001b[39mextend([kwargs[_n] \u001b[38;5;28;01mfor\u001b[39;00m _n \u001b[38;5;129;01min\u001b[39;00m names])\n\u001b[0;32m-> 2328\u001b[0m \u001b[38;5;28;01mreturn\u001b[39;00m \u001b[38;5;28;43mself\u001b[39;49m\u001b[38;5;241;43m.\u001b[39;49m\u001b[43m_vectorize_call\u001b[49m\u001b[43m(\u001b[49m\u001b[43mfunc\u001b[49m\u001b[38;5;241;43m=\u001b[39;49m\u001b[43mfunc\u001b[49m\u001b[43m,\u001b[49m\u001b[43m \u001b[49m\u001b[43margs\u001b[49m\u001b[38;5;241;43m=\u001b[39;49m\u001b[43mvargs\u001b[49m\u001b[43m)\u001b[49m\n",
      "File \u001b[0;32m~/.local/lib/python3.8/site-packages/numpy/lib/function_base.py:2411\u001b[0m, in \u001b[0;36mvectorize._vectorize_call\u001b[0;34m(self, func, args)\u001b[0m\n\u001b[1;32m   2408\u001b[0m \u001b[38;5;66;03m# Convert args to object arrays first\u001b[39;00m\n\u001b[1;32m   2409\u001b[0m inputs \u001b[38;5;241m=\u001b[39m [asanyarray(a, dtype\u001b[38;5;241m=\u001b[39m\u001b[38;5;28mobject\u001b[39m) \u001b[38;5;28;01mfor\u001b[39;00m a \u001b[38;5;129;01min\u001b[39;00m args]\n\u001b[0;32m-> 2411\u001b[0m outputs \u001b[38;5;241m=\u001b[39m \u001b[43mufunc\u001b[49m\u001b[43m(\u001b[49m\u001b[38;5;241;43m*\u001b[39;49m\u001b[43minputs\u001b[49m\u001b[43m)\u001b[49m\n\u001b[1;32m   2413\u001b[0m \u001b[38;5;28;01mif\u001b[39;00m ufunc\u001b[38;5;241m.\u001b[39mnout \u001b[38;5;241m==\u001b[39m \u001b[38;5;241m1\u001b[39m:\n\u001b[1;32m   2414\u001b[0m     res \u001b[38;5;241m=\u001b[39m asanyarray(outputs, dtype\u001b[38;5;241m=\u001b[39motypes[\u001b[38;5;241m0\u001b[39m])\n",
      "Cell \u001b[0;32mIn[12], line 10\u001b[0m, in \u001b[0;36mtree\u001b[0;34m(path, subcategories)\u001b[0m\n\u001b[1;32m      8\u001b[0m \u001b[38;5;28;01mexcept\u001b[39;00m:\n\u001b[1;32m      9\u001b[0m     trees[path[\u001b[38;5;241m-\u001b[39m\u001b[38;5;241m2\u001b[39m][\u001b[38;5;124m'\u001b[39m\u001b[38;5;124mid\u001b[39m\u001b[38;5;124m'\u001b[39m]] \u001b[38;5;241m=\u001b[39m Node(path[\u001b[38;5;241m-\u001b[39m\u001b[38;5;241m2\u001b[39m][\u001b[38;5;124m'\u001b[39m\u001b[38;5;124mname\u001b[39m\u001b[38;5;124m'\u001b[39m])\n\u001b[0;32m---> 10\u001b[0m     trees[path[\u001b[38;5;241m-\u001b[39m\u001b[38;5;241m1\u001b[39m][\u001b[38;5;124m'\u001b[39m\u001b[38;5;124mid\u001b[39m\u001b[38;5;124m'\u001b[39m]] \u001b[38;5;241m=\u001b[39m \u001b[43mNode\u001b[49m\u001b[43m(\u001b[49m\u001b[43mpath\u001b[49m\u001b[43m[\u001b[49m\u001b[38;5;241;43m-\u001b[39;49m\u001b[38;5;241;43m1\u001b[39;49m\u001b[43m]\u001b[49m\u001b[43m[\u001b[49m\u001b[38;5;124;43m'\u001b[39;49m\u001b[38;5;124;43mname\u001b[39;49m\u001b[38;5;124;43m'\u001b[39;49m\u001b[43m]\u001b[49m\u001b[43m,\u001b[49m\u001b[43m \u001b[49m\u001b[43mparent\u001b[49m\u001b[38;5;241;43m=\u001b[39;49m\u001b[43mpath\u001b[49m\u001b[43m[\u001b[49m\u001b[38;5;241;43m-\u001b[39;49m\u001b[38;5;241;43m2\u001b[39;49m\u001b[43m]\u001b[49m\u001b[43m[\u001b[49m\u001b[38;5;124;43m'\u001b[39;49m\u001b[38;5;124;43mid\u001b[39;49m\u001b[38;5;124;43m'\u001b[39;49m\u001b[43m]\u001b[49m\u001b[43m)\u001b[49m\n",
      "File \u001b[0;32m~/.local/lib/python3.8/site-packages/anytree/node/node.py:77\u001b[0m, in \u001b[0;36mNode.__init__\u001b[0;34m(self, name, parent, children, **kwargs)\u001b[0m\n\u001b[1;32m     75\u001b[0m \u001b[38;5;28mself\u001b[39m\u001b[38;5;241m.\u001b[39m\u001b[38;5;18m__dict__\u001b[39m\u001b[38;5;241m.\u001b[39mupdate(kwargs)\n\u001b[1;32m     76\u001b[0m \u001b[38;5;28mself\u001b[39m\u001b[38;5;241m.\u001b[39mname \u001b[38;5;241m=\u001b[39m name\n\u001b[0;32m---> 77\u001b[0m \u001b[38;5;28;43mself\u001b[39;49m\u001b[38;5;241;43m.\u001b[39;49m\u001b[43mparent\u001b[49m \u001b[38;5;241m=\u001b[39m parent\n\u001b[1;32m     78\u001b[0m \u001b[38;5;28;01mif\u001b[39;00m children:\n\u001b[1;32m     79\u001b[0m     \u001b[38;5;28mself\u001b[39m\u001b[38;5;241m.\u001b[39mchildren \u001b[38;5;241m=\u001b[39m children\n",
      "File \u001b[0;32m~/.local/lib/python3.8/site-packages/anytree/node/nodemixin.py:127\u001b[0m, in \u001b[0;36mNodeMixin.parent\u001b[0;34m(self, value)\u001b[0m\n\u001b[1;32m    125\u001b[0m \u001b[38;5;28;01mif\u001b[39;00m value \u001b[38;5;129;01mis\u001b[39;00m \u001b[38;5;129;01mnot\u001b[39;00m \u001b[38;5;28;01mNone\u001b[39;00m \u001b[38;5;129;01mand\u001b[39;00m \u001b[38;5;129;01mnot\u001b[39;00m \u001b[38;5;28misinstance\u001b[39m(value, NodeMixin):\n\u001b[1;32m    126\u001b[0m     msg \u001b[38;5;241m=\u001b[39m \u001b[38;5;124m\"\u001b[39m\u001b[38;5;124mParent node \u001b[39m\u001b[38;5;132;01m%r\u001b[39;00m\u001b[38;5;124m is not of type \u001b[39m\u001b[38;5;124m'\u001b[39m\u001b[38;5;124mNodeMixin\u001b[39m\u001b[38;5;124m'\u001b[39m\u001b[38;5;124m.\u001b[39m\u001b[38;5;124m\"\u001b[39m \u001b[38;5;241m%\u001b[39m value\n\u001b[0;32m--> 127\u001b[0m     \u001b[38;5;28;01mraise\u001b[39;00m TreeError(msg)\n\u001b[1;32m    128\u001b[0m \u001b[38;5;28;01mtry\u001b[39;00m:\n\u001b[1;32m    129\u001b[0m     parent \u001b[38;5;241m=\u001b[39m \u001b[38;5;28mself\u001b[39m\u001b[38;5;241m.\u001b[39m__parent\n",
      "\u001b[0;31mTreeError\u001b[0m: Parent node 'abcat0020000' is not of type 'NodeMixin'."
     ]
    }
   ],
   "source": [
    "tree(categories.path, categories.subCategories)"
   ]
  },
  {
   "cell_type": "code",
   "execution_count": 14,
   "metadata": {},
   "outputs": [
    {
     "data": {
      "text/plain": [
       "{'abcat0010000': Node('/Gift Ideas'), 'abcat0020000': Node('/Toys')}"
      ]
     },
     "execution_count": 14,
     "metadata": {},
     "output_type": "execute_result"
    }
   ],
   "source": [
    "trees"
   ]
  }
 ],
 "metadata": {
  "kernelspec": {
   "display_name": "Python 3 (ipykernel)",
   "language": "python",
   "name": "python3"
  },
  "language_info": {
   "codemirror_mode": {
    "name": "ipython",
    "version": 3
   },
   "file_extension": ".py",
   "mimetype": "text/x-python",
   "name": "python",
   "nbconvert_exporter": "python",
   "pygments_lexer": "ipython3",
   "version": "3.8.13"
  },
  "vscode": {
   "interpreter": {
    "hash": "674c2ea4d48982e5aa68876c14a91aa4dce12bcfdae7e1d469dd59485069d174"
   }
  }
 },
 "nbformat": 4,
 "nbformat_minor": 2
}
