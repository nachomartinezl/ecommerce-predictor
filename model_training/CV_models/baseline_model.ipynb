{
 "cells": [
  {
   "cell_type": "code",
   "execution_count": 1,
   "metadata": {},
   "outputs": [],
   "source": [
    "import matplotlib.pyplot as plt\n",
    "import numpy as np\n",
    "import os\n",
    "import PIL\n",
    "import tensorflow as tf\n",
    "from tensorflow import keras\n",
    "from tensorflow.keras import layers\n",
    "from tensorflow.keras import callbacks\n",
    "from tensorflow.keras.models import Sequential\n",
    "from tensorflow.keras import regularizers\n",
    "import os\n",
    "os.chdir('/home/app/src/') "
   ]
  },
  {
   "cell_type": "code",
   "execution_count": 2,
   "metadata": {},
   "outputs": [],
   "source": [
    "data_baseline = \"/home/app/src/data/data_baseline/\""
   ]
  },
  {
   "cell_type": "code",
   "execution_count": 3,
   "metadata": {},
   "outputs": [
    {
     "name": "stdout",
     "output_type": "stream",
     "text": [
      "Found 50030 files belonging to 213 classes.\n",
      "Using 40024 files for training.\n"
     ]
    },
    {
     "name": "stderr",
     "output_type": "stream",
     "text": [
      "2022-12-28 20:39:43.700821: I tensorflow/stream_executor/cuda/cuda_gpu_executor.cc:936] successful NUMA node read from SysFS had negative value (-1), but there must be at least one NUMA node, so returning NUMA node zero\n",
      "2022-12-28 20:39:43.738912: I tensorflow/stream_executor/cuda/cuda_gpu_executor.cc:936] successful NUMA node read from SysFS had negative value (-1), but there must be at least one NUMA node, so returning NUMA node zero\n",
      "2022-12-28 20:39:43.739798: I tensorflow/stream_executor/cuda/cuda_gpu_executor.cc:936] successful NUMA node read from SysFS had negative value (-1), but there must be at least one NUMA node, so returning NUMA node zero\n",
      "2022-12-28 20:39:43.741512: I tensorflow/core/platform/cpu_feature_guard.cc:151] This TensorFlow binary is optimized with oneAPI Deep Neural Network Library (oneDNN) to use the following CPU instructions in performance-critical operations:  AVX2 FMA\n",
      "To enable them in other operations, rebuild TensorFlow with the appropriate compiler flags.\n",
      "2022-12-28 20:39:43.741931: I tensorflow/stream_executor/cuda/cuda_gpu_executor.cc:936] successful NUMA node read from SysFS had negative value (-1), but there must be at least one NUMA node, so returning NUMA node zero\n",
      "2022-12-28 20:39:43.742784: I tensorflow/stream_executor/cuda/cuda_gpu_executor.cc:936] successful NUMA node read from SysFS had negative value (-1), but there must be at least one NUMA node, so returning NUMA node zero\n",
      "2022-12-28 20:39:43.743671: I tensorflow/stream_executor/cuda/cuda_gpu_executor.cc:936] successful NUMA node read from SysFS had negative value (-1), but there must be at least one NUMA node, so returning NUMA node zero\n",
      "2022-12-28 20:39:44.358102: I tensorflow/stream_executor/cuda/cuda_gpu_executor.cc:936] successful NUMA node read from SysFS had negative value (-1), but there must be at least one NUMA node, so returning NUMA node zero\n",
      "2022-12-28 20:39:44.358950: I tensorflow/stream_executor/cuda/cuda_gpu_executor.cc:936] successful NUMA node read from SysFS had negative value (-1), but there must be at least one NUMA node, so returning NUMA node zero\n",
      "2022-12-28 20:39:44.359744: I tensorflow/stream_executor/cuda/cuda_gpu_executor.cc:936] successful NUMA node read from SysFS had negative value (-1), but there must be at least one NUMA node, so returning NUMA node zero\n",
      "2022-12-28 20:39:44.360553: I tensorflow/core/common_runtime/gpu/gpu_device.cc:1525] Created device /job:localhost/replica:0/task:0/device:GPU:0 with 10794 MB memory:  -> device: 0, name: Tesla K80, pci bus id: 0000:00:1e.0, compute capability: 3.7\n"
     ]
    },
    {
     "name": "stdout",
     "output_type": "stream",
     "text": [
      "Found 50030 files belonging to 213 classes.\n",
      "Using 10006 files for validation.\n"
     ]
    }
   ],
   "source": [
    "batch_size = 16\n",
    "img_height = 32\n",
    "img_width = 32\n",
    "\n",
    "train_ds = tf.keras.utils.image_dataset_from_directory(\n",
    "    data_baseline,\n",
    "    labels=\"inferred\",\n",
    "    label_mode=\"categorical\",\n",
    "    validation_split=0.2,\n",
    "    subset=\"training\",\n",
    "    seed=123,\n",
    "    image_size=(img_height, img_width),\n",
    "    batch_size=batch_size\n",
    ")\n",
    "\n",
    "val_ds = tf.keras.utils.image_dataset_from_directory(\n",
    "    data_baseline,\n",
    "    labels=\"inferred\",\n",
    "    label_mode=\"categorical\",\n",
    "    validation_split=0.2,\n",
    "    subset=\"validation\",\n",
    "    seed=123,\n",
    "    image_size=(img_height, img_width),\n",
    "    batch_size=batch_size\n",
    ")\n",
    "\n",
    "class_names = train_ds.class_names\n"
   ]
  },
  {
   "cell_type": "code",
   "execution_count": 6,
   "metadata": {},
   "outputs": [
    {
     "name": "stdout",
     "output_type": "stream",
     "text": [
      "Model: \"model\"\n",
      "_________________________________________________________________\n",
      " Layer (type)                Output Shape              Param #   \n",
      "=================================================================\n",
      " input_1 (InputLayer)        [(None, 32, 32, 3)]       0         \n",
      "                                                                 \n",
      " rescaling (Rescaling)       (None, 32, 32, 3)         0         \n",
      "                                                                 \n",
      " conv2d (Conv2D)             (None, 32, 32, 16)        448       \n",
      "                                                                 \n",
      " max_pooling2d (MaxPooling2D  (None, 16, 16, 16)       0         \n",
      " )                                                               \n",
      "                                                                 \n",
      " conv2d_1 (Conv2D)           (None, 16, 16, 32)        4640      \n",
      "                                                                 \n",
      " max_pooling2d_1 (MaxPooling  (None, 8, 8, 32)         0         \n",
      " 2D)                                                             \n",
      "                                                                 \n",
      " conv2d_2 (Conv2D)           (None, 8, 8, 64)          18496     \n",
      "                                                                 \n",
      " max_pooling2d_2 (MaxPooling  (None, 4, 4, 64)         0         \n",
      " 2D)                                                             \n",
      "                                                                 \n",
      " flatten (Flatten)           (None, 1024)              0         \n",
      "                                                                 \n",
      " dense (Dense)               (None, 128)               131200    \n",
      "                                                                 \n",
      " dense_1 (Dense)             (None, 213)               27477     \n",
      "                                                                 \n",
      "=================================================================\n",
      "Total params: 182,261\n",
      "Trainable params: 182,261\n",
      "Non-trainable params: 0\n",
      "_________________________________________________________________\n"
     ]
    }
   ],
   "source": [
    "num_classes = len(class_names)\n",
    "\n",
    "input_l = layers.Input(shape=(img_height, img_width, 3))\n",
    "\n",
    "x = layers.Rescaling(1./255)(input_l)\n",
    "x = layers.Conv2D(16, 3, padding='same', activation='relu')(x)\n",
    "x = layers.MaxPooling2D()(x)\n",
    "x = layers.Conv2D(32, 3, padding='same', activation='relu')(x)\n",
    "x = layers.MaxPooling2D()(x)\n",
    "x = layers.Conv2D(64, 3, padding='same', activation='relu')(x)\n",
    "x = layers.MaxPooling2D()(x)\n",
    "x = layers.Flatten()(x)\n",
    "x = layers.Dense(128, activation='relu')(x)\n",
    "\n",
    "output_l = layers.Dense(num_classes, activation='softmax')(x)\n",
    "\n",
    "model = keras.Model(inputs=input_l, outputs=output_l)\n",
    "\n",
    "model.summary()"
   ]
  },
  {
   "cell_type": "code",
   "execution_count": 7,
   "metadata": {},
   "outputs": [],
   "source": [
    "model.compile(\n",
    "    optimizer='adam',\n",
    "    loss='categorical_crossentropy',\n",
    "    metrics=['accuracy']\n",
    ")"
   ]
  },
  {
   "cell_type": "code",
   "execution_count": 8,
   "metadata": {},
   "outputs": [
    {
     "name": "stdout",
     "output_type": "stream",
     "text": [
      "Epoch 1/50\n"
     ]
    },
    {
     "name": "stderr",
     "output_type": "stream",
     "text": [
      "2022-12-28 20:41:03.568796: I tensorflow/stream_executor/cuda/cuda_dnn.cc:368] Loaded cuDNN version 8200\n",
      "2022-12-28 20:41:03.869951: I tensorflow/core/platform/default/subprocess.cc:304] Start cannot spawn child process: No such file or directory\n",
      "2022-12-28 20:41:03.870584: I tensorflow/core/platform/default/subprocess.cc:304] Start cannot spawn child process: No such file or directory\n",
      "2022-12-28 20:41:03.870682: W tensorflow/stream_executor/gpu/asm_compiler.cc:80] Couldn't get ptxas version string: INTERNAL: Couldn't invoke ptxas --version\n",
      "2022-12-28 20:41:03.871597: I tensorflow/core/platform/default/subprocess.cc:304] Start cannot spawn child process: No such file or directory\n",
      "2022-12-28 20:41:03.871715: W tensorflow/stream_executor/gpu/redzone_allocator.cc:314] INTERNAL: Failed to launch ptxas\n",
      "Relying on driver to perform ptx compilation. \n",
      "Modify $PATH to customize ptxas location.\n",
      "This message will be only logged once.\n"
     ]
    },
    {
     "name": "stdout",
     "output_type": "stream",
     "text": [
      "2502/2502 [==============================] - 40s 15ms/step - loss: 3.9948 - accuracy: 0.2123 - val_loss: 3.3503 - val_accuracy: 0.2946\n",
      "Epoch 2/50\n",
      "2502/2502 [==============================] - 37s 15ms/step - loss: 3.0217 - accuracy: 0.3542 - val_loss: 2.9640 - val_accuracy: 0.3618\n",
      "Epoch 3/50\n",
      "2502/2502 [==============================] - 37s 15ms/step - loss: 2.6409 - accuracy: 0.4170 - val_loss: 2.8233 - val_accuracy: 0.3953\n",
      "Epoch 4/50\n",
      "2502/2502 [==============================] - 37s 15ms/step - loss: 2.3914 - accuracy: 0.4642 - val_loss: 2.7092 - val_accuracy: 0.4266\n",
      "Epoch 5/50\n",
      "2502/2502 [==============================] - 37s 15ms/step - loss: 2.2025 - accuracy: 0.4970 - val_loss: 2.7297 - val_accuracy: 0.4292\n",
      "Epoch 6/50\n",
      "2502/2502 [==============================] - 37s 15ms/step - loss: 2.0460 - accuracy: 0.5255 - val_loss: 2.7253 - val_accuracy: 0.4392\n",
      "Epoch 7/50\n",
      "2502/2502 [==============================] - 37s 15ms/step - loss: 1.9099 - accuracy: 0.5490 - val_loss: 2.7938 - val_accuracy: 0.4376\n",
      "Epoch 8/50\n",
      "2502/2502 [==============================] - 37s 15ms/step - loss: 1.7953 - accuracy: 0.5740 - val_loss: 2.8093 - val_accuracy: 0.4415\n",
      "Epoch 9/50\n",
      "2502/2502 [==============================] - 37s 15ms/step - loss: 1.6903 - accuracy: 0.5898 - val_loss: 2.9425 - val_accuracy: 0.4410\n",
      "Epoch 10/50\n",
      "2502/2502 [==============================] - 37s 15ms/step - loss: 1.6036 - accuracy: 0.6065 - val_loss: 3.0514 - val_accuracy: 0.4315\n",
      "Epoch 11/50\n",
      "2502/2502 [==============================] - 37s 15ms/step - loss: 1.5145 - accuracy: 0.6251 - val_loss: 3.1093 - val_accuracy: 0.4348\n",
      "Epoch 12/50\n",
      "2502/2502 [==============================] - 37s 15ms/step - loss: 1.4473 - accuracy: 0.6361 - val_loss: 3.2604 - val_accuracy: 0.4298\n",
      "Epoch 13/50\n",
      "2502/2502 [==============================] - 37s 15ms/step - loss: 1.3859 - accuracy: 0.6504 - val_loss: 3.3652 - val_accuracy: 0.4269\n",
      "Epoch 14/50\n",
      "2502/2502 [==============================] - 37s 15ms/step - loss: 1.3187 - accuracy: 0.6620 - val_loss: 3.5148 - val_accuracy: 0.4281\n",
      "Epoch 15/50\n",
      "2502/2502 [==============================] - 37s 15ms/step - loss: 1.2714 - accuracy: 0.6692 - val_loss: 3.5939 - val_accuracy: 0.4206\n",
      "Epoch 16/50\n",
      "2502/2502 [==============================] - 37s 15ms/step - loss: 1.2183 - accuracy: 0.6819 - val_loss: 3.7700 - val_accuracy: 0.4212\n",
      "Epoch 17/50\n",
      "2502/2502 [==============================] - 37s 15ms/step - loss: 1.1696 - accuracy: 0.6890 - val_loss: 3.8781 - val_accuracy: 0.4200\n",
      "Epoch 18/50\n",
      "2502/2502 [==============================] - 37s 15ms/step - loss: 1.1369 - accuracy: 0.6959 - val_loss: 4.0145 - val_accuracy: 0.4200\n",
      "Epoch 19/50\n",
      "2502/2502 [==============================] - 37s 15ms/step - loss: 1.0996 - accuracy: 0.7050 - val_loss: 4.1504 - val_accuracy: 0.4216\n",
      "Epoch 20/50\n",
      "2502/2502 [==============================] - 37s 15ms/step - loss: 1.0625 - accuracy: 0.7129 - val_loss: 4.2466 - val_accuracy: 0.4205\n",
      "Epoch 21/50\n",
      "2502/2502 [==============================] - 37s 15ms/step - loss: 1.0390 - accuracy: 0.7169 - val_loss: 4.4495 - val_accuracy: 0.4175\n",
      "Epoch 22/50\n",
      "2502/2502 [==============================] - 37s 15ms/step - loss: 1.0068 - accuracy: 0.7211 - val_loss: 4.5714 - val_accuracy: 0.4139\n",
      "Epoch 23/50\n",
      "2502/2502 [==============================] - 37s 15ms/step - loss: 0.9870 - accuracy: 0.7274 - val_loss: 4.8343 - val_accuracy: 0.4119\n",
      "Epoch 24/50\n",
      "2502/2502 [==============================] - 37s 15ms/step - loss: 0.9610 - accuracy: 0.7315 - val_loss: 4.9865 - val_accuracy: 0.4112\n",
      "Epoch 25/50\n",
      "2502/2502 [==============================] - 37s 15ms/step - loss: 0.9286 - accuracy: 0.7393 - val_loss: 4.9058 - val_accuracy: 0.4166\n",
      "Epoch 26/50\n",
      "2502/2502 [==============================] - 37s 15ms/step - loss: 0.9122 - accuracy: 0.7442 - val_loss: 5.0671 - val_accuracy: 0.4125\n",
      "Epoch 27/50\n",
      "2502/2502 [==============================] - 37s 15ms/step - loss: 0.8896 - accuracy: 0.7486 - val_loss: 5.2758 - val_accuracy: 0.4180\n",
      "Epoch 28/50\n",
      "2502/2502 [==============================] - 37s 15ms/step - loss: 0.8742 - accuracy: 0.7506 - val_loss: 5.4449 - val_accuracy: 0.4160\n",
      "Epoch 29/50\n",
      "2502/2502 [==============================] - 37s 15ms/step - loss: 0.8609 - accuracy: 0.7521 - val_loss: 5.6301 - val_accuracy: 0.4120\n",
      "Epoch 30/50\n",
      "2502/2502 [==============================] - 37s 15ms/step - loss: 0.8501 - accuracy: 0.7577 - val_loss: 5.7495 - val_accuracy: 0.4077\n",
      "Epoch 31/50\n",
      "2502/2502 [==============================] - 37s 15ms/step - loss: 0.8213 - accuracy: 0.7628 - val_loss: 5.7678 - val_accuracy: 0.4052\n",
      "Epoch 32/50\n",
      "2502/2502 [==============================] - 37s 15ms/step - loss: 0.8133 - accuracy: 0.7649 - val_loss: 5.8354 - val_accuracy: 0.4109\n",
      "Epoch 33/50\n",
      "2502/2502 [==============================] - 37s 15ms/step - loss: 0.8002 - accuracy: 0.7685 - val_loss: 5.8247 - val_accuracy: 0.4132\n",
      "Epoch 34/50\n",
      "2502/2502 [==============================] - 37s 15ms/step - loss: 0.7901 - accuracy: 0.7685 - val_loss: 6.1145 - val_accuracy: 0.4108\n",
      "Epoch 35/50\n",
      "2502/2502 [==============================] - 37s 15ms/step - loss: 0.7684 - accuracy: 0.7757 - val_loss: 6.2800 - val_accuracy: 0.4037\n",
      "Epoch 36/50\n",
      "2502/2502 [==============================] - 37s 15ms/step - loss: 0.7784 - accuracy: 0.7728 - val_loss: 6.3901 - val_accuracy: 0.4097\n",
      "Epoch 37/50\n",
      "2502/2502 [==============================] - 37s 15ms/step - loss: 0.7618 - accuracy: 0.7782 - val_loss: 6.3591 - val_accuracy: 0.4121\n",
      "Epoch 38/50\n",
      "2502/2502 [==============================] - 37s 15ms/step - loss: 0.7599 - accuracy: 0.7789 - val_loss: 6.5931 - val_accuracy: 0.4069\n",
      "Epoch 39/50\n",
      "2502/2502 [==============================] - 37s 15ms/step - loss: 0.7337 - accuracy: 0.7840 - val_loss: 6.7653 - val_accuracy: 0.4055\n",
      "Epoch 40/50\n",
      "2502/2502 [==============================] - 37s 15ms/step - loss: 0.7262 - accuracy: 0.7861 - val_loss: 6.7503 - val_accuracy: 0.4073\n",
      "Epoch 41/50\n",
      "2502/2502 [==============================] - 37s 15ms/step - loss: 0.7246 - accuracy: 0.7868 - val_loss: 6.8608 - val_accuracy: 0.4115\n",
      "Epoch 42/50\n",
      "2502/2502 [==============================] - 38s 15ms/step - loss: 0.7145 - accuracy: 0.7881 - val_loss: 6.9676 - val_accuracy: 0.4046\n",
      "Epoch 43/50\n",
      "2502/2502 [==============================] - 37s 15ms/step - loss: 0.6984 - accuracy: 0.7936 - val_loss: 6.9721 - val_accuracy: 0.4007\n",
      "Epoch 44/50\n",
      "2502/2502 [==============================] - 37s 15ms/step - loss: 0.6949 - accuracy: 0.7939 - val_loss: 7.1060 - val_accuracy: 0.4072\n",
      "Epoch 45/50\n",
      "2502/2502 [==============================] - 37s 15ms/step - loss: 0.6957 - accuracy: 0.7948 - val_loss: 7.1754 - val_accuracy: 0.3997\n",
      "Epoch 46/50\n",
      "2502/2502 [==============================] - 37s 15ms/step - loss: 0.6746 - accuracy: 0.8024 - val_loss: 7.3694 - val_accuracy: 0.4005\n",
      "Epoch 47/50\n",
      "2502/2502 [==============================] - 37s 15ms/step - loss: 0.6837 - accuracy: 0.7982 - val_loss: 7.5105 - val_accuracy: 0.4071\n",
      "Epoch 48/50\n",
      "2502/2502 [==============================] - 37s 15ms/step - loss: 0.6792 - accuracy: 0.7997 - val_loss: 7.7087 - val_accuracy: 0.4024\n",
      "Epoch 49/50\n",
      "2502/2502 [==============================] - 37s 15ms/step - loss: 0.6606 - accuracy: 0.8048 - val_loss: 7.6963 - val_accuracy: 0.4031\n",
      "Epoch 50/50\n",
      "2502/2502 [==============================] - 37s 15ms/step - loss: 0.6502 - accuracy: 0.8076 - val_loss: 7.8520 - val_accuracy: 0.4041\n"
     ]
    }
   ],
   "source": [
    "epochs=50\n",
    "history = model.fit(\n",
    "    train_ds,\n",
    "    validation_data=val_ds,\n",
    "    epochs=epochs\n",
    ")"
   ]
  },
  {
   "cell_type": "code",
   "execution_count": null,
   "metadata": {},
   "outputs": [],
   "source": []
  }
 ],
 "metadata": {
  "kernelspec": {
   "display_name": "Python 3 (ipykernel)",
   "language": "python",
   "name": "python3"
  },
  "language_info": {
   "codemirror_mode": {
    "name": "ipython",
    "version": 3
   },
   "file_extension": ".py",
   "mimetype": "text/x-python",
   "name": "python",
   "nbconvert_exporter": "python",
   "pygments_lexer": "ipython3",
   "version": "3.8.10"
  },
  "vscode": {
   "interpreter": {
    "hash": "31f2aee4e71d21fbe5cf8b01ff0e069b9275f58929596ceb00d14d90e3e16cd6"
   }
  }
 },
 "nbformat": 4,
 "nbformat_minor": 2
}
