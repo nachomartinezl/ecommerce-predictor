{
 "cells": [
  {
   "attachments": {},
   "cell_type": "markdown",
   "metadata": {},
   "source": [
    "# AVG Model\n",
    "\n",
    "In this notebook, we perform our first exploration of the combination of different models previously trained\n"
   ]
  },
  {
   "cell_type": "code",
   "execution_count": 11,
   "metadata": {},
   "outputs": [
    {
     "name": "stdout",
     "output_type": "stream",
     "text": [
      "The autoreload extension is already loaded. To reload it, use:\n",
      "  %reload_ext autoreload\n"
     ]
    }
   ],
   "source": [
    "import os\n",
    "os.chdir('/home/app/src')\n",
    "import time\n",
    "import joblib\n",
    "\n",
    "import pandas as pd\n",
    "import numpy as np\n",
    "import matplotlib.pyplot as plt\n",
    "import seaborn as sns\n",
    "\n",
    "from sklearn.model_selection import train_test_split\n",
    "from sklearn.feature_extraction.text import TfidfVectorizer\n",
    "from sklearn.linear_model import LogisticRegression\n",
    "from sklearn.metrics import top_k_accuracy_score\n",
    "from sklearn.base import BaseEstimator, TransformerMixin\n",
    "\n",
    "from xgboost import XGBClassifier\n",
    "\n",
    "from utils import evaluation\n",
    "from utils.build_df import build_df\n",
    "from utils import tree_utils\n",
    "from utils.text_normalizer import normalize_corpus\n",
    "from utils.decoder import decode_id_path\n",
    "\n",
    "from utils.combined_model_class import Combined_Model\n",
    "from utils import utils_img\n",
    "from utils import efficientnet\n",
    "\n",
    "%load_ext autoreload\n",
    "%autoreload 2"
   ]
  },
  {
   "attachments": {},
   "cell_type": "markdown",
   "metadata": {},
   "source": [
    "## 1. Importing Pre-Trained NLP Models (BL0 and BL1)"
   ]
  },
  {
   "cell_type": "code",
   "execution_count": 2,
   "metadata": {},
   "outputs": [],
   "source": [
    "#opening\n",
    "#NLP model for title\n",
    "model_title = joblib.load('/home/app/src/model/model_BL0')\n",
    "vect_title  = joblib.load('/home/app/src/model/vect_BL0')\n",
    "\n",
    "\n",
    "#NLP model for description\n",
    "model_title_desc = joblib.load('/home/app/src/model/model_BL1')\n",
    "vect_title_desc = joblib.load('/home/app/src/model/vect_BL1')\n"
   ]
  },
  {
   "attachments": {},
   "cell_type": "markdown",
   "metadata": {},
   "source": [
    "## 2. Importing Pre-trained Image Model "
   ]
  },
  {
   "cell_type": "code",
   "execution_count": 6,
   "metadata": {},
   "outputs": [
    {
     "name": "stderr",
     "output_type": "stream",
     "text": [
      "2022-12-26 21:25:13.071600: W tensorflow/stream_executor/platform/default/dso_loader.cc:64] Could not load dynamic library 'libcuda.so.1'; dlerror: libcuda.so.1: cannot open shared object file: No such file or directory\n",
      "2022-12-26 21:25:13.071650: W tensorflow/stream_executor/cuda/cuda_driver.cc:269] failed call to cuInit: UNKNOWN ERROR (303)\n",
      "2022-12-26 21:25:13.071679: I tensorflow/stream_executor/cuda/cuda_diagnostics.cc:156] kernel driver does not appear to be running on this host (docker-desktop): /proc/driver/nvidia/version does not exist\n",
      "2022-12-26 21:25:13.073265: I tensorflow/core/platform/cpu_feature_guard.cc:151] This TensorFlow binary is optimized with oneAPI Deep Neural Network Library (oneDNN) to use the following CPU instructions in performance-critical operations:  AVX2 FMA\n",
      "To enable them in other operations, rebuild TensorFlow with the appropriate compiler flags.\n"
     ]
    }
   ],
   "source": [
    "CONFIG_YML = \"/home/app/src/model/exp4.yml\"\n",
    "\n",
    "TEST_FOLDER = \"/home/app/src/uploads/\"\n",
    "\n",
    "WEIGHTS = \"/home/app/src/model/model.06-2.0593.h5\"\n",
    "\n",
    "config = utils_img.load_config(CONFIG_YML)\n",
    "\n",
    "MODEL_CLASSES = model_title.classes_\n",
    "\n",
    "cnn_model = efficientnet.create_model(weights=WEIGHTS)\n",
    "\n",
    "\n",
    "predictions, labels, probs = utils_img.predict_from_folder(\n",
    "    folder=TEST_FOLDER, \n",
    "    model=cnn_model, \n",
    "    input_size=config[\"data\"][\"image_size\"], \n",
    "    class_names=MODEL_CLASSES,\n",
    ")"
   ]
  },
  {
   "cell_type": "code",
   "execution_count": 13,
   "metadata": {},
   "outputs": [
    {
     "data": {
      "text/plain": [
       "['Computers & Tablets', 'Computer Cards & Components']"
      ]
     },
     "execution_count": 13,
     "metadata": {},
     "output_type": "execute_result"
    }
   ],
   "source": [
    "decode_id_path(predictions[0])"
   ]
  },
  {
   "attachments": {},
   "cell_type": "markdown",
   "metadata": {},
   "source": [
    "## 3. Create combined model to get predictions"
   ]
  },
  {
   "cell_type": "code",
   "execution_count": 21,
   "metadata": {},
   "outputs": [],
   "source": [
    "final_model = Combined_Model()"
   ]
  },
  {
   "cell_type": "code",
   "execution_count": 18,
   "metadata": {},
   "outputs": [],
   "source": [
    "prediction = final_model.predict_best_five(X_list=[name_sample_v, name_descr_sample_v], \n",
    "                                           estimators=[model_title, model_title_desc], \n",
    "                                           max_k_feat=5)"
   ]
  },
  {
   "cell_type": "code",
   "execution_count": 19,
   "metadata": {},
   "outputs": [
    {
     "data": {
      "text/plain": [
       "{'0': ['Musical Instruments', 'Keyboards'],\n",
       " '1': ['Computers & Tablets',\n",
       "  'Computer Accessories & Peripherals',\n",
       "  'Mice & Keyboards',\n",
       "  'Computer Keyboards'],\n",
       " '2': ['Musical Instruments', 'Musical Instrument Accessories'],\n",
       " '3': ['other'],\n",
       " '4': ['Computers & Tablets', 'iPad & Tablet Accessories']}"
      ]
     },
     "execution_count": 19,
     "metadata": {},
     "output_type": "execute_result"
    }
   ],
   "source": [
    "prediction"
   ]
  },
  {
   "attachments": {},
   "cell_type": "markdown",
   "metadata": {},
   "source": [
    "## 4. Some inputs"
   ]
  },
  {
   "cell_type": "code",
   "execution_count": 22,
   "metadata": {},
   "outputs": [],
   "source": [
    "name_sample = \"Casio - Portable Keyboard with 61 Touch-Sensitive Keys - Black/Silver \"\n",
    "descr_sample = \"CASIO Portable Keyboard with 61 Touch-Sensitive Keys: MIDI and USB connectivity; 600 AHL keyboard voices; 180 rhythms; 152 songs; auto accompaniment\"\n",
    "name_descr_sample = name_sample + descr_sample\n",
    "true_label_sample = 'Keyboards'"
   ]
  },
  {
   "cell_type": "code",
   "execution_count": 23,
   "metadata": {},
   "outputs": [],
   "source": [
    "name_sample_n = normalize_corpus([name_sample])\n",
    "name_sample_v= vect_title.transform(name_sample_n)"
   ]
  },
  {
   "cell_type": "code",
   "execution_count": 24,
   "metadata": {},
   "outputs": [],
   "source": [
    "name_descr_sample_n = normalize_corpus([name_descr_sample])\n",
    "name_descr_sample_v= vect_title_desc.transform(name_descr_sample_n)"
   ]
  },
  {
   "cell_type": "code",
   "execution_count": 29,
   "metadata": {},
   "outputs": [
    {
     "data": {
      "text/plain": [
       "{'0': ['Computers & Tablets',\n",
       "  'Computer Accessories & Peripherals',\n",
       "  'Mice & Keyboards',\n",
       "  'Computer Keyboards'],\n",
       " '1': ['Musical Instruments', 'Keyboards'],\n",
       " '2': ['Musical Instruments', 'Musical Instrument Accessories'],\n",
       " '3': ['other'],\n",
       " '4': ['Computers & Tablets', 'iPad & Tablet Accessories']}"
      ]
     },
     "execution_count": 29,
     "metadata": {},
     "output_type": "execute_result"
    }
   ],
   "source": [
    "pred_model_name = final_model.predict_best_five([name_sample_v, name_sample_v],[model_title, model_title],5 )\n",
    "pred_model_name"
   ]
  },
  {
   "cell_type": "code",
   "execution_count": 30,
   "metadata": {},
   "outputs": [
    {
     "data": {
      "text/plain": [
       "{'0': ['Musical Instruments', 'Keyboards'],\n",
       " '1': ['Musical Instruments', 'Musical Instrument Accessories'],\n",
       " '2': ['Computers & Tablets',\n",
       "  'Computer Accessories & Peripherals',\n",
       "  'Mice & Keyboards',\n",
       "  'Computer Keyboards'],\n",
       " '3': ['other'],\n",
       " '4': ['Computers & Tablets',\n",
       "  'iPad & Tablet Accessories',\n",
       "  'Cases, Covers & Keyboard Folios']}"
      ]
     },
     "execution_count": 30,
     "metadata": {},
     "output_type": "execute_result"
    }
   ],
   "source": [
    "pred_desc_name = final_model.predict_best_five([name_descr_sample_v, name_descr_sample_v],[model_title_desc, model_title_desc],5 )\n",
    "pred_desc_name"
   ]
  },
  {
   "cell_type": "code",
   "execution_count": 31,
   "metadata": {},
   "outputs": [
    {
     "data": {
      "text/plain": [
       "{'0': ['Musical Instruments', 'Keyboards'],\n",
       " '1': ['Computers & Tablets',\n",
       "  'Computer Accessories & Peripherals',\n",
       "  'Mice & Keyboards',\n",
       "  'Computer Keyboards'],\n",
       " '2': ['Musical Instruments', 'Musical Instrument Accessories'],\n",
       " '3': ['other'],\n",
       " '4': ['Computers & Tablets', 'iPad & Tablet Accessories']}"
      ]
     },
     "execution_count": 31,
     "metadata": {},
     "output_type": "execute_result"
    }
   ],
   "source": [
    "pred_nlp_models = final_model.predict_best_five([name_sample_v, name_descr_sample_v],[model_title, model_title_desc],5 )\n",
    "pred_nlp_models"
   ]
  },
  {
   "cell_type": "code",
   "execution_count": 32,
   "metadata": {},
   "outputs": [],
   "source": [
    "prediction, _, probs = utils_img.predict_from_folder(\n",
    "    folder=TEST_FOLDER, \n",
    "    model=cnn_model, \n",
    "    input_size=config[\"data\"][\"image_size\"], \n",
    "    class_names=MODEL_CLASSES,\n",
    ")"
   ]
  },
  {
   "cell_type": "code",
   "execution_count": 52,
   "metadata": {},
   "outputs": [],
   "source": [
    "def get_feat_max(cat_prob, max_k_feat, classes):\n",
    "    \"\"\"Given a array of predicted probability of classes for one product returns a dictionary with the names of the k classes with the highest probability\"\"\"\n",
    "    most_prob_cat_idx = np.argsort(-cat_prob)[:max_k_feat]\n",
    "    name_cat_max= []\n",
    "    \n",
    "    for idx in most_prob_cat_idx:\n",
    "      nm_cat = classes[idx]\n",
    "      name_cat_max.append(nm_cat)\n",
    "\n",
    "    dict_max_feat = {}\n",
    "    for items in range(len(name_cat_max)):\n",
    "        dict_max_feat[str(items+1)] = decode_id_path(name_cat_max[items])\n",
    "\n",
    "    return dict_max_feat #, name_cat_max"
   ]
  },
  {
   "cell_type": "code",
   "execution_count": 59,
   "metadata": {},
   "outputs": [],
   "source": [
    "y_pred_img = probs[0][0]"
   ]
  },
  {
   "cell_type": "code",
   "execution_count": 60,
   "metadata": {},
   "outputs": [
    {
     "data": {
      "text/plain": [
       "{'1': ['Musical Instruments', 'Keyboards'],\n",
       " '2': ['Musical Instruments'],\n",
       " '3': ['Musical Instruments', 'Recording Equipment'],\n",
       " '4': ['other'],\n",
       " '5': ['Musical Instruments', 'DJ & Lighting Equipment']}"
      ]
     },
     "execution_count": 60,
     "metadata": {},
     "output_type": "execute_result"
    }
   ],
   "source": [
    "get_feat_max(y_pred_img, 5, model_title.classes_)"
   ]
  },
  {
   "attachments": {},
   "cell_type": "markdown",
   "metadata": {},
   "source": [
    "Super model"
   ]
  },
  {
   "cell_type": "code",
   "execution_count": null,
   "metadata": {},
   "outputs": [],
   "source": [
    "CONFIG_YML = \"/home/app/src/model/exp4.yml\"\n",
    "\n",
    "TEST_FOLDER = \"/home/app/src/uploads/\"\n",
    "\n",
    "WEIGHTS = \"/home/app/src/model/model.06-2.0593.h5\"\n",
    "\n",
    "config = utils_img.load_config(CONFIG_YML)\n",
    "\n",
    "MODEL_CLASSES = model_title.classes_\n",
    "\n",
    "cnn_model = efficientnet.create_model(weights=WEIGHTS)\n",
    "\n",
    "\n",
    "# predictions, labels, probs = utils_img.predict_from_folder(\n",
    "#     folder=TEST_FOLDER, \n",
    "#     model=cnn_model, \n",
    "#     input_size=config[\"data\"][\"image_size\"], \n",
    "#     class_names=MODEL_CLASSES,\n",
    "# )"
   ]
  },
  {
   "cell_type": "code",
   "execution_count": 2,
   "metadata": {},
   "outputs": [
    {
     "ename": "NameError",
     "evalue": "name 'Combined_Model' is not defined",
     "output_type": "error",
     "traceback": [
      "\u001b[0;31m---------------------------------------------------------------------------\u001b[0m",
      "\u001b[0;31mNameError\u001b[0m                                 Traceback (most recent call last)",
      "Cell \u001b[0;32mIn[2], line 1\u001b[0m\n\u001b[0;32m----> 1\u001b[0m super_model \u001b[39m=\u001b[39m Combined_Model()\n\u001b[1;32m      3\u001b[0m prediction \u001b[39m=\u001b[39m final_model\u001b[39m.\u001b[39mpredict_best_five(X_list\u001b[39m=\u001b[39m[name_sample_v, name_descr_sample_v, TEST_FOLDER], \n\u001b[1;32m      4\u001b[0m                                            estimators\u001b[39m=\u001b[39m[model_title, model_title_desc, cnn_model], \n\u001b[1;32m      5\u001b[0m                                            max_k_feat\u001b[39m=\u001b[39m\u001b[39m5\u001b[39m)\n",
      "\u001b[0;31mNameError\u001b[0m: name 'Combined_Model' is not defined"
     ]
    }
   ],
   "source": [
    "super_model = Combined_Model()\n",
    "\n",
    "prediction = final_model.predict_best_five(X_list=[name_sample_v, name_descr_sample_v, TEST_FOLDER], \n",
    "                                           estimators=[model_title, model_title_desc, cnn_model], \n",
    "                                           max_k_feat=5)"
   ]
  },
  {
   "cell_type": "code",
   "execution_count": 65,
   "metadata": {},
   "outputs": [
    {
     "data": {
      "text/plain": [
       "{'0': ['Musical Instruments', 'Keyboards'],\n",
       " '1': ['Computers & Tablets',\n",
       "  'Computer Accessories & Peripherals',\n",
       "  'Mice & Keyboards',\n",
       "  'Computer Keyboards'],\n",
       " '2': ['Musical Instruments', 'Musical Instrument Accessories'],\n",
       " '3': ['other'],\n",
       " '4': ['Computers & Tablets', 'iPad & Tablet Accessories']}"
      ]
     },
     "execution_count": 65,
     "metadata": {},
     "output_type": "execute_result"
    }
   ],
   "source": [
    "prediction"
   ]
  }
 ],
 "metadata": {
  "kernelspec": {
   "display_name": "Python 3",
   "language": "python",
   "name": "python3"
  },
  "language_info": {
   "codemirror_mode": {
    "name": "ipython",
    "version": 3
   },
   "file_extension": ".py",
   "mimetype": "text/x-python",
   "name": "python",
   "nbconvert_exporter": "python",
   "pygments_lexer": "ipython3",
   "version": "3.9.2 (default, Feb 28 2021, 17:03:44) \n[GCC 10.2.1 20210110]"
  },
  "orig_nbformat": 4,
  "vscode": {
   "interpreter": {
    "hash": "31f2aee4e71d21fbe5cf8b01ff0e069b9275f58929596ceb00d14d90e3e16cd6"
   }
  }
 },
 "nbformat": 4,
 "nbformat_minor": 2
}
