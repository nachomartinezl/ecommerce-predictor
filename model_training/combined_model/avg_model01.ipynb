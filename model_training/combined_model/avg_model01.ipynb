{
 "cells": [
  {
   "attachments": {},
   "cell_type": "markdown",
   "metadata": {},
   "source": [
    "# AVG Model\n",
    "\n",
    "In this notebook, we perform our first exploration of the combination of different models previously trained\n"
   ]
  },
  {
   "cell_type": "code",
   "execution_count": 8,
   "metadata": {},
   "outputs": [],
   "source": [
    "import os\n",
    "os.chdir('/home/app/src/')"
   ]
  },
  {
   "cell_type": "code",
   "execution_count": 9,
   "metadata": {},
   "outputs": [
    {
     "name": "stdout",
     "output_type": "stream",
     "text": [
      "The autoreload extension is already loaded. To reload it, use:\n",
      "  %reload_ext autoreload\n"
     ]
    }
   ],
   "source": [
    "import pandas as pd\n",
    "import numpy as np\n",
    "import matplotlib.pyplot as plt\n",
    "import seaborn as sns\n",
    "\n",
    "from xgboost import XGBClassifier\n",
    "import time\n",
    "from model.text_normalizer import normalize_corpus, stopword_list\n",
    "from model import evaluation\n",
    "from model import utils \n",
    "from utils.build_df import build_df\n",
    "from sklearn.model_selection import train_test_split\n",
    "from sklearn.feature_extraction.text import TfidfVectorizer\n",
    "from sklearn.linear_model import LogisticRegression\n",
    "from utils import tree_utils\n",
    "from sklearn.metrics import top_k_accuracy_score\n",
    "from sklearn.base import BaseEstimator, TransformerMixin\n",
    "import joblib\n",
    "\n",
    "%load_ext autoreload\n",
    "%autoreload 2"
   ]
  },
  {
   "attachments": {},
   "cell_type": "markdown",
   "metadata": {},
   "source": [
    "## 0. Labels"
   ]
  },
  {
   "cell_type": "code",
   "execution_count": 10,
   "metadata": {},
   "outputs": [],
   "source": [
    "cat = build_df(json_path='data/products.json', \n",
    "             threshold=100, \n",
    "             preprocessed_csv='data/normalized_data.csv'\n",
    "            ) "
   ]
  },
  {
   "cell_type": "code",
   "execution_count": 11,
   "metadata": {},
   "outputs": [],
   "source": [
    "y = cat['leaf']"
   ]
  },
  {
   "cell_type": "code",
   "execution_count": 12,
   "metadata": {},
   "outputs": [
    {
     "name": "stdout",
     "output_type": "stream",
     "text": [
      "Categories\n",
      "├── pcmcat312300050015\n",
      "│   ├── pcmcat248700050021\n",
      "│   │   ├── pcmcat303600050001\n",
      "│   │   └── pcmcat179100050006\n",
      "│   │       ├── pcmcat179200050003\n",
      "│   │       ├── pcmcat179200050008\n",
      "│   │       │   └── pcmcat748300322875\n",
      "│   │       └── pcmcat179200050013\n",
      "│   ├── abcat0802000\n",
      "│   │   ├── abcat0811011\n",
      "│   │   └── abcat0802001\n",
      "│   │       └── pcmcat159300050002\n",
      "│   ├── abcat0805000\n",
      "│   │   └── abcat0511001\n",
      "│   │       └── pcmcat266500050030\n",
      "│   ├── pcmcat275600050000\n",
      "│   │   └── abcat0807000\n",
      "│   │       ├── abcat0807001\n",
      "│   │       ├── pcmcat335400050008\n",
      "│   │       └── abcat0807009\n",
      "│   ├── abcat0809000\n",
      "│   │   ├── abcat0809004\n",
      "│   │   └── abcat0809002\n",
      "│   ├── pcmcat249700050006\n",
      "│   │   ├── pcmcat219100050010\n",
      "│   │   ├── pcmcat286300050020\n",
      "│   │   └── pcmcat272800050000\n",
      "│   ├── pcmcat254000050002\n",
      "│   │   └── pcmcat308100050020\n",
      "│   │       └── pcmcat340500050007\n",
      "│   └── pcmcat341100050005\n",
      "│       └── pcmcat253700050018\n",
      "│           └── pcmcat248300050003\n",
      "├── other\n",
      "├── abcat0300000\n",
      "│   ├── pcmcat165900050023\n",
      "│   │   └── pcmcat331600050007\n",
      "│   │       └── pcmcat165900050031\n",
      "│   │           ├── pcmcat165900050033\n",
      "│   │           ├── pcmcat165900050034\n",
      "│   │           └── pcmcat165900050032\n",
      "│   ├── abcat0302000\n",
      "│   │   ├── abcat0302034\n",
      "│   │   │   └── abcat0302037\n",
      "│   │   ├── abcat0302001\n",
      "│   │   ├── abcat0302012\n",
      "│   │   └── abcat0302005\n",
      "│   ├── pcmcat156300050006\n",
      "│   └── abcat0301000\n",
      "├── abcat0207000\n",
      "│   ├── pcmcat152100050020\n",
      "│   ├── abcat0208024\n",
      "│   │   └── pcmcat151600050008\n",
      "│   ├── pcmcat152100050035\n",
      "│   │   └── pcmcat251600050003\n",
      "│   │       └── pcmcat152100050038\n",
      "│   ├── pcmcat151600050037\n",
      "│   ├── pcmcat152100050027\n",
      "│   ├── pcmcat152200050014\n",
      "│   │   ├── pcmcat202800050013\n",
      "│   │   └── pcmcat251500050009\n",
      "│   ├── pcmcat152100050010\n",
      "│   └── pcmcat151600050019\n",
      "│       └── pcmcat221400050011\n",
      "│           └── pcmcat151600050027\n",
      "├── pcmcat252700050006\n",
      "│   ├── pcmcat244200050008\n",
      "│   ├── pcmcat284400050091\n",
      "│   └── pcmcat369900050001\n",
      "├── abcat0700000\n",
      "│   ├── abcat0706000\n",
      "│   ├── abcat0701000\n",
      "│   │   └── abcat0701002\n",
      "│   ├── pcmcat232900050017\n",
      "│   ├── abcat0707000\n",
      "│   │   └── abcat0707002\n",
      "│   ├── abcat0703000\n",
      "│   │   └── abcat0703002\n",
      "│   ├── abcat0712000\n",
      "│   ├── pcmcat232900050000\n",
      "│   ├── abcat0715000\n",
      "│   ├── pcmcat295700050012\n",
      "│   │   └── pcmcat296300050018\n",
      "│   ├── pcmcat300300050002\n",
      "│   │   └── pcmcat303600050005\n",
      "│   └── pcmcat306400050032\n",
      "├── abcat0400000\n",
      "│   ├── abcat0401000\n",
      "│   │   └── abcat0401001\n",
      "│   │       └── pcmcat324200050004\n",
      "│   ├── abcat0410022\n",
      "│   │   └── pcmcat329700050009\n",
      "│   │       └── pcmcat240500050057\n",
      "│   ├── abcat0410000\n",
      "│   │   ├── abcat0410018\n",
      "│   │   │   ├── pcmcat233000050008\n",
      "│   │   │   │   └── pcmcat195200050001\n",
      "│   │   │   └── pcmcat374500050006\n",
      "│   │   ├── abcat0410020\n",
      "│   │   ├── abcat0410012\n",
      "│   │   │   └── pcmcat284800050007\n",
      "│   │   ├── pcmcat284800050006\n",
      "│   │   │   └── abcat0410001\n",
      "│   │   │       └── pcmcat328900050008\n",
      "│   │   ├── abcat0410045\n",
      "│   │   └── pcmcat240500050025\n",
      "│   │       └── pcmcat240500050052\n",
      "│   ├── abcat0404000\n",
      "│   │   └── pcmcat225800050009\n",
      "│   └── abcat0409000\n",
      "│       └── abcat0409001\n",
      "├── abcat0500000\n",
      "│   ├── abcat0515000\n",
      "│   │   ├── abcat0515042\n",
      "│   │   ├── pcmcat221100050003\n",
      "│   │   ├── abcat0515025\n",
      "│   │   │   ├── pcmcat183800050007\n",
      "│   │   │   ├── pcmcat183800050006\n",
      "│   │   │   └── abcat0515028\n",
      "│   │   ├── abcat0513000\n",
      "│   │   │   ├── pcmcat338200050008\n",
      "│   │   │   └── abcat0513004\n",
      "│   │   ├── abcat0504001\n",
      "│   │   │   └── pcmcat186100050005\n",
      "│   │   ├── abcat0504010\n",
      "│   │   └── abcat0515012\n",
      "│   │       └── abcat0515013\n",
      "│   ├── abcat0507000\n",
      "│   ├── pcmcat309900050001\n",
      "│   │   └── pcmcat242000050002\n",
      "│   │       └── pcmcat344400050007\n",
      "│   ├── abcat0509000\n",
      "│   │   └── pcmcat200900050014\n",
      "│   ├── abcat0508000\n",
      "│   ├── pcmcat209000050006\n",
      "│   │   └── pcmcat209000050008\n",
      "│   ├── abcat0503000\n",
      "│   ├── abcat0502000\n",
      "│   │   └── pcmcat138500050001\n",
      "│   │       └── pcmcat247400050000\n",
      "│   └── abcat0501000\n",
      "│       └── pcmcat143400050013\n",
      "├── abcat0900000\n",
      "│   ├── abcat0904000\n",
      "│   │   ├── abcat0904001\n",
      "│   │   ├── abcat0904004\n",
      "│   │   │   └── pcmcat180700050008\n",
      "│   │   ├── abcat0904003\n",
      "│   │   │   ├── pcmcat196400050015\n",
      "│   │   │   └── pcmcat196400050016\n",
      "│   │   └── abcat0904002\n",
      "│   │       └── pcmcat207200050007\n",
      "│   ├── abcat0912000\n",
      "│   │   ├── pcmcat367400050002\n",
      "│   │   │   ├── pcmcat367400050005\n",
      "│   │   │   │   └── abcat0912008\n",
      "│   │   │   ├── abcat0912005\n",
      "│   │   │   │   └── pcmcat258900050007\n",
      "│   │   │   └── pcmcat367400050003\n",
      "│   │   │       └── pcmcat194000050023\n",
      "│   │   ├── abcat0912011\n",
      "│   │   │   └── pcmcat194000050018\n",
      "│   │   │       └── pcmcat258900050003\n",
      "│   │   ├── abcat0912014\n",
      "│   │   ├── abcat0912025\n",
      "│   │   │   └── pcmcat251300050004\n",
      "│   │   ├── abcat0912023\n",
      "│   │   ├── abcat0912012\n",
      "│   │   ├── abcat0912020\n",
      "│   │   ├── pcmcat748301695371\n",
      "│   │   │   ├── pcmcat226900050013\n",
      "│   │   │   └── pcmcat748301695443\n",
      "│   │   ├── abcat0912018\n",
      "│   │   └── pcmcat194000050022\n",
      "│   ├── abcat0902000\n",
      "│   ├── pcmcat302300050021\n",
      "│   │   ├── abcat0907001\n",
      "│   │   ├── abcat0907007\n",
      "│   │   ├── abcat0908003\n",
      "│   │   ├── abcat0908001\n",
      "│   │   ├── pcmcat268100050002\n",
      "│   │   └── abcat0907006\n",
      "│   ├── abcat0901000\n",
      "│   │   └── pcmcat367400050001\n",
      "│   ├── abcat0903000\n",
      "│   │   └── pcmcat748301803023\n",
      "│   ├── abcat0910000\n",
      "│   │   ├── abcat0910004\n",
      "│   │   │   ├── pcmcat232900050031\n",
      "│   │   │   └── pcmcat232900050030\n",
      "│   │   └── abcat0910001\n",
      "│   ├── abcat0911000\n",
      "│   ├── abcat0905000\n",
      "│   │   └── abcat0905001\n",
      "│   └── abcat0916000\n",
      "│       ├── pcmcat303700050016\n",
      "│       └── abcat0916008\n",
      "├── abcat0200000\n",
      "│   ├── abcat0204000\n",
      "│   │   ├── pcmcat144700050004\n",
      "│   │   ├── pcmcat143000050011\n",
      "│   │   │   ├── pcmcat331200050001\n",
      "│   │   │   └── pcmcat331200050000\n",
      "│   │   └── pcmcat143000050007\n",
      "│   ├── pcmcat241600050001\n",
      "│   │   ├── pcmcat309300050002\n",
      "│   │   ├── abcat0205000\n",
      "│   │   │   ├── abcat0205006\n",
      "│   │   │   ├── pcmcat210900050000\n",
      "│   │   │   │   └── pcmcat210900050001\n",
      "│   │   │   └── abcat0205001\n",
      "│   │   ├── abcat0203000\n",
      "│   │   │   └── abcat0205007\n",
      "│   │   └── pcmcat309300050003\n",
      "│   ├── abcat0208007\n",
      "│   ├── pcmcat310200050004\n",
      "│   └── abcat0208000\n",
      "│       └── abcat0208015\n",
      "├── abcat0100000\n",
      "│   ├── abcat0106000\n",
      "│   │   ├── pcmcat332100050008\n",
      "│   │   │   └── pcmcat158900050019\n",
      "│   │   ├── abcat0106004\n",
      "│   │   ├── abcat0106001\n",
      "│   │   │   └── pcmcat332100050000\n",
      "│   │   └── abcat0106010\n",
      "│   ├── abcat0107000\n",
      "│   │   └── abcat0107015\n",
      "│   ├── abcat0101000\n",
      "│   │   └── abcat0101001\n",
      "│   └── pcmcat158900050008\n",
      "│       └── pcmcat158900050018\n",
      "├── pcmcat242800050021\n",
      "│   ├── abcat0915000\n",
      "│   │   ├── abcat0915009\n",
      "│   │   └── abcat0915005\n",
      "│   ├── pcmcat352500050007\n",
      "│   ├── abcat0301006\n",
      "│   └── pcmcat210000050008\n",
      "├── pcmcat128500050004\n",
      "├── abcat0800000\n",
      "│   ├── abcat0811002\n",
      "│   │   ├── abcat0811006\n",
      "│   │   ├── pcmcat191200050015\n",
      "│   │   │   └── pcmcat214700050000\n",
      "│   │   │       ├── pcmcat748300579994\n",
      "│   │   │       └── pcmcat748300580023\n",
      "│   │   ├── abcat0811004\n",
      "│   │   │   ├── pcmcat326000050010\n",
      "│   │   │   └── pcmcat326000050011\n",
      "│   │   ├── pcmcat373300050003\n",
      "│   │   ├── abcat0811007\n",
      "│   │   │   ├── pcmcat171900050026\n",
      "│   │   │   └── pcmcat171900050024\n",
      "│   │   ├── pcmcat171900050031\n",
      "│   │   └── pcmcat321000050003\n",
      "│   │       └── pcmcat321000050005\n",
      "│   │           └── pcmcat350800050010\n",
      "│   ├── pcmcat156400050037\n",
      "│   │   └── pcmcat311200050005\n",
      "│   └── pcmcat209400050001\n",
      "├── cat09000\n",
      "├── pcmcat139900050002\n",
      "│   └── pcmcat748300660981\n",
      "│       └── pcmcat143200050025\n",
      "└── pcmcat332000050000\n",
      "    └── pcmcat748300489081\n",
      "        └── pcmcat377500050002\n",
      "            └── pcmcat377500050003\n"
     ]
    }
   ],
   "source": [
    "tree_dict = tree_utils.make_tree(cat, cat['category'], 'Categories', display_tree= True)"
   ]
  },
  {
   "attachments": {},
   "cell_type": "markdown",
   "metadata": {},
   "source": [
    "## 1. Model A (BL0): Trained with tittle"
   ]
  },
  {
   "attachments": {},
   "cell_type": "markdown",
   "metadata": {},
   "source": [
    "### Features"
   ]
  },
  {
   "cell_type": "code",
   "execution_count": 13,
   "metadata": {},
   "outputs": [],
   "source": [
    "df = pd.read_csv('data/normalized_data.csv')"
   ]
  },
  {
   "cell_type": "code",
   "execution_count": 14,
   "metadata": {},
   "outputs": [
    {
     "data": {
      "text/html": [
       "<div>\n",
       "<style scoped>\n",
       "    .dataframe tbody tr th:only-of-type {\n",
       "        vertical-align: middle;\n",
       "    }\n",
       "\n",
       "    .dataframe tbody tr th {\n",
       "        vertical-align: top;\n",
       "    }\n",
       "\n",
       "    .dataframe thead th {\n",
       "        text-align: right;\n",
       "    }\n",
       "</style>\n",
       "<table border=\"1\" class=\"dataframe\">\n",
       "  <thead>\n",
       "    <tr style=\"text-align: right;\">\n",
       "      <th></th>\n",
       "      <th>name</th>\n",
       "      <th>description</th>\n",
       "      <th>nm_and_desc</th>\n",
       "      <th>category</th>\n",
       "      <th>image</th>\n",
       "      <th>name_and_description</th>\n",
       "    </tr>\n",
       "  </thead>\n",
       "  <tbody>\n",
       "    <tr>\n",
       "      <th>0</th>\n",
       "      <td>duracel aaa batteri 4pack</td>\n",
       "      <td>compat select electron devic aaa size duralock...</td>\n",
       "      <td>Duracell - AAA Batteries (4-Pack) Compatible w...</td>\n",
       "      <td>[{'id': 'pcmcat312300050015', 'name': 'Connect...</td>\n",
       "      <td>http://www.bestbuy.com/site/duracell-aaa-batte...</td>\n",
       "      <td>duracel aaa batteri 4pack compat select electr...</td>\n",
       "    </tr>\n",
       "    <tr>\n",
       "      <th>1</th>\n",
       "      <td>duracel aa 15v coppertop batteri 4pack</td>\n",
       "      <td>longlast energi duralock power preserv technol...</td>\n",
       "      <td>Duracell - AA 1.5V CopperTop Batteries (4-Pack...</td>\n",
       "      <td>[{'id': 'pcmcat312300050015', 'name': 'Connect...</td>\n",
       "      <td>http://www.bestbuy.com/site/duracell-aa-1-5v-c...</td>\n",
       "      <td>duracel aa 15v coppertop batteri 4pack longlas...</td>\n",
       "    </tr>\n",
       "    <tr>\n",
       "      <th>2</th>\n",
       "      <td>duracel aa batteri 8pack</td>\n",
       "      <td>compat select electron devic aa size duralock ...</td>\n",
       "      <td>Duracell - AA Batteries (8-Pack) Compatible wi...</td>\n",
       "      <td>[{'id': 'pcmcat312300050015', 'name': 'Connect...</td>\n",
       "      <td>http://www.bestbuy.com/site/duracell-aa-batter...</td>\n",
       "      <td>duracel aa batteri 8pack compat select electro...</td>\n",
       "    </tr>\n",
       "    <tr>\n",
       "      <th>3</th>\n",
       "      <td>energ max batteri aa 4pack</td>\n",
       "      <td>4pack aa alkalin batteri batteri tester includ</td>\n",
       "      <td>Energizer - MAX Batteries AA (4-Pack) 4-pack A...</td>\n",
       "      <td>[{'id': 'pcmcat312300050015', 'name': 'Connect...</td>\n",
       "      <td>http://www.bestbuy.com/site/energizer-max-batt...</td>\n",
       "      <td>energ max batteri aa 4pack 4pack aa alkalin ba...</td>\n",
       "    </tr>\n",
       "    <tr>\n",
       "      <th>4</th>\n",
       "      <td>duracel c batteri 4pack</td>\n",
       "      <td>compat select electron devic c size duralock p...</td>\n",
       "      <td>Duracell - C Batteries (4-Pack) Compatible wit...</td>\n",
       "      <td>[{'id': 'pcmcat312300050015', 'name': 'Connect...</td>\n",
       "      <td>http://www.bestbuy.com/site/duracell-c-batteri...</td>\n",
       "      <td>duracel c batteri 4pack compat select electron...</td>\n",
       "    </tr>\n",
       "    <tr>\n",
       "      <th>...</th>\n",
       "      <td>...</td>\n",
       "      <td>...</td>\n",
       "      <td>...</td>\n",
       "      <td>...</td>\n",
       "      <td>...</td>\n",
       "      <td>...</td>\n",
       "    </tr>\n",
       "    <tr>\n",
       "      <th>51641</th>\n",
       "      <td>honeywel true hepa replac filter select honeyw...</td>\n",
       "      <td>compat select honeywel air purifi model captur...</td>\n",
       "      <td>Honeywell - True HEPA Replacement Filters for ...</td>\n",
       "      <td>[{'id': 'abcat0900000', 'name': 'Appliances'},...</td>\n",
       "      <td>http://www.bestbuy.com/site/honeywell-true-hep...</td>\n",
       "      <td>honeywel true hepa replac filter select honeyw...</td>\n",
       "    </tr>\n",
       "    <tr>\n",
       "      <th>51642</th>\n",
       "      <td>dyson hard floor wipe dyson hard dc56 vacuum 1...</td>\n",
       "      <td>remov dirt grime hard floor cloth materi 12 wipe</td>\n",
       "      <td>Dyson - Hard Floor Wipes for Dyson Hard DC56 V...</td>\n",
       "      <td>[{'id': 'abcat0900000', 'name': 'Appliances'},...</td>\n",
       "      <td>http://www.bestbuy.com/site/dyson-hard-floor-w...</td>\n",
       "      <td>dyson hard floor wipe dyson hard dc56 vacuum 1...</td>\n",
       "    </tr>\n",
       "    <tr>\n",
       "      <th>51643</th>\n",
       "      <td>aleratec drive enclosur intern black</td>\n",
       "      <td>1 x total bay 1 x 25 bay</td>\n",
       "      <td>Aleratec - Drive Enclosure - Internal - Black ...</td>\n",
       "      <td>[{'id': 'abcat0500000', 'name': 'Computers &amp; T...</td>\n",
       "      <td>http://www.bestbuy.com/site/aleratec-drive-enc...</td>\n",
       "      <td>aleratec drive enclosur intern black 1 x total...</td>\n",
       "    </tr>\n",
       "    <tr>\n",
       "      <th>51644</th>\n",
       "      <td>amazon fire tv stick</td>\n",
       "      <td>stream 1080p content dualband dualantenna wifi...</td>\n",
       "      <td>Amazon - Fire TV Stick Streams 1080p content; ...</td>\n",
       "      <td>[{'id': 'abcat0100000', 'name': 'TV &amp; Home The...</td>\n",
       "      <td>http://www.bestbuy.com/site/amazon-fire-tv-sti...</td>\n",
       "      <td>amazon fire tv stick stream 1080p content dual...</td>\n",
       "    </tr>\n",
       "    <tr>\n",
       "      <th>51645</th>\n",
       "      <td>proctor silex 4slice toaster oven white</td>\n",
       "      <td>proctor silex 4slice toaster oven bake broil t...</td>\n",
       "      <td>Proctor Silex - 4-Slice Toaster Oven - White P...</td>\n",
       "      <td>[{'id': 'abcat0900000', 'name': 'Appliances'},...</td>\n",
       "      <td>http://www.bestbuy.com/site/proctor-silex-4-sl...</td>\n",
       "      <td>proctor silex 4slice toaster oven white procto...</td>\n",
       "    </tr>\n",
       "  </tbody>\n",
       "</table>\n",
       "<p>51646 rows × 6 columns</p>\n",
       "</div>"
      ],
      "text/plain": [
       "                                                    name  \\\n",
       "0                              duracel aaa batteri 4pack   \n",
       "1                 duracel aa 15v coppertop batteri 4pack   \n",
       "2                               duracel aa batteri 8pack   \n",
       "3                             energ max batteri aa 4pack   \n",
       "4                                duracel c batteri 4pack   \n",
       "...                                                  ...   \n",
       "51641  honeywel true hepa replac filter select honeyw...   \n",
       "51642  dyson hard floor wipe dyson hard dc56 vacuum 1...   \n",
       "51643               aleratec drive enclosur intern black   \n",
       "51644                               amazon fire tv stick   \n",
       "51645            proctor silex 4slice toaster oven white   \n",
       "\n",
       "                                             description  \\\n",
       "0      compat select electron devic aaa size duralock...   \n",
       "1      longlast energi duralock power preserv technol...   \n",
       "2      compat select electron devic aa size duralock ...   \n",
       "3         4pack aa alkalin batteri batteri tester includ   \n",
       "4      compat select electron devic c size duralock p...   \n",
       "...                                                  ...   \n",
       "51641  compat select honeywel air purifi model captur...   \n",
       "51642   remov dirt grime hard floor cloth materi 12 wipe   \n",
       "51643                           1 x total bay 1 x 25 bay   \n",
       "51644  stream 1080p content dualband dualantenna wifi...   \n",
       "51645  proctor silex 4slice toaster oven bake broil t...   \n",
       "\n",
       "                                             nm_and_desc  \\\n",
       "0      Duracell - AAA Batteries (4-Pack) Compatible w...   \n",
       "1      Duracell - AA 1.5V CopperTop Batteries (4-Pack...   \n",
       "2      Duracell - AA Batteries (8-Pack) Compatible wi...   \n",
       "3      Energizer - MAX Batteries AA (4-Pack) 4-pack A...   \n",
       "4      Duracell - C Batteries (4-Pack) Compatible wit...   \n",
       "...                                                  ...   \n",
       "51641  Honeywell - True HEPA Replacement Filters for ...   \n",
       "51642  Dyson - Hard Floor Wipes for Dyson Hard DC56 V...   \n",
       "51643  Aleratec - Drive Enclosure - Internal - Black ...   \n",
       "51644  Amazon - Fire TV Stick Streams 1080p content; ...   \n",
       "51645  Proctor Silex - 4-Slice Toaster Oven - White P...   \n",
       "\n",
       "                                                category  \\\n",
       "0      [{'id': 'pcmcat312300050015', 'name': 'Connect...   \n",
       "1      [{'id': 'pcmcat312300050015', 'name': 'Connect...   \n",
       "2      [{'id': 'pcmcat312300050015', 'name': 'Connect...   \n",
       "3      [{'id': 'pcmcat312300050015', 'name': 'Connect...   \n",
       "4      [{'id': 'pcmcat312300050015', 'name': 'Connect...   \n",
       "...                                                  ...   \n",
       "51641  [{'id': 'abcat0900000', 'name': 'Appliances'},...   \n",
       "51642  [{'id': 'abcat0900000', 'name': 'Appliances'},...   \n",
       "51643  [{'id': 'abcat0500000', 'name': 'Computers & T...   \n",
       "51644  [{'id': 'abcat0100000', 'name': 'TV & Home The...   \n",
       "51645  [{'id': 'abcat0900000', 'name': 'Appliances'},...   \n",
       "\n",
       "                                                   image  \\\n",
       "0      http://www.bestbuy.com/site/duracell-aaa-batte...   \n",
       "1      http://www.bestbuy.com/site/duracell-aa-1-5v-c...   \n",
       "2      http://www.bestbuy.com/site/duracell-aa-batter...   \n",
       "3      http://www.bestbuy.com/site/energizer-max-batt...   \n",
       "4      http://www.bestbuy.com/site/duracell-c-batteri...   \n",
       "...                                                  ...   \n",
       "51641  http://www.bestbuy.com/site/honeywell-true-hep...   \n",
       "51642  http://www.bestbuy.com/site/dyson-hard-floor-w...   \n",
       "51643  http://www.bestbuy.com/site/aleratec-drive-enc...   \n",
       "51644  http://www.bestbuy.com/site/amazon-fire-tv-sti...   \n",
       "51645  http://www.bestbuy.com/site/proctor-silex-4-sl...   \n",
       "\n",
       "                                    name_and_description  \n",
       "0      duracel aaa batteri 4pack compat select electr...  \n",
       "1      duracel aa 15v coppertop batteri 4pack longlas...  \n",
       "2      duracel aa batteri 8pack compat select electro...  \n",
       "3      energ max batteri aa 4pack 4pack aa alkalin ba...  \n",
       "4      duracel c batteri 4pack compat select electron...  \n",
       "...                                                  ...  \n",
       "51641  honeywel true hepa replac filter select honeyw...  \n",
       "51642  dyson hard floor wipe dyson hard dc56 vacuum 1...  \n",
       "51643  aleratec drive enclosur intern black 1 x total...  \n",
       "51644  amazon fire tv stick stream 1080p content dual...  \n",
       "51645  proctor silex 4slice toaster oven white procto...  \n",
       "\n",
       "[51646 rows x 6 columns]"
      ]
     },
     "execution_count": 14,
     "metadata": {},
     "output_type": "execute_result"
    }
   ],
   "source": [
    "df"
   ]
  },
  {
   "cell_type": "code",
   "execution_count": 15,
   "metadata": {},
   "outputs": [],
   "source": [
    "name = df['name'].apply(str)\n",
    "description = df['description'].apply(str)\n",
    "name_and_description = df['name_and_description'].apply(str)\n",
    "image = df['image']"
   ]
  },
  {
   "cell_type": "code",
   "execution_count": 16,
   "metadata": {},
   "outputs": [],
   "source": [
    "X_a = name"
   ]
  },
  {
   "attachments": {},
   "cell_type": "markdown",
   "metadata": {},
   "source": [
    "### Train/Test split"
   ]
  },
  {
   "cell_type": "code",
   "execution_count": 17,
   "metadata": {},
   "outputs": [],
   "source": [
    "X_a_train, X_a_test, y_train, y_test = train_test_split(\n",
    "    X_a, y,\n",
    "    test_size=0.20, \n",
    "    random_state=42,\n",
    "    stratify = y\n",
    ")"
   ]
  },
  {
   "cell_type": "code",
   "execution_count": 18,
   "metadata": {},
   "outputs": [
    {
     "data": {
      "text/plain": [
       "7029                conair suprem 2in1 hot air brush white\n",
       "26164    hp slimlin desktop intel pentium 4gb memori 50...\n",
       "46217    mb quart discu 1200w class sq ab bridgeabl 2ch...\n",
       "13187                  sabr window glass alarm 2pack white\n",
       "41483                   elit beat agent preown nintendo ds\n",
       "Name: name, dtype: object"
      ]
     },
     "execution_count": 18,
     "metadata": {},
     "output_type": "execute_result"
    }
   ],
   "source": [
    "X_a_train.head()"
   ]
  },
  {
   "attachments": {},
   "cell_type": "markdown",
   "metadata": {},
   "source": [
    "### Feature engineering"
   ]
  },
  {
   "cell_type": "code",
   "execution_count": 19,
   "metadata": {},
   "outputs": [
    {
     "data": {
      "text/html": [
       "<style>#sk-container-id-1 {color: black;background-color: white;}#sk-container-id-1 pre{padding: 0;}#sk-container-id-1 div.sk-toggleable {background-color: white;}#sk-container-id-1 label.sk-toggleable__label {cursor: pointer;display: block;width: 100%;margin-bottom: 0;padding: 0.3em;box-sizing: border-box;text-align: center;}#sk-container-id-1 label.sk-toggleable__label-arrow:before {content: \"▸\";float: left;margin-right: 0.25em;color: #696969;}#sk-container-id-1 label.sk-toggleable__label-arrow:hover:before {color: black;}#sk-container-id-1 div.sk-estimator:hover label.sk-toggleable__label-arrow:before {color: black;}#sk-container-id-1 div.sk-toggleable__content {max-height: 0;max-width: 0;overflow: hidden;text-align: left;background-color: #f0f8ff;}#sk-container-id-1 div.sk-toggleable__content pre {margin: 0.2em;color: black;border-radius: 0.25em;background-color: #f0f8ff;}#sk-container-id-1 input.sk-toggleable__control:checked~div.sk-toggleable__content {max-height: 200px;max-width: 100%;overflow: auto;}#sk-container-id-1 input.sk-toggleable__control:checked~label.sk-toggleable__label-arrow:before {content: \"▾\";}#sk-container-id-1 div.sk-estimator input.sk-toggleable__control:checked~label.sk-toggleable__label {background-color: #d4ebff;}#sk-container-id-1 div.sk-label input.sk-toggleable__control:checked~label.sk-toggleable__label {background-color: #d4ebff;}#sk-container-id-1 input.sk-hidden--visually {border: 0;clip: rect(1px 1px 1px 1px);clip: rect(1px, 1px, 1px, 1px);height: 1px;margin: -1px;overflow: hidden;padding: 0;position: absolute;width: 1px;}#sk-container-id-1 div.sk-estimator {font-family: monospace;background-color: #f0f8ff;border: 1px dotted black;border-radius: 0.25em;box-sizing: border-box;margin-bottom: 0.5em;}#sk-container-id-1 div.sk-estimator:hover {background-color: #d4ebff;}#sk-container-id-1 div.sk-parallel-item::after {content: \"\";width: 100%;border-bottom: 1px solid gray;flex-grow: 1;}#sk-container-id-1 div.sk-label:hover label.sk-toggleable__label {background-color: #d4ebff;}#sk-container-id-1 div.sk-serial::before {content: \"\";position: absolute;border-left: 1px solid gray;box-sizing: border-box;top: 0;bottom: 0;left: 50%;z-index: 0;}#sk-container-id-1 div.sk-serial {display: flex;flex-direction: column;align-items: center;background-color: white;padding-right: 0.2em;padding-left: 0.2em;position: relative;}#sk-container-id-1 div.sk-item {position: relative;z-index: 1;}#sk-container-id-1 div.sk-parallel {display: flex;align-items: stretch;justify-content: center;background-color: white;position: relative;}#sk-container-id-1 div.sk-item::before, #sk-container-id-1 div.sk-parallel-item::before {content: \"\";position: absolute;border-left: 1px solid gray;box-sizing: border-box;top: 0;bottom: 0;left: 50%;z-index: -1;}#sk-container-id-1 div.sk-parallel-item {display: flex;flex-direction: column;z-index: 1;position: relative;background-color: white;}#sk-container-id-1 div.sk-parallel-item:first-child::after {align-self: flex-end;width: 50%;}#sk-container-id-1 div.sk-parallel-item:last-child::after {align-self: flex-start;width: 50%;}#sk-container-id-1 div.sk-parallel-item:only-child::after {width: 0;}#sk-container-id-1 div.sk-dashed-wrapped {border: 1px dashed gray;margin: 0 0.4em 0.5em 0.4em;box-sizing: border-box;padding-bottom: 0.4em;background-color: white;}#sk-container-id-1 div.sk-label label {font-family: monospace;font-weight: bold;display: inline-block;line-height: 1.2em;}#sk-container-id-1 div.sk-label-container {text-align: center;}#sk-container-id-1 div.sk-container {/* jupyter's `normalize.less` sets `[hidden] { display: none; }` but bootstrap.min.css set `[hidden] { display: none !important; }` so we also need the `!important` here to be able to override the default hidden behavior on the sphinx rendered scikit-learn.org. See: https://github.com/scikit-learn/scikit-learn/issues/21755 */display: inline-block !important;position: relative;}#sk-container-id-1 div.sk-text-repr-fallback {display: none;}</style><div id=\"sk-container-id-1\" class=\"sk-top-container\"><div class=\"sk-text-repr-fallback\"><pre>TfidfVectorizer(max_features=5000, ngram_range=(1, 3), use_idf=False)</pre><b>In a Jupyter environment, please rerun this cell to show the HTML representation or trust the notebook. <br />On GitHub, the HTML representation is unable to render, please try loading this page with nbviewer.org.</b></div><div class=\"sk-container\" hidden><div class=\"sk-item\"><div class=\"sk-estimator sk-toggleable\"><input class=\"sk-toggleable__control sk-hidden--visually\" id=\"sk-estimator-id-1\" type=\"checkbox\" checked><label for=\"sk-estimator-id-1\" class=\"sk-toggleable__label sk-toggleable__label-arrow\">TfidfVectorizer</label><div class=\"sk-toggleable__content\"><pre>TfidfVectorizer(max_features=5000, ngram_range=(1, 3), use_idf=False)</pre></div></div></div></div></div>"
      ],
      "text/plain": [
       "TfidfVectorizer(max_features=5000, ngram_range=(1, 3), use_idf=False)"
      ]
     },
     "execution_count": 19,
     "metadata": {},
     "output_type": "execute_result"
    }
   ],
   "source": [
    "tfid_vectorizer_BL0 = TfidfVectorizer(max_features=5000,\n",
    "                                      ngram_range=(1, 3),\n",
    "                                      use_idf=False,\n",
    "                                     ) \n",
    "tfid_vectorizer_BL0.fit(X_a_train)\n",
    "#joblib.dump(tfid_vectorizer_BL0, '/home/app/src/model/vect_BL0')"
   ]
  },
  {
   "cell_type": "code",
   "execution_count": 20,
   "metadata": {},
   "outputs": [],
   "source": [
    "X_a_train = tfid_vectorizer_BL0.transform(X_a_train)\n",
    "X_a_test = tfid_vectorizer_BL0.transform(X_a_test)"
   ]
  },
  {
   "cell_type": "code",
   "execution_count": 21,
   "metadata": {},
   "outputs": [
    {
     "data": {
      "text/plain": [
       "<1x5000 sparse matrix of type '<class 'numpy.float64'>'\n",
       "\twith 6 stored elements in Compressed Sparse Row format>"
      ]
     },
     "execution_count": 21,
     "metadata": {},
     "output_type": "execute_result"
    }
   ],
   "source": [
    "X_a_train[0]"
   ]
  },
  {
   "attachments": {},
   "cell_type": "markdown",
   "metadata": {},
   "source": [
    "### Modelling"
   ]
  },
  {
   "cell_type": "code",
   "execution_count": 22,
   "metadata": {},
   "outputs": [],
   "source": [
    "logreg_BL0 = LogisticRegression(max_iter=7000, \n",
    "                            n_jobs=-1, \n",
    "                            multi_class='multinomial', \n",
    "                            solver='newton-cg',\n",
    "                            random_state=42)"
   ]
  },
  {
   "cell_type": "code",
   "execution_count": 23,
   "metadata": {},
   "outputs": [
    {
     "data": {
      "text/html": [
       "<style>#sk-container-id-2 {color: black;background-color: white;}#sk-container-id-2 pre{padding: 0;}#sk-container-id-2 div.sk-toggleable {background-color: white;}#sk-container-id-2 label.sk-toggleable__label {cursor: pointer;display: block;width: 100%;margin-bottom: 0;padding: 0.3em;box-sizing: border-box;text-align: center;}#sk-container-id-2 label.sk-toggleable__label-arrow:before {content: \"▸\";float: left;margin-right: 0.25em;color: #696969;}#sk-container-id-2 label.sk-toggleable__label-arrow:hover:before {color: black;}#sk-container-id-2 div.sk-estimator:hover label.sk-toggleable__label-arrow:before {color: black;}#sk-container-id-2 div.sk-toggleable__content {max-height: 0;max-width: 0;overflow: hidden;text-align: left;background-color: #f0f8ff;}#sk-container-id-2 div.sk-toggleable__content pre {margin: 0.2em;color: black;border-radius: 0.25em;background-color: #f0f8ff;}#sk-container-id-2 input.sk-toggleable__control:checked~div.sk-toggleable__content {max-height: 200px;max-width: 100%;overflow: auto;}#sk-container-id-2 input.sk-toggleable__control:checked~label.sk-toggleable__label-arrow:before {content: \"▾\";}#sk-container-id-2 div.sk-estimator input.sk-toggleable__control:checked~label.sk-toggleable__label {background-color: #d4ebff;}#sk-container-id-2 div.sk-label input.sk-toggleable__control:checked~label.sk-toggleable__label {background-color: #d4ebff;}#sk-container-id-2 input.sk-hidden--visually {border: 0;clip: rect(1px 1px 1px 1px);clip: rect(1px, 1px, 1px, 1px);height: 1px;margin: -1px;overflow: hidden;padding: 0;position: absolute;width: 1px;}#sk-container-id-2 div.sk-estimator {font-family: monospace;background-color: #f0f8ff;border: 1px dotted black;border-radius: 0.25em;box-sizing: border-box;margin-bottom: 0.5em;}#sk-container-id-2 div.sk-estimator:hover {background-color: #d4ebff;}#sk-container-id-2 div.sk-parallel-item::after {content: \"\";width: 100%;border-bottom: 1px solid gray;flex-grow: 1;}#sk-container-id-2 div.sk-label:hover label.sk-toggleable__label {background-color: #d4ebff;}#sk-container-id-2 div.sk-serial::before {content: \"\";position: absolute;border-left: 1px solid gray;box-sizing: border-box;top: 0;bottom: 0;left: 50%;z-index: 0;}#sk-container-id-2 div.sk-serial {display: flex;flex-direction: column;align-items: center;background-color: white;padding-right: 0.2em;padding-left: 0.2em;position: relative;}#sk-container-id-2 div.sk-item {position: relative;z-index: 1;}#sk-container-id-2 div.sk-parallel {display: flex;align-items: stretch;justify-content: center;background-color: white;position: relative;}#sk-container-id-2 div.sk-item::before, #sk-container-id-2 div.sk-parallel-item::before {content: \"\";position: absolute;border-left: 1px solid gray;box-sizing: border-box;top: 0;bottom: 0;left: 50%;z-index: -1;}#sk-container-id-2 div.sk-parallel-item {display: flex;flex-direction: column;z-index: 1;position: relative;background-color: white;}#sk-container-id-2 div.sk-parallel-item:first-child::after {align-self: flex-end;width: 50%;}#sk-container-id-2 div.sk-parallel-item:last-child::after {align-self: flex-start;width: 50%;}#sk-container-id-2 div.sk-parallel-item:only-child::after {width: 0;}#sk-container-id-2 div.sk-dashed-wrapped {border: 1px dashed gray;margin: 0 0.4em 0.5em 0.4em;box-sizing: border-box;padding-bottom: 0.4em;background-color: white;}#sk-container-id-2 div.sk-label label {font-family: monospace;font-weight: bold;display: inline-block;line-height: 1.2em;}#sk-container-id-2 div.sk-label-container {text-align: center;}#sk-container-id-2 div.sk-container {/* jupyter's `normalize.less` sets `[hidden] { display: none; }` but bootstrap.min.css set `[hidden] { display: none !important; }` so we also need the `!important` here to be able to override the default hidden behavior on the sphinx rendered scikit-learn.org. See: https://github.com/scikit-learn/scikit-learn/issues/21755 */display: inline-block !important;position: relative;}#sk-container-id-2 div.sk-text-repr-fallback {display: none;}</style><div id=\"sk-container-id-2\" class=\"sk-top-container\"><div class=\"sk-text-repr-fallback\"><pre>LogisticRegression(max_iter=7000, multi_class=&#x27;multinomial&#x27;, n_jobs=-1,\n",
       "                   random_state=42, solver=&#x27;newton-cg&#x27;)</pre><b>In a Jupyter environment, please rerun this cell to show the HTML representation or trust the notebook. <br />On GitHub, the HTML representation is unable to render, please try loading this page with nbviewer.org.</b></div><div class=\"sk-container\" hidden><div class=\"sk-item\"><div class=\"sk-estimator sk-toggleable\"><input class=\"sk-toggleable__control sk-hidden--visually\" id=\"sk-estimator-id-2\" type=\"checkbox\" checked><label for=\"sk-estimator-id-2\" class=\"sk-toggleable__label sk-toggleable__label-arrow\">LogisticRegression</label><div class=\"sk-toggleable__content\"><pre>LogisticRegression(max_iter=7000, multi_class=&#x27;multinomial&#x27;, n_jobs=-1,\n",
       "                   random_state=42, solver=&#x27;newton-cg&#x27;)</pre></div></div></div></div></div>"
      ],
      "text/plain": [
       "LogisticRegression(max_iter=7000, multi_class='multinomial', n_jobs=-1,\n",
       "                   random_state=42, solver='newton-cg')"
      ]
     },
     "execution_count": 23,
     "metadata": {},
     "output_type": "execute_result"
    }
   ],
   "source": [
    "logreg_BL0.fit(X_a_train, y_train)"
   ]
  },
  {
   "cell_type": "code",
   "execution_count": 24,
   "metadata": {},
   "outputs": [],
   "source": [
    "# save the model \n",
    "# filename = '/home/app/src/model/model_BL0'\n",
    "# joblib.dump(logreg_BL0, filename)"
   ]
  },
  {
   "cell_type": "code",
   "execution_count": 25,
   "metadata": {},
   "outputs": [
    {
     "data": {
      "text/plain": [
       "(10330,)"
      ]
     },
     "execution_count": 25,
     "metadata": {},
     "output_type": "execute_result"
    }
   ],
   "source": [
    "y_pred_a = logreg_BL0.predict(X_a_test)\n",
    "y_pred_a.shape"
   ]
  },
  {
   "cell_type": "code",
   "execution_count": 26,
   "metadata": {},
   "outputs": [],
   "source": [
    "y_pred_a_prob = logreg_BL0.predict_proba(X_a_test)"
   ]
  },
  {
   "cell_type": "code",
   "execution_count": 27,
   "metadata": {},
   "outputs": [
    {
     "data": {
      "text/plain": [
       "(10330, 213)"
      ]
     },
     "execution_count": 27,
     "metadata": {},
     "output_type": "execute_result"
    }
   ],
   "source": [
    "y_pred_a_prob.shape"
   ]
  },
  {
   "cell_type": "code",
   "execution_count": 28,
   "metadata": {},
   "outputs": [
    {
     "data": {
      "text/plain": [
       "213"
      ]
     },
     "execution_count": 28,
     "metadata": {},
     "output_type": "execute_result"
    }
   ],
   "source": [
    "len(y_pred_a_prob[0])"
   ]
  },
  {
   "cell_type": "markdown",
   "metadata": {},
   "source": [
    "### Evaluation"
   ]
  },
  {
   "cell_type": "code",
   "execution_count": 29,
   "metadata": {},
   "outputs": [
    {
     "name": "stdout",
     "output_type": "stream",
     "text": [
      "Model Performance metrics:\n",
      "------------------------------\n",
      "Accuracy: 0.8191674733785091\n",
      "Precision: 0.8191674733785091\n",
      "Recall: 0.8191674733785091\n",
      "F1 Score: 0.8191674733785091\n",
      "Average distance between nodes categories: 0.40609874152952563\n",
      "Top 5 Score: 0.9613746369796708\n",
      "\n",
      "Model Classification report:\n",
      "------------------------------\n",
      "                                           precision    recall  f1-score   support\n",
      "\n",
      "                      3D Printer Filament       0.89      1.00      0.94        47\n",
      "                  A/V Cables & Connectors       0.68      0.81      0.74        90\n",
      "                  Action Camcorder Mounts       0.59      0.61      0.60        28\n",
      "           Activity Trackers & Pedometers       0.94      0.85      0.89        39\n",
      "              Adapters, Cables & Chargers       0.66      0.72      0.69        71\n",
      "                         Air Conditioners       1.00      0.96      0.98        28\n",
      "             Air Purifier Filters & Parts       0.94      0.81      0.87        21\n",
      "                            Air Purifiers       0.92      0.96      0.94        24\n",
      "               All Cell Phones with Plans       0.94      0.88      0.91        33\n",
      "                             All Desktops       0.93      0.98      0.96        88\n",
      "                       All Flat-Panel TVs       0.90      0.87      0.89        31\n",
      "                           All Headphones       0.50      0.12      0.19        26\n",
      "                              All Laptops       0.83      0.88      0.85        33\n",
      "                         All Memory Cards       0.81      0.77      0.79        22\n",
      "                           All Microwaves       1.00      0.98      0.99        59\n",
      "                All Point & Shoot Cameras       0.77      0.96      0.85        24\n",
      "                             All Printers       0.98      0.94      0.96        49\n",
      "                        All Refrigerators       0.73      0.92      0.82       138\n",
      "                            All TV Stands       0.78      0.91      0.84        82\n",
      "                              All Tablets       0.90      0.98      0.94        46\n",
      "                 All Unlocked Cell Phones       0.98      1.00      0.99        61\n",
      "                      Antennas & Adapters       1.00      0.76      0.86        21\n",
      "               Apple Watch Bands & Straps       0.95      0.77      0.85        26\n",
      "            Appliance Parts & Accessories       0.89      0.89      0.89        62\n",
      "                               Appliances       0.89      0.85      0.87        20\n",
      "                                    Audio       0.86      0.83      0.84        23\n",
      "                                 Bakeware       0.90      0.75      0.82        36\n",
      "                      Best Buy Gift Cards       0.93      0.97      0.95        91\n",
      "                               Binoculars       1.00      0.97      0.99        37\n",
      "          Binoculars, Telescopes & Optics       0.97      0.95      0.96        40\n",
      "                                 Blenders       0.94      0.60      0.73        25\n",
      "            Bluetooth & Wireless Speakers       0.76      0.94      0.84       142\n",
      "                       Bookshelf Speakers       0.95      0.79      0.86        24\n",
      "                     Built-In Dishwashers       1.00      1.00      1.00        53\n",
      "                   CD & DVD Media Storage       0.76      0.88      0.81        25\n",
      "                  CD Players & Turntables       0.72      0.86      0.78        21\n",
      "                    Camcorder Accessories       0.56      0.26      0.35        35\n",
      "              Camera Bags, Cases & Straps       0.75      0.67      0.71        27\n",
      "                         Camera Batteries       0.67      0.91      0.77        44\n",
      "                 Camera Batteries & Power       0.71      0.60      0.65        25\n",
      "                           Car Amplifiers       0.92      0.96      0.94        24\n",
      "             Car Audio Installation Parts       0.76      0.60      0.67        52\n",
      "                             Car Chargers       0.65      0.65      0.65        20\n",
      "                    Car Electronics & GPS       0.76      0.51      0.61        43\n",
      "     Car Installation Parts & Accessories       0.85      0.39      0.54        28\n",
      "                             Car Speakers       0.93      0.93      0.93        28\n",
      "                     Car Stereo Receivers       0.92      0.92      0.92        24\n",
      "                           Car Subwoofers       0.91      0.87      0.89        23\n",
      "                                    Cases       0.77      0.77      0.77        53\n",
      "          Cases, Covers & Keyboard Folios       0.76      0.87      0.81       112\n",
      "                   Cell Phone Accessories       0.71      0.65      0.68        57\n",
      "             Cell Phone Batteries & Power       0.51      0.41      0.46        44\n",
      "                 Cell Phone Cases & Clips       0.90      0.92      0.91       370\n",
      "                              Cell Phones       0.89      0.80      0.85        51\n",
      "                            Coffee Makers       0.69      0.55      0.61        20\n",
      "                              Coffee Pods       0.95      0.90      0.93        21\n",
      "                   Coffee, Tea & Espresso       0.82      0.78      0.80        46\n",
      "       Computer Accessories & Peripherals       0.89      0.46      0.61        37\n",
      "              Computer Cards & Components       0.94      0.86      0.90        71\n",
      "                       Computer Keyboards       0.82      1.00      0.90        23\n",
      "                           Connected Home       0.69      0.83      0.75        58\n",
      "              Connected Home & Housewares       0.81      0.69      0.75        32\n",
      "                                 Cooktops       1.00      1.00      1.00        51\n",
      "                                 Cookware       0.89      0.95      0.92        97\n",
      "                  DJ & Lighting Equipment       0.77      0.70      0.73        33\n",
      "                              DSLR Lenses       0.68      0.80      0.74        35\n",
      "                   Dash Installation Kits       0.92      0.96      0.94       148\n",
      "                           Deck Harnesses       0.85      0.82      0.84        34\n",
      "                                    Desks       0.93      0.83      0.88        30\n",
      "               Digital Camera Accessories       0.76      0.52      0.61        66\n",
      "                          Digital Cameras       0.92      1.00      0.96        36\n",
      "                     Drones & Accessories       0.92      0.71      0.80        31\n",
      "                       Drums & Percussion       0.97      0.91      0.94        33\n",
      "               Earbud & In-Ear Headphones       0.85      0.93      0.89        80\n",
      "                          Electric Dryers       1.00      1.00      1.00        26\n",
      "            Electric Griddles & Hotplates       0.71      0.48      0.57        21\n",
      "                          Electric Ranges       0.95      0.98      0.97        61\n",
      "                     Electric Tea Kettles       0.90      0.78      0.84        23\n",
      "                     External Hard Drives       0.83      0.83      0.83        24\n",
      "                                     Fans       0.98      1.00      0.99        49\n",
      "                    Filters & Accessories       0.90      0.97      0.93        64\n",
      "                               Fireplaces       0.92      0.77      0.84        31\n",
      "                    Fitness & GPS Watches       0.90      0.95      0.92        39\n",
      "                    Flashes & Accessories       0.79      0.70      0.75        27\n",
      "                Food Preparation Utensils       0.79      0.64      0.70        69\n",
      "                    Freezers & Ice Makers       0.86      0.93      0.89        27\n",
      "                       Full-Size Blenders       0.75      0.91      0.82        23\n",
      "                        Furniture & Decor       0.79      0.60      0.68        25\n",
      "             GPS Navigation & Accessories       0.76      0.83      0.79        35\n",
      "                Game Room & Bar Furniture       1.00      0.91      0.95        34\n",
      "                               Gas Dryers       1.00      1.00      1.00        23\n",
      "                               Gas Ranges       1.00      1.00      1.00        57\n",
      "                                   Grills       0.92      0.77      0.84        31\n",
      "                       Guitar Accessories       0.96      0.66      0.78        38\n",
      "                                Hair Care       0.93      0.82      0.87        34\n",
      "                    Hard Drives & Storage       0.79      0.89      0.84        38\n",
      "                               Headphones       0.62      0.61      0.61        38\n",
      "             Health & Fitness Accessories       0.94      0.83      0.88        36\n",
      "                 Health, Fitness & Beauty       0.89      0.47      0.62        36\n",
      "                                  Heaters       0.97      1.00      0.99        33\n",
      "                               Home Audio       0.35      0.32      0.33        25\n",
      "                      Household Batteries       0.82      0.92      0.87        36\n",
      "                              Humidifiers       0.96      0.93      0.95        28\n",
      "                      In-Ceiling Speakers       0.86      0.90      0.88        21\n",
      "            In-Wall & In-Ceiling Speakers       0.83      0.75      0.79        20\n",
      "           Instrument Instructional Books       0.74      0.58      0.65        24\n",
      "                       Internal Batteries       0.87      0.72      0.79        47\n",
      "                                Keyboards       0.90      0.90      0.90        20\n",
      "                          Kitchen Gadgets       0.93      0.63      0.75        43\n",
      "                             LED Monitors       0.65      1.00      0.79        33\n",
      "                      Laptop Bags & Cases       0.90      0.93      0.92        87\n",
      "                         Laptop Batteries       1.00      0.96      0.98        52\n",
      "               Laptop Chargers & Adapters       0.76      0.70      0.73        23\n",
      "                     Learning & Education       0.73      0.76      0.74        21\n",
      "                    Living Room Furniture       0.76      0.76      0.76        29\n",
      "                                  Luggage       1.00      0.87      0.93        31\n",
      "   Magnolia TV Stands, Mounts & Furniture       0.85      0.68      0.76        25\n",
      "                     Marine & Powersports       0.88      0.70      0.78        33\n",
      "                                     Mice       0.83      0.93      0.88        27\n",
      "                              Microphones       0.69      0.92      0.79        36\n",
      "                Microphones & Accessories       0.62      0.75      0.68        20\n",
      "                 Microphones & Live Sound       0.66      0.62      0.64        34\n",
      "                        Mirrorless Lenses       0.63      0.60      0.62        20\n",
      "               Mixers & Mixer Accessories       0.91      1.00      0.95        39\n",
      "             Monitor & Screen Accessories       0.75      0.45      0.56        20\n",
      "                                 Monitors       0.88      0.29      0.44        24\n",
      "                  Multi-Cup Coffee Makers       0.77      0.74      0.75        27\n",
      "           Musical Instrument Accessories       0.57      0.51      0.54        65\n",
      "                      Musical Instruments       0.87      0.59      0.70        70\n",
      "                              Name Brands       0.61      0.26      0.36        43\n",
      "                    Networking & Wireless       0.91      0.91      0.91        46\n",
      "                             Nintendo 3DS       0.96      0.92      0.94        24\n",
      "                        Nintendo DS Games       0.89      0.97      0.93        34\n",
      "                            Office Chairs       0.92      0.97      0.95        37\n",
      "                       Office Electronics       0.96      0.73      0.83        33\n",
      "               Office Furniture & Storage       0.82      0.62      0.71        29\n",
      "                        On-Ear Headphones       0.78      0.89      0.83        35\n",
      "                          Outdoor Heating       0.90      0.86      0.88        21\n",
      "                          Outdoor Seating       0.88      0.96      0.92        24\n",
      "                         Outdoor Speakers       0.84      0.87      0.86        31\n",
      "                      Over-Ear Headphones       0.74      0.90      0.81        39\n",
      "                                PC Gaming       1.00      0.17      0.29        24\n",
      "                               PC Laptops       0.93      0.99      0.96        69\n",
      "                                PS3 Games       0.54      0.19      0.28        37\n",
      "                                PS4 Games       0.55      0.86      0.67        51\n",
      "                  Patio Furniture & Decor       0.90      0.90      0.90        48\n",
      "                                   Pedals       0.79      0.52      0.63        21\n",
      "                   Personal Care & Beauty       0.88      0.85      0.86        41\n",
      "                  Photography Accessories       1.00      0.65      0.79        23\n",
      "                    Point & Shoot Cameras       1.00      0.20      0.33        20\n",
      "            Portable Chargers/Power Packs       0.75      0.86      0.80        69\n",
      "                          Pre-Owned Games       0.99      1.00      1.00       711\n",
      "                             Prime Lenses       0.65      0.71      0.68        21\n",
      "                              Printer Ink       0.91      0.98      0.94       100\n",
      "                        Projector Screens       1.00      1.00      1.00        23\n",
      "                               Projectors       1.00      0.96      0.98        28\n",
      "                   Receivers & Amplifiers       0.83      0.74      0.78        34\n",
      "                      Recording Equipment       0.57      0.38      0.46        55\n",
      "                            Refrigerators       0.68      0.34      0.45        56\n",
      "                        Screen Protectors       0.96      0.92      0.94        25\n",
      "                  Security Camera Systems       0.96      0.92      0.94        24\n",
      "          Security Cameras & Surveillance       0.87      0.69      0.77        29\n",
      "                       Shavers & Trimmers       0.92      0.83      0.87        29\n",
      "                              Sheet Music       0.81      0.93      0.86       124\n",
      "                       Sheet Music & DVDs       0.88      0.35      0.50        20\n",
      "                             Single Ovens       1.00      1.00      1.00        22\n",
      " Slow Cookers, Crock Pots & Roaster Ovens       0.95      0.70      0.81        30\n",
      "                 Small Kitchen Appliances       0.79      0.77      0.78        73\n",
      "                         Smartwatch Bands       0.90      0.98      0.94        47\n",
      "                                 Software       0.73      0.96      0.83        77\n",
      "                               Sound Bars       1.00      0.78      0.88        23\n",
      "                      Speaker Accessories       0.78      0.58      0.67        36\n",
      "                                 Speakers       0.86      0.80      0.83        61\n",
      "                     Specialty Appliances       0.88      0.92      0.90        61\n",
      "Steamers, Rice Cookers & Pressure Cookers       0.82      0.75      0.78        24\n",
      "                 Surge Protectors & Power       0.75      0.89      0.81        27\n",
      "                                  Systems       0.68      0.90      0.78        21\n",
      "                        TV & Home Theater       0.89      0.70      0.78        23\n",
      "            TV & Home Theater Accessories       0.81      0.58      0.68        43\n",
      "                                TV Mounts       0.97      0.84      0.90        45\n",
      "               TV, Movie & Character Toys       0.89      0.59      0.71        27\n",
      "                                      TVs       0.81      0.77      0.79        22\n",
      "                                  Tablets       1.00      0.81      0.89        21\n",
      "                    Telephone Accessories       1.00      0.77      0.87        22\n",
      "               Telephones & Communication       0.83      0.74      0.78        27\n",
      "                                 Toasters       0.94      1.00      0.97        29\n",
      "                                    Toner       0.88      0.91      0.90        67\n",
      "                             Toys to Life       0.89      1.00      0.94        49\n",
      "                     Toys, Games & Drones       0.78      0.78      0.78        55\n",
      "                       Tripods & Monopods       0.86      0.50      0.63        36\n",
      "                        USB Cables & Hubs       0.67      0.96      0.79        23\n",
      "                         USB Flash Drives       0.98      0.98      0.98        64\n",
      "            Universal Camera Bags & Cases       0.59      0.73      0.65        33\n",
      "          Vacuum & Floor Care Accessories       0.82      0.82      0.82        38\n",
      "             Vacuum Cleaners & Floor Care       0.91      0.90      0.91        69\n",
      "                   Video Game Accessories       0.64      0.41      0.50        22\n",
      "                              Video Games       0.83      0.59      0.69        58\n",
      "                                 Wall Art       0.96      0.92      0.94        25\n",
      "           Wall Chargers & Power Adapters       0.59      0.45      0.51        22\n",
      "                   Wall Mount Range Hoods       0.89      1.00      0.94        42\n",
      "                               Wall Ovens       1.00      1.00      1.00        23\n",
      "                         Washing Machines       1.00      1.00      1.00        27\n",
      "                                      Wii       0.61      0.74      0.67        23\n",
      "                           Xbox 360 Games       0.86      0.90      0.88        41\n",
      "                                 Xbox One       0.90      0.90      0.90        20\n",
      "                           Xbox One Games       0.96      1.00      0.98        43\n",
      "                iPad & Tablet Accessories       0.87      0.57      0.69        60\n",
      "                          iPhone 6s Cases       0.84      0.63      0.72        43\n",
      "                     iPhone 6s Plus Cases       0.79      0.44      0.56        25\n",
      "                       iPhone Accessories       0.67      0.32      0.44        37\n",
      "                     iPhone Cases & Clips       0.78      0.96      0.86       311\n",
      "            iPod & MP3 Player Accessories       0.64      0.31      0.42        29\n",
      "                                    other       0.47      0.69      0.56       556\n",
      "\n",
      "                                 accuracy                           0.82     10330\n",
      "                                macro avg       0.84      0.78      0.80     10330\n",
      "                             weighted avg       0.83      0.82      0.81     10330\n",
      "\n"
     ]
    }
   ],
   "source": [
    "evaluation.get_performance(model=logreg_BL0,\n",
    "                           pred_labels=y_pred_a, \n",
    "                           true_labels=y_test,\n",
    "                           vectorizer=tfid_vectorizer_BL0,\n",
    "                           probs=y_pred_a_prob,\n",
    "                           average='micro',\n",
    "                           tree= tree_dict)"
   ]
  },
  {
   "attachments": {},
   "cell_type": "markdown",
   "metadata": {},
   "source": [
    "## 2. Model B: Trained with name and descriptions"
   ]
  },
  {
   "cell_type": "code",
   "execution_count": 30,
   "metadata": {},
   "outputs": [
    {
     "data": {
      "text/plain": [
       "0    duracel aaa batteri 4pack compat select electr...\n",
       "1    duracel aa 15v coppertop batteri 4pack longlas...\n",
       "2    duracel aa batteri 8pack compat select electro...\n",
       "3    energ max batteri aa 4pack 4pack aa alkalin ba...\n",
       "4    duracel c batteri 4pack compat select electron...\n",
       "Name: name_and_description, dtype: object"
      ]
     },
     "execution_count": 30,
     "metadata": {},
     "output_type": "execute_result"
    }
   ],
   "source": [
    "X_b = name_and_description\n",
    "X_b.head()"
   ]
  },
  {
   "cell_type": "code",
   "execution_count": 31,
   "metadata": {},
   "outputs": [],
   "source": [
    "X_b_train, X_b_test, y_train, y_test = train_test_split(\n",
    "    X_b, y,\n",
    "    test_size=0.20, \n",
    "    random_state=42,\n",
    "    stratify = y\n",
    ")"
   ]
  },
  {
   "cell_type": "code",
   "execution_count": 32,
   "metadata": {},
   "outputs": [
    {
     "data": {
      "text/plain": [
       "7029     conair suprem 2in1 hot air brush white 150 wat...\n",
       "26164    hp slimlin desktop intel pentium 4gb memori 50...\n",
       "46217    mb quart discu 1200w class sq ab bridgeabl 2ch...\n",
       "13187    sabr window glass alarm 2pack white sabr windo...\n",
       "41483    elit beat agent preown nintendo ds prepar rock...\n",
       "Name: name_and_description, dtype: object"
      ]
     },
     "execution_count": 32,
     "metadata": {},
     "output_type": "execute_result"
    }
   ],
   "source": [
    "X_b_train.head()"
   ]
  },
  {
   "attachments": {},
   "cell_type": "markdown",
   "metadata": {},
   "source": [
    "Feature engeneetring"
   ]
  },
  {
   "cell_type": "code",
   "execution_count": 33,
   "metadata": {},
   "outputs": [],
   "source": [
    "tfid_vectorizer_BL1 = TfidfVectorizer(max_features=3000,\n",
    "                                  ngram_range=(1, 2),\n",
    "                                  use_idf=False,\n",
    "                                  min_df=1,\n",
    "                                  norm='l2',\n",
    "                                  smooth_idf=True\n",
    "                                 )"
   ]
  },
  {
   "cell_type": "code",
   "execution_count": 34,
   "metadata": {},
   "outputs": [
    {
     "data": {
      "text/html": [
       "<style>#sk-container-id-3 {color: black;background-color: white;}#sk-container-id-3 pre{padding: 0;}#sk-container-id-3 div.sk-toggleable {background-color: white;}#sk-container-id-3 label.sk-toggleable__label {cursor: pointer;display: block;width: 100%;margin-bottom: 0;padding: 0.3em;box-sizing: border-box;text-align: center;}#sk-container-id-3 label.sk-toggleable__label-arrow:before {content: \"▸\";float: left;margin-right: 0.25em;color: #696969;}#sk-container-id-3 label.sk-toggleable__label-arrow:hover:before {color: black;}#sk-container-id-3 div.sk-estimator:hover label.sk-toggleable__label-arrow:before {color: black;}#sk-container-id-3 div.sk-toggleable__content {max-height: 0;max-width: 0;overflow: hidden;text-align: left;background-color: #f0f8ff;}#sk-container-id-3 div.sk-toggleable__content pre {margin: 0.2em;color: black;border-radius: 0.25em;background-color: #f0f8ff;}#sk-container-id-3 input.sk-toggleable__control:checked~div.sk-toggleable__content {max-height: 200px;max-width: 100%;overflow: auto;}#sk-container-id-3 input.sk-toggleable__control:checked~label.sk-toggleable__label-arrow:before {content: \"▾\";}#sk-container-id-3 div.sk-estimator input.sk-toggleable__control:checked~label.sk-toggleable__label {background-color: #d4ebff;}#sk-container-id-3 div.sk-label input.sk-toggleable__control:checked~label.sk-toggleable__label {background-color: #d4ebff;}#sk-container-id-3 input.sk-hidden--visually {border: 0;clip: rect(1px 1px 1px 1px);clip: rect(1px, 1px, 1px, 1px);height: 1px;margin: -1px;overflow: hidden;padding: 0;position: absolute;width: 1px;}#sk-container-id-3 div.sk-estimator {font-family: monospace;background-color: #f0f8ff;border: 1px dotted black;border-radius: 0.25em;box-sizing: border-box;margin-bottom: 0.5em;}#sk-container-id-3 div.sk-estimator:hover {background-color: #d4ebff;}#sk-container-id-3 div.sk-parallel-item::after {content: \"\";width: 100%;border-bottom: 1px solid gray;flex-grow: 1;}#sk-container-id-3 div.sk-label:hover label.sk-toggleable__label {background-color: #d4ebff;}#sk-container-id-3 div.sk-serial::before {content: \"\";position: absolute;border-left: 1px solid gray;box-sizing: border-box;top: 0;bottom: 0;left: 50%;z-index: 0;}#sk-container-id-3 div.sk-serial {display: flex;flex-direction: column;align-items: center;background-color: white;padding-right: 0.2em;padding-left: 0.2em;position: relative;}#sk-container-id-3 div.sk-item {position: relative;z-index: 1;}#sk-container-id-3 div.sk-parallel {display: flex;align-items: stretch;justify-content: center;background-color: white;position: relative;}#sk-container-id-3 div.sk-item::before, #sk-container-id-3 div.sk-parallel-item::before {content: \"\";position: absolute;border-left: 1px solid gray;box-sizing: border-box;top: 0;bottom: 0;left: 50%;z-index: -1;}#sk-container-id-3 div.sk-parallel-item {display: flex;flex-direction: column;z-index: 1;position: relative;background-color: white;}#sk-container-id-3 div.sk-parallel-item:first-child::after {align-self: flex-end;width: 50%;}#sk-container-id-3 div.sk-parallel-item:last-child::after {align-self: flex-start;width: 50%;}#sk-container-id-3 div.sk-parallel-item:only-child::after {width: 0;}#sk-container-id-3 div.sk-dashed-wrapped {border: 1px dashed gray;margin: 0 0.4em 0.5em 0.4em;box-sizing: border-box;padding-bottom: 0.4em;background-color: white;}#sk-container-id-3 div.sk-label label {font-family: monospace;font-weight: bold;display: inline-block;line-height: 1.2em;}#sk-container-id-3 div.sk-label-container {text-align: center;}#sk-container-id-3 div.sk-container {/* jupyter's `normalize.less` sets `[hidden] { display: none; }` but bootstrap.min.css set `[hidden] { display: none !important; }` so we also need the `!important` here to be able to override the default hidden behavior on the sphinx rendered scikit-learn.org. See: https://github.com/scikit-learn/scikit-learn/issues/21755 */display: inline-block !important;position: relative;}#sk-container-id-3 div.sk-text-repr-fallback {display: none;}</style><div id=\"sk-container-id-3\" class=\"sk-top-container\"><div class=\"sk-text-repr-fallback\"><pre>TfidfVectorizer(max_features=3000, ngram_range=(1, 2), use_idf=False)</pre><b>In a Jupyter environment, please rerun this cell to show the HTML representation or trust the notebook. <br />On GitHub, the HTML representation is unable to render, please try loading this page with nbviewer.org.</b></div><div class=\"sk-container\" hidden><div class=\"sk-item\"><div class=\"sk-estimator sk-toggleable\"><input class=\"sk-toggleable__control sk-hidden--visually\" id=\"sk-estimator-id-3\" type=\"checkbox\" checked><label for=\"sk-estimator-id-3\" class=\"sk-toggleable__label sk-toggleable__label-arrow\">TfidfVectorizer</label><div class=\"sk-toggleable__content\"><pre>TfidfVectorizer(max_features=3000, ngram_range=(1, 2), use_idf=False)</pre></div></div></div></div></div>"
      ],
      "text/plain": [
       "TfidfVectorizer(max_features=3000, ngram_range=(1, 2), use_idf=False)"
      ]
     },
     "execution_count": 34,
     "metadata": {},
     "output_type": "execute_result"
    }
   ],
   "source": [
    "tfid_vectorizer_BL1.fit(X_b_train)\n",
    "#joblib.dump(tfid_vectorizer_BL1, '/home/app/src/model/vect_BL1')"
   ]
  },
  {
   "cell_type": "code",
   "execution_count": 35,
   "metadata": {},
   "outputs": [],
   "source": [
    "X_b_train = tfid_vectorizer_BL1.transform(X_b_train)\n",
    "X_b_test = tfid_vectorizer_BL1.transform(X_b_test)"
   ]
  },
  {
   "cell_type": "code",
   "execution_count": 36,
   "metadata": {},
   "outputs": [
    {
     "data": {
      "text/plain": [
       "<1x3000 sparse matrix of type '<class 'numpy.float64'>'\n",
       "\twith 22 stored elements in Compressed Sparse Row format>"
      ]
     },
     "execution_count": 36,
     "metadata": {},
     "output_type": "execute_result"
    }
   ],
   "source": [
    "X_b_train[0]"
   ]
  },
  {
   "attachments": {},
   "cell_type": "markdown",
   "metadata": {},
   "source": [
    "### Modelling"
   ]
  },
  {
   "cell_type": "code",
   "execution_count": 37,
   "metadata": {},
   "outputs": [],
   "source": [
    "logreg_BL1 = LogisticRegression(max_iter=2500, \n",
    "                            n_jobs=-1, \n",
    "                            multi_class='multinomial', \n",
    "                            solver='newton-cg',\n",
    "                            random_state=42)"
   ]
  },
  {
   "cell_type": "code",
   "execution_count": 38,
   "metadata": {},
   "outputs": [
    {
     "data": {
      "text/html": [
       "<style>#sk-container-id-4 {color: black;background-color: white;}#sk-container-id-4 pre{padding: 0;}#sk-container-id-4 div.sk-toggleable {background-color: white;}#sk-container-id-4 label.sk-toggleable__label {cursor: pointer;display: block;width: 100%;margin-bottom: 0;padding: 0.3em;box-sizing: border-box;text-align: center;}#sk-container-id-4 label.sk-toggleable__label-arrow:before {content: \"▸\";float: left;margin-right: 0.25em;color: #696969;}#sk-container-id-4 label.sk-toggleable__label-arrow:hover:before {color: black;}#sk-container-id-4 div.sk-estimator:hover label.sk-toggleable__label-arrow:before {color: black;}#sk-container-id-4 div.sk-toggleable__content {max-height: 0;max-width: 0;overflow: hidden;text-align: left;background-color: #f0f8ff;}#sk-container-id-4 div.sk-toggleable__content pre {margin: 0.2em;color: black;border-radius: 0.25em;background-color: #f0f8ff;}#sk-container-id-4 input.sk-toggleable__control:checked~div.sk-toggleable__content {max-height: 200px;max-width: 100%;overflow: auto;}#sk-container-id-4 input.sk-toggleable__control:checked~label.sk-toggleable__label-arrow:before {content: \"▾\";}#sk-container-id-4 div.sk-estimator input.sk-toggleable__control:checked~label.sk-toggleable__label {background-color: #d4ebff;}#sk-container-id-4 div.sk-label input.sk-toggleable__control:checked~label.sk-toggleable__label {background-color: #d4ebff;}#sk-container-id-4 input.sk-hidden--visually {border: 0;clip: rect(1px 1px 1px 1px);clip: rect(1px, 1px, 1px, 1px);height: 1px;margin: -1px;overflow: hidden;padding: 0;position: absolute;width: 1px;}#sk-container-id-4 div.sk-estimator {font-family: monospace;background-color: #f0f8ff;border: 1px dotted black;border-radius: 0.25em;box-sizing: border-box;margin-bottom: 0.5em;}#sk-container-id-4 div.sk-estimator:hover {background-color: #d4ebff;}#sk-container-id-4 div.sk-parallel-item::after {content: \"\";width: 100%;border-bottom: 1px solid gray;flex-grow: 1;}#sk-container-id-4 div.sk-label:hover label.sk-toggleable__label {background-color: #d4ebff;}#sk-container-id-4 div.sk-serial::before {content: \"\";position: absolute;border-left: 1px solid gray;box-sizing: border-box;top: 0;bottom: 0;left: 50%;z-index: 0;}#sk-container-id-4 div.sk-serial {display: flex;flex-direction: column;align-items: center;background-color: white;padding-right: 0.2em;padding-left: 0.2em;position: relative;}#sk-container-id-4 div.sk-item {position: relative;z-index: 1;}#sk-container-id-4 div.sk-parallel {display: flex;align-items: stretch;justify-content: center;background-color: white;position: relative;}#sk-container-id-4 div.sk-item::before, #sk-container-id-4 div.sk-parallel-item::before {content: \"\";position: absolute;border-left: 1px solid gray;box-sizing: border-box;top: 0;bottom: 0;left: 50%;z-index: -1;}#sk-container-id-4 div.sk-parallel-item {display: flex;flex-direction: column;z-index: 1;position: relative;background-color: white;}#sk-container-id-4 div.sk-parallel-item:first-child::after {align-self: flex-end;width: 50%;}#sk-container-id-4 div.sk-parallel-item:last-child::after {align-self: flex-start;width: 50%;}#sk-container-id-4 div.sk-parallel-item:only-child::after {width: 0;}#sk-container-id-4 div.sk-dashed-wrapped {border: 1px dashed gray;margin: 0 0.4em 0.5em 0.4em;box-sizing: border-box;padding-bottom: 0.4em;background-color: white;}#sk-container-id-4 div.sk-label label {font-family: monospace;font-weight: bold;display: inline-block;line-height: 1.2em;}#sk-container-id-4 div.sk-label-container {text-align: center;}#sk-container-id-4 div.sk-container {/* jupyter's `normalize.less` sets `[hidden] { display: none; }` but bootstrap.min.css set `[hidden] { display: none !important; }` so we also need the `!important` here to be able to override the default hidden behavior on the sphinx rendered scikit-learn.org. See: https://github.com/scikit-learn/scikit-learn/issues/21755 */display: inline-block !important;position: relative;}#sk-container-id-4 div.sk-text-repr-fallback {display: none;}</style><div id=\"sk-container-id-4\" class=\"sk-top-container\"><div class=\"sk-text-repr-fallback\"><pre>LogisticRegression(max_iter=2500, multi_class=&#x27;multinomial&#x27;, n_jobs=-1,\n",
       "                   random_state=42, solver=&#x27;newton-cg&#x27;)</pre><b>In a Jupyter environment, please rerun this cell to show the HTML representation or trust the notebook. <br />On GitHub, the HTML representation is unable to render, please try loading this page with nbviewer.org.</b></div><div class=\"sk-container\" hidden><div class=\"sk-item\"><div class=\"sk-estimator sk-toggleable\"><input class=\"sk-toggleable__control sk-hidden--visually\" id=\"sk-estimator-id-4\" type=\"checkbox\" checked><label for=\"sk-estimator-id-4\" class=\"sk-toggleable__label sk-toggleable__label-arrow\">LogisticRegression</label><div class=\"sk-toggleable__content\"><pre>LogisticRegression(max_iter=2500, multi_class=&#x27;multinomial&#x27;, n_jobs=-1,\n",
       "                   random_state=42, solver=&#x27;newton-cg&#x27;)</pre></div></div></div></div></div>"
      ],
      "text/plain": [
       "LogisticRegression(max_iter=2500, multi_class='multinomial', n_jobs=-1,\n",
       "                   random_state=42, solver='newton-cg')"
      ]
     },
     "execution_count": 38,
     "metadata": {},
     "output_type": "execute_result"
    }
   ],
   "source": [
    "logreg_BL1.fit(X_b_train, y_train)"
   ]
  },
  {
   "cell_type": "code",
   "execution_count": 39,
   "metadata": {},
   "outputs": [],
   "source": [
    "# save the model to disk\n",
    "# filename = '/home/app/src/model/model_BL1'\n",
    "# joblib.dump(logreg_BL1, filename)"
   ]
  },
  {
   "cell_type": "code",
   "execution_count": 40,
   "metadata": {},
   "outputs": [],
   "source": [
    "y_pred_b = logreg_BL1.predict(X_b_test)"
   ]
  },
  {
   "cell_type": "code",
   "execution_count": 41,
   "metadata": {},
   "outputs": [],
   "source": [
    "y_pred_b_prob = logreg_BL1.predict_proba(X_b_test)"
   ]
  },
  {
   "attachments": {},
   "cell_type": "markdown",
   "metadata": {},
   "source": [
    "### Evaluation"
   ]
  },
  {
   "cell_type": "code",
   "execution_count": 42,
   "metadata": {},
   "outputs": [
    {
     "name": "stdout",
     "output_type": "stream",
     "text": [
      "Model Performance metrics:\n",
      "------------------------------\n",
      "Accuracy: 0.8207163601161666\n",
      "Precision: 0.8207163601161666\n",
      "Recall: 0.8207163601161666\n",
      "F1 Score: 0.8207163601161666\n",
      "Average distance between nodes categories: 0.3940948693126815\n",
      "Top 5 Score: 0.965053242981607\n",
      "\n",
      "Model Classification report:\n",
      "------------------------------\n",
      "                                           precision    recall  f1-score   support\n",
      "\n",
      "                      3D Printer Filament       0.87      1.00      0.93        47\n",
      "                  A/V Cables & Connectors       0.68      0.84      0.76        90\n",
      "                  Action Camcorder Mounts       0.64      0.75      0.69        28\n",
      "           Activity Trackers & Pedometers       0.95      0.95      0.95        39\n",
      "              Adapters, Cables & Chargers       0.67      0.73      0.70        71\n",
      "                         Air Conditioners       0.96      0.96      0.96        28\n",
      "             Air Purifier Filters & Parts       1.00      0.86      0.92        21\n",
      "                            Air Purifiers       0.96      0.92      0.94        24\n",
      "               All Cell Phones with Plans       0.88      0.85      0.86        33\n",
      "                             All Desktops       0.95      0.98      0.96        88\n",
      "                       All Flat-Panel TVs       0.93      0.81      0.86        31\n",
      "                           All Headphones       0.56      0.19      0.29        26\n",
      "                              All Laptops       0.84      0.82      0.83        33\n",
      "                         All Memory Cards       0.70      0.73      0.71        22\n",
      "                           All Microwaves       1.00      0.97      0.98        59\n",
      "                All Point & Shoot Cameras       0.77      0.96      0.85        24\n",
      "                             All Printers       0.98      0.94      0.96        49\n",
      "                        All Refrigerators       0.75      0.88      0.81       138\n",
      "                            All TV Stands       0.80      0.95      0.87        82\n",
      "                              All Tablets       0.94      1.00      0.97        46\n",
      "                 All Unlocked Cell Phones       0.98      1.00      0.99        61\n",
      "                      Antennas & Adapters       1.00      0.76      0.86        21\n",
      "               Apple Watch Bands & Straps       1.00      0.77      0.87        26\n",
      "            Appliance Parts & Accessories       0.89      0.77      0.83        62\n",
      "                               Appliances       0.85      0.85      0.85        20\n",
      "                                    Audio       0.78      0.78      0.78        23\n",
      "                                 Bakeware       0.93      0.75      0.83        36\n",
      "                      Best Buy Gift Cards       0.95      0.98      0.96        91\n",
      "                               Binoculars       0.97      0.97      0.97        37\n",
      "          Binoculars, Telescopes & Optics       0.93      0.93      0.93        40\n",
      "                                 Blenders       0.80      0.64      0.71        25\n",
      "            Bluetooth & Wireless Speakers       0.81      0.92      0.86       142\n",
      "                       Bookshelf Speakers       0.85      0.71      0.77        24\n",
      "                     Built-In Dishwashers       0.96      1.00      0.98        53\n",
      "                   CD & DVD Media Storage       0.87      0.80      0.83        25\n",
      "                  CD Players & Turntables       0.78      0.86      0.82        21\n",
      "                    Camcorder Accessories       0.61      0.57      0.59        35\n",
      "              Camera Bags, Cases & Straps       0.53      0.70      0.60        27\n",
      "                         Camera Batteries       0.75      0.89      0.81        44\n",
      "                 Camera Batteries & Power       0.86      0.48      0.62        25\n",
      "                           Car Amplifiers       0.92      0.96      0.94        24\n",
      "             Car Audio Installation Parts       0.84      0.60      0.70        52\n",
      "                             Car Chargers       0.71      0.60      0.65        20\n",
      "                    Car Electronics & GPS       0.63      0.56      0.59        43\n",
      "     Car Installation Parts & Accessories       0.78      0.25      0.38        28\n",
      "                             Car Speakers       0.84      0.96      0.90        28\n",
      "                     Car Stereo Receivers       0.88      0.92      0.90        24\n",
      "                           Car Subwoofers       0.91      0.91      0.91        23\n",
      "                                    Cases       0.72      0.79      0.76        53\n",
      "          Cases, Covers & Keyboard Folios       0.75      0.84      0.79       112\n",
      "                   Cell Phone Accessories       0.67      0.65      0.66        57\n",
      "             Cell Phone Batteries & Power       0.88      0.50      0.64        44\n",
      "                 Cell Phone Cases & Clips       0.87      0.92      0.90       370\n",
      "                              Cell Phones       0.89      0.80      0.85        51\n",
      "                            Coffee Makers       0.92      0.60      0.73        20\n",
      "                              Coffee Pods       1.00      0.95      0.98        21\n",
      "                   Coffee, Tea & Espresso       0.86      0.83      0.84        46\n",
      "       Computer Accessories & Peripherals       0.76      0.43      0.55        37\n",
      "              Computer Cards & Components       0.94      0.82      0.87        71\n",
      "                       Computer Keyboards       0.81      0.91      0.86        23\n",
      "                           Connected Home       0.83      0.83      0.83        58\n",
      "              Connected Home & Housewares       0.85      0.69      0.76        32\n",
      "                                 Cooktops       0.96      1.00      0.98        51\n",
      "                                 Cookware       0.90      0.98      0.94        97\n",
      "                  DJ & Lighting Equipment       0.79      0.58      0.67        33\n",
      "                              DSLR Lenses       0.70      0.80      0.75        35\n",
      "                   Dash Installation Kits       0.92      0.97      0.94       148\n",
      "                           Deck Harnesses       0.82      0.79      0.81        34\n",
      "                                    Desks       0.87      0.87      0.87        30\n",
      "               Digital Camera Accessories       0.80      0.67      0.73        66\n",
      "                          Digital Cameras       0.92      0.97      0.95        36\n",
      "                     Drones & Accessories       1.00      0.68      0.81        31\n",
      "                       Drums & Percussion       0.90      0.79      0.84        33\n",
      "               Earbud & In-Ear Headphones       0.88      0.93      0.90        80\n",
      "                          Electric Dryers       1.00      1.00      1.00        26\n",
      "            Electric Griddles & Hotplates       0.82      0.67      0.74        21\n",
      "                          Electric Ranges       1.00      0.98      0.99        61\n",
      "                     Electric Tea Kettles       0.96      0.96      0.96        23\n",
      "                     External Hard Drives       0.88      0.96      0.92        24\n",
      "                                     Fans       0.98      1.00      0.99        49\n",
      "                    Filters & Accessories       0.93      0.98      0.95        64\n",
      "                               Fireplaces       0.86      0.81      0.83        31\n",
      "                    Fitness & GPS Watches       0.92      0.92      0.92        39\n",
      "                    Flashes & Accessories       0.72      0.67      0.69        27\n",
      "                Food Preparation Utensils       0.81      0.61      0.69        69\n",
      "                    Freezers & Ice Makers       0.89      0.89      0.89        27\n",
      "                       Full-Size Blenders       0.71      0.96      0.81        23\n",
      "                        Furniture & Decor       0.86      0.72      0.78        25\n",
      "             GPS Navigation & Accessories       0.76      0.74      0.75        35\n",
      "                Game Room & Bar Furniture       0.97      0.91      0.94        34\n",
      "                               Gas Dryers       0.96      1.00      0.98        23\n",
      "                               Gas Ranges       0.95      1.00      0.97        57\n",
      "                                   Grills       1.00      0.81      0.89        31\n",
      "                       Guitar Accessories       0.86      0.82      0.84        38\n",
      "                                Hair Care       0.94      0.91      0.93        34\n",
      "                    Hard Drives & Storage       0.89      0.87      0.88        38\n",
      "                               Headphones       0.62      0.61      0.61        38\n",
      "             Health & Fitness Accessories       0.94      0.89      0.91        36\n",
      "                 Health, Fitness & Beauty       0.78      0.50      0.61        36\n",
      "                                  Heaters       1.00      1.00      1.00        33\n",
      "                               Home Audio       0.44      0.28      0.34        25\n",
      "                      Household Batteries       0.82      0.92      0.87        36\n",
      "                              Humidifiers       0.90      0.96      0.93        28\n",
      "                      In-Ceiling Speakers       0.86      0.90      0.88        21\n",
      "            In-Wall & In-Ceiling Speakers       0.92      0.60      0.73        20\n",
      "           Instrument Instructional Books       0.51      0.75      0.61        24\n",
      "                       Internal Batteries       0.92      0.94      0.93        47\n",
      "                                Keyboards       0.86      0.90      0.88        20\n",
      "                          Kitchen Gadgets       0.79      0.60      0.68        43\n",
      "                             LED Monitors       0.71      0.97      0.82        33\n",
      "                      Laptop Bags & Cases       0.89      0.97      0.93        87\n",
      "                         Laptop Batteries       1.00      0.98      0.99        52\n",
      "               Laptop Chargers & Adapters       0.76      0.70      0.73        23\n",
      "                     Learning & Education       0.81      0.81      0.81        21\n",
      "                    Living Room Furniture       0.87      0.90      0.88        29\n",
      "                                  Luggage       1.00      0.84      0.91        31\n",
      "   Magnolia TV Stands, Mounts & Furniture       0.94      0.64      0.76        25\n",
      "                     Marine & Powersports       0.90      0.58      0.70        33\n",
      "                                     Mice       0.86      0.89      0.87        27\n",
      "                              Microphones       0.72      0.92      0.80        36\n",
      "                Microphones & Accessories       0.60      0.60      0.60        20\n",
      "                 Microphones & Live Sound       0.67      0.65      0.66        34\n",
      "                        Mirrorless Lenses       0.73      0.55      0.63        20\n",
      "               Mixers & Mixer Accessories       0.93      0.97      0.95        39\n",
      "             Monitor & Screen Accessories       0.69      0.55      0.61        20\n",
      "                                 Monitors       0.85      0.46      0.59        24\n",
      "                  Multi-Cup Coffee Makers       0.78      0.78      0.78        27\n",
      "           Musical Instrument Accessories       0.62      0.62      0.62        65\n",
      "                      Musical Instruments       0.92      0.69      0.79        70\n",
      "                              Name Brands       0.75      0.21      0.33        43\n",
      "                    Networking & Wireless       0.98      0.91      0.94        46\n",
      "                             Nintendo 3DS       0.95      0.88      0.91        24\n",
      "                        Nintendo DS Games       0.89      0.97      0.93        34\n",
      "                            Office Chairs       0.97      0.97      0.97        37\n",
      "                       Office Electronics       0.96      0.73      0.83        33\n",
      "               Office Furniture & Storage       0.90      0.66      0.76        29\n",
      "                        On-Ear Headphones       0.76      0.89      0.82        35\n",
      "                          Outdoor Heating       0.95      0.86      0.90        21\n",
      "                          Outdoor Seating       0.84      0.88      0.86        24\n",
      "                         Outdoor Speakers       0.76      0.84      0.80        31\n",
      "                      Over-Ear Headphones       0.74      0.87      0.80        39\n",
      "                                PC Gaming       0.89      0.33      0.48        24\n",
      "                               PC Laptops       0.92      0.99      0.95        69\n",
      "                                PS3 Games       0.45      0.27      0.34        37\n",
      "                                PS4 Games       0.57      0.71      0.63        51\n",
      "                  Patio Furniture & Decor       0.82      0.85      0.84        48\n",
      "                                   Pedals       0.75      0.71      0.73        21\n",
      "                   Personal Care & Beauty       0.89      0.78      0.83        41\n",
      "                  Photography Accessories       1.00      0.70      0.82        23\n",
      "                    Point & Shoot Cameras       0.80      0.20      0.32        20\n",
      "            Portable Chargers/Power Packs       0.77      0.91      0.83        69\n",
      "                          Pre-Owned Games       0.99      1.00      1.00       711\n",
      "                             Prime Lenses       0.59      0.76      0.67        21\n",
      "                              Printer Ink       0.92      0.99      0.95       100\n",
      "                        Projector Screens       1.00      0.96      0.98        23\n",
      "                               Projectors       1.00      1.00      1.00        28\n",
      "                   Receivers & Amplifiers       0.85      0.65      0.73        34\n",
      "                      Recording Equipment       0.68      0.38      0.49        55\n",
      "                            Refrigerators       0.66      0.38      0.48        56\n",
      "                        Screen Protectors       0.95      0.84      0.89        25\n",
      "                  Security Camera Systems       0.95      0.79      0.86        24\n",
      "          Security Cameras & Surveillance       0.86      0.83      0.84        29\n",
      "                       Shavers & Trimmers       0.92      0.76      0.83        29\n",
      "                              Sheet Music       0.85      0.85      0.85       124\n",
      "                       Sheet Music & DVDs       0.83      0.25      0.38        20\n",
      "                             Single Ovens       1.00      0.95      0.98        22\n",
      " Slow Cookers, Crock Pots & Roaster Ovens       0.96      0.77      0.85        30\n",
      "                 Small Kitchen Appliances       0.79      0.71      0.75        73\n",
      "                         Smartwatch Bands       0.92      0.98      0.95        47\n",
      "                                 Software       0.79      0.97      0.87        77\n",
      "                               Sound Bars       0.87      0.87      0.87        23\n",
      "                      Speaker Accessories       0.82      0.64      0.72        36\n",
      "                                 Speakers       0.81      0.77      0.79        61\n",
      "                     Specialty Appliances       0.82      0.89      0.85        61\n",
      "Steamers, Rice Cookers & Pressure Cookers       0.76      0.79      0.78        24\n",
      "                 Surge Protectors & Power       0.74      0.85      0.79        27\n",
      "                                  Systems       0.72      1.00      0.84        21\n",
      "                        TV & Home Theater       0.94      0.65      0.77        23\n",
      "            TV & Home Theater Accessories       0.78      0.58      0.67        43\n",
      "                                TV Mounts       0.89      0.87      0.88        45\n",
      "               TV, Movie & Character Toys       0.84      0.59      0.70        27\n",
      "                                      TVs       0.75      0.82      0.78        22\n",
      "                                  Tablets       1.00      0.81      0.89        21\n",
      "                    Telephone Accessories       0.94      0.73      0.82        22\n",
      "               Telephones & Communication       0.87      0.74      0.80        27\n",
      "                                 Toasters       0.96      0.93      0.95        29\n",
      "                                    Toner       0.87      0.93      0.90        67\n",
      "                             Toys to Life       0.86      1.00      0.92        49\n",
      "                     Toys, Games & Drones       0.85      0.73      0.78        55\n",
      "                       Tripods & Monopods       0.86      0.67      0.75        36\n",
      "                        USB Cables & Hubs       0.65      0.87      0.74        23\n",
      "                         USB Flash Drives       0.97      0.98      0.98        64\n",
      "            Universal Camera Bags & Cases       0.60      0.79      0.68        33\n",
      "          Vacuum & Floor Care Accessories       0.94      0.79      0.86        38\n",
      "             Vacuum Cleaners & Floor Care       0.94      0.94      0.94        69\n",
      "                   Video Game Accessories       0.54      0.32      0.40        22\n",
      "                              Video Games       0.71      0.41      0.52        58\n",
      "                                 Wall Art       0.92      0.92      0.92        25\n",
      "           Wall Chargers & Power Adapters       0.55      0.50      0.52        22\n",
      "                   Wall Mount Range Hoods       0.91      0.98      0.94        42\n",
      "                               Wall Ovens       0.96      1.00      0.98        23\n",
      "                         Washing Machines       1.00      1.00      1.00        27\n",
      "                                      Wii       0.69      0.87      0.77        23\n",
      "                           Xbox 360 Games       0.80      0.90      0.85        41\n",
      "                                 Xbox One       0.79      0.75      0.77        20\n",
      "                           Xbox One Games       0.91      1.00      0.96        43\n",
      "                iPad & Tablet Accessories       0.71      0.53      0.61        60\n",
      "                          iPhone 6s Cases       0.86      0.70      0.77        43\n",
      "                     iPhone 6s Plus Cases       0.69      0.44      0.54        25\n",
      "                       iPhone Accessories       0.61      0.30      0.40        37\n",
      "                     iPhone Cases & Clips       0.80      0.95      0.87       311\n",
      "            iPod & MP3 Player Accessories       0.68      0.52      0.59        29\n",
      "                                    other       0.45      0.65      0.54       556\n",
      "\n",
      "                                 accuracy                           0.82     10330\n",
      "                                macro avg       0.84      0.79      0.80     10330\n",
      "                             weighted avg       0.83      0.82      0.82     10330\n",
      "\n"
     ]
    }
   ],
   "source": [
    "evaluation.get_performance(model=logreg_BL1,\n",
    "                           pred_labels=y_pred_b, \n",
    "                           true_labels=y_test,\n",
    "                           vectorizer=tfid_vectorizer_BL1,\n",
    "                           probs=y_pred_b_prob,\n",
    "                           average='micro',\n",
    "                           tree= tree_dict)"
   ]
  },
  {
   "attachments": {},
   "cell_type": "markdown",
   "metadata": {},
   "source": [
    "## 3. Model C: Trained with predicted probabilities given by models A and B"
   ]
  },
  {
   "cell_type": "code",
   "execution_count": 43,
   "metadata": {},
   "outputs": [],
   "source": [
    "y_pred_prob_C = np.array([(prob1 + prob2) * 0.5 for prob1, prob2 in zip(y_pred_a_prob, y_pred_b_prob)])"
   ]
  },
  {
   "cell_type": "code",
   "execution_count": 44,
   "metadata": {},
   "outputs": [
    {
     "data": {
      "text/plain": [
       "(10330, 213)"
      ]
     },
     "execution_count": 44,
     "metadata": {},
     "output_type": "execute_result"
    }
   ],
   "source": [
    "y_pred_prob_C.shape"
   ]
  },
  {
   "cell_type": "code",
   "execution_count": 45,
   "metadata": {},
   "outputs": [
    {
     "name": "stdout",
     "output_type": "stream",
     "text": [
      " \n",
      "Top K=5 accuracy score:\n",
      "----------------------\n",
      "Model A: 0.9613746369796708\n",
      "Model B: 0.965053242981607\n",
      "Model C(avg): 0.9706679574056147\n",
      "\n"
     ]
    }
   ],
   "source": [
    "tk_c = top_k_accuracy_score(y_test, y_pred_prob_C, k=5)\n",
    "tk_a = top_k_accuracy_score(y_test,y_pred_a_prob, k=5)\n",
    "tk_b = top_k_accuracy_score(y_test,y_pred_b_prob, k=5)\n",
    "print(f\"\"\" \n",
    "Top K=5 accuracy score:\n",
    "----------------------\n",
    "Model A: {tk_a}\n",
    "Model B: {tk_b}\n",
    "Model C(avg): {tk_c}\n",
    "\"\"\")\n"
   ]
  },
  {
   "attachments": {},
   "cell_type": "markdown",
   "metadata": {},
   "source": [
    "## Extracting categories for the API"
   ]
  },
  {
   "cell_type": "code",
   "execution_count": 46,
   "metadata": {},
   "outputs": [],
   "source": [
    "# all models were trained on the same label, so if indifferent the classes of which model we take \n",
    "labels = logreg_BL1.classes_\n"
   ]
  },
  {
   "cell_type": "code",
   "execution_count": 60,
   "metadata": {},
   "outputs": [],
   "source": [
    "def get_feat_max(cat_prob, prod_idx, max_k_feat, classes):\n",
    "    \"\"\"Given a array of predicted probability of classes for one product returns a dictionary with the names of the k classes with the highest probability\"\"\"\n",
    "    most_prob_cat_idx = np.argsort(-cat_prob[prod_idx])[:max_k_feat]\n",
    "    name_cat_max= []\n",
    "    \n",
    "    for idx in most_prob_cat_idx:\n",
    "      nm_cat = classes[idx]\n",
    "      name_cat_max.append(nm_cat)\n",
    "\n",
    "    dict_max_feat = {}\n",
    "    for items in range(len(name_cat_max)):\n",
    "        dict_max_feat[str(items+1)] = utils.decode_id_path(name_cat_max[items])\n",
    "\n",
    "    return dict_max_feat "
   ]
  },
  {
   "cell_type": "code",
   "execution_count": 61,
   "metadata": {},
   "outputs": [
    {
     "name": "stdout",
     "output_type": "stream",
     "text": [
      "[101  92  16  39  60]\n",
      "[-0.75610682 -0.0212806  -0.00728905 -0.00705707 -0.00622776]\n"
     ]
    }
   ],
   "source": [
    "#Model A\n",
    "prob_cat_max_a = np.sort(-y_pred_a_prob[0])[:5]\n",
    "most_prob_cat_idx_a = np.argsort(-y_pred_a_prob[0])[:5]\n",
    "print(most_prob_cat_idx_a)\n",
    "print(prob_cat_max_a)"
   ]
  },
  {
   "cell_type": "code",
   "execution_count": 64,
   "metadata": {},
   "outputs": [
    {
     "name": "stdout",
     "output_type": "stream",
     "text": [
      "[101  39  16  13  92]\n",
      "[-0.8483222  -0.04935319 -0.01089907 -0.00571699 -0.00557107]\n"
     ]
    }
   ],
   "source": [
    "#Model B\n",
    "prob_cat_max_b = np.sort(-y_pred_b_prob[0])[:5]\n",
    "most_prob_cat_idx_b = np.argsort(-y_pred_b_prob[0])[:5]\n",
    "print(most_prob_cat_idx_b)\n",
    "print(prob_cat_max_b)"
   ]
  },
  {
   "cell_type": "code",
   "execution_count": 63,
   "metadata": {},
   "outputs": [
    {
     "name": "stdout",
     "output_type": "stream",
     "text": [
      "[101  39  92  16  13]\n"
     ]
    }
   ],
   "source": [
    "most_prob_cat_idx_C = np.argsort(-y_pred_prob_C[0])[:5]\n",
    "print(most_prob_cat_idx_C)"
   ]
  },
  {
   "cell_type": "code",
   "execution_count": 65,
   "metadata": {},
   "outputs": [
    {
     "data": {
      "text/plain": [
       "{'1': ['Musical Instruments', 'Keyboards'],\n",
       " '2': ['other'],\n",
       " '3': ['Musical Instruments', 'Musical Instrument Accessories'],\n",
       " '4': ['Computers & Tablets',\n",
       "  'Computer Accessories & Peripherals',\n",
       "  'Mice & Keyboards',\n",
       "  'Computer Keyboards'],\n",
       " '5': ['Cell Phones',\n",
       "  'Cell Phone Accessories',\n",
       "  'Cell Phone Batteries & Power']}"
      ]
     },
     "execution_count": 65,
     "metadata": {},
     "output_type": "execute_result"
    }
   ],
   "source": [
    "# categories model A\n",
    "dict_a = get_feat_max(cat_prob= y_pred_a_prob,\n",
    "                      prod_idx= 0,\n",
    "                      max_k_feat=5,\n",
    "                      classes= labels)\n",
    "dict_a"
   ]
  },
  {
   "cell_type": "code",
   "execution_count": 66,
   "metadata": {},
   "outputs": [
    {
     "data": {
      "text/plain": [
       "{'1': ['Musical Instruments', 'Keyboards'],\n",
       " '2': ['Computers & Tablets',\n",
       "  'Computer Accessories & Peripherals',\n",
       "  'Mice & Keyboards',\n",
       "  'Computer Keyboards'],\n",
       " '3': ['Musical Instruments', 'Musical Instrument Accessories'],\n",
       " '4': ['Musical Instruments'],\n",
       " '5': ['other']}"
      ]
     },
     "execution_count": 66,
     "metadata": {},
     "output_type": "execute_result"
    }
   ],
   "source": [
    "### categories model B\n",
    "dict_b = get_feat_max(cat_prob= y_pred_b_prob,\n",
    "                      prod_idx= 0,\n",
    "                      max_k_feat=5,\n",
    "                      classes= labels)\n",
    "dict_b"
   ]
  },
  {
   "cell_type": "code",
   "execution_count": 67,
   "metadata": {},
   "outputs": [
    {
     "data": {
      "text/plain": [
       "{'1': ['Musical Instruments', 'Keyboards'],\n",
       " '2': ['Computers & Tablets',\n",
       "  'Computer Accessories & Peripherals',\n",
       "  'Mice & Keyboards',\n",
       "  'Computer Keyboards'],\n",
       " '3': ['other'],\n",
       " '4': ['Musical Instruments', 'Musical Instrument Accessories'],\n",
       " '5': ['Musical Instruments']}"
      ]
     },
     "execution_count": 67,
     "metadata": {},
     "output_type": "execute_result"
    }
   ],
   "source": [
    "#categories model C\n",
    "dict_c = get_feat_max(cat_prob= y_pred_prob_C,\n",
    "                      prod_idx= 0,\n",
    "                      max_k_feat=5,\n",
    "                      classes= labels)\n",
    "dict_c"
   ]
  },
  {
   "cell_type": "code",
   "execution_count": 49,
   "metadata": {},
   "outputs": [],
   "source": [
    "name_sample = \"Casio - Portable Keyboard with 61 Touch-Sensitive Keys - Black/Silver \"\n",
    "descr_sample = \"CASIO Portable Keyboard with 61 Touch-Sensitive Keys: MIDI and USB connectivity; 600 AHL keyboard voices; 180 rhythms; 152 songs; auto accompaniment\"\n",
    "true_label_sample = 'Keyboards'\n"
   ]
  }
 ],
 "metadata": {
  "kernelspec": {
   "display_name": "Python 3",
   "language": "python",
   "name": "python3"
  },
  "language_info": {
   "codemirror_mode": {
    "name": "ipython",
    "version": 3
   },
   "file_extension": ".py",
   "mimetype": "text/x-python",
   "name": "python",
   "nbconvert_exporter": "python",
   "pygments_lexer": "ipython3",
   "version": "3.10.6 (main, Nov 14 2022, 16:10:14) [GCC 11.3.0]"
  },
  "orig_nbformat": 4,
  "vscode": {
   "interpreter": {
    "hash": "31f2aee4e71d21fbe5cf8b01ff0e069b9275f58929596ceb00d14d90e3e16cd6"
   }
  }
 },
 "nbformat": 4,
 "nbformat_minor": 2
}
