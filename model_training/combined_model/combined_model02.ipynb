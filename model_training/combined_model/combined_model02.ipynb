{
 "cells": [
  {
   "cell_type": "markdown",
   "metadata": {},
   "source": [
    "# AVG Model\n",
    "\n",
    "In this notebook, we perform our first exploration of the combination of different models previously trained\n"
   ]
  },
  {
   "cell_type": "code",
   "execution_count": 1,
   "metadata": {},
   "outputs": [
    {
     "data": {
      "text/plain": [
       "0.3333333333333333"
      ]
     },
     "execution_count": 1,
     "metadata": {},
     "output_type": "execute_result"
    }
   ],
   "source": [
    "est = [1, 5, 45]\n",
    "1/len(est)"
   ]
  },
  {
   "cell_type": "code",
   "execution_count": 14,
   "metadata": {},
   "outputs": [
    {
     "ename": "ModuleNotFoundError",
     "evalue": "No module named 'tensorflow'",
     "output_type": "error",
     "traceback": [
      "\u001b[0;31m---------------------------------------------------------------------------\u001b[0m",
      "\u001b[0;31mModuleNotFoundError\u001b[0m                       Traceback (most recent call last)",
      "Cell \u001b[0;32mIn[14], line 19\u001b[0m\n\u001b[1;32m     17\u001b[0m \u001b[39mfrom\u001b[39;00m \u001b[39msklearn\u001b[39;00m\u001b[39m.\u001b[39;00m\u001b[39mbase\u001b[39;00m \u001b[39mimport\u001b[39;00m BaseEstimator, TransformerMixin\n\u001b[1;32m     18\u001b[0m \u001b[39mimport\u001b[39;00m \u001b[39mjoblib\u001b[39;00m\n\u001b[0;32m---> 19\u001b[0m \u001b[39mimport\u001b[39;00m \u001b[39mtensorflow\u001b[39;00m \u001b[39mas\u001b[39;00m \u001b[39mtf\u001b[39;00m\n\u001b[1;32m     20\u001b[0m \u001b[39mfrom\u001b[39;00m \u001b[39mtensorflow\u001b[39;00m \u001b[39mimport\u001b[39;00m keras\n\u001b[1;32m     22\u001b[0m get_ipython()\u001b[39m.\u001b[39mrun_line_magic(\u001b[39m'\u001b[39m\u001b[39mload_ext\u001b[39m\u001b[39m'\u001b[39m, \u001b[39m'\u001b[39m\u001b[39mautoreload\u001b[39m\u001b[39m'\u001b[39m)\n",
      "\u001b[0;31mModuleNotFoundError\u001b[0m: No module named 'tensorflow'"
     ]
    }
   ],
   "source": [
    "import pandas as pd\n",
    "import numpy as np\n",
    "import matplotlib.pyplot as plt\n",
    "import seaborn as sns\n",
    "\n",
    "from xgboost import XGBClassifier\n",
    "import time\n",
    "#from model.text_normalizer import normalize_corpus, stopword_list\n",
    "from model import evaluation\n",
    "from model.utils2 import decoder\n",
    "from scripts.build_df import build_df\n",
    "from sklearn.model_selection import train_test_split\n",
    "from sklearn.feature_extraction.text import TfidfVectorizer\n",
    "from sklearn.linear_model import LogisticRegression\n",
    "from scripts import tree_utils\n",
    "from sklearn.metrics import top_k_accuracy_score\n",
    "from sklearn.base import BaseEstimator, TransformerMixin\n",
    "import joblib\n",
    "import tensorflow as tf\n",
    "from tensorflow import keras\n",
    "\n",
    "%load_ext autoreload\n",
    "%autoreload 2"
   ]
  },
  {
   "cell_type": "code",
   "execution_count": null,
   "metadata": {},
   "outputs": [],
   "source": [
    "import os\n",
    "os.chdir(\"/home/app/src/model\")\n",
    "from sklearn.metrics import accuracy_score, classification_report\n",
    "from model import evaluation\n",
    "from model import utils\n",
    "import os\n",
    "os.chdir(\"/home/app/src/images/scripts\")\n",
    "import efficientnet\n",
    "import os\n",
    "os.chdir(\"/home/app/src/\")"
   ]
  },
  {
   "cell_type": "markdown",
   "metadata": {},
   "source": [
    "## 0. Import Pre-Trained Models (BL0 and BL1)"
   ]
  },
  {
   "cell_type": "code",
   "execution_count": 16,
   "metadata": {},
   "outputs": [
    {
     "data": {
      "text/plain": [
       "{'1': 'Household Batteries',\n",
       " '2': 'Software',\n",
       " '3': 'Cell Phone Batteries & Power',\n",
       " '4': 'Connected Home',\n",
       " '5': 'other'}"
      ]
     },
     "execution_count": 16,
     "metadata": {},
     "output_type": "execute_result"
    }
   ],
   "source": [
    "CONFIG_YML = \"/home/app/src/experiments/exp4/exp4.yml\"\n",
    "\n",
    "TEST_FOLDER = \"/home/app/src/test_img/\"\n",
    "\n",
    "WEIGHTS = \"/home/app/src/experiments/exp4/model.06-2.0593.h5\"\n",
    "\n",
    "config = utils.load_config(CONFIG_YML)\n",
    "\n",
    "MODEL_CLASSES = utils.get_class_names(config)\n",
    "\n",
    "cnn_model = efficientnet.create_model(weights=WEIGHTS)\n",
    "\n",
    "\n",
    "predictions, labels, probs = utils.predict_from_folder(\n",
    "    folder=TEST_FOLDER, \n",
    "    model=cnn_model, \n",
    "    input_size=config[\"data\"][\"image_size\"], \n",
    "    class_names=MODEL_CLASSES,\n",
    ")\n",
    "\n",
    "def get_feat_max(cat_prob, prod_idx, max_k_feat, classes):\n",
    "    \"\"\"Given a array of predicted probability of classes for one product returns a dictionary with the names of the k classes with the highest probability\"\"\"\n",
    "    most_prob_cat_idx = np.argsort(-cat_prob[prod_idx][0])[:max_k_feat]\n",
    "    name_cat_max= []\n",
    "    \n",
    "    for idx in most_prob_cat_idx:\n",
    "      nm_cat = classes[idx]\n",
    "      name_cat_max.append(nm_cat)\n",
    "\n",
    "    dict_max_feat = {}\n",
    "    for items in range(len(name_cat_max)):\n",
    "        dict_max_feat[str(items+1)] = np.array_str(decoder(name_cat_max[items]))\n",
    "\n",
    "    return dict_max_feat\n",
    "\n",
    "\n",
    "    # categories model A\n",
    "dict_a = get_feat_max(cat_prob= probs,\n",
    "                      prod_idx= 0,\n",
    "                      max_k_feat=5,\n",
    "                      classes= MODEL_CLASSES)\n",
    "dict_a\n"
   ]
  },
  {
   "cell_type": "code",
   "execution_count": 12,
   "metadata": {},
   "outputs": [
    {
     "data": {
      "text/plain": [
       "(1, 213)"
      ]
     },
     "execution_count": 12,
     "metadata": {},
     "output_type": "execute_result"
    }
   ],
   "source": [
    "probs[0].shape"
   ]
  },
  {
   "cell_type": "code",
   "execution_count": 13,
   "metadata": {},
   "outputs": [
    {
     "data": {
      "text/plain": [
       "['abcat0100000',\n",
       " 'abcat0101000',\n",
       " 'abcat0101001',\n",
       " 'abcat0106004',\n",
       " 'abcat0106010',\n",
       " 'abcat0107000',\n",
       " 'abcat0107015',\n",
       " 'abcat0200000',\n",
       " 'abcat0204000',\n",
       " 'abcat0205000',\n",
       " 'abcat0205001',\n",
       " 'abcat0205006',\n",
       " 'abcat0205007',\n",
       " 'abcat0207000',\n",
       " 'abcat0208007',\n",
       " 'abcat0208015',\n",
       " 'abcat0208024',\n",
       " 'abcat0300000',\n",
       " 'abcat0301000',\n",
       " 'abcat0301006',\n",
       " 'abcat0302001',\n",
       " 'abcat0302005',\n",
       " 'abcat0302012',\n",
       " 'abcat0302037',\n",
       " 'abcat0401000',\n",
       " 'abcat0401001',\n",
       " 'abcat0409000',\n",
       " 'abcat0409001',\n",
       " 'abcat0410000',\n",
       " 'abcat0410012',\n",
       " 'abcat0410020',\n",
       " 'abcat0410022',\n",
       " 'abcat0410045',\n",
       " 'abcat0503000',\n",
       " 'abcat0504001',\n",
       " 'abcat0504010',\n",
       " 'abcat0507000',\n",
       " 'abcat0508000',\n",
       " 'abcat0509000',\n",
       " 'abcat0513004',\n",
       " 'abcat0515000',\n",
       " 'abcat0515013',\n",
       " 'abcat0515028',\n",
       " 'abcat0515042',\n",
       " 'abcat0700000',\n",
       " 'abcat0701002',\n",
       " 'abcat0703002',\n",
       " 'abcat0706000',\n",
       " 'abcat0707002',\n",
       " 'abcat0712000',\n",
       " 'abcat0715000',\n",
       " 'abcat0800000',\n",
       " 'abcat0802000',\n",
       " 'abcat0805000',\n",
       " 'abcat0807001',\n",
       " 'abcat0807009',\n",
       " 'abcat0809000',\n",
       " 'abcat0809002',\n",
       " 'abcat0809004',\n",
       " 'abcat0811002',\n",
       " 'abcat0811004',\n",
       " 'abcat0811006',\n",
       " 'abcat0811007',\n",
       " 'abcat0811011',\n",
       " 'abcat0900000',\n",
       " 'abcat0901000',\n",
       " 'abcat0902000',\n",
       " 'abcat0904001',\n",
       " 'abcat0904004',\n",
       " 'abcat0905001',\n",
       " 'abcat0907001',\n",
       " 'abcat0907006',\n",
       " 'abcat0907007',\n",
       " 'abcat0908001',\n",
       " 'abcat0908003',\n",
       " 'abcat0910001',\n",
       " 'abcat0911000',\n",
       " 'abcat0912000',\n",
       " 'abcat0912005',\n",
       " 'abcat0912008',\n",
       " 'abcat0912012',\n",
       " 'abcat0912014',\n",
       " 'abcat0912018',\n",
       " 'abcat0912020',\n",
       " 'abcat0912023',\n",
       " 'abcat0912025',\n",
       " 'abcat0915000',\n",
       " 'abcat0915005',\n",
       " 'abcat0915009',\n",
       " 'abcat0916000',\n",
       " 'abcat0916008',\n",
       " 'cat09000',\n",
       " 'other',\n",
       " 'pcmcat128500050004',\n",
       " 'pcmcat138500050001',\n",
       " 'pcmcat143000050007',\n",
       " 'pcmcat143200050025',\n",
       " 'pcmcat143400050013',\n",
       " 'pcmcat144700050004',\n",
       " 'pcmcat151600050008',\n",
       " 'pcmcat151600050027',\n",
       " 'pcmcat151600050037',\n",
       " 'pcmcat152100050010',\n",
       " 'pcmcat152100050020',\n",
       " 'pcmcat152100050027',\n",
       " 'pcmcat152100050035',\n",
       " 'pcmcat152100050038',\n",
       " 'pcmcat152200050014',\n",
       " 'pcmcat156300050006',\n",
       " 'pcmcat158900050018',\n",
       " 'pcmcat158900050019',\n",
       " 'pcmcat159300050002',\n",
       " 'pcmcat165900050023',\n",
       " 'pcmcat165900050032',\n",
       " 'pcmcat165900050033',\n",
       " 'pcmcat165900050034',\n",
       " 'pcmcat171900050024',\n",
       " 'pcmcat171900050026',\n",
       " 'pcmcat171900050031',\n",
       " 'pcmcat179200050003',\n",
       " 'pcmcat179200050008',\n",
       " 'pcmcat179200050013',\n",
       " 'pcmcat180700050008',\n",
       " 'pcmcat183800050006',\n",
       " 'pcmcat183800050007',\n",
       " 'pcmcat186100050005',\n",
       " 'pcmcat191200050015',\n",
       " 'pcmcat194000050018',\n",
       " 'pcmcat194000050022',\n",
       " 'pcmcat194000050023',\n",
       " 'pcmcat195200050001',\n",
       " 'pcmcat196400050015',\n",
       " 'pcmcat196400050016',\n",
       " 'pcmcat200900050014',\n",
       " 'pcmcat202800050013',\n",
       " 'pcmcat207200050007',\n",
       " 'pcmcat209000050006',\n",
       " 'pcmcat209000050008',\n",
       " 'pcmcat209400050001',\n",
       " 'pcmcat210000050008',\n",
       " 'pcmcat210900050000',\n",
       " 'pcmcat210900050001',\n",
       " 'pcmcat214700050000',\n",
       " 'pcmcat219100050010',\n",
       " 'pcmcat221100050003',\n",
       " 'pcmcat225800050009',\n",
       " 'pcmcat226900050013',\n",
       " 'pcmcat232900050000',\n",
       " 'pcmcat232900050017',\n",
       " 'pcmcat232900050030',\n",
       " 'pcmcat232900050031',\n",
       " 'pcmcat233000050008',\n",
       " 'pcmcat240500050052',\n",
       " 'pcmcat240500050057',\n",
       " 'pcmcat241600050001',\n",
       " 'pcmcat242000050002',\n",
       " 'pcmcat242800050021',\n",
       " 'pcmcat244200050008',\n",
       " 'pcmcat247400050000',\n",
       " 'pcmcat248300050003',\n",
       " 'pcmcat249700050006',\n",
       " 'pcmcat251300050004',\n",
       " 'pcmcat251500050009',\n",
       " 'pcmcat251600050003',\n",
       " 'pcmcat252700050006',\n",
       " 'pcmcat254000050002',\n",
       " 'pcmcat258900050003',\n",
       " 'pcmcat258900050007',\n",
       " 'pcmcat266500050030',\n",
       " 'pcmcat268100050002',\n",
       " 'pcmcat272800050000',\n",
       " 'pcmcat284400050091',\n",
       " 'pcmcat284800050006',\n",
       " 'pcmcat284800050007',\n",
       " 'pcmcat286300050020',\n",
       " 'pcmcat296300050018',\n",
       " 'pcmcat300300050002',\n",
       " 'pcmcat303600050001',\n",
       " 'pcmcat303600050005',\n",
       " 'pcmcat303700050016',\n",
       " 'pcmcat306400050032',\n",
       " 'pcmcat308100050020',\n",
       " 'pcmcat309300050002',\n",
       " 'pcmcat309300050003',\n",
       " 'pcmcat309900050001',\n",
       " 'pcmcat310200050004',\n",
       " 'pcmcat311200050005',\n",
       " 'pcmcat312300050015',\n",
       " 'pcmcat324200050004',\n",
       " 'pcmcat326000050010',\n",
       " 'pcmcat326000050011',\n",
       " 'pcmcat328900050008',\n",
       " 'pcmcat331200050000',\n",
       " 'pcmcat331200050001',\n",
       " 'pcmcat331600050007',\n",
       " 'pcmcat332100050000',\n",
       " 'pcmcat335400050008',\n",
       " 'pcmcat338200050008',\n",
       " 'pcmcat340500050007',\n",
       " 'pcmcat344400050007',\n",
       " 'pcmcat350800050010',\n",
       " 'pcmcat352500050007',\n",
       " 'pcmcat367400050001',\n",
       " 'pcmcat367400050002',\n",
       " 'pcmcat369900050001',\n",
       " 'pcmcat373300050003',\n",
       " 'pcmcat374500050006',\n",
       " 'pcmcat377500050003',\n",
       " 'pcmcat748300322875',\n",
       " 'pcmcat748300579994',\n",
       " 'pcmcat748300580023',\n",
       " 'pcmcat748301695443',\n",
       " 'pcmcat748301803023']"
      ]
     },
     "execution_count": 13,
     "metadata": {},
     "output_type": "execute_result"
    }
   ],
   "source": [
    "MODEL_CLASSES"
   ]
  },
  {
   "cell_type": "code",
   "execution_count": 2,
   "metadata": {},
   "outputs": [],
   "source": [
    "from sklearn.feature_extraction.text import TfidfVectorizer\n",
    "from model.text_normalizer import normalize_corpus, stopword_list"
   ]
  },
  {
   "cell_type": "code",
   "execution_count": 3,
   "metadata": {},
   "outputs": [],
   "source": [
    "#opening\n",
    "#model = joblib.load('model_name')\n",
    "model_title = joblib.load('/home/app/src/model/model_BL0')\n",
    "vect_title  = joblib.load('/home/app/src/model/vect_BL0')\n",
    "\n",
    "model_title_desc = joblib.load('/home/app/src/model/model_BL1')\n",
    "vect_title_desc = joblib.load('/home/app/src/model/vect_BL1')\n"
   ]
  },
  {
   "cell_type": "code",
   "execution_count": 4,
   "metadata": {},
   "outputs": [],
   "source": [
    "def normalization(input):\n",
    "    output = normalize_corpus(\n",
    "        input,\n",
    "        html_stripping=True,\n",
    "        contraction_expansion=True,\n",
    "        accented_char_removal=True,\n",
    "        text_lower_case=True,\n",
    "        text_stemming=True,\n",
    "        text_lemmatization=False,\n",
    "        special_char_removal=True,\n",
    "        remove_digits=False,\n",
    "        stopword_removal=True,\n",
    "        stopwords=stopword_list\n",
    "    )       \n",
    "    return output"
   ]
  },
  {
   "cell_type": "code",
   "execution_count": 5,
   "metadata": {},
   "outputs": [],
   "source": [
    "name_sample = \"Casio - Portable Keyboard with 61 Touch-Sensitive Keys - Black/Silver \"\n",
    "descr_sample = \"CASIO Portable Keyboard with 61 Touch-Sensitive Keys: MIDI and USB connectivity; 600 AHL keyboard voices; 180 rhythms; 152 songs; auto accompaniment\"\n",
    "name_descr_sample = name_sample + descr_sample\n",
    "true_label_sample = 'Keyboards'"
   ]
  },
  {
   "cell_type": "code",
   "execution_count": 6,
   "metadata": {},
   "outputs": [],
   "source": [
    "name_sample_n = normalize_corpus([name_sample])\n",
    "name_sample_v= vect_title.transform(name_sample_n)"
   ]
  },
  {
   "cell_type": "code",
   "execution_count": 7,
   "metadata": {},
   "outputs": [],
   "source": [
    "name_descr_sample_n = normalize_corpus([name_descr_sample])\n",
    "name_descr_sample_v= vect_title_desc.transform(name_descr_sample_n)"
   ]
  },
  {
   "cell_type": "markdown",
   "metadata": {},
   "source": [
    "## 1. Create combined model to get predictions"
   ]
  },
  {
   "cell_type": "code",
   "execution_count": 8,
   "metadata": {},
   "outputs": [],
   "source": [
    "class Combined_Model():\n",
    "   \n",
    "\n",
    "    def predict_proba(self, X_list, estimators):\n",
    "        \"\"\"\n",
    "        Predict probabilities of classes for samples in X.\n",
    "        Parameters\n",
    "        ----------\n",
    "        X : list of array_like or sparse matrix of shape (n_samples, n_features)\n",
    "            [X_name, X_description, X_image]\n",
    "        estimators: list of pretrained models to be combined in the following order [name_model, name_description_model, image_model]\n",
    "        Returns\n",
    "        -------\n",
    "        C : array, shape [n_samples]\n",
    "            Predicted class label per sample.\n",
    "        \"\"\"\n",
    "        # only NLP Models \n",
    "        if len(estimators) == 2:\n",
    "            y_pred_model_1 = estimators[0].predict_proba(X_list[0])\n",
    "            y_pred_model_2 = estimators[1].predict_proba(X_list[1])\n",
    "            probs = np.array([(prob1 + prob2) * 0.5 for prob1, prob2 in zip(y_pred_model_1, y_pred_model_2)])\n",
    "        \n",
    "        # NLP + images    \n",
    "        elif len(estimators) == 3:\n",
    "            y_pred_model_1 = estimators[0].predict_proba(X_list[0])\n",
    "            y_pred_model_2 = estimators[1].predict_proba(X_list[1])\n",
    "            y_pred_model_3 = estimators[2].predict_proba(X_list[2])\n",
    "            probs = np.array([(prob1 + prob2+ prob3) * (1/len(estimators)) for prob1, prob2, prob3 in zip(y_pred_model_1, y_pred_model_2, y_pred_model_3)])\n",
    "        \n",
    "        return probs\n",
    "\n",
    "    def predict_best_five(self, X_list, estimators, max_k_feat):\n",
    "        \"\"\"\n",
    "        Selects the k classes with highest probability for samples in X_list obtained from predict_proba() method .\n",
    "        \n",
    "        Parameters \n",
    "        ----------\n",
    "        X_list : list of array_like or sparse matrix of shape (n_samples, n_features)\n",
    "            [X_name, X_description, X_image] to pass to predict_proba()\n",
    "        estimators: list of pretrained models to be combined in the following order [name_model, name_description_model, image_model]\n",
    "        Returns\n",
    "\n",
    "        estimators : list List of models to be combined\n",
    "\n",
    "        max_k_feat : int number of classes\n",
    "        \n",
    "        Return\n",
    "        -------\n",
    "        dict_max_feat: python dict dictionary with classes with highest probability\n",
    "            \n",
    "        \"\"\"\n",
    "        \n",
    "        probs = self.predict_proba(X_list, estimators)\n",
    "\n",
    "        cat_prob = probs\n",
    "        classes = estimators[0].classes_\n",
    "\n",
    "        most_prob_cat_idx = np.argsort(-cat_prob[0])[:max_k_feat]\n",
    "        name_cat_max= []\n",
    "    \n",
    "        for idx in most_prob_cat_idx:\n",
    "            nm_cat = classes[idx]\n",
    "            name_cat_max.append(nm_cat)\n",
    "\n",
    "        dict_max_feat = {}\n",
    "        for items in range(len(name_cat_max)):\n",
    "          dict_max_feat[items] = np.array_str(decoder(name_cat_max[items]))\n",
    "\n",
    "        return dict_max_feat "
   ]
  },
  {
   "cell_type": "code",
   "execution_count": 9,
   "metadata": {},
   "outputs": [],
   "source": [
    "final_model = Combined_Model()"
   ]
  },
  {
   "cell_type": "code",
   "execution_count": 10,
   "metadata": {},
   "outputs": [],
   "source": [
    "prediction = final_model.predict_best_five(X_list=[name_sample_v, name_descr_sample_v], \n",
    "                                           estimators=[model_title, model_title_desc], \n",
    "                                           max_k_feat=5)"
   ]
  },
  {
   "cell_type": "code",
   "execution_count": 11,
   "metadata": {},
   "outputs": [
    {
     "data": {
      "text/plain": [
       "{0: 'Keyboards',\n",
       " 1: 'Computer Keyboards',\n",
       " 2: 'Musical Instrument Accessories',\n",
       " 3: 'other',\n",
       " 4: 'iPad & Tablet Accessories'}"
      ]
     },
     "execution_count": 11,
     "metadata": {},
     "output_type": "execute_result"
    }
   ],
   "source": [
    "prediction"
   ]
  }
 ],
 "metadata": {
  "kernelspec": {
   "display_name": "Python 3",
   "language": "python",
   "name": "python3"
  },
  "language_info": {
   "codemirror_mode": {
    "name": "ipython",
    "version": 3
   },
   "file_extension": ".py",
   "mimetype": "text/x-python",
   "name": "python",
   "nbconvert_exporter": "python",
   "pygments_lexer": "ipython3",
   "version": "3.10.6"
  },
  "vscode": {
   "interpreter": {
    "hash": "31f2aee4e71d21fbe5cf8b01ff0e069b9275f58929596ceb00d14d90e3e16cd6"
   }
  }
 },
 "nbformat": 4,
 "nbformat_minor": 2
}
