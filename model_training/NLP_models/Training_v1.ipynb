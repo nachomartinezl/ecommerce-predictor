{
 "cells": [
  {
   "cell_type": "markdown",
   "metadata": {},
   "source": [
    "# TRAINING: Classifiers.\n",
    "The training process is covered here end to end. From the normalization and feature engineering, till the export of the fitted model ready to deploy in production."
   ]
  },
  {
   "cell_type": "code",
   "execution_count": 659,
   "metadata": {
    "vscode": {
     "languageId": "python"
    }
   },
   "outputs": [
    {
     "name": "stdout",
     "output_type": "stream",
     "text": [
      "The autoreload extension is already loaded. To reload it, use:\n",
      "  %reload_ext autoreload\n"
     ]
    }
   ],
   "source": [
    "import pandas as pd\n",
    "import numpy as np\n",
    "from xgboost import XGBClassifier\n",
    "import time\n",
    "from model.text_normalizer import normalize_corpus, stopword_list\n",
    "from model import evaluation\n",
    "from model.utils import decoder\n",
    "from scripts.build_df import build_df\n",
    "from scripts.tree_utils import make_tree, dist_nodes\n",
    "from sklearn.model_selection import train_test_split\n",
    "from sklearn.feature_extraction.text import TfidfVectorizer\n",
    "from sklearn.linear_model import LogisticRegression\n",
    "from sklearn.svm import SVC\n",
    "from sklearn.model_selection import RandomizedSearchCV\n",
    "from lightgbm import LGBMClassifier\n",
    "from sklearn.pipeline import Pipeline\n",
    "from sklearn.base import BaseEstimator, TransformerMixin\n",
    "from joblib import dump, load\n",
    "\n",
    "\n",
    "%load_ext autoreload\n",
    "%autoreload 2"
   ]
  },
  {
   "cell_type": "markdown",
   "metadata": {},
   "source": [
    "## 1. Features normalization\n",
    "Arguments of 'normalization' function can be modified between experiments.\n",
    "Normalization is perfomed before train/test split to save time when trying different models. To fit the pipeline this step will be applied in each prediction so it is added in it as a wrapped transform function in first place/"
   ]
  },
  {
   "cell_type": "code",
   "execution_count": 662,
   "metadata": {
    "vscode": {
     "languageId": "python"
    }
   },
   "outputs": [],
   "source": [
    "df = pd.read_csv('data/products_v1.csv', index_col=0)\n",
    "\n",
    "def normalization(text):\n",
    "    output = normalize_corpus(\n",
    "        text,\n",
    "        html_stripping=True,\n",
    "        contraction_expansion=True,\n",
    "        accented_char_removal=True,\n",
    "        text_lower_case=True,\n",
    "        text_stemming=True,\n",
    "        text_lemmatization=False,\n",
    "        special_char_removal=True,\n",
    "        remove_digits=False,\n",
    "        stopword_removal=True,\n",
    "        stopwords=stopword_list\n",
    "    )       \n",
    "    return output\n",
    "\n",
    "df['name'] = normalization(df['name'].apply(str))\n",
    "df['description'] = normalization(df['description'].apply(str))\n",
    "df['name_and_description'] = [' '.join(i) for i in zip(df['name'], df['description'])]\n",
    "normalized_data = df.to_csv('data/normalized_data.csv', index=False)"
   ]
  },
  {
   "cell_type": "markdown",
   "metadata": {},
   "source": [
    "## 2. Labels and features selection\n",
    "'build_df' function returns a new dataset with custom leaf (label) according to the threshold of min. products selected per category. X will vary depending if we choose name, description or name_and_description as feature."
   ]
  },
  {
   "cell_type": "code",
   "execution_count": 669,
   "metadata": {
    "vscode": {
     "languageId": "python"
    }
   },
   "outputs": [],
   "source": [
    "df_100 = build_df(json_path='data/products.json', \n",
    "             threshold=100, \n",
    "             preprocessed_csv='data/normalized_data.csv'\n",
    "            )"
   ]
  },
  {
   "cell_type": "code",
   "execution_count": 670,
   "metadata": {},
   "outputs": [],
   "source": [
    "df_0 = build_df(json_path='data/products.json', \n",
    "             threshold=0, \n",
    "             preprocessed_csv='data/normalized_data.csv'\n",
    "            ) "
   ]
  },
  {
   "cell_type": "code",
   "execution_count": 671,
   "metadata": {
    "vscode": {
     "languageId": "python"
    }
   },
   "outputs": [],
   "source": [
    "name = df['name']\n",
    "description = df['description']\n",
    "name_and_description = df['name_and_description']\n",
    "y_0 = df_0['leaf']\n",
    "y_100 = df_100['leaf']"
   ]
  },
  {
   "cell_type": "markdown",
   "metadata": {},
   "source": [
    "## 3. Train/test split"
   ]
  },
  {
   "cell_type": "code",
   "execution_count": 672,
   "metadata": {},
   "outputs": [],
   "source": [
    "X_train_0, X_test_0, y_train_0, y_test_0 = train_test_split(\n",
    "    name, y_0,\n",
    "    test_size=0.20, \n",
    "    random_state=42,\n",
    "    stratify = y \n",
    ")"
   ]
  },
  {
   "cell_type": "code",
   "execution_count": 673,
   "metadata": {
    "vscode": {
     "languageId": "python"
    }
   },
   "outputs": [],
   "source": [
    "X_train_100, X_test_100, y_train_100, y_test_100 = train_test_split(\n",
    "    name, y_100,\n",
    "    test_size=0.20, \n",
    "    random_state=42,\n",
    "    stratify = y\n",
    ")"
   ]
  },
  {
   "cell_type": "markdown",
   "metadata": {},
   "source": [
    "## 4. Feature engineering\n",
    "Try different values for max_features and ngram_range in TF-IDF. Also experimenting with and without IDF and min and max idf values."
   ]
  },
  {
   "cell_type": "code",
   "execution_count": 714,
   "metadata": {
    "vscode": {
     "languageId": "python"
    }
   },
   "outputs": [],
   "source": [
    "tfid_vectorizer = TfidfVectorizer(max_features = 5000, \n",
    "                                 ngram_range = (1,3), \n",
    "                                 use_idf=False)\n",
    "\n",
    "X_train_0_vec = tfid_vectorizer.fit_transform(X_train_0)\n",
    "X_test_0_vec = tfid_vectorizer.transform(X_test_0)"
   ]
  },
  {
   "cell_type": "code",
   "execution_count": 716,
   "metadata": {},
   "outputs": [],
   "source": [
    "tfid_vectorizer = TfidfVectorizer(max_features = 5000, \n",
    "                                 ngram_range = (1,3), \n",
    "                                 use_idf=False)\n",
    "\n",
    "X_train_100_vec = tfid_vectorizer.fit_transform(X_train_100)\n",
    "X_test_100_vec = tfid_vectorizer.transform(X_test_100)"
   ]
  },
  {
   "cell_type": "markdown",
   "metadata": {},
   "source": [
    "## 5. Modeling\n",
    "Try different classifiers and compare results."
   ]
  },
  {
   "cell_type": "code",
   "execution_count": 98,
   "metadata": {
    "vscode": {
     "languageId": "python"
    }
   },
   "outputs": [],
   "source": [
    "logreg = LogisticRegression(max_iter=7000, \n",
    "                            n_jobs=-1, \n",
    "                            multi_class='multinomial', \n",
    "                            solver='newton-cg')\n",
    "svc = SVC()\n",
    "lgbm = LGBMClassifier(objective='multiclass')"
   ]
  },
  {
   "cell_type": "code",
   "execution_count": 89,
   "metadata": {},
   "outputs": [],
   "source": [
    "xgb = XGBClassifier()\n",
    "\n",
    "param_grid={'colsample_bytree': [0.5],\n",
    "                    'gamma': [0.25, 1], \n",
    "                    'gpu_id': [0],\n",
    "                    'learning_rate': [0.1],\n",
    "                    'max_depth': [7, 9, 15, 20, 30, 50],\n",
    "                    'min_child_weight': [1, 3, 5],\n",
    "                    'num_classes': [105],\n",
    "                    'objective': ['multi:softmax'],\n",
    "                    'predictor': ['gpu_predictor'],\n",
    "                    'reg_lambda': [0, 1, 3],\n",
    "                    'scale_pos_weight': [1],\n",
    "                    'subsample': [0.9],\n",
    "                    'tree_method': ['gpu_hist'],\n",
    "                    'booster': ['gbtree', 'dart'],\n",
    "                    'verbosity': [2],\n",
    "                    'num_parallel_tree': [4]\n",
    "                    }\n",
    "\n",
    "rand = RandomizedSearchCV(xgb, param_grid, n_jobs=-1, cv=3, scoring=\"accuracy\")"
   ]
  },
  {
   "cell_type": "code",
   "execution_count": 717,
   "metadata": {
    "vscode": {
     "languageId": "python"
    }
   },
   "outputs": [
    {
     "data": {
      "text/html": [
       "<style>#sk-container-id-11 {color: black;background-color: white;}#sk-container-id-11 pre{padding: 0;}#sk-container-id-11 div.sk-toggleable {background-color: white;}#sk-container-id-11 label.sk-toggleable__label {cursor: pointer;display: block;width: 100%;margin-bottom: 0;padding: 0.3em;box-sizing: border-box;text-align: center;}#sk-container-id-11 label.sk-toggleable__label-arrow:before {content: \"▸\";float: left;margin-right: 0.25em;color: #696969;}#sk-container-id-11 label.sk-toggleable__label-arrow:hover:before {color: black;}#sk-container-id-11 div.sk-estimator:hover label.sk-toggleable__label-arrow:before {color: black;}#sk-container-id-11 div.sk-toggleable__content {max-height: 0;max-width: 0;overflow: hidden;text-align: left;background-color: #f0f8ff;}#sk-container-id-11 div.sk-toggleable__content pre {margin: 0.2em;color: black;border-radius: 0.25em;background-color: #f0f8ff;}#sk-container-id-11 input.sk-toggleable__control:checked~div.sk-toggleable__content {max-height: 200px;max-width: 100%;overflow: auto;}#sk-container-id-11 input.sk-toggleable__control:checked~label.sk-toggleable__label-arrow:before {content: \"▾\";}#sk-container-id-11 div.sk-estimator input.sk-toggleable__control:checked~label.sk-toggleable__label {background-color: #d4ebff;}#sk-container-id-11 div.sk-label input.sk-toggleable__control:checked~label.sk-toggleable__label {background-color: #d4ebff;}#sk-container-id-11 input.sk-hidden--visually {border: 0;clip: rect(1px 1px 1px 1px);clip: rect(1px, 1px, 1px, 1px);height: 1px;margin: -1px;overflow: hidden;padding: 0;position: absolute;width: 1px;}#sk-container-id-11 div.sk-estimator {font-family: monospace;background-color: #f0f8ff;border: 1px dotted black;border-radius: 0.25em;box-sizing: border-box;margin-bottom: 0.5em;}#sk-container-id-11 div.sk-estimator:hover {background-color: #d4ebff;}#sk-container-id-11 div.sk-parallel-item::after {content: \"\";width: 100%;border-bottom: 1px solid gray;flex-grow: 1;}#sk-container-id-11 div.sk-label:hover label.sk-toggleable__label {background-color: #d4ebff;}#sk-container-id-11 div.sk-serial::before {content: \"\";position: absolute;border-left: 1px solid gray;box-sizing: border-box;top: 0;bottom: 0;left: 50%;z-index: 0;}#sk-container-id-11 div.sk-serial {display: flex;flex-direction: column;align-items: center;background-color: white;padding-right: 0.2em;padding-left: 0.2em;position: relative;}#sk-container-id-11 div.sk-item {position: relative;z-index: 1;}#sk-container-id-11 div.sk-parallel {display: flex;align-items: stretch;justify-content: center;background-color: white;position: relative;}#sk-container-id-11 div.sk-item::before, #sk-container-id-11 div.sk-parallel-item::before {content: \"\";position: absolute;border-left: 1px solid gray;box-sizing: border-box;top: 0;bottom: 0;left: 50%;z-index: -1;}#sk-container-id-11 div.sk-parallel-item {display: flex;flex-direction: column;z-index: 1;position: relative;background-color: white;}#sk-container-id-11 div.sk-parallel-item:first-child::after {align-self: flex-end;width: 50%;}#sk-container-id-11 div.sk-parallel-item:last-child::after {align-self: flex-start;width: 50%;}#sk-container-id-11 div.sk-parallel-item:only-child::after {width: 0;}#sk-container-id-11 div.sk-dashed-wrapped {border: 1px dashed gray;margin: 0 0.4em 0.5em 0.4em;box-sizing: border-box;padding-bottom: 0.4em;background-color: white;}#sk-container-id-11 div.sk-label label {font-family: monospace;font-weight: bold;display: inline-block;line-height: 1.2em;}#sk-container-id-11 div.sk-label-container {text-align: center;}#sk-container-id-11 div.sk-container {/* jupyter's `normalize.less` sets `[hidden] { display: none; }` but bootstrap.min.css set `[hidden] { display: none !important; }` so we also need the `!important` here to be able to override the default hidden behavior on the sphinx rendered scikit-learn.org. See: https://github.com/scikit-learn/scikit-learn/issues/21755 */display: inline-block !important;position: relative;}#sk-container-id-11 div.sk-text-repr-fallback {display: none;}</style><div id=\"sk-container-id-11\" class=\"sk-top-container\"><div class=\"sk-text-repr-fallback\"><pre>LogisticRegression(max_iter=7000, multi_class=&#x27;multinomial&#x27;, n_jobs=-1,\n",
       "                   solver=&#x27;newton-cg&#x27;)</pre><b>In a Jupyter environment, please rerun this cell to show the HTML representation or trust the notebook. <br />On GitHub, the HTML representation is unable to render, please try loading this page with nbviewer.org.</b></div><div class=\"sk-container\" hidden><div class=\"sk-item\"><div class=\"sk-estimator sk-toggleable\"><input class=\"sk-toggleable__control sk-hidden--visually\" id=\"sk-estimator-id-30\" type=\"checkbox\" checked><label for=\"sk-estimator-id-30\" class=\"sk-toggleable__label sk-toggleable__label-arrow\">LogisticRegression</label><div class=\"sk-toggleable__content\"><pre>LogisticRegression(max_iter=7000, multi_class=&#x27;multinomial&#x27;, n_jobs=-1,\n",
       "                   solver=&#x27;newton-cg&#x27;)</pre></div></div></div></div></div>"
      ],
      "text/plain": [
       "LogisticRegression(max_iter=7000, multi_class='multinomial', n_jobs=-1,\n",
       "                   solver='newton-cg')"
      ]
     },
     "execution_count": 717,
     "metadata": {},
     "output_type": "execute_result"
    }
   ],
   "source": [
    "logreg.fit(X_train_0_vec, y_train_0)"
   ]
  },
  {
   "cell_type": "code",
   "execution_count": 725,
   "metadata": {},
   "outputs": [
    {
     "data": {
      "text/html": [
       "<style>#sk-container-id-12 {color: black;background-color: white;}#sk-container-id-12 pre{padding: 0;}#sk-container-id-12 div.sk-toggleable {background-color: white;}#sk-container-id-12 label.sk-toggleable__label {cursor: pointer;display: block;width: 100%;margin-bottom: 0;padding: 0.3em;box-sizing: border-box;text-align: center;}#sk-container-id-12 label.sk-toggleable__label-arrow:before {content: \"▸\";float: left;margin-right: 0.25em;color: #696969;}#sk-container-id-12 label.sk-toggleable__label-arrow:hover:before {color: black;}#sk-container-id-12 div.sk-estimator:hover label.sk-toggleable__label-arrow:before {color: black;}#sk-container-id-12 div.sk-toggleable__content {max-height: 0;max-width: 0;overflow: hidden;text-align: left;background-color: #f0f8ff;}#sk-container-id-12 div.sk-toggleable__content pre {margin: 0.2em;color: black;border-radius: 0.25em;background-color: #f0f8ff;}#sk-container-id-12 input.sk-toggleable__control:checked~div.sk-toggleable__content {max-height: 200px;max-width: 100%;overflow: auto;}#sk-container-id-12 input.sk-toggleable__control:checked~label.sk-toggleable__label-arrow:before {content: \"▾\";}#sk-container-id-12 div.sk-estimator input.sk-toggleable__control:checked~label.sk-toggleable__label {background-color: #d4ebff;}#sk-container-id-12 div.sk-label input.sk-toggleable__control:checked~label.sk-toggleable__label {background-color: #d4ebff;}#sk-container-id-12 input.sk-hidden--visually {border: 0;clip: rect(1px 1px 1px 1px);clip: rect(1px, 1px, 1px, 1px);height: 1px;margin: -1px;overflow: hidden;padding: 0;position: absolute;width: 1px;}#sk-container-id-12 div.sk-estimator {font-family: monospace;background-color: #f0f8ff;border: 1px dotted black;border-radius: 0.25em;box-sizing: border-box;margin-bottom: 0.5em;}#sk-container-id-12 div.sk-estimator:hover {background-color: #d4ebff;}#sk-container-id-12 div.sk-parallel-item::after {content: \"\";width: 100%;border-bottom: 1px solid gray;flex-grow: 1;}#sk-container-id-12 div.sk-label:hover label.sk-toggleable__label {background-color: #d4ebff;}#sk-container-id-12 div.sk-serial::before {content: \"\";position: absolute;border-left: 1px solid gray;box-sizing: border-box;top: 0;bottom: 0;left: 50%;z-index: 0;}#sk-container-id-12 div.sk-serial {display: flex;flex-direction: column;align-items: center;background-color: white;padding-right: 0.2em;padding-left: 0.2em;position: relative;}#sk-container-id-12 div.sk-item {position: relative;z-index: 1;}#sk-container-id-12 div.sk-parallel {display: flex;align-items: stretch;justify-content: center;background-color: white;position: relative;}#sk-container-id-12 div.sk-item::before, #sk-container-id-12 div.sk-parallel-item::before {content: \"\";position: absolute;border-left: 1px solid gray;box-sizing: border-box;top: 0;bottom: 0;left: 50%;z-index: -1;}#sk-container-id-12 div.sk-parallel-item {display: flex;flex-direction: column;z-index: 1;position: relative;background-color: white;}#sk-container-id-12 div.sk-parallel-item:first-child::after {align-self: flex-end;width: 50%;}#sk-container-id-12 div.sk-parallel-item:last-child::after {align-self: flex-start;width: 50%;}#sk-container-id-12 div.sk-parallel-item:only-child::after {width: 0;}#sk-container-id-12 div.sk-dashed-wrapped {border: 1px dashed gray;margin: 0 0.4em 0.5em 0.4em;box-sizing: border-box;padding-bottom: 0.4em;background-color: white;}#sk-container-id-12 div.sk-label label {font-family: monospace;font-weight: bold;display: inline-block;line-height: 1.2em;}#sk-container-id-12 div.sk-label-container {text-align: center;}#sk-container-id-12 div.sk-container {/* jupyter's `normalize.less` sets `[hidden] { display: none; }` but bootstrap.min.css set `[hidden] { display: none !important; }` so we also need the `!important` here to be able to override the default hidden behavior on the sphinx rendered scikit-learn.org. See: https://github.com/scikit-learn/scikit-learn/issues/21755 */display: inline-block !important;position: relative;}#sk-container-id-12 div.sk-text-repr-fallback {display: none;}</style><div id=\"sk-container-id-12\" class=\"sk-top-container\"><div class=\"sk-text-repr-fallback\"><pre>LogisticRegression(max_iter=7000, multi_class=&#x27;multinomial&#x27;, n_jobs=-1,\n",
       "                   solver=&#x27;newton-cg&#x27;)</pre><b>In a Jupyter environment, please rerun this cell to show the HTML representation or trust the notebook. <br />On GitHub, the HTML representation is unable to render, please try loading this page with nbviewer.org.</b></div><div class=\"sk-container\" hidden><div class=\"sk-item\"><div class=\"sk-estimator sk-toggleable\"><input class=\"sk-toggleable__control sk-hidden--visually\" id=\"sk-estimator-id-31\" type=\"checkbox\" checked><label for=\"sk-estimator-id-31\" class=\"sk-toggleable__label sk-toggleable__label-arrow\">LogisticRegression</label><div class=\"sk-toggleable__content\"><pre>LogisticRegression(max_iter=7000, multi_class=&#x27;multinomial&#x27;, n_jobs=-1,\n",
       "                   solver=&#x27;newton-cg&#x27;)</pre></div></div></div></div></div>"
      ],
      "text/plain": [
       "LogisticRegression(max_iter=7000, multi_class='multinomial', n_jobs=-1,\n",
       "                   solver='newton-cg')"
      ]
     },
     "execution_count": 725,
     "metadata": {},
     "output_type": "execute_result"
    }
   ],
   "source": [
    "logreg.fit(X_train_100_vec, y_train_100)"
   ]
  },
  {
   "cell_type": "markdown",
   "metadata": {},
   "source": [
    "## 6. Evaluation\n",
    "Predicting on train to check overfitting when comparing with test."
   ]
  },
  {
   "cell_type": "code",
   "execution_count": 720,
   "metadata": {
    "vscode": {
     "languageId": "python"
    }
   },
   "outputs": [],
   "source": [
    "y_pred_train_0 = logreg.predict(X_train_0_vec)\n",
    "y_pred_test_0 = logreg.predict(X_test_0_vec)"
   ]
  },
  {
   "cell_type": "code",
   "execution_count": 746,
   "metadata": {},
   "outputs": [],
   "source": [
    "y_pred_train_100 = logreg.predict(X_train_100_vec)\n",
    "y_pred_test_100 = logreg.predict(X_test_100_vec)"
   ]
  },
  {
   "cell_type": "code",
   "execution_count": 751,
   "metadata": {},
   "outputs": [],
   "source": [
    "probs = logreg.predict_proba(X_test_100_vec)"
   ]
  },
  {
   "cell_type": "code",
   "execution_count": 750,
   "metadata": {},
   "outputs": [
    {
     "name": "stdout",
     "output_type": "stream",
     "text": [
      "Model Performance metrics:\n",
      "------------------------------\n",
      "Accuracy: 0.8526962919934166\n",
      "Precision: 0.8526962919934166\n",
      "Recall: 0.8526962919934166\n",
      "F1 Score: 0.8526962919934166\n",
      "Average distance between nodes categories: 0.32919450091974056\n",
      "Top 5 Score: 0.03439345531997289\n",
      "\n",
      "Model Classification report:\n",
      "------------------------------\n",
      "                                           precision    recall  f1-score   support\n",
      "\n",
      "                      3D Printer Filament       0.94      0.97      0.96       190\n",
      "                  A/V Cables & Connectors       0.75      0.87      0.81       361\n",
      "                  Action Camcorder Mounts       0.67      0.75      0.71       114\n",
      "           Activity Trackers & Pedometers       0.83      0.88      0.85       154\n",
      "              Adapters, Cables & Chargers       0.77      0.81      0.79       284\n",
      "                         Air Conditioners       0.98      0.96      0.97       114\n",
      "             Air Purifier Filters & Parts       0.90      0.87      0.88        83\n",
      "                            Air Purifiers       0.88      0.91      0.90        94\n",
      "               All Cell Phones with Plans       0.93      0.93      0.93       134\n",
      "                             All Desktops       0.91      0.98      0.94       351\n",
      "                       All Flat-Panel TVs       0.95      0.91      0.93       122\n",
      "                           All Headphones       0.92      0.23      0.36       106\n",
      "                              All Laptops       0.88      0.85      0.86       130\n",
      "                         All Memory Cards       0.79      0.90      0.84        90\n",
      "                           All Microwaves       0.97      0.99      0.98       236\n",
      "                All Point & Shoot Cameras       0.69      0.93      0.79        95\n",
      "                             All Printers       0.96      0.98      0.97       197\n",
      "                        All Refrigerators       0.75      0.93      0.83       551\n",
      "                            All TV Stands       0.82      0.94      0.88       327\n",
      "                              All Tablets       0.94      0.97      0.96       183\n",
      "                 All Unlocked Cell Phones       0.97      0.98      0.97       244\n",
      "                      Antennas & Adapters       0.99      0.82      0.89        82\n",
      "               Apple Watch Bands & Straps       0.93      0.81      0.87       104\n",
      "            Appliance Parts & Accessories       0.93      0.89      0.91       250\n",
      "                               Appliances       0.94      0.83      0.88        81\n",
      "                                    Audio       0.89      0.77      0.82        94\n",
      "                                 Bakeware       0.94      0.80      0.87       143\n",
      "                      Best Buy Gift Cards       0.95      0.98      0.96       363\n",
      "                               Binoculars       0.95      0.97      0.96       149\n",
      "          Binoculars, Telescopes & Optics       0.95      0.96      0.96       162\n",
      "                                 Blenders       0.96      0.73      0.83       102\n",
      "            Bluetooth & Wireless Speakers       0.85      0.96      0.90       566\n",
      "                       Bookshelf Speakers       0.88      0.74      0.80        96\n",
      "                     Built-In Dishwashers       1.00      1.00      1.00       210\n",
      "                   CD & DVD Media Storage       0.87      0.94      0.90        98\n",
      "                  CD Players & Turntables       0.80      0.84      0.82        83\n",
      "                    Camcorder Accessories       0.76      0.39      0.51       142\n",
      "              Camera Bags, Cases & Straps       0.77      0.67      0.72       108\n",
      "                         Camera Batteries       0.71      0.94      0.81       175\n",
      "                 Camera Batteries & Power       0.70      0.69      0.69       102\n",
      "                           Car Amplifiers       0.89      0.92      0.90        98\n",
      "             Car Audio Installation Parts       0.83      0.67      0.74       207\n",
      "                             Car Chargers       0.73      0.77      0.75        82\n",
      "                    Car Electronics & GPS       0.82      0.66      0.73       172\n",
      "     Car Installation Parts & Accessories       0.85      0.42      0.56       112\n",
      "                             Car Speakers       0.91      0.83      0.87       113\n",
      "                     Car Stereo Receivers       0.93      0.93      0.93        96\n",
      "                           Car Subwoofers       0.85      0.76      0.80        94\n",
      "                                    Cases       0.81      0.78      0.79       211\n",
      "          Cases, Covers & Keyboard Folios       0.79      0.90      0.84       445\n",
      "                   Cell Phone Accessories       0.74      0.68      0.71       228\n",
      "             Cell Phone Batteries & Power       0.79      0.65      0.71       178\n",
      "                 Cell Phone Cases & Clips       0.92      0.93      0.93      1477\n",
      "                              Cell Phones       0.93      0.81      0.86       204\n",
      "                            Coffee Makers       0.89      0.73      0.80        81\n",
      "                              Coffee Pods       0.97      0.90      0.94        84\n",
      "                   Coffee, Tea & Espresso       0.85      0.82      0.84       182\n",
      "       Computer Accessories & Peripherals       0.88      0.67      0.76       148\n",
      "              Computer Cards & Components       0.94      0.87      0.90       285\n",
      "                       Computer Keyboards       0.87      0.93      0.90        91\n",
      "                           Connected Home       0.77      0.88      0.82       232\n",
      "              Connected Home & Housewares       0.91      0.82      0.86       127\n",
      "                                 Cooktops       0.98      0.98      0.98       206\n",
      "                                 Cookware       0.90      0.96      0.93       389\n",
      "                  DJ & Lighting Equipment       0.78      0.74      0.76       130\n",
      "                              DSLR Lenses       0.84      0.83      0.84       138\n",
      "                   Dash Installation Kits       0.91      0.98      0.94       591\n",
      "                           Deck Harnesses       0.84      0.88      0.86       137\n",
      "                                    Desks       0.93      0.95      0.94       118\n",
      "               Digital Camera Accessories       0.86      0.65      0.74       262\n",
      "                          Digital Cameras       0.95      0.93      0.94       144\n",
      "                     Drones & Accessories       0.87      0.80      0.84       123\n",
      "                       Drums & Percussion       0.94      0.87      0.90       134\n",
      "               Earbud & In-Ear Headphones       0.84      0.96      0.89       320\n",
      "                          Electric Dryers       0.97      0.99      0.98       106\n",
      "            Electric Griddles & Hotplates       0.92      0.64      0.75        86\n",
      "                          Electric Ranges       0.98      0.99      0.98       242\n",
      "                     Electric Tea Kettles       0.99      0.90      0.94        92\n",
      "                     External Hard Drives       0.77      0.79      0.78        97\n",
      "                                     Fans       0.97      0.97      0.97       195\n",
      "                    Filters & Accessories       0.91      0.97      0.94       257\n",
      "                               Fireplaces       0.90      0.78      0.83       126\n",
      "                    Fitness & GPS Watches       0.90      0.94      0.92       154\n",
      "                    Flashes & Accessories       0.91      0.79      0.84       110\n",
      "                Food Preparation Utensils       0.84      0.78      0.81       277\n",
      "                    Freezers & Ice Makers       0.94      0.91      0.93       110\n",
      "                       Full-Size Blenders       0.86      0.92      0.89        91\n",
      "                        Furniture & Decor       0.91      0.57      0.70       102\n",
      "             GPS Navigation & Accessories       0.80      0.87      0.83       141\n",
      "                Game Room & Bar Furniture       1.00      0.90      0.95       135\n",
      "                               Gas Dryers       0.99      1.00      0.99        91\n",
      "                               Gas Ranges       0.98      1.00      0.99       227\n",
      "                                   Grills       0.87      0.87      0.87       126\n",
      "                       Guitar Accessories       0.89      0.86      0.87       152\n",
      "                                Hair Care       0.92      0.87      0.89       138\n",
      "                    Hard Drives & Storage       0.84      0.83      0.84       151\n",
      "                               Headphones       0.65      0.58      0.61       150\n",
      "             Health & Fitness Accessories       0.94      0.88      0.91       143\n",
      "                 Health, Fitness & Beauty       0.96      0.47      0.63       142\n",
      "                                  Heaters       0.95      0.97      0.96       130\n",
      "                               Home Audio       0.59      0.47      0.52       102\n",
      "                      Household Batteries       0.89      0.92      0.90       145\n",
      "                              Humidifiers       0.96      0.96      0.96       113\n",
      "                      In-Ceiling Speakers       0.86      0.92      0.89        85\n",
      "            In-Wall & In-Ceiling Speakers       0.91      0.78      0.84        81\n",
      "           Instrument Instructional Books       0.74      0.62      0.68        96\n",
      "                       Internal Batteries       0.95      0.85      0.90       188\n",
      "                                Keyboards       0.90      0.86      0.88        81\n",
      "                          Kitchen Gadgets       0.89      0.73      0.80       173\n",
      "                             LED Monitors       0.71      0.92      0.80       132\n",
      "                      Laptop Bags & Cases       0.89      0.92      0.91       345\n",
      "                         Laptop Batteries       0.98      0.95      0.97       209\n",
      "               Laptop Chargers & Adapters       0.77      0.76      0.77        92\n",
      "                     Learning & Education       0.81      0.87      0.84        85\n",
      "                    Living Room Furniture       0.79      0.89      0.84       117\n",
      "                                  Luggage       0.92      0.88      0.90       122\n",
      "   Magnolia TV Stands, Mounts & Furniture       0.95      0.86      0.90        98\n",
      "                     Marine & Powersports       0.90      0.60      0.72       133\n",
      "                                     Mice       0.84      0.93      0.88       108\n",
      "                              Microphones       0.73      0.88      0.80       145\n",
      "                Microphones & Accessories       0.78      0.56      0.65        80\n",
      "                 Microphones & Live Sound       0.69      0.57      0.62       137\n",
      "                        Mirrorless Lenses       0.74      0.84      0.79        82\n",
      "               Mixers & Mixer Accessories       0.93      0.96      0.94       154\n",
      "             Monitor & Screen Accessories       0.86      0.61      0.71        82\n",
      "                                 Monitors       0.75      0.48      0.58        94\n",
      "                  Multi-Cup Coffee Makers       0.87      0.83      0.85       108\n",
      "           Musical Instrument Accessories       0.72      0.56      0.63       260\n",
      "                      Musical Instruments       0.90      0.74      0.81       280\n",
      "                              Name Brands       0.80      0.37      0.51       171\n",
      "                    Networking & Wireless       0.93      0.92      0.93       183\n",
      "                             Nintendo 3DS       0.98      0.98      0.98        96\n",
      "                        Nintendo DS Games       0.98      0.99      0.99       137\n",
      "                            Office Chairs       0.93      0.96      0.95       149\n",
      "                       Office Electronics       0.93      0.83      0.88       130\n",
      "               Office Furniture & Storage       0.89      0.74      0.81       115\n",
      "                        On-Ear Headphones       0.76      0.88      0.82       140\n",
      "                          Outdoor Heating       0.92      0.87      0.89        83\n",
      "                          Outdoor Seating       0.80      0.81      0.81        96\n",
      "                         Outdoor Speakers       0.89      0.92      0.90       126\n",
      "                      Over-Ear Headphones       0.72      0.88      0.79       155\n",
      "                                PC Gaming       0.95      0.37      0.53        98\n",
      "                               PC Laptops       0.93      0.98      0.95       274\n",
      "                                PS3 Games       0.75      0.45      0.56       150\n",
      "                                PS4 Games       0.64      0.88      0.74       203\n",
      "                  Patio Furniture & Decor       0.87      0.85      0.86       190\n",
      "                                   Pedals       0.92      0.72      0.81        85\n",
      "                   Personal Care & Beauty       0.91      0.82      0.86       163\n",
      "                  Photography Accessories       0.95      0.68      0.79        91\n",
      "                    Point & Shoot Cameras       0.84      0.40      0.54        80\n",
      "            Portable Chargers/Power Packs       0.76      0.92      0.84       275\n",
      "                          Pre-Owned Games       0.99      1.00      0.99      2845\n",
      "                             Prime Lenses       0.77      0.87      0.82        83\n",
      "                              Printer Ink       0.95      0.98      0.97       397\n",
      "                        Projector Screens       1.00      1.00      1.00        94\n",
      "                               Projectors       0.98      0.98      0.98       112\n",
      "                   Receivers & Amplifiers       0.84      0.84      0.84       134\n",
      "                      Recording Equipment       0.73      0.59      0.65       222\n",
      "                            Refrigerators       0.74      0.31      0.44       225\n",
      "                        Screen Protectors       0.90      0.89      0.89        98\n",
      "                  Security Camera Systems       0.92      0.94      0.93        97\n",
      "          Security Cameras & Surveillance       0.84      0.75      0.79       114\n",
      "                       Shavers & Trimmers       0.96      0.78      0.86       117\n",
      "                              Sheet Music       0.84      0.95      0.90       497\n",
      "                       Sheet Music & DVDs       0.74      0.28      0.41        81\n",
      "                             Single Ovens       0.95      0.94      0.95        89\n",
      " Slow Cookers, Crock Pots & Roaster Ovens       0.97      0.88      0.92       122\n",
      "                 Small Kitchen Appliances       0.85      0.84      0.84       293\n",
      "                         Smartwatch Bands       0.90      0.91      0.91       186\n",
      "                                 Software       0.84      0.97      0.90       306\n",
      "                               Sound Bars       0.95      0.88      0.91        90\n",
      "                      Speaker Accessories       0.84      0.74      0.79       146\n",
      "                                 Speakers       0.78      0.84      0.81       243\n",
      "                     Specialty Appliances       0.87      0.90      0.89       245\n",
      "Steamers, Rice Cookers & Pressure Cookers       0.89      0.90      0.89        98\n",
      "                 Surge Protectors & Power       0.84      0.82      0.83       106\n",
      "                                  Systems       0.78      0.85      0.81        85\n",
      "                        TV & Home Theater       0.89      0.66      0.76        90\n",
      "            TV & Home Theater Accessories       0.78      0.61      0.68       173\n",
      "                                TV Mounts       0.95      0.90      0.92       178\n",
      "               TV, Movie & Character Toys       0.88      0.69      0.77       107\n",
      "                                      TVs       0.85      0.89      0.87        89\n",
      "                                  Tablets       0.94      0.86      0.89        84\n",
      "                    Telephone Accessories       0.93      0.88      0.90        90\n",
      "               Telephones & Communication       0.94      0.81      0.87       109\n",
      "                                 Toasters       0.99      0.97      0.98       116\n",
      "                                    Toner       0.96      0.95      0.95       267\n",
      "                             Toys to Life       0.94      0.99      0.96       198\n",
      "                     Toys, Games & Drones       0.86      0.75      0.80       220\n",
      "                       Tripods & Monopods       0.89      0.64      0.75       143\n",
      "                        USB Cables & Hubs       0.66      0.75      0.70        92\n",
      "                         USB Flash Drives       0.98      0.98      0.98       256\n",
      "            Universal Camera Bags & Cases       0.68      0.76      0.72       130\n",
      "          Vacuum & Floor Care Accessories       0.92      0.88      0.90       151\n",
      "             Vacuum Cleaners & Floor Care       0.93      0.96      0.95       278\n",
      "                   Video Game Accessories       0.66      0.53      0.59        88\n",
      "                              Video Games       0.85      0.62      0.72       230\n",
      "                                 Wall Art       1.00      0.98      0.99       100\n",
      "           Wall Chargers & Power Adapters       0.81      0.74      0.77        90\n",
      "                   Wall Mount Range Hoods       0.86      1.00      0.93       169\n",
      "                               Wall Ovens       0.94      0.98      0.96        94\n",
      "                         Washing Machines       1.00      1.00      1.00       106\n",
      "                                      Wii       0.74      0.81      0.77        90\n",
      "                           Xbox 360 Games       0.87      0.92      0.90       164\n",
      "                                 Xbox One       0.97      0.89      0.93        80\n",
      "                           Xbox One Games       0.96      0.97      0.97       172\n",
      "                iPad & Tablet Accessories       0.84      0.63      0.72       238\n",
      "                          iPhone 6s Cases       0.89      0.56      0.69       171\n",
      "                     iPhone 6s Plus Cases       0.85      0.57      0.69       101\n",
      "                       iPhone Accessories       0.81      0.40      0.54       150\n",
      "                     iPhone Cases & Clips       0.81      0.98      0.89      1241\n",
      "            iPod & MP3 Player Accessories       0.79      0.54      0.64       115\n",
      "                                    other       0.55      0.75      0.64      2224\n",
      "\n",
      "                                 accuracy                           0.85     41316\n",
      "                                macro avg       0.87      0.82      0.84     41316\n",
      "                             weighted avg       0.86      0.85      0.85     41316\n",
      "\n"
     ]
    }
   ],
   "source": [
    "evaluation.get_performance(logreg,\n",
    "                           y_pred_train_100, \n",
    "                           y_train_100,\n",
    "                           probs,\n",
    "                           'micro',\n",
    "                           tree_dict,\n",
    "                           tfid_vectorizer\n",
    "                           )"
   ]
  },
  {
   "cell_type": "code",
   "execution_count": 752,
   "metadata": {
    "vscode": {
     "languageId": "python"
    }
   },
   "outputs": [
    {
     "name": "stdout",
     "output_type": "stream",
     "text": [
      "Model Performance metrics:\n",
      "------------------------------\n",
      "Accuracy: 0.8191674733785091\n",
      "Precision: 0.8191674733785091\n",
      "Recall: 0.8191674733785091\n",
      "F1 Score: 0.8191674733785091\n",
      "Average distance between nodes categories: 0.40609874152952563\n",
      "Top 5 Score: 0.031945788964181994\n",
      "\n",
      "Model Classification report:\n",
      "------------------------------\n",
      "                                           precision    recall  f1-score   support\n",
      "\n",
      "                      3D Printer Filament       0.89      1.00      0.94        47\n",
      "                  A/V Cables & Connectors       0.68      0.81      0.74        90\n",
      "                  Action Camcorder Mounts       0.59      0.61      0.60        28\n",
      "           Activity Trackers & Pedometers       0.94      0.85      0.89        39\n",
      "              Adapters, Cables & Chargers       0.66      0.72      0.69        71\n",
      "                         Air Conditioners       1.00      0.96      0.98        28\n",
      "             Air Purifier Filters & Parts       0.94      0.81      0.87        21\n",
      "                            Air Purifiers       0.92      0.96      0.94        24\n",
      "               All Cell Phones with Plans       0.94      0.88      0.91        33\n",
      "                             All Desktops       0.93      0.98      0.96        88\n",
      "                       All Flat-Panel TVs       0.90      0.87      0.89        31\n",
      "                           All Headphones       0.50      0.12      0.19        26\n",
      "                              All Laptops       0.83      0.88      0.85        33\n",
      "                         All Memory Cards       0.81      0.77      0.79        22\n",
      "                           All Microwaves       1.00      0.98      0.99        59\n",
      "                All Point & Shoot Cameras       0.77      0.96      0.85        24\n",
      "                             All Printers       0.98      0.94      0.96        49\n",
      "                        All Refrigerators       0.73      0.92      0.82       138\n",
      "                            All TV Stands       0.78      0.91      0.84        82\n",
      "                              All Tablets       0.90      0.98      0.94        46\n",
      "                 All Unlocked Cell Phones       0.98      1.00      0.99        61\n",
      "                      Antennas & Adapters       1.00      0.76      0.86        21\n",
      "               Apple Watch Bands & Straps       0.95      0.77      0.85        26\n",
      "            Appliance Parts & Accessories       0.89      0.89      0.89        62\n",
      "                               Appliances       0.89      0.85      0.87        20\n",
      "                                    Audio       0.86      0.83      0.84        23\n",
      "                                 Bakeware       0.90      0.75      0.82        36\n",
      "                      Best Buy Gift Cards       0.93      0.97      0.95        91\n",
      "                               Binoculars       1.00      0.97      0.99        37\n",
      "          Binoculars, Telescopes & Optics       0.97      0.95      0.96        40\n",
      "                                 Blenders       0.94      0.60      0.73        25\n",
      "            Bluetooth & Wireless Speakers       0.76      0.94      0.84       142\n",
      "                       Bookshelf Speakers       0.95      0.79      0.86        24\n",
      "                     Built-In Dishwashers       1.00      1.00      1.00        53\n",
      "                   CD & DVD Media Storage       0.76      0.88      0.81        25\n",
      "                  CD Players & Turntables       0.72      0.86      0.78        21\n",
      "                    Camcorder Accessories       0.56      0.26      0.35        35\n",
      "              Camera Bags, Cases & Straps       0.75      0.67      0.71        27\n",
      "                         Camera Batteries       0.67      0.91      0.77        44\n",
      "                 Camera Batteries & Power       0.71      0.60      0.65        25\n",
      "                           Car Amplifiers       0.92      0.96      0.94        24\n",
      "             Car Audio Installation Parts       0.76      0.60      0.67        52\n",
      "                             Car Chargers       0.65      0.65      0.65        20\n",
      "                    Car Electronics & GPS       0.76      0.51      0.61        43\n",
      "     Car Installation Parts & Accessories       0.85      0.39      0.54        28\n",
      "                             Car Speakers       0.93      0.93      0.93        28\n",
      "                     Car Stereo Receivers       0.92      0.92      0.92        24\n",
      "                           Car Subwoofers       0.91      0.87      0.89        23\n",
      "                                    Cases       0.77      0.77      0.77        53\n",
      "          Cases, Covers & Keyboard Folios       0.76      0.87      0.81       112\n",
      "                   Cell Phone Accessories       0.71      0.65      0.68        57\n",
      "             Cell Phone Batteries & Power       0.51      0.41      0.46        44\n",
      "                 Cell Phone Cases & Clips       0.90      0.92      0.91       370\n",
      "                              Cell Phones       0.89      0.80      0.85        51\n",
      "                            Coffee Makers       0.69      0.55      0.61        20\n",
      "                              Coffee Pods       0.95      0.90      0.93        21\n",
      "                   Coffee, Tea & Espresso       0.82      0.78      0.80        46\n",
      "       Computer Accessories & Peripherals       0.89      0.46      0.61        37\n",
      "              Computer Cards & Components       0.94      0.86      0.90        71\n",
      "                       Computer Keyboards       0.82      1.00      0.90        23\n",
      "                           Connected Home       0.69      0.83      0.75        58\n",
      "              Connected Home & Housewares       0.81      0.69      0.75        32\n",
      "                                 Cooktops       1.00      1.00      1.00        51\n",
      "                                 Cookware       0.89      0.95      0.92        97\n",
      "                  DJ & Lighting Equipment       0.77      0.70      0.73        33\n",
      "                              DSLR Lenses       0.68      0.80      0.74        35\n",
      "                   Dash Installation Kits       0.92      0.96      0.94       148\n",
      "                           Deck Harnesses       0.85      0.82      0.84        34\n",
      "                                    Desks       0.93      0.83      0.88        30\n",
      "               Digital Camera Accessories       0.76      0.52      0.61        66\n",
      "                          Digital Cameras       0.92      1.00      0.96        36\n",
      "                     Drones & Accessories       0.92      0.71      0.80        31\n",
      "                       Drums & Percussion       0.97      0.91      0.94        33\n",
      "               Earbud & In-Ear Headphones       0.85      0.93      0.89        80\n",
      "                          Electric Dryers       1.00      1.00      1.00        26\n",
      "            Electric Griddles & Hotplates       0.71      0.48      0.57        21\n",
      "                          Electric Ranges       0.95      0.98      0.97        61\n",
      "                     Electric Tea Kettles       0.90      0.78      0.84        23\n",
      "                     External Hard Drives       0.83      0.83      0.83        24\n",
      "                                     Fans       0.98      1.00      0.99        49\n",
      "                    Filters & Accessories       0.90      0.97      0.93        64\n",
      "                               Fireplaces       0.92      0.77      0.84        31\n",
      "                    Fitness & GPS Watches       0.90      0.95      0.92        39\n",
      "                    Flashes & Accessories       0.79      0.70      0.75        27\n",
      "                Food Preparation Utensils       0.79      0.64      0.70        69\n",
      "                    Freezers & Ice Makers       0.86      0.93      0.89        27\n",
      "                       Full-Size Blenders       0.75      0.91      0.82        23\n",
      "                        Furniture & Decor       0.79      0.60      0.68        25\n",
      "             GPS Navigation & Accessories       0.76      0.83      0.79        35\n",
      "                Game Room & Bar Furniture       1.00      0.91      0.95        34\n",
      "                               Gas Dryers       1.00      1.00      1.00        23\n",
      "                               Gas Ranges       1.00      1.00      1.00        57\n",
      "                                   Grills       0.92      0.77      0.84        31\n",
      "                       Guitar Accessories       0.96      0.66      0.78        38\n",
      "                                Hair Care       0.93      0.82      0.87        34\n",
      "                    Hard Drives & Storage       0.79      0.89      0.84        38\n",
      "                               Headphones       0.62      0.61      0.61        38\n",
      "             Health & Fitness Accessories       0.94      0.83      0.88        36\n",
      "                 Health, Fitness & Beauty       0.89      0.47      0.62        36\n",
      "                                  Heaters       0.97      1.00      0.99        33\n",
      "                               Home Audio       0.35      0.32      0.33        25\n",
      "                      Household Batteries       0.82      0.92      0.87        36\n",
      "                              Humidifiers       0.96      0.93      0.95        28\n",
      "                      In-Ceiling Speakers       0.86      0.90      0.88        21\n",
      "            In-Wall & In-Ceiling Speakers       0.83      0.75      0.79        20\n",
      "           Instrument Instructional Books       0.74      0.58      0.65        24\n",
      "                       Internal Batteries       0.87      0.72      0.79        47\n",
      "                                Keyboards       0.90      0.90      0.90        20\n",
      "                          Kitchen Gadgets       0.93      0.63      0.75        43\n",
      "                             LED Monitors       0.65      1.00      0.79        33\n",
      "                      Laptop Bags & Cases       0.90      0.93      0.92        87\n",
      "                         Laptop Batteries       1.00      0.96      0.98        52\n",
      "               Laptop Chargers & Adapters       0.76      0.70      0.73        23\n",
      "                     Learning & Education       0.73      0.76      0.74        21\n",
      "                    Living Room Furniture       0.76      0.76      0.76        29\n",
      "                                  Luggage       1.00      0.87      0.93        31\n",
      "   Magnolia TV Stands, Mounts & Furniture       0.85      0.68      0.76        25\n",
      "                     Marine & Powersports       0.88      0.70      0.78        33\n",
      "                                     Mice       0.83      0.93      0.88        27\n",
      "                              Microphones       0.69      0.92      0.79        36\n",
      "                Microphones & Accessories       0.62      0.75      0.68        20\n",
      "                 Microphones & Live Sound       0.66      0.62      0.64        34\n",
      "                        Mirrorless Lenses       0.63      0.60      0.62        20\n",
      "               Mixers & Mixer Accessories       0.91      1.00      0.95        39\n",
      "             Monitor & Screen Accessories       0.75      0.45      0.56        20\n",
      "                                 Monitors       0.88      0.29      0.44        24\n",
      "                  Multi-Cup Coffee Makers       0.77      0.74      0.75        27\n",
      "           Musical Instrument Accessories       0.57      0.51      0.54        65\n",
      "                      Musical Instruments       0.87      0.59      0.70        70\n",
      "                              Name Brands       0.61      0.26      0.36        43\n",
      "                    Networking & Wireless       0.91      0.91      0.91        46\n",
      "                             Nintendo 3DS       0.96      0.92      0.94        24\n",
      "                        Nintendo DS Games       0.89      0.97      0.93        34\n",
      "                            Office Chairs       0.92      0.97      0.95        37\n",
      "                       Office Electronics       0.96      0.73      0.83        33\n",
      "               Office Furniture & Storage       0.82      0.62      0.71        29\n",
      "                        On-Ear Headphones       0.78      0.89      0.83        35\n",
      "                          Outdoor Heating       0.90      0.86      0.88        21\n",
      "                          Outdoor Seating       0.88      0.96      0.92        24\n",
      "                         Outdoor Speakers       0.84      0.87      0.86        31\n",
      "                      Over-Ear Headphones       0.74      0.90      0.81        39\n",
      "                                PC Gaming       1.00      0.17      0.29        24\n",
      "                               PC Laptops       0.93      0.99      0.96        69\n",
      "                                PS3 Games       0.54      0.19      0.28        37\n",
      "                                PS4 Games       0.55      0.86      0.67        51\n",
      "                  Patio Furniture & Decor       0.90      0.90      0.90        48\n",
      "                                   Pedals       0.79      0.52      0.63        21\n",
      "                   Personal Care & Beauty       0.88      0.85      0.86        41\n",
      "                  Photography Accessories       1.00      0.65      0.79        23\n",
      "                    Point & Shoot Cameras       1.00      0.20      0.33        20\n",
      "            Portable Chargers/Power Packs       0.75      0.86      0.80        69\n",
      "                          Pre-Owned Games       0.99      1.00      1.00       711\n",
      "                             Prime Lenses       0.65      0.71      0.68        21\n",
      "                              Printer Ink       0.91      0.98      0.94       100\n",
      "                        Projector Screens       1.00      1.00      1.00        23\n",
      "                               Projectors       1.00      0.96      0.98        28\n",
      "                   Receivers & Amplifiers       0.83      0.74      0.78        34\n",
      "                      Recording Equipment       0.57      0.38      0.46        55\n",
      "                            Refrigerators       0.68      0.34      0.45        56\n",
      "                        Screen Protectors       0.96      0.92      0.94        25\n",
      "                  Security Camera Systems       0.96      0.92      0.94        24\n",
      "          Security Cameras & Surveillance       0.87      0.69      0.77        29\n",
      "                       Shavers & Trimmers       0.92      0.83      0.87        29\n",
      "                              Sheet Music       0.81      0.93      0.86       124\n",
      "                       Sheet Music & DVDs       0.88      0.35      0.50        20\n",
      "                             Single Ovens       1.00      1.00      1.00        22\n",
      " Slow Cookers, Crock Pots & Roaster Ovens       0.95      0.70      0.81        30\n",
      "                 Small Kitchen Appliances       0.79      0.77      0.78        73\n",
      "                         Smartwatch Bands       0.90      0.98      0.94        47\n",
      "                                 Software       0.73      0.96      0.83        77\n",
      "                               Sound Bars       1.00      0.78      0.88        23\n",
      "                      Speaker Accessories       0.78      0.58      0.67        36\n",
      "                                 Speakers       0.86      0.80      0.83        61\n",
      "                     Specialty Appliances       0.88      0.92      0.90        61\n",
      "Steamers, Rice Cookers & Pressure Cookers       0.82      0.75      0.78        24\n",
      "                 Surge Protectors & Power       0.75      0.89      0.81        27\n",
      "                                  Systems       0.68      0.90      0.78        21\n",
      "                        TV & Home Theater       0.89      0.70      0.78        23\n",
      "            TV & Home Theater Accessories       0.81      0.58      0.68        43\n",
      "                                TV Mounts       0.97      0.84      0.90        45\n",
      "               TV, Movie & Character Toys       0.89      0.59      0.71        27\n",
      "                                      TVs       0.81      0.77      0.79        22\n",
      "                                  Tablets       1.00      0.81      0.89        21\n",
      "                    Telephone Accessories       1.00      0.77      0.87        22\n",
      "               Telephones & Communication       0.83      0.74      0.78        27\n",
      "                                 Toasters       0.94      1.00      0.97        29\n",
      "                                    Toner       0.88      0.91      0.90        67\n",
      "                             Toys to Life       0.89      1.00      0.94        49\n",
      "                     Toys, Games & Drones       0.78      0.78      0.78        55\n",
      "                       Tripods & Monopods       0.86      0.50      0.63        36\n",
      "                        USB Cables & Hubs       0.67      0.96      0.79        23\n",
      "                         USB Flash Drives       0.98      0.98      0.98        64\n",
      "            Universal Camera Bags & Cases       0.59      0.73      0.65        33\n",
      "          Vacuum & Floor Care Accessories       0.82      0.82      0.82        38\n",
      "             Vacuum Cleaners & Floor Care       0.91      0.90      0.91        69\n",
      "                   Video Game Accessories       0.64      0.41      0.50        22\n",
      "                              Video Games       0.83      0.59      0.69        58\n",
      "                                 Wall Art       0.96      0.92      0.94        25\n",
      "           Wall Chargers & Power Adapters       0.59      0.45      0.51        22\n",
      "                   Wall Mount Range Hoods       0.89      1.00      0.94        42\n",
      "                               Wall Ovens       1.00      1.00      1.00        23\n",
      "                         Washing Machines       1.00      1.00      1.00        27\n",
      "                                      Wii       0.61      0.74      0.67        23\n",
      "                           Xbox 360 Games       0.86      0.90      0.88        41\n",
      "                                 Xbox One       0.90      0.90      0.90        20\n",
      "                           Xbox One Games       0.96      1.00      0.98        43\n",
      "                iPad & Tablet Accessories       0.87      0.57      0.69        60\n",
      "                          iPhone 6s Cases       0.84      0.63      0.72        43\n",
      "                     iPhone 6s Plus Cases       0.79      0.44      0.56        25\n",
      "                       iPhone Accessories       0.67      0.32      0.44        37\n",
      "                     iPhone Cases & Clips       0.78      0.96      0.86       311\n",
      "            iPod & MP3 Player Accessories       0.64      0.31      0.42        29\n",
      "                                    other       0.47      0.69      0.56       556\n",
      "\n",
      "                                 accuracy                           0.82     10330\n",
      "                                macro avg       0.84      0.78      0.80     10330\n",
      "                             weighted avg       0.83      0.82      0.81     10330\n",
      "\n"
     ]
    }
   ],
   "source": [
    "evaluation.get_performance(logreg,\n",
    "                           y_pred_test_100, \n",
    "                           y_test_100,\n",
    "                           probs,\n",
    "                           'micro',\n",
    "                           tree_dict,\n",
    "                           tfid_vectorizer\n",
    "                           )"
   ]
  },
  {
   "cell_type": "markdown",
   "metadata": {},
   "source": [
    "## 7. Predict on new data\n",
    "Try the model with new data, this will happen in the frontend ready UI in 'production'"
   ]
  },
  {
   "cell_type": "code",
   "execution_count": 131,
   "metadata": {},
   "outputs": [
    {
     "data": {
      "text/plain": [
       "array(['Audio'], dtype='<U5')"
      ]
     },
     "execution_count": 131,
     "metadata": {},
     "output_type": "execute_result"
    }
   ],
   "source": [
    "text = 'speaker phone'\n",
    "normalized = normalize_corpus(\n",
    "        [text],\n",
    "        html_stripping=True,\n",
    "        contraction_expansion=True,\n",
    "        accented_char_removal=True,\n",
    "        text_lower_case=True,\n",
    "        text_stemming=True,\n",
    "        text_lemmatization=False,\n",
    "        special_char_removal=True,\n",
    "        remove_digits=False,\n",
    "        stopword_removal=True,\n",
    "        stopwords=stopword_list,\n",
    "    )\n",
    "vec = tfid_vectorizer.transform(normalized)\n",
    "pred = logreg.predict(vec)\n",
    "decoder(pred)"
   ]
  },
  {
   "cell_type": "markdown",
   "metadata": {},
   "source": [
    "Getting predict probabilities for every category to get the top-k predictions."
   ]
  },
  {
   "cell_type": "code",
   "execution_count": 183,
   "metadata": {},
   "outputs": [
    {
     "data": {
      "text/plain": [
       "array(['Audio', 'Home Audio Accessories', 'Speakers'], dtype='<U22')"
      ]
     },
     "execution_count": 183,
     "metadata": {},
     "output_type": "execute_result"
    }
   ],
   "source": [
    "preds = logreg.predict_proba(vec)[0]\n",
    "classes = logreg.classes_\n",
    "top_3 = classes[np.argsort(preds)[::-1]][:3]\n",
    "decoder(top_3)"
   ]
  },
  {
   "cell_type": "markdown",
   "metadata": {},
   "source": [
    "Finding the path for every leaf detected in the previous step"
   ]
  },
  {
   "cell_type": "code",
   "execution_count": 220,
   "metadata": {},
   "outputs": [],
   "source": [
    "categories = pd.read_json('https://raw.githubusercontent.com/BestBuyAPIs/open-data-set/master/categories.json')"
   ]
  },
  {
   "cell_type": "code",
   "execution_count": 262,
   "metadata": {},
   "outputs": [],
   "source": [
    "paths = []\n",
    "for pred in top_3:\n",
    "    paths.append(categories.path[categories.id == pred].values[0])\n",
    "    \n",
    "str_paths = []\n",
    "for path in paths:\n",
    "    partial = []\n",
    "    for cat in path:\n",
    "        partial.append(cat['name'])\n",
    "    str_paths.append(' > '.join(partial))"
   ]
  },
  {
   "cell_type": "code",
   "execution_count": 265,
   "metadata": {},
   "outputs": [
    {
     "data": {
      "text/plain": [
       "['Audio', 'Audio > Home Audio Accessories', 'Audio > Home Audio > Speakers']"
      ]
     },
     "execution_count": 265,
     "metadata": {},
     "output_type": "execute_result"
    }
   ],
   "source": [
    "str_paths"
   ]
  },
  {
   "cell_type": "markdown",
   "metadata": {},
   "source": [
    "## 8. Creating a Pipeline\n",
    "Export best models to call them from the API with one line."
   ]
  },
  {
   "cell_type": "code",
   "execution_count": 266,
   "metadata": {},
   "outputs": [],
   "source": [
    "class Normalizer(BaseEstimator, TransformerMixin):\n",
    "    \n",
    "    def fit(self, X, y=None):\n",
    "        return self\n",
    "        \n",
    "    def transform(self, X, y=None):\n",
    "        X = X.copy()\n",
    "        normalized_desc = normalize_corpus(\n",
    "        X,\n",
    "        html_stripping=True,\n",
    "        contraction_expansion=True,\n",
    "        accented_char_removal=True,\n",
    "        text_lower_case=True,\n",
    "        text_stemming=True,\n",
    "        text_lemmatization=False,\n",
    "        special_char_removal=True,\n",
    "        remove_digits=False,\n",
    "        stopword_removal=True,\n",
    "        stopwords=stopword_list,\n",
    "    )\n",
    "        return normalized_desc\n",
    "        "
   ]
  },
  {
   "cell_type": "code",
   "execution_count": 268,
   "metadata": {},
   "outputs": [
    {
     "data": {
      "text/html": [
       "<style>#sk-container-id-7 {color: black;background-color: white;}#sk-container-id-7 pre{padding: 0;}#sk-container-id-7 div.sk-toggleable {background-color: white;}#sk-container-id-7 label.sk-toggleable__label {cursor: pointer;display: block;width: 100%;margin-bottom: 0;padding: 0.3em;box-sizing: border-box;text-align: center;}#sk-container-id-7 label.sk-toggleable__label-arrow:before {content: \"▸\";float: left;margin-right: 0.25em;color: #696969;}#sk-container-id-7 label.sk-toggleable__label-arrow:hover:before {color: black;}#sk-container-id-7 div.sk-estimator:hover label.sk-toggleable__label-arrow:before {color: black;}#sk-container-id-7 div.sk-toggleable__content {max-height: 0;max-width: 0;overflow: hidden;text-align: left;background-color: #f0f8ff;}#sk-container-id-7 div.sk-toggleable__content pre {margin: 0.2em;color: black;border-radius: 0.25em;background-color: #f0f8ff;}#sk-container-id-7 input.sk-toggleable__control:checked~div.sk-toggleable__content {max-height: 200px;max-width: 100%;overflow: auto;}#sk-container-id-7 input.sk-toggleable__control:checked~label.sk-toggleable__label-arrow:before {content: \"▾\";}#sk-container-id-7 div.sk-estimator input.sk-toggleable__control:checked~label.sk-toggleable__label {background-color: #d4ebff;}#sk-container-id-7 div.sk-label input.sk-toggleable__control:checked~label.sk-toggleable__label {background-color: #d4ebff;}#sk-container-id-7 input.sk-hidden--visually {border: 0;clip: rect(1px 1px 1px 1px);clip: rect(1px, 1px, 1px, 1px);height: 1px;margin: -1px;overflow: hidden;padding: 0;position: absolute;width: 1px;}#sk-container-id-7 div.sk-estimator {font-family: monospace;background-color: #f0f8ff;border: 1px dotted black;border-radius: 0.25em;box-sizing: border-box;margin-bottom: 0.5em;}#sk-container-id-7 div.sk-estimator:hover {background-color: #d4ebff;}#sk-container-id-7 div.sk-parallel-item::after {content: \"\";width: 100%;border-bottom: 1px solid gray;flex-grow: 1;}#sk-container-id-7 div.sk-label:hover label.sk-toggleable__label {background-color: #d4ebff;}#sk-container-id-7 div.sk-serial::before {content: \"\";position: absolute;border-left: 1px solid gray;box-sizing: border-box;top: 0;bottom: 0;left: 50%;z-index: 0;}#sk-container-id-7 div.sk-serial {display: flex;flex-direction: column;align-items: center;background-color: white;padding-right: 0.2em;padding-left: 0.2em;position: relative;}#sk-container-id-7 div.sk-item {position: relative;z-index: 1;}#sk-container-id-7 div.sk-parallel {display: flex;align-items: stretch;justify-content: center;background-color: white;position: relative;}#sk-container-id-7 div.sk-item::before, #sk-container-id-7 div.sk-parallel-item::before {content: \"\";position: absolute;border-left: 1px solid gray;box-sizing: border-box;top: 0;bottom: 0;left: 50%;z-index: -1;}#sk-container-id-7 div.sk-parallel-item {display: flex;flex-direction: column;z-index: 1;position: relative;background-color: white;}#sk-container-id-7 div.sk-parallel-item:first-child::after {align-self: flex-end;width: 50%;}#sk-container-id-7 div.sk-parallel-item:last-child::after {align-self: flex-start;width: 50%;}#sk-container-id-7 div.sk-parallel-item:only-child::after {width: 0;}#sk-container-id-7 div.sk-dashed-wrapped {border: 1px dashed gray;margin: 0 0.4em 0.5em 0.4em;box-sizing: border-box;padding-bottom: 0.4em;background-color: white;}#sk-container-id-7 div.sk-label label {font-family: monospace;font-weight: bold;display: inline-block;line-height: 1.2em;}#sk-container-id-7 div.sk-label-container {text-align: center;}#sk-container-id-7 div.sk-container {/* jupyter's `normalize.less` sets `[hidden] { display: none; }` but bootstrap.min.css set `[hidden] { display: none !important; }` so we also need the `!important` here to be able to override the default hidden behavior on the sphinx rendered scikit-learn.org. See: https://github.com/scikit-learn/scikit-learn/issues/21755 */display: inline-block !important;position: relative;}#sk-container-id-7 div.sk-text-repr-fallback {display: none;}</style><div id=\"sk-container-id-7\" class=\"sk-top-container\"><div class=\"sk-text-repr-fallback\"><pre>Pipeline(steps=[(&#x27;normalizer&#x27;, Normalizer()),\n",
       "                (&#x27;tfidf&#x27;,\n",
       "                 TfidfVectorizer(max_features=1000, ngram_range=(1, 2))),\n",
       "                (&#x27;logreg&#x27;,\n",
       "                 LogisticRegression(max_iter=7000, multi_class=&#x27;multinomial&#x27;,\n",
       "                                    n_jobs=-1, solver=&#x27;newton-cg&#x27;))])</pre><b>In a Jupyter environment, please rerun this cell to show the HTML representation or trust the notebook. <br />On GitHub, the HTML representation is unable to render, please try loading this page with nbviewer.org.</b></div><div class=\"sk-container\" hidden><div class=\"sk-item sk-dashed-wrapped\"><div class=\"sk-label-container\"><div class=\"sk-label sk-toggleable\"><input class=\"sk-toggleable__control sk-hidden--visually\" id=\"sk-estimator-id-17\" type=\"checkbox\" ><label for=\"sk-estimator-id-17\" class=\"sk-toggleable__label sk-toggleable__label-arrow\">Pipeline</label><div class=\"sk-toggleable__content\"><pre>Pipeline(steps=[(&#x27;normalizer&#x27;, Normalizer()),\n",
       "                (&#x27;tfidf&#x27;,\n",
       "                 TfidfVectorizer(max_features=1000, ngram_range=(1, 2))),\n",
       "                (&#x27;logreg&#x27;,\n",
       "                 LogisticRegression(max_iter=7000, multi_class=&#x27;multinomial&#x27;,\n",
       "                                    n_jobs=-1, solver=&#x27;newton-cg&#x27;))])</pre></div></div></div><div class=\"sk-serial\"><div class=\"sk-item\"><div class=\"sk-estimator sk-toggleable\"><input class=\"sk-toggleable__control sk-hidden--visually\" id=\"sk-estimator-id-18\" type=\"checkbox\" ><label for=\"sk-estimator-id-18\" class=\"sk-toggleable__label sk-toggleable__label-arrow\">Normalizer</label><div class=\"sk-toggleable__content\"><pre>Normalizer()</pre></div></div></div><div class=\"sk-item\"><div class=\"sk-estimator sk-toggleable\"><input class=\"sk-toggleable__control sk-hidden--visually\" id=\"sk-estimator-id-19\" type=\"checkbox\" ><label for=\"sk-estimator-id-19\" class=\"sk-toggleable__label sk-toggleable__label-arrow\">TfidfVectorizer</label><div class=\"sk-toggleable__content\"><pre>TfidfVectorizer(max_features=1000, ngram_range=(1, 2))</pre></div></div></div><div class=\"sk-item\"><div class=\"sk-estimator sk-toggleable\"><input class=\"sk-toggleable__control sk-hidden--visually\" id=\"sk-estimator-id-20\" type=\"checkbox\" ><label for=\"sk-estimator-id-20\" class=\"sk-toggleable__label sk-toggleable__label-arrow\">LogisticRegression</label><div class=\"sk-toggleable__content\"><pre>LogisticRegression(max_iter=7000, multi_class=&#x27;multinomial&#x27;, n_jobs=-1,\n",
       "                   solver=&#x27;newton-cg&#x27;)</pre></div></div></div></div></div></div></div>"
      ],
      "text/plain": [
       "Pipeline(steps=[('normalizer', Normalizer()),\n",
       "                ('tfidf',\n",
       "                 TfidfVectorizer(max_features=1000, ngram_range=(1, 2))),\n",
       "                ('logreg',\n",
       "                 LogisticRegression(max_iter=7000, multi_class='multinomial',\n",
       "                                    n_jobs=-1, solver='newton-cg'))])"
      ]
     },
     "execution_count": 268,
     "metadata": {},
     "output_type": "execute_result"
    }
   ],
   "source": [
    "pipe = Pipeline([('normalizer', Normalizer()), \n",
    "                 ('tfidf', TfidfVectorizer(max_features=1000, \n",
    "                                  ngram_range=(1, 2),\n",
    "                                  use_idf=True,\n",
    "                                  min_df=1,\n",
    "                                  norm='l2',\n",
    "                                  smooth_idf=True\n",
    "                                  )),\n",
    "                 ('logreg', LogisticRegression(max_iter=7000, \n",
    "                                               n_jobs=-1, \n",
    "                                               multi_class='multinomial', \n",
    "                                               solver='newton-cg'))\n",
    "                ])\n",
    "\n",
    "pipe.fit(X_train,y_train)"
   ]
  },
  {
   "cell_type": "markdown",
   "metadata": {},
   "source": [
    "## 9. Saving fitted pipeline to file.\n",
    "This will allow to call predict in the API when the ml_service receives input data, transform it and return the top-k output full category path for the user to see it in the UI."
   ]
  },
  {
   "cell_type": "code",
   "execution_count": null,
   "metadata": {},
   "outputs": [],
   "source": [
    "dump(pipe, 'pipe.joblib') "
   ]
  }
 ],
 "metadata": {
  "kernelspec": {
   "display_name": "Python 3 (ipykernel)",
   "language": "python",
   "name": "python3"
  },
  "language_info": {
   "codemirror_mode": {
    "name": "ipython",
    "version": 3
   },
   "file_extension": ".py",
   "mimetype": "text/x-python",
   "name": "python",
   "nbconvert_exporter": "python",
   "pygments_lexer": "ipython3",
   "version": "3.8.13"
  },
  "vscode": {
   "interpreter": {
    "hash": "916dbcbb3f70747c44a77c7bcd40155683ae19c65e1c03b4aa3499c5328201f1"
   }
  }
 },
 "nbformat": 4,
 "nbformat_minor": 2
}
