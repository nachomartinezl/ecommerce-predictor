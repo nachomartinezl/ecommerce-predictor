{
 "cells": [
  {
   "attachments": {},
   "cell_type": "markdown",
   "metadata": {},
   "source": [
    "# Features evalation"
   ]
  },
  {
   "cell_type": "code",
   "execution_count": null,
   "metadata": {},
   "outputs": [],
   "source": [
    "# Change directory to projects root\n",
    "import os\n",
    "os.chdir(\"/home/app/src\")\n",
    "\n",
    "# Imports\n",
    "from scripts.build_df import build_df\n",
    "import text_normalizer\n",
    "import hiclass.metrics\n",
    "from sklearn.model_selection import train_test_split\n",
    "from sklearn.feature_extraction.text import TfidfVectorizer\n",
    "from sklearn.tree import DecisionTreeClassifier\n",
    "from model import evaluation\n",
    "from scripts.tree_utils import make_tree\n",
    "from sklearn.metrics import classification_report\n",
    "from scipy.sparse import hstack\n",
    "import pandas as pd\n",
    "import time"
   ]
  },
  {
   "cell_type": "code",
   "execution_count": null,
   "metadata": {},
   "outputs": [],
   "source": [
    "# Auxiliary function for text normalization\n",
    "def normalization(input):\n",
    "    output = text_normalizer.normalize_corpus(\n",
    "        input,\n",
    "        html_stripping=True,\n",
    "        contraction_expansion=True,\n",
    "        accented_char_removal=True,\n",
    "        text_lower_case=True,\n",
    "        text_stemming=True,\n",
    "        text_lemmatization=False,\n",
    "        special_char_removal=True,\n",
    "        remove_digits=False,\n",
    "        stopword_removal=True,\n",
    "        stopwords=text_normalizer.stopword_list\n",
    "    )       \n",
    "    return output\n",
    "\n",
    "# Auxiliary function for creating new columns\n",
    "def assign_precision(x):\n",
    "    return hiclass.metrics.precision(x[0:1], x[1:2])\n",
    "def assign_recall(x):\n",
    "    return hiclass.metrics.recall(x[0:1], x[1:2])\n",
    "def assign_f1(x):\n",
    "    # Condition to avoid ZeroDivisionError\n",
    "    if x[\"precision\"] * x[\"recall\"] == 0.0:\n",
    "        return 0.0\n",
    "    else:\n",
    "        return 2 * x[\"precision\"] * x[\"recall\"] / (x[\"precision\"] + x[\"recall\"])"
   ]
  },
  {
   "cell_type": "code",
   "execution_count": null,
   "metadata": {},
   "outputs": [],
   "source": [
    "no_threshold_df = build_df(json_path='data/products.json', threshold=100) "
   ]
  },
  {
   "cell_type": "code",
   "execution_count": null,
   "metadata": {},
   "outputs": [],
   "source": [
    "normalized_names = no_threshold_df['name'].copy()\n",
    "normalized_names = normalization(normalized_names.apply(str))\n",
    "\n",
    "normalized_descriptions = no_threshold_df['description'].copy()\n",
    "normalized_descriptions = normalization(normalized_descriptions.apply(str))\n",
    "\n",
    "normalized_names_plus_description = pd.Series(normalized_names).apply(lambda x: x + \" \") + pd.Series(normalized_descriptions)\n",
    "\n",
    "y = no_threshold_df['leaf'].copy()"
   ]
  },
  {
   "cell_type": "code",
   "execution_count": null,
   "metadata": {},
   "outputs": [],
   "source": [
    "tree_dict = make_tree(no_threshold_df, no_threshold_df['category'], 'root', display_tree= False)"
   ]
  },
  {
   "cell_type": "markdown",
   "metadata": {},
   "source": [
    "## Baseline names"
   ]
  },
  {
   "cell_type": "code",
   "execution_count": null,
   "metadata": {},
   "outputs": [],
   "source": [
    "X_train, X_test, y_train, y_test = train_test_split(\n",
    "    normalized_names, y,\n",
    "    test_size=0.20, \n",
    "    random_state=42,\n",
    ")"
   ]
  },
  {
   "cell_type": "code",
   "execution_count": null,
   "metadata": {},
   "outputs": [],
   "source": [
    "tfid_names = TfidfVectorizer(max_features=1000, ngram_range=(1, 1)) \n",
    "X_train = tfid_names.fit_transform(X_train)\n",
    "X_test = tfid_names.transform(X_test)"
   ]
  },
  {
   "cell_type": "code",
   "execution_count": null,
   "metadata": {},
   "outputs": [],
   "source": [
    "tree_classifier = DecisionTreeClassifier(random_state=42)\n",
    "\n",
    "initialize_timer = time.time()\n",
    "tree_classifier.fit(X_train, y_train)\n",
    "training_time = time.time() - initialize_timer\n",
    "training_time = time.strftime(\"%H:%M:%S\", time.gmtime(training_time))\n",
    "\n",
    "test_predict = tree_classifier.predict(X_test)"
   ]
  },
  {
   "cell_type": "code",
   "execution_count": null,
   "metadata": {},
   "outputs": [],
   "source": [
    "baseline_names = evaluation.store_performance_in_df(\n",
    "    pred_labels=test_predict,\n",
    "    true_labels=y_test,\n",
    "    average='micro',\n",
    "    tree=tree_dict,\n",
    "    index_name=\"baseline_names_eval\"\n",
    "    )\n",
    "\n",
    "baseline_names[\"training_time\"] = training_time"
   ]
  },
  {
   "cell_type": "code",
   "execution_count": null,
   "metadata": {},
   "outputs": [],
   "source": [
    "df = baseline_names.copy()"
   ]
  },
  {
   "cell_type": "markdown",
   "metadata": {},
   "source": [
    "## Baseline descriptions"
   ]
  },
  {
   "cell_type": "code",
   "execution_count": null,
   "metadata": {},
   "outputs": [],
   "source": [
    "X_train, X_test, y_train, y_test = train_test_split(\n",
    "    normalized_descriptions, y,\n",
    "    test_size=0.20, \n",
    "    random_state=42,\n",
    ")"
   ]
  },
  {
   "cell_type": "code",
   "execution_count": null,
   "metadata": {},
   "outputs": [],
   "source": [
    "tfid_descriptions = TfidfVectorizer(max_features=1000, ngram_range=(1, 1)) \n",
    "X_train = tfid_descriptions.fit_transform(X_train)\n",
    "X_test = tfid_descriptions.transform(X_test)"
   ]
  },
  {
   "cell_type": "code",
   "execution_count": null,
   "metadata": {},
   "outputs": [],
   "source": [
    "tree_classifier = DecisionTreeClassifier(random_state=42)\n",
    "\n",
    "initialize_timer = time.time()\n",
    "tree_classifier.fit(X_train, y_train)\n",
    "training_time = time.time() - initialize_timer\n",
    "training_time = time.strftime(\"%H:%M:%S\", time.gmtime(training_time))\n",
    "\n",
    "test_predict = tree_classifier.predict(X_test)"
   ]
  },
  {
   "cell_type": "code",
   "execution_count": null,
   "metadata": {},
   "outputs": [],
   "source": [
    "baseline_description = evaluation.store_performance_in_df(\n",
    "    pred_labels=test_predict,\n",
    "    true_labels=y_test,\n",
    "    average='micro',\n",
    "    tree=tree_dict,\n",
    "    index_name=\"baseline_description_eval\"\n",
    "    )\n",
    "\n",
    "baseline_description[\"training_time\"] = training_time"
   ]
  },
  {
   "cell_type": "code",
   "execution_count": null,
   "metadata": {},
   "outputs": [],
   "source": [
    "df = pd.concat([df, baseline_description])"
   ]
  },
  {
   "cell_type": "markdown",
   "metadata": {},
   "source": [
    "## Name plus description"
   ]
  },
  {
   "cell_type": "code",
   "execution_count": null,
   "metadata": {},
   "outputs": [],
   "source": [
    "X_train, X_test, y_train, y_test = train_test_split(\n",
    "    normalized_names_plus_description, y,\n",
    "    test_size=0.20, \n",
    "    random_state=42,\n",
    ")"
   ]
  },
  {
   "cell_type": "code",
   "execution_count": null,
   "metadata": {},
   "outputs": [],
   "source": [
    "tfid_descriptions = TfidfVectorizer(max_features=1000, ngram_range=(1, 1)) \n",
    "X_train = tfid_descriptions.fit_transform(X_train)\n",
    "X_test = tfid_descriptions.transform(X_test)"
   ]
  },
  {
   "cell_type": "code",
   "execution_count": null,
   "metadata": {},
   "outputs": [],
   "source": [
    "tree_classifier = DecisionTreeClassifier(random_state=42)\n",
    "\n",
    "initialize_timer = time.time()\n",
    "tree_classifier.fit(X_train, y_train)\n",
    "training_time = time.time() - initialize_timer\n",
    "training_time = time.strftime(\"%H:%M:%S\", time.gmtime(training_time))\n",
    "\n",
    "test_predict = tree_classifier.predict(X_test)"
   ]
  },
  {
   "cell_type": "code",
   "execution_count": null,
   "metadata": {},
   "outputs": [],
   "source": [
    "names_plus_descriptions = evaluation.store_performance_in_df(\n",
    "    pred_labels=test_predict,\n",
    "    true_labels=y_test,\n",
    "    average='micro',\n",
    "    tree=tree_dict,\n",
    "    index_name=\"names_plus_descriptions\"\n",
    "    )\n",
    "\n",
    "names_plus_descriptions[\"training_time\"] = training_time"
   ]
  },
  {
   "cell_type": "code",
   "execution_count": null,
   "metadata": {},
   "outputs": [],
   "source": [
    "df = pd.concat([df, baseline_description_eval])"
   ]
  },
  {
   "cell_type": "markdown",
   "metadata": {},
   "source": [
    "## Name and descriptions with unique Tf-idf"
   ]
  },
  {
   "cell_type": "code",
   "execution_count": null,
   "metadata": {},
   "outputs": [],
   "source": [
    "name_train, name_test, y_train, y_test = train_test_split(\n",
    "    normalized_names, y,\n",
    "    test_size=0.20, \n",
    "    random_state=42,\n",
    ")\n",
    "\n",
    "description_train, description_test, y_train, y_test = train_test_split(\n",
    "    normalized_descriptions, y,\n",
    "    test_size=0.20, \n",
    "    random_state=42,\n",
    ")\n",
    "\n",
    "# Vectorize\n",
    "name_train = tfid_names.transform(name_train)\n",
    "name_test = tfid_names.transform(name_test)\n",
    "description_train = tfid_descriptions.transform(description_train) \n",
    "description_test = tfid_descriptions.transform(description_test)\n",
    "\n",
    "# Set train and test\n",
    "X_train = hstack((name_train, description_train))\n",
    "X_test = hstack((name_test, description_test))"
   ]
  },
  {
   "cell_type": "code",
   "execution_count": null,
   "metadata": {},
   "outputs": [],
   "source": [
    "tree_classifier = DecisionTreeClassifier(random_state=42)\n",
    "\n",
    "initialize_timer = time.time()\n",
    "tree_classifier.fit(X_train, y_train)\n",
    "training_time = time.time() - initialize_timer\n",
    "training_time = time.strftime(\"%H:%M:%S\", time.gmtime(training_time))\n",
    "\n",
    "test_predict = tree_classifier.predict(X_test)"
   ]
  },
  {
   "cell_type": "code",
   "execution_count": null,
   "metadata": {},
   "outputs": [],
   "source": [
    "names_descriptions_different_tfidf = evaluation.store_performance_in_df(\n",
    "    pred_labels=test_predict,\n",
    "    true_labels=y_test,\n",
    "    average='micro',\n",
    "    tree=tree_dict,\n",
    "    index_name=\"names_descriptions_different_tfidf\"\n",
    "    )\n",
    "names_descriptions_different_tfidf[\"training_time\"] = training_time"
   ]
  },
  {
   "cell_type": "code",
   "execution_count": null,
   "metadata": {},
   "outputs": [],
   "source": [
    "df = pd.concat([df, names_descriptions_different_tfidf])"
   ]
  },
  {
   "cell_type": "markdown",
   "metadata": {},
   "source": [
    "## Name and descriptions with same Tf-idf"
   ]
  },
  {
   "cell_type": "code",
   "execution_count": null,
   "metadata": {},
   "outputs": [],
   "source": [
    "name_train, name_test, y_train, y_test = train_test_split(\n",
    "    normalized_names, y,\n",
    "    test_size=0.20, \n",
    "    random_state=42,\n",
    ")\n",
    "\n",
    "description_train, description_test, y_train, y_test = train_test_split(\n",
    "    normalized_descriptions, y,\n",
    "    test_size=0.20, \n",
    "    random_state=42,\n",
    ")\n",
    "\n",
    "# Vectorize\n",
    "name_train = tfid_names.transform(name_train)\n",
    "name_test = tfid_names.transform(name_test)\n",
    "description_train = tfid_names.transform(description_train) \n",
    "description_test = tfid_names.transform(description_test)\n",
    "\n",
    "# Set train and test\n",
    "X_train = hstack((name_train, description_train))\n",
    "X_test = hstack((name_test, description_test))"
   ]
  },
  {
   "cell_type": "code",
   "execution_count": null,
   "metadata": {},
   "outputs": [],
   "source": [
    "tree_classifier = DecisionTreeClassifier(random_state=42)\n",
    "\n",
    "initialize_timer = time.time()\n",
    "tree_classifier.fit(X_train, y_train)\n",
    "training_time = time.time() - initialize_timer\n",
    "training_time = time.strftime(\"%H:%M:%S\", time.gmtime(training_time))\n",
    "\n",
    "test_predict = tree_classifier.predict(X_test)"
   ]
  },
  {
   "cell_type": "code",
   "execution_count": null,
   "metadata": {},
   "outputs": [],
   "source": [
    "names_descriptions_same_tfidf = evaluation.store_performance_in_df(\n",
    "    pred_labels=test_predict,\n",
    "    true_labels=y_test,\n",
    "    average='micro',\n",
    "    tree=tree_dict,\n",
    "    index_name=\"names_descriptions_same_tfidf\"\n",
    "    )\n",
    "names_descriptions_same_tfidf[\"training_time\"] = training_time"
   ]
  },
  {
   "cell_type": "code",
   "execution_count": null,
   "metadata": {},
   "outputs": [],
   "source": [
    "df = pd.concat([df, names_descriptions_same_tfidf])"
   ]
  },
  {
   "cell_type": "markdown",
   "metadata": {},
   "source": [
    "## Name with two different tfidf for descriptions"
   ]
  },
  {
   "cell_type": "code",
   "execution_count": null,
   "metadata": {},
   "outputs": [],
   "source": [
    "name_train, name_test, y_train, y_test = train_test_split(\n",
    "    normalized_names, y,\n",
    "    test_size=0.20, \n",
    "    random_state=42,\n",
    ")\n",
    "\n",
    "description_train, description_test, y_train, y_test = train_test_split(\n",
    "    normalized_descriptions, y,\n",
    "    test_size=0.20, \n",
    "    random_state=42,\n",
    ")\n",
    "\n",
    "# Vectorize\n",
    "name_train = tfid_names.transform(name_train)\n",
    "name_test = tfid_names.transform(name_test)\n",
    "description_train = tfid_names.transform(description_train) \n",
    "description_test = tfid_names.transform(description_test)\n",
    "\n",
    "# Set train and test\n",
    "X_train = hstack((name_train, description_train))\n",
    "X_test = hstack((name_test, description_test))\n",
    "\n",
    "description_train, description_test, y_train, y_test = train_test_split(\n",
    "    normalized_descriptions, y,\n",
    "    test_size=0.20, \n",
    "    random_state=42,\n",
    ")\n",
    "\n",
    "description_train = tfid_descriptions.transform(description_train) \n",
    "description_test = tfid_descriptions.transform(description_test)\n",
    "\n",
    "# Re-set train and test\n",
    "X_train = hstack((X_train, description_train))\n",
    "X_test = hstack((X_test, description_test))"
   ]
  },
  {
   "cell_type": "code",
   "execution_count": null,
   "metadata": {},
   "outputs": [],
   "source": [
    "tree_classifier = DecisionTreeClassifier(random_state=42)\n",
    "\n",
    "initialize_timer = time.time()\n",
    "tree_classifier.fit(X_train, y_train)\n",
    "training_time = time.time() - initialize_timer\n",
    "training_time = time.strftime(\"%H:%M:%S\", time.gmtime(training_time))\n",
    "\n",
    "test_predict = tree_classifier.predict(X_test)"
   ]
  },
  {
   "cell_type": "code",
   "execution_count": null,
   "metadata": {},
   "outputs": [],
   "source": [
    "names_two_descriptions = evaluation.store_performance_in_df(\n",
    "    pred_labels=test_predict,\n",
    "    true_labels=y_test,\n",
    "    average='micro',\n",
    "    tree=tree_dict,\n",
    "    index_name=\"names_two_descriptions\"\n",
    "    )\n",
    "names_two_descriptions[\"training_time\"] = training_time"
   ]
  },
  {
   "cell_type": "code",
   "execution_count": null,
   "metadata": {},
   "outputs": [],
   "source": [
    "df = pd.concat([df, names_two_descriptions])"
   ]
  },
  {
   "attachments": {},
   "cell_type": "markdown",
   "metadata": {},
   "source": [
    "## Name with two different tfidf for descriptions and names plus descriptions"
   ]
  },
  {
   "cell_type": "code",
   "execution_count": null,
   "metadata": {},
   "outputs": [],
   "source": [
    "name_train, name_test, y_train, y_test = train_test_split(\n",
    "    normalized_names, y,\n",
    "    test_size=0.20, \n",
    "    random_state=42,\n",
    ")\n",
    "\n",
    "description_train, description_test, y_train, y_test = train_test_split(\n",
    "    normalized_descriptions, y,\n",
    "    test_size=0.20, \n",
    "    random_state=42,\n",
    ")\n",
    "\n",
    "# Vectorize\n",
    "name_train = tfid_names.transform(name_train)\n",
    "name_test = tfid_names.transform(name_test)\n",
    "description_train = tfid_names.transform(description_train) \n",
    "description_test = tfid_names.transform(description_test)\n",
    "\n",
    "# Set train and test\n",
    "X_train = hstack((name_train, description_train))\n",
    "X_test = hstack((name_test, description_test))\n",
    "\n",
    "description_train, description_test, y_train, y_test = train_test_split(\n",
    "    normalized_descriptions, y,\n",
    "    test_size=0.20, \n",
    "    random_state=42,\n",
    ")\n",
    "\n",
    "description_train = tfid_descriptions.transform(description_train) \n",
    "description_test = tfid_descriptions.transform(description_test)\n",
    "\n",
    "# Re-set train and test\n",
    "X_train = hstack((X_train, description_train))\n",
    "X_test = hstack((X_test, description_test))\n",
    "\n",
    "n_p_d_train, n_p_d_test, y_train, y_test = train_test_split(\n",
    "    normalized_names_plus_description, y,\n",
    "    test_size=0.20, \n",
    "    random_state=42,\n",
    ")\n",
    "\n",
    "n_p_d_train = tfid_names_plus_descriptions.transform(n_p_d_train)\n",
    "n_p_d_test = tfid_names_plus_descriptions.transform(n_p_d_test)\n",
    "\n",
    "# Re-set train and test\n",
    "X_train = hstack((X_train, n_p_d_train))\n",
    "X_test = hstack((X_test, n_p_d_test))"
   ]
  },
  {
   "cell_type": "code",
   "execution_count": null,
   "metadata": {},
   "outputs": [],
   "source": [
    "tree_classifier = DecisionTreeClassifier(random_state=42)\n",
    "\n",
    "initialize_timer = time.time()\n",
    "tree_classifier.fit(X_train, y_train)\n",
    "training_time = time.time() - initialize_timer\n",
    "training_time = time.strftime(\"%H:%M:%S\", time.gmtime(training_time))\n",
    "\n",
    "test_predict = tree_classifier.predict(X_test)"
   ]
  },
  {
   "cell_type": "code",
   "execution_count": null,
   "metadata": {},
   "outputs": [],
   "source": [
    "all_together = evaluation.store_performance_in_df(\n",
    "    pred_labels=test_predict,\n",
    "    true_labels=y_test,\n",
    "    average='micro',\n",
    "    tree=tree_dict,\n",
    "    index_name=\"all_together\"\n",
    "    )\n",
    "all_together[\"training_time\"] = training_time"
   ]
  },
  {
   "cell_type": "code",
   "execution_count": null,
   "metadata": {},
   "outputs": [],
   "source": [
    "df = pd.concat([df, all_together])"
   ]
  },
  {
   "cell_type": "markdown",
   "metadata": {},
   "source": [
    "## Results"
   ]
  },
  {
   "cell_type": "code",
   "execution_count": null,
   "metadata": {},
   "outputs": [],
   "source": [
    "df"
   ]
  }
 ],
 "metadata": {
  "language_info": {
   "name": "python"
  },
  "orig_nbformat": 4
 },
 "nbformat": 4,
 "nbformat_minor": 2
}
