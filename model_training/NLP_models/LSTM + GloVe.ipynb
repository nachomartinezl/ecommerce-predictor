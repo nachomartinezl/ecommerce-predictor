{
 "cells": [
  {
   "cell_type": "code",
   "execution_count": 3,
   "id": "33b3a719",
   "metadata": {},
   "outputs": [
    {
     "name": "stderr",
     "output_type": "stream",
     "text": [
      "[nltk_data] Downloading package stopwords to /home/app/nltk_data...\n",
      "[nltk_data]   Unzipping corpora/stopwords.zip.\n"
     ]
    }
   ],
   "source": [
    "import json\n",
    "import pandas as pd\n",
    "import numpy as np\n",
    "from model.text_normalizer import normalize_corpus, stopword_list\n",
    "from sklearn.model_selection import train_test_split\n",
    "from sklearn.feature_extraction.text import TfidfVectorizer\n",
    "from sklearn.linear_model import LogisticRegression\n",
    "from sklearn.multiclass import OneVsRestClassifier\n",
    "import joblib"
   ]
  },
  {
   "cell_type": "markdown",
   "id": "f5fe68be",
   "metadata": {},
   "source": [
    "# Preprocessing"
   ]
  },
  {
   "cell_type": "code",
   "execution_count": 4,
   "id": "c7cdb9cd",
   "metadata": {},
   "outputs": [],
   "source": [
    "products = pd.read_json('https://raw.githubusercontent.com/anyoneai/e-commerce-open-data-set/master/products.json')"
   ]
  },
  {
   "cell_type": "code",
   "execution_count": 147,
   "id": "5dabaae2",
   "metadata": {},
   "outputs": [],
   "source": [
    "def create_dataset(data):\n",
    "    '''\n",
    "    Create dataset from raw data.\n",
    "    \n",
    "    Receives data in the form of a pandas DataFrame and builds a new DataFrame with\n",
    "    the features and target needed to feed a prediction model.\n",
    "    \n",
    "    Parameters\n",
    "    ----------\n",
    "    data: pd.DataFrame\n",
    "    \n",
    "    Returns\n",
    "    -------\n",
    "    pd.DataFrame  \n",
    "    '''\n",
    "    df = pd.DataFrame()\n",
    "    categories = []\n",
    "    for path in products['category']:\n",
    "        prod_cat = []\n",
    "        for cat in path:\n",
    "            prod_cat.append(cat['name'])\n",
    "        categories.append(prod_cat)\n",
    "    df['name'], df['description'] = data['name'], data['description']\n",
    "    df['categories'] = categories\n",
    "    cat = pd.DataFrame(df['categories'].to_list())\n",
    "    unique_cat = []\n",
    "    for category in cat:\n",
    "        unique_cat.append(cat[category].unique())\n",
    "    unique_cat = list(dict.fromkeys(np.concatenate(unique_cat)))\n",
    "    unique_cat = [x for x in unique_cat if x is not None]\n",
    "    cat = pd.concat([cat,pd.DataFrame(columns = list(unique_cat))])\n",
    "    cat.fillna(0, inplace = True)\n",
    "    for i in range(7):\n",
    "        row = 0\n",
    "        for category in cat[i]:\n",
    "            if category!= 0:\n",
    "                cat.loc[row,category] = 1\n",
    "            row = row + 1\n",
    "    df2 = pd.concat([df['name'],df['description'],cat.iloc[:,7:]],axis=1)\n",
    "    return df2"
   ]
  },
  {
   "cell_type": "code",
   "execution_count": 163,
   "id": "90bd5081",
   "metadata": {},
   "outputs": [],
   "source": [
    "df = create_dataset(products)"
   ]
  },
  {
   "cell_type": "code",
   "execution_count": 164,
   "id": "646b27a1",
   "metadata": {},
   "outputs": [
    {
     "data": {
      "text/html": [
       "<div>\n",
       "<style scoped>\n",
       "    .dataframe tbody tr th:only-of-type {\n",
       "        vertical-align: middle;\n",
       "    }\n",
       "\n",
       "    .dataframe tbody tr th {\n",
       "        vertical-align: top;\n",
       "    }\n",
       "\n",
       "    .dataframe thead th {\n",
       "        text-align: right;\n",
       "    }\n",
       "</style>\n",
       "<table border=\"1\" class=\"dataframe\">\n",
       "  <thead>\n",
       "    <tr style=\"text-align: right;\">\n",
       "      <th></th>\n",
       "      <th>category</th>\n",
       "      <th>count</th>\n",
       "    </tr>\n",
       "  </thead>\n",
       "  <tbody>\n",
       "    <tr>\n",
       "      <th>0</th>\n",
       "      <td>Appliances</td>\n",
       "      <td>9317</td>\n",
       "    </tr>\n",
       "    <tr>\n",
       "      <th>1</th>\n",
       "      <td>Cell Phones</td>\n",
       "      <td>6905</td>\n",
       "    </tr>\n",
       "    <tr>\n",
       "      <th>2</th>\n",
       "      <td>Cell Phone Accessories</td>\n",
       "      <td>6176</td>\n",
       "    </tr>\n",
       "    <tr>\n",
       "      <th>3</th>\n",
       "      <td>Computers &amp; Tablets</td>\n",
       "      <td>6088</td>\n",
       "    </tr>\n",
       "    <tr>\n",
       "      <th>4</th>\n",
       "      <td>Video Games</td>\n",
       "      <td>5837</td>\n",
       "    </tr>\n",
       "  </tbody>\n",
       "</table>\n",
       "</div>"
      ],
      "text/plain": [
       "                 category  count\n",
       "0              Appliances   9317\n",
       "1             Cell Phones   6905\n",
       "2  Cell Phone Accessories   6176\n",
       "3     Computers & Tablets   6088\n",
       "4             Video Games   5837"
      ]
     },
     "execution_count": 164,
     "metadata": {},
     "output_type": "execute_result"
    }
   ],
   "source": [
    "bar_plot = pd.DataFrame()\n",
    "bar_plot['category'] = df.columns[2:]\n",
    "bar_plot['count'] = df.iloc[:,2:].sum().values\n",
    "bar_plot.sort_values(['count'], inplace=True, ascending=False)\n",
    "bar_plot.reset_index(inplace=True, drop=True)\n",
    "bar_plot.head()"
   ]
  },
  {
   "cell_type": "code",
   "execution_count": 165,
   "id": "a81b8748",
   "metadata": {},
   "outputs": [
    {
     "name": "stderr",
     "output_type": "stream",
     "text": [
      "/tmp/ipykernel_19/1189894228.py:8: PerformanceWarning: DataFrame is highly fragmented.  This is usually the result of calling `frame.insert` many times, which has poor performance.  Consider joining all columns at once using pd.concat(axis=1) instead. To get a de-fragmented frame, use `newframe = frame.copy()`\n",
      "  df['Others'] = 0\n",
      "/tmp/ipykernel_19/1189894228.py:12: SettingWithCopyWarning: \n",
      "A value is trying to be set on a copy of a slice from a DataFrame\n",
      "\n",
      "See the caveats in the documentation: https://pandas.pydata.org/pandas-docs/stable/user_guide/indexing.html#returning-a-view-versus-a-copy\n",
      "  df['Others'][df[i] == 1] = 1\n"
     ]
    }
   ],
   "source": [
    "threshold = 100 \n",
    "\n",
    "main_categories = pd.DataFrame()\n",
    "main_categories = bar_plot[bar_plot['count']>threshold]\n",
    "categories = main_categories['category'].values\n",
    "categories = np.append(categories,'Others')\n",
    "not_category = []\n",
    "df['Others'] = 0\n",
    "\n",
    "for i in df.columns[2:]:\n",
    "    if i not in categories:\n",
    "        df['Others'][df[i] == 1] = 1\n",
    "        not_category.append(i)\n",
    "\n",
    "df.drop(not_category, axis=1, inplace=True)"
   ]
  },
  {
   "cell_type": "code",
   "execution_count": 166,
   "id": "84f58d7b",
   "metadata": {},
   "outputs": [
    {
     "data": {
      "text/html": [
       "<div>\n",
       "<style scoped>\n",
       "    .dataframe tbody tr th:only-of-type {\n",
       "        vertical-align: middle;\n",
       "    }\n",
       "\n",
       "    .dataframe tbody tr th {\n",
       "        vertical-align: top;\n",
       "    }\n",
       "\n",
       "    .dataframe thead th {\n",
       "        text-align: right;\n",
       "    }\n",
       "</style>\n",
       "<table border=\"1\" class=\"dataframe\">\n",
       "  <thead>\n",
       "    <tr style=\"text-align: right;\">\n",
       "      <th></th>\n",
       "      <th>category</th>\n",
       "      <th>count</th>\n",
       "      <th>class_weight</th>\n",
       "    </tr>\n",
       "  </thead>\n",
       "  <tbody>\n",
       "    <tr>\n",
       "      <th>0</th>\n",
       "      <td>Others</td>\n",
       "      <td>22030</td>\n",
       "      <td>0.012211</td>\n",
       "    </tr>\n",
       "    <tr>\n",
       "      <th>1</th>\n",
       "      <td>Appliances</td>\n",
       "      <td>9317</td>\n",
       "      <td>0.028872</td>\n",
       "    </tr>\n",
       "    <tr>\n",
       "      <th>2</th>\n",
       "      <td>Cell Phones</td>\n",
       "      <td>6905</td>\n",
       "      <td>0.038957</td>\n",
       "    </tr>\n",
       "    <tr>\n",
       "      <th>3</th>\n",
       "      <td>Cell Phone Accessories</td>\n",
       "      <td>6176</td>\n",
       "      <td>0.043556</td>\n",
       "    </tr>\n",
       "    <tr>\n",
       "      <th>4</th>\n",
       "      <td>Computers &amp; Tablets</td>\n",
       "      <td>6088</td>\n",
       "      <td>0.044185</td>\n",
       "    </tr>\n",
       "  </tbody>\n",
       "</table>\n",
       "</div>"
      ],
      "text/plain": [
       "                 category  count  class_weight\n",
       "0                  Others  22030      0.012211\n",
       "1              Appliances   9317      0.028872\n",
       "2             Cell Phones   6905      0.038957\n",
       "3  Cell Phone Accessories   6176      0.043556\n",
       "4     Computers & Tablets   6088      0.044185"
      ]
     },
     "execution_count": 166,
     "metadata": {},
     "output_type": "execute_result"
    }
   ],
   "source": [
    "most_common_cat = pd.DataFrame()\n",
    "most_common_cat['category'] = df.columns[2:]\n",
    "most_common_cat['count'] = df.iloc[:,2:].sum().values\n",
    "most_common_cat.sort_values(['count'], inplace=True, ascending=False)\n",
    "most_common_cat.reset_index(inplace=True, drop=True)\n",
    "most_common_cat['class_weight'] = len(most_common_cat) / most_common_cat['count']\n",
    "most_common_cat.head()   "
   ]
  },
  {
   "cell_type": "code",
   "execution_count": 167,
   "id": "fc7bf4ce",
   "metadata": {},
   "outputs": [],
   "source": [
    "def normalization(text):\n",
    "    normalized = normalize_corpus(\n",
    "        text,\n",
    "        html_stripping=True,\n",
    "        contraction_expansion=True,\n",
    "        accented_char_removal=True,\n",
    "        text_lower_case=True,\n",
    "        text_stemming=True,\n",
    "        text_lemmatization=False,\n",
    "        special_char_removal=True,\n",
    "        remove_digits=False,\n",
    "        stopword_removal=True,\n",
    "        stopwords=stopword_list\n",
    "    )       \n",
    "    return normalized"
   ]
  },
  {
   "cell_type": "code",
   "execution_count": 168,
   "id": "3b78d363",
   "metadata": {},
   "outputs": [],
   "source": [
    "df['name'] = normalization(df['name'].apply(str))\n",
    "df['description'] = normalization(df['description'].apply(str))"
   ]
  },
  {
   "cell_type": "code",
   "execution_count": 169,
   "id": "9b7a6693",
   "metadata": {},
   "outputs": [],
   "source": [
    "df['full_text'] = df['name'] + df['description']"
   ]
  },
  {
   "cell_type": "markdown",
   "id": "0f053e95",
   "metadata": {},
   "source": [
    "# Modeling"
   ]
  },
  {
   "cell_type": "code",
   "execution_count": 170,
   "id": "ae63326d",
   "metadata": {},
   "outputs": [],
   "source": [
    "from keras.preprocessing.text import Tokenizer\n",
    "from keras.layers import Input, Flatten, LSTM, Dense, Embedding, Dropout\n",
    "from keras.models import Model\n",
    "from keras.preprocessing.sequence import pad_sequences\n",
    "from keras.callbacks import ReduceLROnPlateau, ModelCheckpoint\n",
    "from keras.metrics import AUC"
   ]
  },
  {
   "cell_type": "code",
   "execution_count": 171,
   "id": "0c9e7cb8",
   "metadata": {},
   "outputs": [],
   "source": [
    "tokenizer = Tokenizer(num_words=5000, lower=True) \n",
    "tokenizer.fit_on_texts(df['full_text'])\n",
    "sequences = tokenizer.texts_to_sequences(df['full_text'])\n",
    "X = pad_sequences(sequences, maxlen=500)\n",
    "y = df[df.columns[2:-1]]"
   ]
  },
  {
   "cell_type": "code",
   "execution_count": 172,
   "id": "bf543d45",
   "metadata": {},
   "outputs": [],
   "source": [
    "X_train, X_test, y_train, y_test = train_test_split(\n",
    "    X, y, \n",
    "    test_size=0.3, \n",
    "    random_state=42)"
   ]
  },
  {
   "cell_type": "code",
   "execution_count": 186,
   "id": "7ac74c0f",
   "metadata": {},
   "outputs": [],
   "source": [
    "num_classes = y_train.shape[1]\n",
    "max_words = len(tokenizer.word_index) + 1\n",
    "maxlen = 500\n",
    "class_weight = dict(zip(range(0,len(most_common_cat) + 1), most_common_cat.class_weight))"
   ]
  },
  {
   "cell_type": "code",
   "execution_count": 174,
   "id": "2d2a33f7",
   "metadata": {},
   "outputs": [],
   "source": [
    "glove = open('data/glove.6B.100d.txt', encoding=\"utf8\") "
   ]
  },
  {
   "cell_type": "code",
   "execution_count": 175,
   "id": "09587a50",
   "metadata": {},
   "outputs": [],
   "source": [
    "embeddings_dictionary = dict()\n",
    "\n",
    "for line in glove:\n",
    "    records = line.split()\n",
    "    word = records[0]\n",
    "    vector_dimensions = np.asarray(records[1:], dtype='float32')\n",
    "    embeddings_dictionary[word] = vector_dimensions\n",
    "glove.close()\n",
    "\n",
    "embedding_matrix = np.zeros((max_words, 100))\n",
    "for word, index in tokenizer.word_index.items():\n",
    "    embedding_vector = embeddings_dictionary.get(word)\n",
    "    if embedding_vector is not None:\n",
    "        embedding_matrix[index] = embedding_vector    "
   ]
  },
  {
   "cell_type": "code",
   "execution_count": 178,
   "id": "b60bfc77",
   "metadata": {},
   "outputs": [
    {
     "name": "stdout",
     "output_type": "stream",
     "text": [
      "Model: \"model_3\"\n",
      "_________________________________________________________________\n",
      " Layer (type)                Output Shape              Param #   \n",
      "=================================================================\n",
      " input_4 (InputLayer)        [(None, 500)]             0         \n",
      "                                                                 \n",
      " embedding_3 (Embedding)     (None, 500, 100)          5149500   \n",
      "                                                                 \n",
      " dropout_6 (Dropout)         (None, 500, 100)          0         \n",
      "                                                                 \n",
      " lstm_3 (LSTM)               (None, 300)               481200    \n",
      "                                                                 \n",
      " dropout_7 (Dropout)         (None, 300)               0         \n",
      "                                                                 \n",
      " dense_3 (Dense)             (None, 269)               80969     \n",
      "                                                                 \n",
      "=================================================================\n",
      "Total params: 5,711,669\n",
      "Trainable params: 562,169\n",
      "Non-trainable params: 5,149,500\n",
      "_________________________________________________________________\n"
     ]
    }
   ],
   "source": [
    "deep_inputs = Input(shape=(maxlen,))\n",
    "embedding_layer = Embedding(max_words, 100, weights=[embedding_matrix], trainable=False)(deep_inputs)\n",
    "dropout_embedding_layer = Dropout(0.2)(embedding_layer)\n",
    "LSTM_Layer_1 = LSTM(300)(dropout_embedding_layer)\n",
    "dropout_LSTM_Layer_1 =  Dropout(0.2)(LSTM_Layer_1)\n",
    "dense_layer_1 = Dense(num_classes, activation='sigmoid')(dropout_LSTM_Layer_1)\n",
    "model = Model(inputs=deep_inputs, outputs=dense_layer_1)\n",
    "\n",
    "callbacks = [\n",
    "    ReduceLROnPlateau(),\n",
    "    ModelCheckpoint(filepath='model/experiments/model-LSTM.h5', save_best_only=True)\n",
    "]\n",
    "\n",
    "model.compile(loss='binary_crossentropy', optimizer='adam', metrics=[AUC()])\n",
    "model.summary()"
   ]
  },
  {
   "cell_type": "code",
   "execution_count": 187,
   "id": "048dfe24",
   "metadata": {},
   "outputs": [
    {
     "name": "stdout",
     "output_type": "stream",
     "text": [
      "Epoch 1/30\n"
     ]
    },
    {
     "name": "stderr",
     "output_type": "stream",
     "text": [
      "2022-12-20 07:44:45.401095: I tensorflow/stream_executor/cuda/cuda_dnn.cc:368] Loaded cuDNN version 8200\n"
     ]
    },
    {
     "name": "stdout",
     "output_type": "stream",
     "text": [
      "791/791 [==============================] - 234s 292ms/step - loss: 0.0039 - auc_1: 0.7778 - val_loss: 0.0543 - val_auc_1: 0.8037 - lr: 0.0010\n",
      "Epoch 2/30\n",
      "791/791 [==============================] - 230s 290ms/step - loss: 0.0029 - auc_1: 0.8372 - val_loss: 0.0467 - val_auc_1: 0.8692 - lr: 0.0010\n",
      "Epoch 3/30\n",
      "791/791 [==============================] - 228s 288ms/step - loss: 0.0026 - auc_1: 0.8701 - val_loss: 0.0429 - val_auc_1: 0.8958 - lr: 0.0010\n",
      "Epoch 4/30\n",
      "791/791 [==============================] - 230s 290ms/step - loss: 0.0024 - auc_1: 0.8960 - val_loss: 0.0403 - val_auc_1: 0.9103 - lr: 0.0010\n",
      "Epoch 5/30\n",
      "791/791 [==============================] - 228s 288ms/step - loss: 0.0022 - auc_1: 0.9178 - val_loss: 0.0361 - val_auc_1: 0.9365 - lr: 0.0010\n",
      "Epoch 6/30\n",
      "791/791 [==============================] - 230s 290ms/step - loss: 0.0020 - auc_1: 0.9322 - val_loss: 0.0335 - val_auc_1: 0.9410 - lr: 0.0010\n",
      "Epoch 7/30\n",
      "791/791 [==============================] - 228s 288ms/step - loss: 0.0018 - auc_1: 0.9430 - val_loss: 0.0309 - val_auc_1: 0.9517 - lr: 0.0010\n",
      "Epoch 8/30\n",
      "791/791 [==============================] - 229s 290ms/step - loss: 0.0016 - auc_1: 0.9516 - val_loss: 0.0284 - val_auc_1: 0.9590 - lr: 0.0010\n",
      "Epoch 9/30\n",
      "791/791 [==============================] - 228s 288ms/step - loss: 0.0015 - auc_1: 0.9568 - val_loss: 0.0265 - val_auc_1: 0.9651 - lr: 0.0010\n",
      "Epoch 10/30\n",
      "791/791 [==============================] - 230s 290ms/step - loss: 0.0014 - auc_1: 0.9640 - val_loss: 0.0254 - val_auc_1: 0.9678 - lr: 0.0010\n",
      "Epoch 11/30\n",
      "791/791 [==============================] - 228s 288ms/step - loss: 0.0014 - auc_1: 0.9648 - val_loss: 0.0242 - val_auc_1: 0.9706 - lr: 0.0010\n",
      "Epoch 12/30\n",
      "791/791 [==============================] - 229s 290ms/step - loss: 0.0014 - auc_1: 0.9641 - val_loss: 0.0243 - val_auc_1: 0.9672 - lr: 0.0010\n",
      "Epoch 13/30\n",
      "791/791 [==============================] - 228s 288ms/step - loss: 0.0013 - auc_1: 0.9669 - val_loss: 0.0230 - val_auc_1: 0.9725 - lr: 0.0010\n",
      "Epoch 14/30\n",
      "791/791 [==============================] - 229s 290ms/step - loss: 0.0012 - auc_1: 0.9723 - val_loss: 0.0216 - val_auc_1: 0.9753 - lr: 0.0010\n",
      "Epoch 15/30\n",
      "791/791 [==============================] - 228s 288ms/step - loss: 0.0011 - auc_1: 0.9751 - val_loss: 0.0205 - val_auc_1: 0.9768 - lr: 0.0010\n",
      "Epoch 16/30\n",
      "791/791 [==============================] - 229s 290ms/step - loss: 0.0011 - auc_1: 0.9772 - val_loss: 0.0358 - val_auc_1: 0.9069 - lr: 0.0010\n",
      "Epoch 17/30\n",
      "791/791 [==============================] - 228s 288ms/step - loss: 0.0011 - auc_1: 0.9741 - val_loss: 0.0193 - val_auc_1: 0.9781 - lr: 0.0010\n",
      "Epoch 18/30\n",
      "791/791 [==============================] - 229s 290ms/step - loss: 9.8033e-04 - auc_1: 0.9791 - val_loss: 0.0183 - val_auc_1: 0.9813 - lr: 0.0010\n",
      "Epoch 19/30\n",
      "791/791 [==============================] - 228s 289ms/step - loss: 9.3588e-04 - auc_1: 0.9810 - val_loss: 0.0180 - val_auc_1: 0.9809 - lr: 0.0010\n",
      "Epoch 20/30\n",
      "791/791 [==============================] - 230s 291ms/step - loss: 8.9560e-04 - auc_1: 0.9816 - val_loss: 0.0183 - val_auc_1: 0.9792 - lr: 0.0010\n",
      "Epoch 21/30\n",
      "791/791 [==============================] - 229s 290ms/step - loss: 8.7576e-04 - auc_1: 0.9829 - val_loss: 0.0171 - val_auc_1: 0.9824 - lr: 0.0010\n",
      "Epoch 22/30\n",
      "791/791 [==============================] - 231s 292ms/step - loss: 8.3133e-04 - auc_1: 0.9837 - val_loss: 0.0164 - val_auc_1: 0.9826 - lr: 0.0010\n",
      "Epoch 23/30\n",
      "791/791 [==============================] - 229s 289ms/step - loss: 8.1930e-04 - auc_1: 0.9842 - val_loss: 0.0162 - val_auc_1: 0.9828 - lr: 0.0010\n",
      "Epoch 24/30\n",
      "791/791 [==============================] - 230s 291ms/step - loss: 7.6746e-04 - auc_1: 0.9860 - val_loss: 0.0159 - val_auc_1: 0.9841 - lr: 0.0010\n",
      "Epoch 25/30\n",
      "791/791 [==============================] - 229s 289ms/step - loss: 7.4263e-04 - auc_1: 0.9860 - val_loss: 0.0160 - val_auc_1: 0.9819 - lr: 0.0010\n",
      "Epoch 26/30\n",
      "791/791 [==============================] - 230s 291ms/step - loss: 7.5255e-04 - auc_1: 0.9861 - val_loss: 0.0151 - val_auc_1: 0.9840 - lr: 0.0010\n",
      "Epoch 27/30\n",
      "791/791 [==============================] - 229s 289ms/step - loss: 7.1413e-04 - auc_1: 0.9867 - val_loss: 0.0152 - val_auc_1: 0.9834 - lr: 0.0010\n",
      "Epoch 28/30\n",
      "791/791 [==============================] - 231s 292ms/step - loss: 6.8561e-04 - auc_1: 0.9875 - val_loss: 0.0148 - val_auc_1: 0.9834 - lr: 0.0010\n",
      "Epoch 29/30\n",
      "791/791 [==============================] - 229s 290ms/step - loss: 6.5797e-04 - auc_1: 0.9883 - val_loss: 0.0146 - val_auc_1: 0.9831 - lr: 0.0010\n",
      "Epoch 30/30\n",
      "791/791 [==============================] - 231s 292ms/step - loss: 6.4272e-04 - auc_1: 0.9886 - val_loss: 0.0143 - val_auc_1: 0.9845 - lr: 0.0010\n"
     ]
    }
   ],
   "source": [
    "history = model.fit(X_train, y_train.values,\n",
    "                    class_weight=class_weight,\n",
    "                    batch_size=32, \n",
    "                    epochs=30, \n",
    "                    validation_split=0.3,\n",
    "                    callbacks=callbacks)"
   ]
  },
  {
   "cell_type": "markdown",
   "id": "623d1879",
   "metadata": {},
   "source": [
    "# Evaluation"
   ]
  },
  {
   "cell_type": "code",
   "execution_count": 189,
   "id": "3d53fb80",
   "metadata": {},
   "outputs": [],
   "source": [
    "import matplotlib.pyplot as plt"
   ]
  },
  {
   "cell_type": "code",
   "execution_count": 192,
   "id": "be909280",
   "metadata": {},
   "outputs": [
    {
     "data": {
      "image/png": "[encoded data removed]",
      "text/plain": [
       "<Figure size 640x480 with 1 Axes>"
      ]
     },
     "metadata": {},
     "output_type": "display_data"
    },
    {
     "data": {
      "image/png": "[encoded data removed]",
      "text/plain": [
       "<Figure size 640x480 with 1 Axes>"
      ]
     },
     "metadata": {},
     "output_type": "display_data"
    }
   ],
   "source": [
    "# Plotting accuracy \n",
    "plt.plot(history.history[\"auc_1\"], label=\"Training AUC\")\n",
    "plt.plot(history.history[\"val_auc_1\"], label=\"Validation AUC\")\n",
    "plt.legend()\n",
    "plt.show()"
   ]
  },
  {
   "cell_type": "code",
   "execution_count": 204,
   "id": "814b28e5",
   "metadata": {},
   "outputs": [],
   "source": [
    "classes = [col for col in df.columns]\n",
    "classes = classes[2:-1]"
   ]
  },
  {
   "cell_type": "code",
   "execution_count": 199,
   "id": "f1ec14d2",
   "metadata": {},
   "outputs": [],
   "source": [
    "import operator\n",
    "def predict(name, description):\n",
    "    # Data cleaning process\n",
    "    name = normalization(name)\n",
    "    description = normalization(description)\n",
    "    full_text = name + description\n",
    "    # Preprocessing\n",
    "    sequences = tokenizer.texts_to_sequences([full_text])\n",
    "    x = pad_sequences(sequences, maxlen=500)\n",
    "    prediction = model.predict(x)\n",
    "    pred_scores = [score for pred in prediction for score in pred]\n",
    "    pred_dict = {}\n",
    "    for cla,score in zip(classes,pred_scores):\n",
    "        pred_dict[cla] = score\n",
    "    return sorted(pred_dict.items(), key=operator.itemgetter(1),reverse=True)[:10] # Top 10"
   ]
  },
  {
   "cell_type": "code",
   "execution_count": 203,
   "id": "0eca82aa",
   "metadata": {},
   "outputs": [
    {
     "data": {
      "text/plain": [
       "[('Monitors', 0.7294958),\n",
       " ('Computers & Tablets', 0.72931427),\n",
       " ('Others', 0.6104789),\n",
       " ('Connected Home & Housewares', 0.39051574),\n",
       " ('Office Electronics', 0.092617504),\n",
       " ('Computer Accessories & Peripherals', 0.05271825),\n",
       " ('Printers, Ink & Toner', 0.03030192),\n",
       " ('Laptop Accessories', 0.020971974),\n",
       " ('Office & School Supplies', 0.01923993),\n",
       " ('LED Monitors', 0.015282549)]"
      ]
     },
     "execution_count": 203,
     "metadata": {},
     "output_type": "execute_result"
    }
   ],
   "source": [
    "name = \"Mac Book Pro Charger\"\n",
    "description = \"Chargers include a built-in cooling system to prevent overheating even while operating at full power.\"\n",
    "predict(name,description)"
   ]
  }
 ],
 "metadata": {
  "kernelspec": {
   "display_name": "Python 3 (ipykernel)",
   "language": "python",
   "name": "python3"
  },
  "language_info": {
   "codemirror_mode": {
    "name": "ipython",
    "version": 3
   },
   "file_extension": ".py",
   "mimetype": "text/x-python",
   "name": "python",
   "nbconvert_exporter": "python",
   "pygments_lexer": "ipython3",
   "version": "3.8.13"
  }
 },
 "nbformat": 4,
 "nbformat_minor": 5
}
