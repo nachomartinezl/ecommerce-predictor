{
 "cells": [
  {
   "attachments": {},
   "cell_type": "markdown",
   "metadata": {},
   "source": [
    "# HiClass baseline name and description"
   ]
  },
  {
   "cell_type": "code",
   "execution_count": 57,
   "metadata": {},
   "outputs": [],
   "source": [
    "import os\n",
    "os.chdir(\"/home/app/src\")"
   ]
  },
  {
   "cell_type": "code",
   "execution_count": 144,
   "metadata": {},
   "outputs": [],
   "source": [
    "import time\n",
    "import pandas as pd\n",
    "import numpy as np\n",
    "import text_normalizer\n",
    "import hiclass.metrics\n",
    "from sklearn import metrics\n",
    "from scripts.build_df import build_df\n",
    "from scripts.decode_id import decode_id\n",
    "from sklearn.model_selection import train_test_split\n",
    "from sklearn.feature_extraction.text import TfidfVectorizer\n",
    "from sklearn.linear_model import LogisticRegression\n",
    "from os import cpu_count\n",
    "from hiclass import LocalClassifierPerNode, LocalClassifierPerParentNode\n",
    "import seaborn as sns\n",
    "import matplotlib.pyplot as plt\n",
    "from sklearn.ensemble import RandomForestClassifier\n",
    "from scipy.sparse import hstack\n",
    "import pickle"
   ]
  },
  {
   "cell_type": "code",
   "execution_count": 59,
   "metadata": {},
   "outputs": [],
   "source": [
    "no_threshold_df = build_df(json_path='data/products.json', threshold=0) "
   ]
  },
  {
   "cell_type": "code",
   "execution_count": 60,
   "metadata": {},
   "outputs": [],
   "source": [
    "def normalization(input):\n",
    "    output = text_normalizer.normalize_corpus(\n",
    "        input,\n",
    "        html_stripping=True,\n",
    "        contraction_expansion=True,\n",
    "        accented_char_removal=True,\n",
    "        text_lower_case=True,\n",
    "        text_stemming=True,\n",
    "        text_lemmatization=False,\n",
    "        special_char_removal=True,\n",
    "        remove_digits=False,\n",
    "        stopword_removal=True,\n",
    "        stopwords=text_normalizer.stopword_list\n",
    "    )       \n",
    "    return output"
   ]
  },
  {
   "cell_type": "code",
   "execution_count": 61,
   "metadata": {},
   "outputs": [],
   "source": [
    "y = no_threshold_df['path'].copy()\n",
    "\n",
    "name = no_threshold_df[\"name\"].copy()\n",
    "name = normalization(name.apply(str))\n",
    "name_train, name_test, y_train, y_test = train_test_split(\n",
    "    name, y,\n",
    "    test_size=0.20, \n",
    "    random_state=42,\n",
    ")\n",
    "\n",
    "description = no_threshold_df[\"description\"].copy()\n",
    "description = normalization(description.apply(str))\n",
    "description_train, description_test, y_train, y_test = train_test_split(\n",
    "    description, y,\n",
    "    test_size=0.20, \n",
    "    random_state=42,\n",
    ")"
   ]
  },
  {
   "cell_type": "code",
   "execution_count": 62,
   "metadata": {},
   "outputs": [],
   "source": [
    "tfid_vectorizer = TfidfVectorizer(ngram_range=(1,1)) \n",
    "name_train = tfid_vectorizer.fit_transform(name_train)\n",
    "name_test = tfid_vectorizer.transform(name_test)\n",
    "\n",
    "# tfid_vectorizer = TfidfVectorizer(ngram_range=(1,2))\n",
    "description_train = tfid_vectorizer.transform(description_train) \n",
    "description_test = tfid_vectorizer.transform(description_test)\n",
    "\n",
    "X_train = hstack((name_train, description_train))\n",
    "X_test = hstack((name_test, description_test))"
   ]
  },
  {
   "attachments": {},
   "cell_type": "markdown",
   "metadata": {},
   "source": [
    "### Hierarchical classification"
   ]
  },
  {
   "cell_type": "code",
   "execution_count": 123,
   "metadata": {},
   "outputs": [],
   "source": [
    "init_timer = time.time()\n",
    "# Initialize model\n",
    "random_forest = RandomForestClassifier(n_estimators = 500, n_jobs=cpu_count(), random_state=42)\n",
    "# Initialize hierarchical classifier with model\n",
    "hierarchical_classifier = hiclass.LocalClassifierPerNode(binary_policy=\"exclusive\", n_jobs=cpu_count(), local_classifier=random_forest)\n",
    "# Train hierarchical classifier\n",
    "hierarchical_classifier.fit(X_train, y_train)\n",
    "# Training time\n",
    "training_time = time.time() - init_timer\n",
    "training_time = time.strftime(\"%H:%M:%S\", time.gmtime(training_time))\n",
    "\n",
    "# Predict on train and test\n",
    "y_pred_train = hierarchical_classifier.predict(X_train)\n",
    "y_pred_test = hierarchical_classifier.predict(X_test)"
   ]
  },
  {
   "cell_type": "code",
   "execution_count": 124,
   "metadata": {},
   "outputs": [
    {
     "name": "stdout",
     "output_type": "stream",
     "text": [
      "Train\n",
      "Precision: 0.9341965570919607\n",
      "Recall: 0.9990666183722939\n",
      "F1: 0.965543240086571\n",
      "\n",
      "Test\n",
      "Precision: 0.844249346075156\n",
      "Recall: 0.9023445068785119\n",
      "F1: 0.8723307465881723 \n",
      "\n",
      "Training time: 02:29:31\n"
     ]
    }
   ],
   "source": [
    "# Print standard results\n",
    "print(\"Train\")\n",
    "print(\"Precision:\", hiclass.metrics.precision(y_train, y_pred_train))\n",
    "print(\"Recall:\", hiclass.metrics.recall(y_train, y_pred_train))\n",
    "print(\"F1:\", hiclass.metrics.f1(y_train, y_pred_train))\n",
    "print(\"\\nTest\")\n",
    "print(\"Precision:\", hiclass.metrics.precision(y_test, y_pred_test))\n",
    "print(\"Recall:\", hiclass.metrics.recall(y_test, y_pred_test))\n",
    "print(\"F1:\", hiclass.metrics.f1(y_test, y_pred_test), \"\\n\")\n",
    "print(\"Training time:\", training_time)"
   ]
  },
  {
   "cell_type": "code",
   "execution_count": null,
   "metadata": {},
   "outputs": [],
   "source": [
    "filename = \"notebooks/hierarchical_classification/saved_models/exclusive_name_description_500.sav\"\n",
    "pickle.dump(hierarchical_classifier, open(filename, \"wb\"))"
   ]
  },
  {
   "cell_type": "code",
   "execution_count": 125,
   "metadata": {},
   "outputs": [],
   "source": [
    "# Random coso 300\n",
    "\n",
    "# Train\n",
    "# Precision: 0.9349817148295666\n",
    "# Recall: 0.9990596528377588\n",
    "# F1: 0.9659591806497019\n",
    "\n",
    "# Test\n",
    "# Precision: 0.8297075423293997\n",
    "# Recall: 0.8952307138705123\n",
    "# F1: 0.8612246528286311 \n",
    "\n",
    "# Total failures: 505 of 10330\n",
    "# Training time: 00:06:38\n",
    "\n",
    "\n",
    "#######################\n",
    "\n",
    "# Exclusive - 100\n",
    "\n",
    "# Train\n",
    "# Precision: 0.9341965570919607\n",
    "# Recall: 0.9990666183722939\n",
    "# F1: 0.965543240086571\n",
    "\n",
    "# Test\n",
    "# Precision: 0.844249346075156\n",
    "# Recall: 0.9023445068785119\n",
    "# F1: 0.8723307465881723 \n",
    "\n",
    "# Total failures: 348 of 10330\n",
    "# Training time: 02:29:31"
   ]
  },
  {
   "attachments": {},
   "cell_type": "markdown",
   "metadata": {},
   "source": [
    "### Analyze predictions"
   ]
  },
  {
   "cell_type": "code",
   "execution_count": 126,
   "metadata": {},
   "outputs": [],
   "source": [
    "# Base DataFrame\n",
    "test_df = pd.DataFrame(y_test)\n",
    "# Add prediction column respecting original index\n",
    "test_df[\"prediction\"] = pd.Series(y_pred_test.tolist(), index = test_df.index)\n",
    "\n",
    "# Auxiliary function for creating new columns\n",
    "def assign_precision(x):\n",
    "    return hiclass.metrics.precision(x[0:1], x[1:2])\n",
    "def assign_recall(x):\n",
    "    return hiclass.metrics.recall(x[0:1], x[1:2])\n",
    "def assign_f1(x):\n",
    "    # Condition to avoid ZeroDivisionError\n",
    "    if x[\"precision\"] * x[\"recall\"] == 0.0:\n",
    "        return 0.0\n",
    "    else:\n",
    "        return 2 * x[\"precision\"] * x[\"recall\"] / (x[\"precision\"] + x[\"recall\"])\n",
    "\n",
    "# Creat new metrics columns \n",
    "test_df[\"precision\"] = test_df.apply(lambda x: assign_precision(x), axis=1)\n",
    "test_df[\"recall\"] = test_df.apply(lambda x: assign_recall(x), axis=1)\n",
    "test_df[\"f1\"] = test_df.apply(lambda x: assign_f1(x), axis=1)"
   ]
  },
  {
   "cell_type": "code",
   "execution_count": 127,
   "metadata": {},
   "outputs": [
    {
     "data": {
      "text/html": [
       "<div>\n",
       "<style scoped>\n",
       "    .dataframe tbody tr th:only-of-type {\n",
       "        vertical-align: middle;\n",
       "    }\n",
       "\n",
       "    .dataframe tbody tr th {\n",
       "        vertical-align: top;\n",
       "    }\n",
       "\n",
       "    .dataframe thead th {\n",
       "        text-align: right;\n",
       "    }\n",
       "</style>\n",
       "<table border=\"1\" class=\"dataframe\">\n",
       "  <thead>\n",
       "    <tr style=\"text-align: right;\">\n",
       "      <th></th>\n",
       "      <th>path</th>\n",
       "      <th>prediction</th>\n",
       "      <th>precision</th>\n",
       "      <th>recall</th>\n",
       "      <th>f1</th>\n",
       "    </tr>\n",
       "  </thead>\n",
       "  <tbody>\n",
       "    <tr>\n",
       "      <th>13005</th>\n",
       "      <td>[pcmcat312300050015, pcmcat248700050021, pcmca...</td>\n",
       "      <td>[pcmcat312300050015, pcmcat248700050021, pcmca...</td>\n",
       "      <td>1.00</td>\n",
       "      <td>1.00</td>\n",
       "      <td>1.00</td>\n",
       "    </tr>\n",
       "    <tr>\n",
       "      <th>36568</th>\n",
       "      <td>[abcat0207000, pcmcat152100050020, pcmcat20570...</td>\n",
       "      <td>[abcat0207000, pcmcat152100050035, pcmcat25160...</td>\n",
       "      <td>0.25</td>\n",
       "      <td>0.25</td>\n",
       "      <td>0.25</td>\n",
       "    </tr>\n",
       "    <tr>\n",
       "      <th>20664</th>\n",
       "      <td>[abcat0500000, pcmcat209000050006, pcmcat20900...</td>\n",
       "      <td>[abcat0500000, pcmcat209000050006, pcmcat20900...</td>\n",
       "      <td>1.00</td>\n",
       "      <td>1.00</td>\n",
       "      <td>1.00</td>\n",
       "    </tr>\n",
       "    <tr>\n",
       "      <th>40271</th>\n",
       "      <td>[abcat0900000, abcat0912000, pcmcat36740005000...</td>\n",
       "      <td>[abcat0900000, abcat0912000, pcmcat36740005000...</td>\n",
       "      <td>1.00</td>\n",
       "      <td>1.00</td>\n",
       "      <td>1.00</td>\n",
       "    </tr>\n",
       "    <tr>\n",
       "      <th>5865</th>\n",
       "      <td>[abcat0300000, pcmcat165900050023, pcmcat33160...</td>\n",
       "      <td>[abcat0300000, pcmcat165900050023, pcmcat33160...</td>\n",
       "      <td>1.00</td>\n",
       "      <td>1.00</td>\n",
       "      <td>1.00</td>\n",
       "    </tr>\n",
       "  </tbody>\n",
       "</table>\n",
       "</div>"
      ],
      "text/plain": [
       "                                                    path  \\\n",
       "13005  [pcmcat312300050015, pcmcat248700050021, pcmca...   \n",
       "36568  [abcat0207000, pcmcat152100050020, pcmcat20570...   \n",
       "20664  [abcat0500000, pcmcat209000050006, pcmcat20900...   \n",
       "40271  [abcat0900000, abcat0912000, pcmcat36740005000...   \n",
       "5865   [abcat0300000, pcmcat165900050023, pcmcat33160...   \n",
       "\n",
       "                                              prediction  precision  recall  \\\n",
       "13005  [pcmcat312300050015, pcmcat248700050021, pcmca...       1.00    1.00   \n",
       "36568  [abcat0207000, pcmcat152100050035, pcmcat25160...       0.25    0.25   \n",
       "20664  [abcat0500000, pcmcat209000050006, pcmcat20900...       1.00    1.00   \n",
       "40271  [abcat0900000, abcat0912000, pcmcat36740005000...       1.00    1.00   \n",
       "5865   [abcat0300000, pcmcat165900050023, pcmcat33160...       1.00    1.00   \n",
       "\n",
       "         f1  \n",
       "13005  1.00  \n",
       "36568  0.25  \n",
       "20664  1.00  \n",
       "40271  1.00  \n",
       "5865   1.00  "
      ]
     },
     "execution_count": 127,
     "metadata": {},
     "output_type": "execute_result"
    }
   ],
   "source": [
    "test_df.head()"
   ]
  },
  {
   "cell_type": "code",
   "execution_count": 128,
   "metadata": {},
   "outputs": [
    {
     "name": "stdout",
     "output_type": "stream",
     "text": [
      "Total failures: 348 of 10330\n"
     ]
    },
    {
     "data": {
      "text/plain": [
       "13167    0.0\n",
       "49777    0.0\n",
       "11541    0.0\n",
       "49286    0.0\n",
       "47022    0.0\n",
       "        ... \n",
       "22456    0.0\n",
       "30674    0.0\n",
       "28953    0.0\n",
       "31535    0.0\n",
       "24334    0.0\n",
       "Name: f1, Length: 348, dtype: float64"
      ]
     },
     "execution_count": 128,
     "metadata": {},
     "output_type": "execute_result"
    }
   ],
   "source": [
    "print(\"Total failures:\", len(test_df[\"f1\"][test_df[\"f1\"] == 0.0]), \"of\", len(test_df))\n",
    "test_df[\"f1\"][test_df[\"f1\"] == 0.0]"
   ]
  },
  {
   "cell_type": "code",
   "execution_count": 129,
   "metadata": {},
   "outputs": [],
   "source": [
    "def print_path_metrics(index, df_):\n",
    "    print(\"Product name:\", no_threshold_df[\"name\"].loc[index])\n",
    "    print(f\"Product description:\\n{no_threshold_df['description'].loc[index]}\\n\")\n",
    "    print(\"Original path:\", decode_id(no_threshold_df[\"path\"].loc[index]))\n",
    "    print(\"Threshold path:\", decode_id(df_[\"path\"].loc[index]))\n",
    "    print(\"Predicted path:\", decode_id(df_[\"prediction\"].loc[index]))\n",
    "    print(\"\\nMetrics (on threshold and predicted path)\")\n",
    "    print(\"Precision:\", df_[\"precision\"].loc[index])\n",
    "    print(\"Recall:\", df_[\"recall\"].loc[index])\n",
    "    print(\"F1:\", df_[\"f1\"].loc[index])"
   ]
  },
  {
   "attachments": {},
   "cell_type": "markdown",
   "metadata": {},
   "source": [
    "### Correct prediction"
   ]
  },
  {
   "cell_type": "code",
   "execution_count": 143,
   "metadata": {},
   "outputs": [
    {
     "name": "stdout",
     "output_type": "stream",
     "text": [
      "Product name: RODE - Microphone Shock Mount - Black\n",
      "Product description:\n",
      "Compatible with most RODE large-diaphragm microphones; detachable pop filter; 2 axes of adjustment; telescopic arm\n",
      "\n",
      "Original path: ['Musical Instruments', 'Recording Equipment', 'Recording Furniture & Stands', 'Recording & Music Stands']\n",
      "Threshold path: ['Musical Instruments', 'Recording Equipment', 'Recording Furniture & Stands', 'Recording & Music Stands']\n",
      "Predicted path: ['Musical Instruments', 'Microphones & Live Sound', 'Microphones & Accessories', 'Microphone Accessories', '', '', '']\n",
      "\n",
      "Metrics (on threshold and predicted path)\n",
      "Precision: 0.25\n",
      "Recall: 0.25\n",
      "F1: 0.25\n"
     ]
    }
   ],
   "source": [
    "print_path_metrics(36568, test_df)"
   ]
  },
  {
   "attachments": {},
   "cell_type": "markdown",
   "metadata": {},
   "source": [
    "### Kind of correct prediction"
   ]
  },
  {
   "cell_type": "code",
   "execution_count": 131,
   "metadata": {},
   "outputs": [
    {
     "name": "stdout",
     "output_type": "stream",
     "text": [
      "Product name: MartinLogan - Dynamo 15\" 650W Powered Subwoofer - Gloss Black\n",
      "Product description:\n",
      "1300W peak power; 15\" high-excursion polypropylene woofer cone in cast-aluminum basket; ceramic magnet; adjustable front- or down-firing configuration; L/R LFE RCA line-level, LFE XLR and 12V trigger inputs\n",
      "\n",
      "Original path: ['Audio', 'Home Audio', 'Speakers', 'Subwoofer Speakers']\n",
      "Threshold path: ['Audio', 'Home Audio', 'Speakers', 'Subwoofer Speakers']\n",
      "Predicted path: ['Audio', 'Home Audio', 'Speakers', 'Subwoofer Speakers', '', '', '']\n",
      "\n",
      "Metrics (on threshold and predicted path)\n",
      "Precision: 1.0\n",
      "Recall: 1.0\n",
      "F1: 1.0\n"
     ]
    }
   ],
   "source": [
    "print_path_metrics(47899, test_df)"
   ]
  },
  {
   "cell_type": "code",
   "execution_count": 132,
   "metadata": {},
   "outputs": [
    {
     "name": "stdout",
     "output_type": "stream",
     "text": [
      "Product name: Elite Cuisine - 2-in-1 Dual-Function Breakfast Station\n",
      "Product description:\n",
      "2-slice toaster with 7-shade variable browning control, cancel/stop button and slide-out crumb tray; single-serve coffeemaker with removable, washable filter; cool-touch body; antislip rubber feet\n",
      "\n",
      "Original path: ['Appliances', 'Small Kitchen Appliances', 'Toasters']\n",
      "Threshold path: ['Appliances', 'Small Kitchen Appliances', 'Toasters']\n",
      "Predicted path: ['Appliances', 'Small Kitchen Appliances', 'Coffee, Tea & Espresso', 'Coffee Makers', 'Multi-Cup Coffee Makers', '', '']\n",
      "\n",
      "Metrics (on threshold and predicted path)\n",
      "Precision: 0.4\n",
      "Recall: 0.6666666666666666\n",
      "F1: 0.5\n"
     ]
    }
   ],
   "source": [
    "print_path_metrics(4702, test_df)"
   ]
  },
  {
   "attachments": {},
   "cell_type": "markdown",
   "metadata": {},
   "source": [
    "### Complete failures "
   ]
  },
  {
   "cell_type": "code",
   "execution_count": 133,
   "metadata": {},
   "outputs": [
    {
     "name": "stdout",
     "output_type": "stream",
     "text": [
      "Total failures: 348 of 10330\n"
     ]
    },
    {
     "data": {
      "text/plain": [
       "13167    0.0\n",
       "49777    0.0\n",
       "11541    0.0\n",
       "49286    0.0\n",
       "47022    0.0\n",
       "        ... \n",
       "22456    0.0\n",
       "30674    0.0\n",
       "28953    0.0\n",
       "31535    0.0\n",
       "24334    0.0\n",
       "Name: f1, Length: 348, dtype: float64"
      ]
     },
     "execution_count": 133,
     "metadata": {},
     "output_type": "execute_result"
    }
   ],
   "source": [
    "print(\"Total failures:\", len(test_df[\"f1\"][test_df[\"f1\"] == 0.0]), \"of\", len(test_df))\n",
    "test_df[\"f1\"][test_df[\"f1\"] == 0.0]"
   ]
  },
  {
   "attachments": {},
   "cell_type": "markdown",
   "metadata": {},
   "source": [
    "#### Failures (?)"
   ]
  },
  {
   "cell_type": "code",
   "execution_count": 134,
   "metadata": {},
   "outputs": [
    {
     "name": "stdout",
     "output_type": "stream",
     "text": [
      "Product name: Apple - Optical Mouse - White\n",
      "Product description:\n",
      "Force-sensing side buttons; scroll ball; optical technology; touch-sensitive top shell\n",
      "\n",
      "Original path: ['Name Brands', 'Apple', 'Accessories']\n",
      "Threshold path: ['Name Brands', 'Apple', 'Accessories']\n",
      "Predicted path: ['Computers & Tablets', 'Computer Accessories & Peripherals', 'Mice & Keyboards', 'Mice', 'Wireless & Bluetooth Mice', '', '']\n",
      "\n",
      "Metrics (on threshold and predicted path)\n",
      "Precision: 0.0\n",
      "Recall: 0.0\n",
      "F1: 0.0\n"
     ]
    }
   ],
   "source": [
    "print_path_metrics(49777, test_df)"
   ]
  },
  {
   "cell_type": "code",
   "execution_count": 135,
   "metadata": {},
   "outputs": [
    {
     "name": "stdout",
     "output_type": "stream",
     "text": [
      "Product name: Serta - RTA Santa Cruz Collection 61\" Fabric Loveseat Sofa - Beige\n",
      "Product description:\n",
      "SERTA RTA Santa Cruz Collection 61\" Fabric Loveseat Sofa: Hardwood frame with polyester fabric upholstery; accommodates 2 people; rich espresso finish on the wood and plastic footers; includes 2 accent pillows\n",
      "\n",
      "Original path: ['Magnolia Home Theater', 'Magnolia Accessories', 'Magnolia TV Stands, Mounts & Furniture']\n",
      "Threshold path: ['Magnolia Home Theater', 'Magnolia Accessories', 'Magnolia TV Stands, Mounts & Furniture']\n",
      "Predicted path: ['Connected Home & Housewares', 'Furniture & Decor', 'Living Room Furniture', 'Sofas & Sectionals', 'Sofas', '', '']\n",
      "\n",
      "Metrics (on threshold and predicted path)\n",
      "Precision: 0.0\n",
      "Recall: 0.0\n",
      "F1: 0.0\n"
     ]
    }
   ],
   "source": [
    "print_path_metrics(11541, test_df)"
   ]
  },
  {
   "cell_type": "code",
   "execution_count": 136,
   "metadata": {},
   "outputs": [
    {
     "name": "stdout",
     "output_type": "stream",
     "text": [
      "Product name: JOBY - GripTight GorillaPod Magnetic XL Tripod for Select Cell Phones\n",
      "Product description:\n",
      "Compatible with most cell phones; magnetic feet; flexible legs\n",
      "\n",
      "Original path: ['Cameras & Camcorders', 'Digital Camera Accessories', 'Tripods & Monopods', 'Camera Mounts']\n",
      "Threshold path: ['Cameras & Camcorders', 'Digital Camera Accessories', 'Tripods & Monopods', 'Camera Mounts']\n",
      "Predicted path: ['Cell Phones', 'Cell Phone Accessories', 'Cell Phone Cases & Clips', 'Fitted', '', '', '']\n",
      "\n",
      "Metrics (on threshold and predicted path)\n",
      "Precision: 0.0\n",
      "Recall: 0.0\n",
      "F1: 0.0\n"
     ]
    }
   ],
   "source": [
    "print_path_metrics(31535, test_df)"
   ]
  },
  {
   "attachments": {},
   "cell_type": "markdown",
   "metadata": {},
   "source": [
    "#### Failures"
   ]
  },
  {
   "cell_type": "code",
   "execution_count": 137,
   "metadata": {},
   "outputs": [
    {
     "name": "stdout",
     "output_type": "stream",
     "text": [
      "Product name: FLIR - Sport Case and Mount for FLIR FX Cameras - Transparent\n",
      "Product description:\n",
      "FLIR Sport Case and Mount for FLIR FX Cameras: Compatible with most FLIR FX cameras; works with most 1/4\"-20 mounting devices; waterproof\n",
      "\n",
      "Original path: ['Connected Home & Housewares', 'Connected Home', 'Security Cameras & Surveillance', 'Security Camera & System Accessories', 'Surveillance Camera Mounts']\n",
      "Threshold path: ['Connected Home & Housewares', 'Connected Home', 'Security Cameras & Surveillance', 'Security Camera & System Accessories', 'Surveillance Camera Mounts']\n",
      "Predicted path: ['Cameras & Camcorders', 'Digital Camera Accessories', 'Tripods & Monopods', 'Monopods', '', '', '']\n",
      "\n",
      "Metrics (on threshold and predicted path)\n",
      "Precision: 0.0\n",
      "Recall: 0.0\n",
      "F1: 0.0\n"
     ]
    }
   ],
   "source": [
    "print_path_metrics(13167, test_df)"
   ]
  },
  {
   "cell_type": "code",
   "execution_count": 138,
   "metadata": {},
   "outputs": [
    {
     "name": "stdout",
     "output_type": "stream",
     "text": [
      "Product name: SteelSeries - Siberia Prism 150 Gaming Headset - Black\n",
      "Product description:\n",
      "SteelSeries Engine 3 technology; ColorShift technology; integrated volume control; chat capability\n",
      "\n",
      "Original path: ['Name Brands', 'SteelSeries', 'SteelSeries Headsets']\n",
      "Threshold path: ['Name Brands', 'SteelSeries', 'SteelSeries Headsets']\n",
      "Predicted path: ['Video Games', 'Xbox One', 'Xbox One Accessories', 'Xbox One Headsets', '', '', '']\n",
      "\n",
      "Metrics (on threshold and predicted path)\n",
      "Precision: 0.0\n",
      "Recall: 0.0\n",
      "F1: 0.0\n"
     ]
    }
   ],
   "source": [
    "print_path_metrics(24334, test_df)"
   ]
  },
  {
   "cell_type": "code",
   "execution_count": 139,
   "metadata": {},
   "outputs": [
    {
     "name": "stdout",
     "output_type": "stream",
     "text": [
      "Product name: FLIR - Sport Case and Mount for FLIR FX Cameras - Transparent\n",
      "Product description:\n",
      "FLIR Sport Case and Mount for FLIR FX Cameras: Compatible with most FLIR FX cameras; works with most 1/4\"-20 mounting devices; waterproof\n",
      "\n",
      "Original path: ['Connected Home & Housewares', 'Connected Home', 'Security Cameras & Surveillance', 'Security Camera & System Accessories', 'Surveillance Camera Mounts']\n",
      "Threshold path: ['Connected Home & Housewares', 'Connected Home', 'Security Cameras & Surveillance', 'Security Camera & System Accessories', 'Surveillance Camera Mounts']\n",
      "Predicted path: ['Cameras & Camcorders', 'Digital Camera Accessories', 'Tripods & Monopods', 'Monopods', '', '', '']\n",
      "\n",
      "Metrics (on threshold and predicted path)\n",
      "Precision: 0.0\n",
      "Recall: 0.0\n",
      "F1: 0.0\n"
     ]
    }
   ],
   "source": [
    "print_path_metrics(13167, test_df)"
   ]
  },
  {
   "cell_type": "code",
   "execution_count": 140,
   "metadata": {},
   "outputs": [
    {
     "name": "stdout",
     "output_type": "stream",
     "text": [
      "Product name: Lenmar - Notebook Battery - Black\n",
      "Product description:\n",
      "Proprietary2200mAh - 11.1V DC\n",
      "\n",
      "Original path: ['Computers & Tablets', 'Computer Accessories & Peripherals', 'Laptop Accessories', 'Laptop Batteries']\n",
      "Threshold path: ['Computers & Tablets', 'Computer Accessories & Peripherals', 'Laptop Accessories', 'Laptop Batteries']\n",
      "Predicted path: ['Computers & Tablets', 'Computer Accessories & Peripherals', 'Laptop Accessories', 'Laptop Batteries', '', '', '']\n",
      "\n",
      "Metrics (on threshold and predicted path)\n",
      "Precision: 1.0\n",
      "Recall: 1.0\n",
      "F1: 1.0\n"
     ]
    }
   ],
   "source": [
    "print_path_metrics(51294, test_df)"
   ]
  },
  {
   "attachments": {},
   "cell_type": "markdown",
   "metadata": {},
   "source": [
    "#### Plots"
   ]
  },
  {
   "cell_type": "code",
   "execution_count": 141,
   "metadata": {},
   "outputs": [
    {
     "data": {
      "text/plain": [
       "<AxesSubplot:xlabel='f1', ylabel='Percent'>"
      ]
     },
     "execution_count": 141,
     "metadata": {},
     "output_type": "execute_result"
    },
    {
     "data": {
      "image/png": "[encoded data removed]",
      "text/plain": [
       "<Figure size 1800x500 with 3 Axes>"
      ]
     },
     "metadata": {},
     "output_type": "display_data"
    }
   ],
   "source": [
    "sns.set()\n",
    "fig, axes = plt.subplots(1,3, figsize=(18,5), sharey=True)\n",
    "sns.histplot(test_df[\"precision\"], stat=\"percent\", ax=axes[0], bins=6)\n",
    "sns.histplot(test_df[\"recall\"], stat=\"percent\",ax=axes[1], bins=6)\n",
    "sns.histplot(test_df[\"f1\"], stat=\"percent\",ax=axes[2], bins=6)"
   ]
  },
  {
   "cell_type": "markdown",
   "metadata": {},
   "source": [
    "#### Predict on new data"
   ]
  },
  {
   "cell_type": "code",
   "execution_count": 145,
   "metadata": {},
   "outputs": [],
   "source": [
    "filename = \"notebooks/hierarchical_classification/saved_models/exclusive_name_description_500.sav\"\n",
    "pickle.dump(hierarchical_classifier, open(filename, \"wb\"))"
   ]
  },
  {
   "cell_type": "code",
   "execution_count": 142,
   "metadata": {},
   "outputs": [
    {
     "ename": "ValueError",
     "evalue": "X has 18596 features, but RandomForestClassifier is expecting 37192 features as input.",
     "output_type": "error",
     "traceback": [
      "\u001b[0;31m---------------------------------------------------------------------------\u001b[0m",
      "\u001b[0;31mValueError\u001b[0m                                Traceback (most recent call last)",
      "Cell \u001b[0;32mIn[142], line 2\u001b[0m\n\u001b[1;32m      1\u001b[0m string_to_predict \u001b[39m=\u001b[39m \u001b[39m\"\u001b[39m\u001b[39m2-slice toaster with 7-shade variable browning control, cancel/stop button and slide-out crumb tray; single-serve coffeemaker with removable, washable filter; cool-touch body; antislip rubber feet\u001b[39m\u001b[39m\"\u001b[39m\n\u001b[0;32m----> 2\u001b[0m decode_id(hierarchical_classifier\u001b[39m.\u001b[39;49mpredict(tfid_vectorizer\u001b[39m.\u001b[39;49mtransform(normalization(pd\u001b[39m.\u001b[39;49mSeries(string_to_predict))))\u001b[39m.\u001b[39mtolist()[\u001b[39m0\u001b[39m])\n",
      "File \u001b[0;32m~/.local/lib/python3.8/site-packages/hiclass/LocalClassifierPerNode.py:173\u001b[0m, in \u001b[0;36mLocalClassifierPerNode.predict\u001b[0;34m(self, X)\u001b[0m\n\u001b[1;32m    171\u001b[0m     classifier \u001b[39m=\u001b[39m \u001b[39mself\u001b[39m\u001b[39m.\u001b[39mhierarchy_\u001b[39m.\u001b[39mnodes[successor][\u001b[39m\"\u001b[39m\u001b[39mclassifier\u001b[39m\u001b[39m\"\u001b[39m]\n\u001b[1;32m    172\u001b[0m     positive_index \u001b[39m=\u001b[39m np\u001b[39m.\u001b[39mwhere(classifier\u001b[39m.\u001b[39mclasses_ \u001b[39m==\u001b[39m \u001b[39m1\u001b[39m)[\u001b[39m0\u001b[39m]\n\u001b[0;32m--> 173\u001b[0m     probabilities[:, i] \u001b[39m=\u001b[39m classifier\u001b[39m.\u001b[39;49mpredict_proba(subset_x)[\n\u001b[1;32m    174\u001b[0m         :, positive_index\n\u001b[1;32m    175\u001b[0m     ][:, \u001b[39m0\u001b[39m]\n\u001b[1;32m    176\u001b[0m highest_probability \u001b[39m=\u001b[39m np\u001b[39m.\u001b[39margmax(probabilities, axis\u001b[39m=\u001b[39m\u001b[39m1\u001b[39m)\n\u001b[1;32m    177\u001b[0m prediction \u001b[39m=\u001b[39m []\n",
      "File \u001b[0;32m~/.local/lib/python3.8/site-packages/sklearn/ensemble/_forest.py:874\u001b[0m, in \u001b[0;36mForestClassifier.predict_proba\u001b[0;34m(self, X)\u001b[0m\n\u001b[1;32m    872\u001b[0m check_is_fitted(\u001b[39mself\u001b[39m)\n\u001b[1;32m    873\u001b[0m \u001b[39m# Check data\u001b[39;00m\n\u001b[0;32m--> 874\u001b[0m X \u001b[39m=\u001b[39m \u001b[39mself\u001b[39;49m\u001b[39m.\u001b[39;49m_validate_X_predict(X)\n\u001b[1;32m    876\u001b[0m \u001b[39m# Assign chunk of trees to jobs\u001b[39;00m\n\u001b[1;32m    877\u001b[0m n_jobs, _, _ \u001b[39m=\u001b[39m _partition_estimators(\u001b[39mself\u001b[39m\u001b[39m.\u001b[39mn_estimators, \u001b[39mself\u001b[39m\u001b[39m.\u001b[39mn_jobs)\n",
      "File \u001b[0;32m~/.local/lib/python3.8/site-packages/sklearn/ensemble/_forest.py:605\u001b[0m, in \u001b[0;36mBaseForest._validate_X_predict\u001b[0;34m(self, X)\u001b[0m\n\u001b[1;32m    602\u001b[0m \u001b[39m\"\"\"\u001b[39;00m\n\u001b[1;32m    603\u001b[0m \u001b[39mValidate X whenever one tries to predict, apply, predict_proba.\"\"\"\u001b[39;00m\n\u001b[1;32m    604\u001b[0m check_is_fitted(\u001b[39mself\u001b[39m)\n\u001b[0;32m--> 605\u001b[0m X \u001b[39m=\u001b[39m \u001b[39mself\u001b[39;49m\u001b[39m.\u001b[39;49m_validate_data(X, dtype\u001b[39m=\u001b[39;49mDTYPE, accept_sparse\u001b[39m=\u001b[39;49m\u001b[39m\"\u001b[39;49m\u001b[39mcsr\u001b[39;49m\u001b[39m\"\u001b[39;49m, reset\u001b[39m=\u001b[39;49m\u001b[39mFalse\u001b[39;49;00m)\n\u001b[1;32m    606\u001b[0m \u001b[39mif\u001b[39;00m issparse(X) \u001b[39mand\u001b[39;00m (X\u001b[39m.\u001b[39mindices\u001b[39m.\u001b[39mdtype \u001b[39m!=\u001b[39m np\u001b[39m.\u001b[39mintc \u001b[39mor\u001b[39;00m X\u001b[39m.\u001b[39mindptr\u001b[39m.\u001b[39mdtype \u001b[39m!=\u001b[39m np\u001b[39m.\u001b[39mintc):\n\u001b[1;32m    607\u001b[0m     \u001b[39mraise\u001b[39;00m \u001b[39mValueError\u001b[39;00m(\u001b[39m\"\u001b[39m\u001b[39mNo support for np.int64 index based sparse matrices\u001b[39m\u001b[39m\"\u001b[39m)\n",
      "File \u001b[0;32m~/.local/lib/python3.8/site-packages/sklearn/base.py:600\u001b[0m, in \u001b[0;36mBaseEstimator._validate_data\u001b[0;34m(self, X, y, reset, validate_separately, **check_params)\u001b[0m\n\u001b[1;32m    597\u001b[0m     out \u001b[39m=\u001b[39m X, y\n\u001b[1;32m    599\u001b[0m \u001b[39mif\u001b[39;00m \u001b[39mnot\u001b[39;00m no_val_X \u001b[39mand\u001b[39;00m check_params\u001b[39m.\u001b[39mget(\u001b[39m\"\u001b[39m\u001b[39mensure_2d\u001b[39m\u001b[39m\"\u001b[39m, \u001b[39mTrue\u001b[39;00m):\n\u001b[0;32m--> 600\u001b[0m     \u001b[39mself\u001b[39;49m\u001b[39m.\u001b[39;49m_check_n_features(X, reset\u001b[39m=\u001b[39;49mreset)\n\u001b[1;32m    602\u001b[0m \u001b[39mreturn\u001b[39;00m out\n",
      "File \u001b[0;32m~/.local/lib/python3.8/site-packages/sklearn/base.py:400\u001b[0m, in \u001b[0;36mBaseEstimator._check_n_features\u001b[0;34m(self, X, reset)\u001b[0m\n\u001b[1;32m    397\u001b[0m     \u001b[39mreturn\u001b[39;00m\n\u001b[1;32m    399\u001b[0m \u001b[39mif\u001b[39;00m n_features \u001b[39m!=\u001b[39m \u001b[39mself\u001b[39m\u001b[39m.\u001b[39mn_features_in_:\n\u001b[0;32m--> 400\u001b[0m     \u001b[39mraise\u001b[39;00m \u001b[39mValueError\u001b[39;00m(\n\u001b[1;32m    401\u001b[0m         \u001b[39mf\u001b[39m\u001b[39m\"\u001b[39m\u001b[39mX has \u001b[39m\u001b[39m{\u001b[39;00mn_features\u001b[39m}\u001b[39;00m\u001b[39m features, but \u001b[39m\u001b[39m{\u001b[39;00m\u001b[39mself\u001b[39m\u001b[39m.\u001b[39m\u001b[39m__class__\u001b[39m\u001b[39m.\u001b[39m\u001b[39m__name__\u001b[39m\u001b[39m}\u001b[39;00m\u001b[39m \u001b[39m\u001b[39m\"\u001b[39m\n\u001b[1;32m    402\u001b[0m         \u001b[39mf\u001b[39m\u001b[39m\"\u001b[39m\u001b[39mis expecting \u001b[39m\u001b[39m{\u001b[39;00m\u001b[39mself\u001b[39m\u001b[39m.\u001b[39mn_features_in_\u001b[39m}\u001b[39;00m\u001b[39m features as input.\u001b[39m\u001b[39m\"\u001b[39m\n\u001b[1;32m    403\u001b[0m     )\n",
      "\u001b[0;31mValueError\u001b[0m: X has 18596 features, but RandomForestClassifier is expecting 37192 features as input."
     ]
    }
   ],
   "source": [
    "string_to_predict = \"2-slice toaster with 7-shade variable browning control, cancel/stop button and slide-out crumb tray; single-serve coffeemaker with removable, washable filter; cool-touch body; antislip rubber feet\"\n",
    "decode_id(hierarchical_classifier.predict(tfid_vectorizer.transform(normalization(pd.Series(string_to_predict)))).tolist()[0])"
   ]
  }
 ],
 "metadata": {
  "kernelspec": {
   "display_name": "Python 3",
   "language": "python",
   "name": "python3"
  },
  "language_info": {
   "codemirror_mode": {
    "name": "ipython",
    "version": 3
   },
   "file_extension": ".py",
   "mimetype": "text/x-python",
   "name": "python",
   "nbconvert_exporter": "python",
   "pygments_lexer": "ipython3",
   "version": "3.8.10"
  },
  "orig_nbformat": 4,
  "vscode": {
   "interpreter": {
    "hash": "31f2aee4e71d21fbe5cf8b01ff0e069b9275f58929596ceb00d14d90e3e16cd6"
   }
  }
 },
 "nbformat": 4,
 "nbformat_minor": 2
}
