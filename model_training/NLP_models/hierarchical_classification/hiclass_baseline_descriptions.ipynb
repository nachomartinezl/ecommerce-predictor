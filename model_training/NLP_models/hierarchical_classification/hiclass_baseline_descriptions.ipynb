{
 "cells": [
  {
   "attachments": {},
   "cell_type": "markdown",
   "metadata": {},
   "source": [
    "# HiClass baseline - descriptions"
   ]
  },
  {
   "cell_type": "code",
   "execution_count": 18,
   "metadata": {},
   "outputs": [],
   "source": [
    "import os\n",
    "os.chdir(\"/home/app/src\")"
   ]
  },
  {
   "cell_type": "code",
   "execution_count": 37,
   "metadata": {},
   "outputs": [],
   "source": [
    "import pandas as pd\n",
    "import numpy as np\n",
    "import text_normalizer\n",
    "import hiclass.metrics\n",
    "from sklearn import metrics\n",
    "from scripts.build_df import build_df\n",
    "from scripts.decode_id import decode_id\n",
    "from sklearn.model_selection import train_test_split\n",
    "from sklearn.feature_extraction.text import TfidfVectorizer\n",
    "from sklearn.linear_model import LogisticRegression\n",
    "from os import cpu_count\n",
    "from hiclass import LocalClassifierPerParentNode\n",
    "import seaborn as sns\n",
    "import matplotlib.pyplot as plt\n",
    "from sklearn.ensemble import RandomForestClassifier\n",
    "import pickle"
   ]
  },
  {
   "cell_type": "code",
   "execution_count": 20,
   "metadata": {},
   "outputs": [],
   "source": [
    "no_threshold_df = build_df(json_path='data/products.json', threshold=0) "
   ]
  },
  {
   "cell_type": "code",
   "execution_count": 21,
   "metadata": {},
   "outputs": [],
   "source": [
    "# Auxiliary function for text normalization\n",
    "def normalization(input):\n",
    "    output = text_normalizer.normalize_corpus(\n",
    "        input,\n",
    "        html_stripping=True,\n",
    "        contraction_expansion=True,\n",
    "        accented_char_removal=True,\n",
    "        text_lower_case=True,\n",
    "        text_stemming=True,\n",
    "        text_lemmatization=False,\n",
    "        special_char_removal=True,\n",
    "        remove_digits=False,\n",
    "        stopword_removal=True,\n",
    "        stopwords=text_normalizer.stopword_list\n",
    "    )       \n",
    "    return output\n",
    "\n",
    "# Auxiliary function for creating new columns\n",
    "def assign_precision(x):\n",
    "    return hiclass.metrics.precision(x[0:1], x[1:2])\n",
    "def assign_recall(x):\n",
    "    return hiclass.metrics.recall(x[0:1], x[1:2])\n",
    "def assign_f1(x):\n",
    "    # Condition to avoid ZeroDivisionError\n",
    "    if x[\"precision\"] * x[\"recall\"] == 0.0:\n",
    "        return 0.0\n",
    "    else:\n",
    "        return 2 * x[\"precision\"] * x[\"recall\"] / (x[\"precision\"] + x[\"recall\"])"
   ]
  },
  {
   "cell_type": "code",
   "execution_count": 22,
   "metadata": {},
   "outputs": [],
   "source": [
    "X = no_threshold_df['description'].copy()\n",
    "X = normalization(X.apply(str))\n",
    "y = no_threshold_df['path'].copy()"
   ]
  },
  {
   "cell_type": "code",
   "execution_count": 23,
   "metadata": {},
   "outputs": [],
   "source": [
    "X_train, X_test, y_train, y_test = train_test_split(\n",
    "    X, y,\n",
    "    test_size=0.20, \n",
    "    random_state=42,\n",
    ")"
   ]
  },
  {
   "cell_type": "code",
   "execution_count": 24,
   "metadata": {},
   "outputs": [],
   "source": [
    "tfid_vectorizer = TfidfVectorizer(ngram_range=(1, 2)) \n",
    "X_train = tfid_vectorizer.fit_transform(X_train)\n",
    "X_test = tfid_vectorizer.transform(X_test)"
   ]
  },
  {
   "attachments": {},
   "cell_type": "markdown",
   "metadata": {},
   "source": [
    "### Hierarchical classification"
   ]
  },
  {
   "cell_type": "code",
   "execution_count": 25,
   "metadata": {},
   "outputs": [],
   "source": [
    "# Initialize model\n",
    "random_forest = RandomForestClassifier(random_state=42)\n",
    "# Initialize hierarchical classifier with model\n",
    "hierarchical_classifier = hiclass.LocalClassifierPerParentNode(n_jobs=cpu_count(), local_classifier=random_forest)\n",
    "# Train hierarchical classifier\n",
    "hierarchical_classifier.fit(X_train, y_train)\n",
    "\n",
    "# Predict on train and test\n",
    "y_pred_train = hierarchical_classifier.predict(X_train)\n",
    "y_pred_test = hierarchical_classifier.predict(X_test)\n",
    "\n",
    "# Results DataFrame\n",
    "test_df = pd.DataFrame(y_test)\n",
    "test_df[\"prediction\"] = pd.Series(y_pred_test.tolist(), index = test_df.index) \n",
    "test_df[\"precision\"] = test_df.apply(lambda x: assign_precision(x), axis=1)\n",
    "test_df[\"recall\"] = test_df.apply(lambda x: assign_recall(x), axis=1)\n",
    "test_df[\"f1\"] = test_df.apply(lambda x: assign_f1(x), axis=1)"
   ]
  },
  {
   "cell_type": "code",
   "execution_count": 26,
   "metadata": {},
   "outputs": [
    {
     "name": "stdout",
     "output_type": "stream",
     "text": [
      "Train\n",
      "Precision: 0.9250788953343722\n",
      "Recall: 0.9841673400016717\n",
      "F1: 0.9537087661745943\n",
      "\n",
      "Test\n",
      "Precision: 0.7758874402994708\n",
      "Recall: 0.8318985800094112\n",
      "F1: 0.8029173679570408\n",
      "Total failures: 843 of 10330\n"
     ]
    }
   ],
   "source": [
    "# Print standard results\n",
    "print(\"Train\")\n",
    "print(\"Precision:\", hiclass.metrics.precision(y_train, y_pred_train))\n",
    "print(\"Recall:\", hiclass.metrics.recall(y_train, y_pred_train))\n",
    "print(\"F1:\", hiclass.metrics.f1(y_train, y_pred_train))\n",
    "print(\"\\nTest\")\n",
    "print(\"Precision:\", hiclass.metrics.precision(y_test, y_pred_test))\n",
    "print(\"Recall:\", hiclass.metrics.recall(y_test, y_pred_test))\n",
    "print(\"F1:\", hiclass.metrics.f1(y_test, y_pred_test))\n",
    "print(\"Total failures:\", len(test_df[\"f1\"][test_df[\"f1\"] == 0.0]), \"of\", len(test_df))"
   ]
  },
  {
   "cell_type": "code",
   "execution_count": 27,
   "metadata": {},
   "outputs": [
    {
     "data": {
      "text/plain": [
       "<AxesSubplot:xlabel='f1', ylabel='Percent'>"
      ]
     },
     "execution_count": 27,
     "metadata": {},
     "output_type": "execute_result"
    },
    {
     "data": {
      "image/png": "[encoded data removed]",
      "text/plain": [
       "<Figure size 1800x500 with 3 Axes>"
      ]
     },
     "metadata": {},
     "output_type": "display_data"
    }
   ],
   "source": [
    "sns.set()\n",
    "fig, axes = plt.subplots(1,3, figsize=(18,5), sharey=True)\n",
    "sns.histplot(test_df[\"precision\"], stat=\"percent\", ax=axes[0], bins=6)\n",
    "sns.histplot(test_df[\"recall\"], stat=\"percent\",ax=axes[1], bins=6)\n",
    "sns.histplot(test_df[\"f1\"], stat=\"percent\",ax=axes[2], bins=6)"
   ]
  },
  {
   "cell_type": "code",
   "execution_count": 28,
   "metadata": {},
   "outputs": [
    {
     "data": {
      "text/plain": [
       "34176    0.0\n",
       "13167    0.0\n",
       "35627    0.0\n",
       "31929    0.0\n",
       "49777    0.0\n",
       "        ... \n",
       "28953    0.0\n",
       "31535    0.0\n",
       "24334    0.0\n",
       "5561     0.0\n",
       "7023     0.0\n",
       "Name: f1, Length: 843, dtype: float64"
      ]
     },
     "execution_count": 28,
     "metadata": {},
     "output_type": "execute_result"
    }
   ],
   "source": [
    "test_df[\"f1\"][test_df[\"f1\"] == 0.0]"
   ]
  },
  {
   "cell_type": "code",
   "execution_count": 35,
   "metadata": {},
   "outputs": [],
   "source": [
    "def print_path_metrics(index, df_):\n",
    "    print(\"Product name:\", no_threshold_df[\"name\"].loc[index])\n",
    "    print(\"Product description:\\n\", no_threshold_df[\"description\"].loc[index], \"\\n\")\n",
    "    print(\"Original path:\", decode_id(no_threshold_df[\"path\"].loc[index]))\n",
    "    print(\"Threshold path:\", decode_id(df_[\"path\"].loc[index]))\n",
    "    print(\"Predicted path:\", decode_id(df_[\"prediction\"].loc[index]))\n",
    "    print(\"\\nMetrics (on threshold and predicted path)\")\n",
    "    print(\"Precision:\", df_[\"precision\"].loc[index])\n",
    "    print(\"Recall:\", df_[\"recall\"].loc[index])\n",
    "    print(\"F1:\", df_[\"f1\"].loc[index])"
   ]
  },
  {
   "cell_type": "code",
   "execution_count": 36,
   "metadata": {},
   "outputs": [
    {
     "name": "stdout",
     "output_type": "stream",
     "text": [
      "Product name: Trademark - Trademark Tools 130-Piece Hand Tool Set\n",
      "Product description:\n",
      " Durable metal construction; two 8-piece Allen wrench sets; two 10-piece driver sets; ratcheting screwdriver; mini screwdrivers; cutters; pliers; hammer; wrench; tape measure; razor; wire stripper \n",
      "\n",
      "Original path: ['Connected Home & Housewares', 'Household Essentials', 'Tools', 'Hand Tools']\n",
      "Threshold path: ['Connected Home & Housewares', 'Household Essentials', 'Tools', 'Hand Tools']\n",
      "Predicted path: ['Appliances', 'Small Kitchen Appliances', 'Kitchen Gadgets', 'Food Preparation Utensils', '', '', '']\n",
      "\n",
      "Metrics (on threshold and predicted path)\n",
      "Precision: 0.0\n",
      "Recall: 0.0\n",
      "F1: 0.0\n"
     ]
    }
   ],
   "source": [
    "print_path_metrics(34176, test_df)"
   ]
  },
  {
   "cell_type": "code",
   "execution_count": 38,
   "metadata": {},
   "outputs": [],
   "source": [
    "filename = \"notebooks/hierarchical_classification/saved_models/descriptions_baseline.sav\"\n",
    "pickle.dump(hierarchical_classifier, open(filename, \"wb\"))"
   ]
  }
 ],
 "metadata": {
  "kernelspec": {
   "display_name": "Python 3",
   "language": "python",
   "name": "python3"
  },
  "language_info": {
   "codemirror_mode": {
    "name": "ipython",
    "version": 3
   },
   "file_extension": ".py",
   "mimetype": "text/x-python",
   "name": "python",
   "nbconvert_exporter": "python",
   "pygments_lexer": "ipython3",
   "version": "3.8.10"
  },
  "orig_nbformat": 4,
  "vscode": {
   "interpreter": {
    "hash": "31f2aee4e71d21fbe5cf8b01ff0e069b9275f58929596ceb00d14d90e3e16cd6"
   }
  }
 },
 "nbformat": 4,
 "nbformat_minor": 2
}
