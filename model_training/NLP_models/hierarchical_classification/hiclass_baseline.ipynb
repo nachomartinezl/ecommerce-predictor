{
 "cells": [
  {
   "attachments": {},
   "cell_type": "markdown",
   "metadata": {},
   "source": [
    "# HiClass baseline"
   ]
  },
  {
   "cell_type": "code",
   "execution_count": 1,
   "metadata": {},
   "outputs": [],
   "source": [
    "import os\n",
    "os.chdir(\"/home/app/src\")"
   ]
  },
  {
   "cell_type": "code",
   "execution_count": 2,
   "metadata": {},
   "outputs": [
    {
     "name": "stderr",
     "output_type": "stream",
     "text": [
      "[nltk_data] Downloading package stopwords to /home/app/nltk_data...\n",
      "[nltk_data]   Package stopwords is already up-to-date!\n"
     ]
    }
   ],
   "source": [
    "import pandas as pd\n",
    "import numpy as np\n",
    "import text_normalizer\n",
    "import hiclass.metrics\n",
    "from sklearn import metrics\n",
    "from scripts.build_df import build_df\n",
    "from scripts.decode_id import decode_id\n",
    "from sklearn.model_selection import train_test_split\n",
    "from sklearn.feature_extraction.text import TfidfVectorizer\n",
    "from sklearn.linear_model import LogisticRegression\n",
    "from os import cpu_count\n",
    "from hiclass import LocalClassifierPerNode, LocalClassifierPerParentNode\n",
    "import seaborn as sns\n",
    "import matplotlib.pyplot as plt\n",
    "from sklearn.ensemble import RandomForestClassifier\n",
    "from scripts.custom_hiclass import CustomLocalClassifierPerParentNode"
   ]
  },
  {
   "cell_type": "code",
   "execution_count": 3,
   "metadata": {},
   "outputs": [],
   "source": [
    "no_threshold_df = build_df(json_path='data/products.json', threshold=0) "
   ]
  },
  {
   "cell_type": "code",
   "execution_count": 4,
   "metadata": {},
   "outputs": [],
   "source": [
    "# df = build_df(json_path='data/products.json', threshold=100)"
   ]
  },
  {
   "cell_type": "code",
   "execution_count": 5,
   "metadata": {},
   "outputs": [],
   "source": [
    "def normalization(input):\n",
    "    output = text_normalizer.normalize_corpus(\n",
    "        input,\n",
    "        html_stripping=True,\n",
    "        contraction_expansion=True,\n",
    "        accented_char_removal=True,\n",
    "        text_lower_case=True,\n",
    "        text_stemming=True,\n",
    "        text_lemmatization=False,\n",
    "        special_char_removal=True,\n",
    "        remove_digits=False,\n",
    "        stopword_removal=True,\n",
    "        stopwords=text_normalizer.stopword_list\n",
    "    )       \n",
    "    return output"
   ]
  },
  {
   "cell_type": "code",
   "execution_count": 6,
   "metadata": {},
   "outputs": [],
   "source": [
    "X = no_threshold_df['name'].copy()\n",
    "X = normalization(X.apply(str))\n",
    "y = no_threshold_df['path'].copy()"
   ]
  },
  {
   "cell_type": "code",
   "execution_count": 7,
   "metadata": {},
   "outputs": [],
   "source": [
    "X_train, X_test, y_train, y_test = train_test_split(\n",
    "    X, y,\n",
    "    test_size=0.20, \n",
    "    random_state=42,\n",
    ")"
   ]
  },
  {
   "cell_type": "code",
   "execution_count": 8,
   "metadata": {},
   "outputs": [],
   "source": [
    "tfid_vectorizer = TfidfVectorizer(ngram_range=(1,1)) \n",
    "X_train = tfid_vectorizer.fit_transform(X_train)\n",
    "X_test = tfid_vectorizer.transform(X_test)"
   ]
  },
  {
   "attachments": {},
   "cell_type": "markdown",
   "metadata": {},
   "source": [
    "### Hierarchical classification"
   ]
  },
  {
   "cell_type": "code",
   "execution_count": 10,
   "metadata": {},
   "outputs": [
    {
     "name": "stderr",
     "output_type": "stream",
     "text": [
      "/home/app/.local/lib/python3.8/site-packages/joblib/externals/loky/process_executor.py:700: UserWarning: A worker stopped while some jobs were given to the executor. This can be caused by a too short worker timeout or by a memory leak.\n",
      "  warnings.warn(\n"
     ]
    }
   ],
   "source": [
    "# Initialize model\n",
    "random_forest = RandomForestClassifier(n_estimators = 500, n_jobs=cpu_count(), random_state=42)\n",
    "# Initialize hierarchical classifier with model\n",
    "hierarchical_classifier = CustomLocalClassifierPerParentNode(n_jobs=cpu_count(), local_classifier=random_forest)\n",
    "# Train hierarchical classifier\n",
    "hierarchical_classifier.fit(X_train, y_train)"
   ]
  },
  {
   "cell_type": "code",
   "execution_count": 36,
   "metadata": {},
   "outputs": [],
   "source": [
    "# Predict on train and test\n",
    "# y_pred_train = hierarchical_classifier.predict_5(X_train)[0]\n",
    "y_pred_test_tot = hierarchical_classifier.predict_5(X_test)\n",
    "y_pred_test = y_pred_test_tot[0]"
   ]
  },
  {
   "cell_type": "code",
   "execution_count": 37,
   "metadata": {},
   "outputs": [
    {
     "name": "stdout",
     "output_type": "stream",
     "text": [
      "\n",
      "Test\n",
      "Precision: 0.8364823526387496\n",
      "Recall: 0.9007113793007999\n",
      "F1: 0.8674095004531641\n"
     ]
    }
   ],
   "source": [
    "# Print standard results\n",
    "# print(\"Train\")\n",
    "# print(\"Precision:\", hiclass.metrics.precision(y_train, y_pred_train))\n",
    "# print(\"Recall:\", hiclass.metrics.recall(y_train, y_pred_train))\n",
    "# print(\"F1:\", hiclass.metrics.f1(y_train, y_pred_train))\n",
    "print(\"\\nTest\")\n",
    "print(\"Precision:\", hiclass.metrics.precision(y_test, y_pred_test))\n",
    "print(\"Recall:\", hiclass.metrics.recall(y_test, y_pred_test))\n",
    "print(\"F1:\", hiclass.metrics.f1(y_test, y_pred_test))"
   ]
  },
  {
   "cell_type": "code",
   "execution_count": null,
   "metadata": {},
   "outputs": [],
   "source": [
    "# Train\n",
    "# Precision: 0.9327810512045052\n",
    "# Recall: 0.9968446128555906\n",
    "# F1: 0.9637493770792086\n",
    "\n",
    "# Test\n",
    "# Precision: 0.8365809768637532\n",
    "# Recall: 0.9007944196861073\n",
    "# F1: 0.8675010329614671\n",
    "# Total failures: 500 of 10330"
   ]
  },
  {
   "attachments": {},
   "cell_type": "markdown",
   "metadata": {},
   "source": [
    "### Analyze predictions"
   ]
  },
  {
   "cell_type": "code",
   "execution_count": 53,
   "metadata": {},
   "outputs": [],
   "source": [
    "# Base DataFrame\n",
    "test_df = pd.DataFrame(y_test)\n",
    "# Add prediction column respecting original index\n",
    "test_df[\"prediction_0\"] = pd.Series(y_pred_test_tot[0].tolist(), index = test_df.index)\n",
    "test_df[\"prediction_1\"] = pd.Series(y_pred_test_tot[1].tolist(), index = test_df.index)\n",
    "\n",
    "# Auxiliary function for creating new columns\n",
    "def assign_precision(x):\n",
    "    return hiclass.metrics.precision(x[0:1], x[1:2])\n",
    "def assign_recall(x):\n",
    "    return hiclass.metrics.recall(x[0:1], x[1:2])\n",
    "def assign_f1(x):\n",
    "    # Condition to avoid ZeroDivisionError\n",
    "    if x[\"precision\"] * x[\"recall\"] == 0.0:\n",
    "        return 0.0\n",
    "    else:\n",
    "        return 2 * x[\"precision\"] * x[\"recall\"] / (x[\"precision\"] + x[\"recall\"])\n",
    "\n",
    "# Creat new metrics columns \n",
    "test_df[\"precision\"] = test_df.apply(lambda x: assign_precision(x), axis=1)\n",
    "test_df[\"recall\"] = test_df.apply(lambda x: assign_recall(x), axis=1)\n",
    "test_df[\"f1\"] = test_df.apply(lambda x: assign_f1(x), axis=1)"
   ]
  },
  {
   "cell_type": "code",
   "execution_count": 54,
   "metadata": {},
   "outputs": [
    {
     "data": {
      "text/html": [
       "<div>\n",
       "<style scoped>\n",
       "    .dataframe tbody tr th:only-of-type {\n",
       "        vertical-align: middle;\n",
       "    }\n",
       "\n",
       "    .dataframe tbody tr th {\n",
       "        vertical-align: top;\n",
       "    }\n",
       "\n",
       "    .dataframe thead th {\n",
       "        text-align: right;\n",
       "    }\n",
       "</style>\n",
       "<table border=\"1\" class=\"dataframe\">\n",
       "  <thead>\n",
       "    <tr style=\"text-align: right;\">\n",
       "      <th></th>\n",
       "      <th>path</th>\n",
       "      <th>prediction_0</th>\n",
       "      <th>prediction_1</th>\n",
       "      <th>precision</th>\n",
       "      <th>recall</th>\n",
       "      <th>f1</th>\n",
       "    </tr>\n",
       "  </thead>\n",
       "  <tbody>\n",
       "    <tr>\n",
       "      <th>13005</th>\n",
       "      <td>[pcmcat312300050015, pcmcat248700050021, pcmca...</td>\n",
       "      <td>[pcmcat312300050015, pcmcat248700050021, pcmca...</td>\n",
       "      <td>[abcat0900000, abcat0912000, abcat0912025, pcm...</td>\n",
       "      <td>1.00</td>\n",
       "      <td>1.00</td>\n",
       "      <td>1.00</td>\n",
       "    </tr>\n",
       "    <tr>\n",
       "      <th>36568</th>\n",
       "      <td>[abcat0207000, pcmcat152100050020, pcmcat20570...</td>\n",
       "      <td>[abcat0207000, pcmcat152100050035, pcmcat25160...</td>\n",
       "      <td>[abcat0400000, abcat0410022, pcmcat25800005001...</td>\n",
       "      <td>0.25</td>\n",
       "      <td>0.25</td>\n",
       "      <td>0.25</td>\n",
       "    </tr>\n",
       "    <tr>\n",
       "      <th>20664</th>\n",
       "      <td>[abcat0500000, pcmcat209000050006, pcmcat20900...</td>\n",
       "      <td>[abcat0500000, pcmcat209000050006, pcmcat20900...</td>\n",
       "      <td>[abcat0207000, abcat0208024, pcmcat15160005004...</td>\n",
       "      <td>1.00</td>\n",
       "      <td>1.00</td>\n",
       "      <td>1.00</td>\n",
       "    </tr>\n",
       "    <tr>\n",
       "      <th>40271</th>\n",
       "      <td>[abcat0900000, abcat0912000, pcmcat36740005000...</td>\n",
       "      <td>[abcat0900000, abcat0912000, pcmcat36740005000...</td>\n",
       "      <td>[pcmcat312300050015, pcmcat248700050021, pcmca...</td>\n",
       "      <td>1.00</td>\n",
       "      <td>1.00</td>\n",
       "      <td>1.00</td>\n",
       "    </tr>\n",
       "    <tr>\n",
       "      <th>5865</th>\n",
       "      <td>[abcat0300000, pcmcat165900050023, pcmcat33160...</td>\n",
       "      <td>[abcat0300000, pcmcat165900050023, pcmcat33160...</td>\n",
       "      <td>[pcmcat312300050015, pcmcat254000050002, pcmca...</td>\n",
       "      <td>1.00</td>\n",
       "      <td>1.00</td>\n",
       "      <td>1.00</td>\n",
       "    </tr>\n",
       "  </tbody>\n",
       "</table>\n",
       "</div>"
      ],
      "text/plain": [
       "                                                    path  \\\n",
       "13005  [pcmcat312300050015, pcmcat248700050021, pcmca...   \n",
       "36568  [abcat0207000, pcmcat152100050020, pcmcat20570...   \n",
       "20664  [abcat0500000, pcmcat209000050006, pcmcat20900...   \n",
       "40271  [abcat0900000, abcat0912000, pcmcat36740005000...   \n",
       "5865   [abcat0300000, pcmcat165900050023, pcmcat33160...   \n",
       "\n",
       "                                            prediction_0  \\\n",
       "13005  [pcmcat312300050015, pcmcat248700050021, pcmca...   \n",
       "36568  [abcat0207000, pcmcat152100050035, pcmcat25160...   \n",
       "20664  [abcat0500000, pcmcat209000050006, pcmcat20900...   \n",
       "40271  [abcat0900000, abcat0912000, pcmcat36740005000...   \n",
       "5865   [abcat0300000, pcmcat165900050023, pcmcat33160...   \n",
       "\n",
       "                                            prediction_1  precision  recall  \\\n",
       "13005  [abcat0900000, abcat0912000, abcat0912025, pcm...       1.00    1.00   \n",
       "36568  [abcat0400000, abcat0410022, pcmcat25800005001...       0.25    0.25   \n",
       "20664  [abcat0207000, abcat0208024, pcmcat15160005004...       1.00    1.00   \n",
       "40271  [pcmcat312300050015, pcmcat248700050021, pcmca...       1.00    1.00   \n",
       "5865   [pcmcat312300050015, pcmcat254000050002, pcmca...       1.00    1.00   \n",
       "\n",
       "         f1  \n",
       "13005  1.00  \n",
       "36568  0.25  \n",
       "20664  1.00  \n",
       "40271  1.00  \n",
       "5865   1.00  "
      ]
     },
     "execution_count": 54,
     "metadata": {},
     "output_type": "execute_result"
    }
   ],
   "source": [
    "test_df.head()"
   ]
  },
  {
   "cell_type": "code",
   "execution_count": 55,
   "metadata": {},
   "outputs": [
    {
     "name": "stdout",
     "output_type": "stream",
     "text": [
      "Total failures: 501 of 10330\n"
     ]
    },
    {
     "data": {
      "text/plain": [
       "13167    0.0\n",
       "49777    0.0\n",
       "11541    0.0\n",
       "664      0.0\n",
       "49286    0.0\n",
       "        ... \n",
       "32338    0.0\n",
       "38585    0.0\n",
       "30674    0.0\n",
       "51294    0.0\n",
       "33942    0.0\n",
       "Name: f1, Length: 501, dtype: float64"
      ]
     },
     "execution_count": 55,
     "metadata": {},
     "output_type": "execute_result"
    }
   ],
   "source": [
    "print(\"Total failures:\", len(test_df[\"f1\"][test_df[\"f1\"] == 0.0]), \"of\", len(test_df))\n",
    "test_df[\"f1\"][test_df[\"f1\"] == 0.0]"
   ]
  },
  {
   "cell_type": "code",
   "execution_count": 56,
   "metadata": {},
   "outputs": [],
   "source": [
    "def print_path_metrics(index, df_):\n",
    "    print(\"Product name:\", no_threshold_df[\"name\"].loc[index])\n",
    "    print(f\"Product description:\\n{no_threshold_df['description'].loc[index]}\\n\")\n",
    "    print(\"Threshold path:\", decode_id(df_[\"path\"].loc[index]))\n",
    "    print(\"Predicted path:\", decode_id(df_[\"prediction_0\"].loc[index]))\n",
    "    print(\"Predicted_1 path:\", decode_id(df_[\"prediction_1\"].loc[index]))\n",
    "    print(\"\\nMetrics (on threshold and predicted path)\")\n",
    "    print(\"Precision:\", df_[\"precision\"].loc[index])\n",
    "    print(\"Recall:\", df_[\"recall\"].loc[index])\n",
    "    print(\"F1:\", df_[\"f1\"].loc[index])"
   ]
  },
  {
   "attachments": {},
   "cell_type": "markdown",
   "metadata": {},
   "source": [
    "### Correct prediction"
   ]
  },
  {
   "cell_type": "code",
   "execution_count": 57,
   "metadata": {},
   "outputs": [
    {
     "name": "stdout",
     "output_type": "stream",
     "text": [
      "Product name: Hanover - Strathmere Outdoor Luxury Wicker Chaise Lounge - Crimson Red\n",
      "Product description:\n",
      "HANOVER Strathmere Outdoor Luxury Wicker Chaise Lounge: Hand-woven wicker base; heavy-gauge, rust-resistant steel frame; all-weather olefin fabric; extra-long cushion; adjustable back positioning; includes pillow\n",
      "\n",
      "Threshold path: ['Connected Home & Housewares', 'Housewares', 'Outdoor Living', 'Patio Furniture & Decor', 'Outdoor Seating', 'Outdoor Lounge Chairs']\n",
      "Predicted path: ['Connected Home & Housewares', 'Housewares', 'Outdoor Living', 'Patio Furniture & Decor', 'Outdoor Seating', 'Outdoor Lounge Chairs', '']\n",
      "Predicted_1 path: ['Appliances', 'Small Kitchen Appliances', 'Kitchen Gadgets', 'Food Preparation Utensils', '', '', '']\n",
      "\n",
      "Metrics (on threshold and predicted path)\n",
      "Precision: 1.0\n",
      "Recall: 1.0\n",
      "F1: 1.0\n"
     ]
    }
   ],
   "source": [
    "print_path_metrics(13005, test_df)"
   ]
  },
  {
   "attachments": {},
   "cell_type": "markdown",
   "metadata": {},
   "source": [
    "### Kind of correct prediction"
   ]
  },
  {
   "cell_type": "code",
   "execution_count": 58,
   "metadata": {},
   "outputs": [
    {
     "name": "stdout",
     "output_type": "stream",
     "text": [
      "Product name: MartinLogan - Dynamo 15\" 650W Powered Subwoofer - Gloss Black\n",
      "Product description:\n",
      "1300W peak power; 15\" high-excursion polypropylene woofer cone in cast-aluminum basket; ceramic magnet; adjustable front- or down-firing configuration; L/R LFE RCA line-level, LFE XLR and 12V trigger inputs\n",
      "\n",
      "Threshold path: ['Audio', 'Home Audio', 'Speakers', 'Subwoofer Speakers']\n",
      "Predicted path: ['Audio', 'Home Audio', 'Speakers', 'Subwoofer Speakers', '', '', '']\n",
      "Predicted_1 path: ['Car Electronics & GPS', 'Car Audio', 'Car Subwoofers & Enclosures', 'Car Subwoofers', '', '', '']\n",
      "\n",
      "Metrics (on threshold and predicted path)\n",
      "Precision: 1.0\n",
      "Recall: 1.0\n",
      "F1: 1.0\n"
     ]
    }
   ],
   "source": [
    "print_path_metrics(47899, test_df)"
   ]
  },
  {
   "cell_type": "code",
   "execution_count": 59,
   "metadata": {},
   "outputs": [
    {
     "name": "stdout",
     "output_type": "stream",
     "text": [
      "Product name: Elite Cuisine - 2-in-1 Dual-Function Breakfast Station\n",
      "Product description:\n",
      "2-slice toaster with 7-shade variable browning control, cancel/stop button and slide-out crumb tray; single-serve coffeemaker with removable, washable filter; cool-touch body; antislip rubber feet\n",
      "\n",
      "Threshold path: ['Appliances', 'Small Kitchen Appliances', 'Toasters']\n",
      "Predicted path: ['Appliances', 'Small Kitchen Appliances', 'Electric Griddles & Hotplates', '', '', '', '']\n",
      "Predicted_1 path: ['Health, Fitness & Beauty', 'Personal Care & Beauty', 'Shavers & Trimmers', 'Trimmers', '', '', '']\n",
      "\n",
      "Metrics (on threshold and predicted path)\n",
      "Precision: 0.6666666666666666\n",
      "Recall: 0.6666666666666666\n",
      "F1: 0.6666666666666666\n"
     ]
    }
   ],
   "source": [
    "print_path_metrics(4702, test_df)"
   ]
  },
  {
   "attachments": {},
   "cell_type": "markdown",
   "metadata": {},
   "source": [
    "### Complete failures "
   ]
  },
  {
   "cell_type": "code",
   "execution_count": 60,
   "metadata": {},
   "outputs": [
    {
     "name": "stdout",
     "output_type": "stream",
     "text": [
      "Total failures: 501 of 10330\n"
     ]
    },
    {
     "data": {
      "text/plain": [
       "13167    0.0\n",
       "49777    0.0\n",
       "11541    0.0\n",
       "664      0.0\n",
       "49286    0.0\n",
       "        ... \n",
       "32338    0.0\n",
       "38585    0.0\n",
       "30674    0.0\n",
       "51294    0.0\n",
       "33942    0.0\n",
       "Name: f1, Length: 501, dtype: float64"
      ]
     },
     "execution_count": 60,
     "metadata": {},
     "output_type": "execute_result"
    }
   ],
   "source": [
    "print(\"Total failures:\", len(test_df[\"f1\"][test_df[\"f1\"] == 0.0]), \"of\", len(test_df))\n",
    "test_df[\"f1\"][test_df[\"f1\"] == 0.0]"
   ]
  },
  {
   "attachments": {},
   "cell_type": "markdown",
   "metadata": {},
   "source": [
    "#### Failures (?)"
   ]
  },
  {
   "cell_type": "code",
   "execution_count": 61,
   "metadata": {},
   "outputs": [
    {
     "name": "stdout",
     "output_type": "stream",
     "text": [
      "Product name: Apple - Optical Mouse - White\n",
      "Product description:\n",
      "Force-sensing side buttons; scroll ball; optical technology; touch-sensitive top shell\n",
      "\n",
      "Threshold path: ['Name Brands', 'Apple', 'Accessories']\n",
      "Predicted path: ['Computers & Tablets', 'Computer Accessories & Peripherals', 'Mice & Keyboards', 'Mice', 'Wireless & Bluetooth Mice', '', '']\n",
      "Predicted_1 path: ['Cell Phones', 'Cell Phone Accessories', 'Adapters, Cables & Chargers', 'Car Chargers', '', '', '']\n",
      "\n",
      "Metrics (on threshold and predicted path)\n",
      "Precision: 0.0\n",
      "Recall: 0.0\n",
      "F1: 0.0\n"
     ]
    }
   ],
   "source": [
    "print_path_metrics(49777, test_df)"
   ]
  },
  {
   "cell_type": "code",
   "execution_count": 62,
   "metadata": {},
   "outputs": [
    {
     "name": "stdout",
     "output_type": "stream",
     "text": [
      "Product name: Serta - RTA Santa Cruz Collection 61\" Fabric Loveseat Sofa - Beige\n",
      "Product description:\n",
      "SERTA RTA Santa Cruz Collection 61\" Fabric Loveseat Sofa: Hardwood frame with polyester fabric upholstery; accommodates 2 people; rich espresso finish on the wood and plastic footers; includes 2 accent pillows\n",
      "\n",
      "Threshold path: ['Magnolia Home Theater', 'Magnolia Accessories', 'Magnolia TV Stands, Mounts & Furniture']\n",
      "Predicted path: ['Connected Home & Housewares', 'Furniture & Decor', 'Living Room Furniture', 'Sofas & Sectionals', 'Sofas', '', '']\n",
      "Predicted_1 path: ['Magnolia Home Theater', 'Magnolia Accessories', 'Magnolia TV Stands, Mounts & Furniture', '', '', '', '']\n",
      "\n",
      "Metrics (on threshold and predicted path)\n",
      "Precision: 0.0\n",
      "Recall: 0.0\n",
      "F1: 0.0\n"
     ]
    }
   ],
   "source": [
    "print_path_metrics(11541, test_df)"
   ]
  },
  {
   "cell_type": "code",
   "execution_count": 63,
   "metadata": {},
   "outputs": [
    {
     "name": "stdout",
     "output_type": "stream",
     "text": [
      "Product name: JOBY - GripTight GorillaPod Magnetic XL Tripod for Select Cell Phones\n",
      "Product description:\n",
      "Compatible with most cell phones; magnetic feet; flexible legs\n",
      "\n",
      "Threshold path: ['Cameras & Camcorders', 'Digital Camera Accessories', 'Tripods & Monopods', 'Camera Mounts']\n",
      "Predicted path: ['Cameras & Camcorders', 'Digital Camera Accessories', 'Tripods & Monopods', 'Tripods', '', '', '']\n",
      "Predicted_1 path: ['Cell Phones', 'Cell Phone Accessories', 'Cell Phone Cases & Clips', 'Fitted', '', '', '']\n",
      "\n",
      "Metrics (on threshold and predicted path)\n",
      "Precision: 0.75\n",
      "Recall: 0.75\n",
      "F1: 0.75\n"
     ]
    }
   ],
   "source": [
    "print_path_metrics(31535, test_df)"
   ]
  },
  {
   "attachments": {},
   "cell_type": "markdown",
   "metadata": {},
   "source": [
    "#### Failures"
   ]
  },
  {
   "cell_type": "code",
   "execution_count": 64,
   "metadata": {},
   "outputs": [
    {
     "name": "stdout",
     "output_type": "stream",
     "text": [
      "Product name: FLIR - Sport Case and Mount for FLIR FX Cameras - Transparent\n",
      "Product description:\n",
      "FLIR Sport Case and Mount for FLIR FX Cameras: Compatible with most FLIR FX cameras; works with most 1/4\"-20 mounting devices; waterproof\n",
      "\n",
      "Threshold path: ['Connected Home & Housewares', 'Connected Home', 'Security Cameras & Surveillance', 'Security Camera & System Accessories', 'Surveillance Camera Mounts']\n",
      "Predicted path: ['Cameras & Camcorders', 'Digital Camera Accessories', 'Camera Bags, Cases & Straps', 'Camera Bags & Cases', 'Universal Camera Bags & Cases', '', '']\n",
      "Predicted_1 path: ['Connected Home & Housewares', 'Connected Home', 'Security Cameras & Surveillance', 'Security Cameras', '', '', '']\n",
      "\n",
      "Metrics (on threshold and predicted path)\n",
      "Precision: 0.0\n",
      "Recall: 0.0\n",
      "F1: 0.0\n"
     ]
    }
   ],
   "source": [
    "print_path_metrics(13167, test_df)"
   ]
  },
  {
   "cell_type": "code",
   "execution_count": 65,
   "metadata": {},
   "outputs": [
    {
     "name": "stdout",
     "output_type": "stream",
     "text": [
      "Product name: SteelSeries - Siberia Prism 150 Gaming Headset - Black\n",
      "Product description:\n",
      "SteelSeries Engine 3 technology; ColorShift technology; integrated volume control; chat capability\n",
      "\n",
      "Threshold path: ['Name Brands', 'SteelSeries', 'SteelSeries Headsets']\n",
      "Predicted path: ['Name Brands', 'SteelSeries', 'SteelSeries Mice', '', '', '', '']\n",
      "Predicted_1 path: ['Video Games', 'Video Game Accessories', 'Gaming Headsets', '', '', '', '']\n",
      "\n",
      "Metrics (on threshold and predicted path)\n",
      "Precision: 0.6666666666666666\n",
      "Recall: 0.6666666666666666\n",
      "F1: 0.6666666666666666\n"
     ]
    }
   ],
   "source": [
    "print_path_metrics(24334, test_df)"
   ]
  },
  {
   "cell_type": "code",
   "execution_count": 66,
   "metadata": {},
   "outputs": [
    {
     "name": "stdout",
     "output_type": "stream",
     "text": [
      "Product name: FLIR - Sport Case and Mount for FLIR FX Cameras - Transparent\n",
      "Product description:\n",
      "FLIR Sport Case and Mount for FLIR FX Cameras: Compatible with most FLIR FX cameras; works with most 1/4\"-20 mounting devices; waterproof\n",
      "\n",
      "Threshold path: ['Connected Home & Housewares', 'Connected Home', 'Security Cameras & Surveillance', 'Security Camera & System Accessories', 'Surveillance Camera Mounts']\n",
      "Predicted path: ['Cameras & Camcorders', 'Digital Camera Accessories', 'Camera Bags, Cases & Straps', 'Camera Bags & Cases', 'Universal Camera Bags & Cases', '', '']\n",
      "Predicted_1 path: ['Connected Home & Housewares', 'Connected Home', 'Security Cameras & Surveillance', 'Security Cameras', '', '', '']\n",
      "\n",
      "Metrics (on threshold and predicted path)\n",
      "Precision: 0.0\n",
      "Recall: 0.0\n",
      "F1: 0.0\n"
     ]
    }
   ],
   "source": [
    "print_path_metrics(13167, test_df)"
   ]
  },
  {
   "cell_type": "code",
   "execution_count": 67,
   "metadata": {},
   "outputs": [
    {
     "name": "stdout",
     "output_type": "stream",
     "text": [
      "Product name: Lenmar - Notebook Battery - Black\n",
      "Product description:\n",
      "Proprietary2200mAh - 11.1V DC\n",
      "\n",
      "Threshold path: ['Computers & Tablets', 'Computer Accessories & Peripherals', 'Laptop Accessories', 'Laptop Batteries']\n",
      "Predicted path: ['Cameras & Camcorders', 'Digital Camera Accessories', 'Camera Batteries & Power', 'Camera Batteries', 'DSLR Camera Batteries', '', '']\n",
      "Predicted_1 path: ['Cell Phones', 'Cell Phone Accessories', 'Cell Phone Batteries & Power', 'Internal Batteries', '', '', '']\n",
      "\n",
      "Metrics (on threshold and predicted path)\n",
      "Precision: 0.0\n",
      "Recall: 0.0\n",
      "F1: 0.0\n"
     ]
    }
   ],
   "source": [
    "print_path_metrics(51294, test_df)"
   ]
  },
  {
   "attachments": {},
   "cell_type": "markdown",
   "metadata": {},
   "source": [
    "#### Plots"
   ]
  },
  {
   "cell_type": "code",
   "execution_count": null,
   "metadata": {},
   "outputs": [
    {
     "data": {
      "text/plain": [
       "<AxesSubplot:xlabel='f1', ylabel='Percent'>"
      ]
     },
     "execution_count": 28,
     "metadata": {},
     "output_type": "execute_result"
    },
    {
     "data": {
      "image/png": "[encoded data removed]",
      "text/plain": [
       "<Figure size 1800x500 with 3 Axes>"
      ]
     },
     "metadata": {},
     "output_type": "display_data"
    }
   ],
   "source": [
    "sns.set()\n",
    "fig, axes = plt.subplots(1,3, figsize=(18,5), sharey=True)\n",
    "sns.histplot(test_df[\"precision\"], stat=\"percent\", ax=axes[0], bins=6)\n",
    "sns.histplot(test_df[\"recall\"], stat=\"percent\",ax=axes[1], bins=6)\n",
    "sns.histplot(test_df[\"f1\"], stat=\"percent\",ax=axes[2], bins=6)"
   ]
  },
  {
   "cell_type": "markdown",
   "metadata": {},
   "source": [
    "#### Predict on new data"
   ]
  },
  {
   "cell_type": "code",
   "execution_count": 71,
   "metadata": {},
   "outputs": [
    {
     "data": {
      "text/plain": [
       "['Appliances', 'Small Kitchen Appliances', 'Toasters', '', '', '', '']"
      ]
     },
     "execution_count": 71,
     "metadata": {},
     "output_type": "execute_result"
    }
   ],
   "source": [
    "string_to_predict = \"2-slice toaster with 7-shade variable browning control, cancel/stop button and slide-out crumb tray; single-serve coffeemaker with removable, washable filter; cool-touch body; antislip rubber feet\"\n",
    "decode_id(hierarchical_classifier.predict(tfid_vectorizer.transform(normalization(pd.Series(string_to_predict)))).tolist()[0])"
   ]
  },
  {
   "cell_type": "code",
   "execution_count": null,
   "metadata": {},
   "outputs": [],
   "source": []
  }
 ],
 "metadata": {
  "kernelspec": {
   "display_name": "Python 3",
   "language": "python",
   "name": "python3"
  },
  "language_info": {
   "codemirror_mode": {
    "name": "ipython",
    "version": 3
   },
   "file_extension": ".py",
   "mimetype": "text/x-python",
   "name": "python",
   "nbconvert_exporter": "python",
   "pygments_lexer": "ipython3",
   "version": "3.8.10"
  },
  "orig_nbformat": 4,
  "vscode": {
   "interpreter": {
    "hash": "31f2aee4e71d21fbe5cf8b01ff0e069b9275f58929596ceb00d14d90e3e16cd6"
   }
  }
 },
 "nbformat": 4,
 "nbformat_minor": 2
}
